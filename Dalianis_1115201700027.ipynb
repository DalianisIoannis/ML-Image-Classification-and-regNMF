{
  "nbformat": 4,
  "nbformat_minor": 0,
  "metadata": {
    "colab": {
      "name": "Dalianis_1115201700027.ipynb",
      "provenance": [],
      "collapsed_sections": []
    },
    "kernelspec": {
      "name": "python3",
      "display_name": "Python 3"
    }
  },
  "cells": [
    {
      "cell_type": "markdown",
      "metadata": {
        "id": "2RmWnKbOYSWe",
        "colab_type": "text"
      },
      "source": [
        "# Γιάννης Δαλιάνης 1115201700027"
      ]
    },
    {
      "cell_type": "markdown",
      "metadata": {
        "id": "LuNbWgiiGia7",
        "colab_type": "text"
      },
      "source": [
        "Τα text πεδία έχουν γραφεί με βάση το colab markdown"
      ]
    },
    {
      "cell_type": "markdown",
      "metadata": {
        "id": "hZe7fWqzwTHe",
        "colab_type": "text"
      },
      "source": [
        "# Ερώτημα 1"
      ]
    },
    {
      "cell_type": "markdown",
      "metadata": {
        "id": "UqPrNnxnwsTw",
        "colab_type": "text"
      },
      "source": [
        "## Ζητούμενο 1"
      ]
    },
    {
      "cell_type": "code",
      "metadata": {
        "id": "jPOWPY3mwwI0",
        "colab_type": "code",
        "colab": {
          "base_uri": "https://localhost:8080/",
          "height": 207
        },
        "outputId": "42cde75d-8e86-4d65-f49c-94e401ee034a"
      },
      "source": [
        "%matplotlib inline\n",
        "%pylab inline\n",
        "\n",
        "import os\n",
        "import numpy as np\n",
        "import numpy.linalg as LA\n",
        "from google.colab import drive\n",
        "from PIL import Image\n",
        "import seaborn as sns\n",
        "sns.set()\n",
        "\n",
        "from sklearn.decomposition import PCA\n",
        "from sklearn.preprocessing import StandardScaler\n",
        "from sklearn.neighbors import KNeighborsClassifier\n",
        "from sklearn.model_selection import train_test_split, cross_val_predict, cross_val_score, KFold\n",
        "from sklearn import metrics, svm\n",
        "from sklearn.svm import SVR\n",
        "from sklearn.metrics import classification_report, confusion_matrix\n",
        "\n",
        "import pandas as pd\n",
        "\n",
        "import matplotlib.pyplot as plt\n",
        "from matplotlib.image import BboxImage\n",
        "from matplotlib.transforms import Bbox, TransformedBbox\n",
        "\n",
        "!pip install python-resize-image\n",
        "from resizeimage import resizeimage"
      ],
      "execution_count": 1,
      "outputs": [
        {
          "output_type": "stream",
          "text": [
            "Populating the interactive namespace from numpy and matplotlib\n"
          ],
          "name": "stdout"
        },
        {
          "output_type": "stream",
          "text": [
            "/usr/local/lib/python3.6/dist-packages/statsmodels/tools/_testing.py:19: FutureWarning: pandas.util.testing is deprecated. Use the functions in the public API at pandas.testing instead.\n",
            "  import pandas.util.testing as tm\n"
          ],
          "name": "stderr"
        },
        {
          "output_type": "stream",
          "text": [
            "Requirement already satisfied: python-resize-image in /usr/local/lib/python3.6/dist-packages (1.1.19)\n",
            "Requirement already satisfied: requests>=2.19.1 in /usr/local/lib/python3.6/dist-packages (from python-resize-image) (2.23.0)\n",
            "Requirement already satisfied: Pillow>=5.1.0 in /usr/local/lib/python3.6/dist-packages (from python-resize-image) (7.0.0)\n",
            "Requirement already satisfied: certifi>=2017.4.17 in /usr/local/lib/python3.6/dist-packages (from requests>=2.19.1->python-resize-image) (2020.6.20)\n",
            "Requirement already satisfied: idna<3,>=2.5 in /usr/local/lib/python3.6/dist-packages (from requests>=2.19.1->python-resize-image) (2.10)\n",
            "Requirement already satisfied: urllib3!=1.25.0,!=1.25.1,<1.26,>=1.21.1 in /usr/local/lib/python3.6/dist-packages (from requests>=2.19.1->python-resize-image) (1.24.3)\n",
            "Requirement already satisfied: chardet<4,>=3.0.2 in /usr/local/lib/python3.6/dist-packages (from requests>=2.19.1->python-resize-image) (3.0.4)\n"
          ],
          "name": "stdout"
        }
      ]
    },
    {
      "cell_type": "markdown",
      "metadata": {
        "id": "W2YHxJR6qoV9",
        "colab_type": "text"
      },
      "source": [
        "Οι εικόνες γίνονται imported από το google drive"
      ]
    },
    {
      "cell_type": "code",
      "metadata": {
        "id": "rZwA2WImyvW7",
        "colab_type": "code",
        "colab": {
          "base_uri": "https://localhost:8080/",
          "height": 34
        },
        "outputId": "88864841-65f1-40f6-f8b1-c6ad173ce67b"
      },
      "source": [
        "drive.mount('/content/gdrive', force_remount=True)\n",
        "\n",
        "root_dir = \"/content/gdrive/My Drive/\"\n",
        "base_dir = root_dir + 'DI/images/'"
      ],
      "execution_count": 2,
      "outputs": [
        {
          "output_type": "stream",
          "text": [
            "Mounted at /content/gdrive\n"
          ],
          "name": "stdout"
        }
      ]
    },
    {
      "cell_type": "code",
      "metadata": {
        "id": "7jWfHa5GN6J2",
        "colab_type": "code",
        "colab": {}
      },
      "source": [
        "def loadImages(path):\n",
        "\n",
        "  arr = list()\n",
        "  labels = list()\n",
        "\n",
        "  for filename in os.listdir(path):\n",
        "\n",
        "    if filename[0]==\"W\":\n",
        "      labels.append(0)\n",
        "    elif filename[0]==\"F\":\n",
        "      labels.append(1)\n",
        "    else:\n",
        "      labels.append(2)\n",
        "\n",
        "    with open(path + '/' + filename, 'r+b') as f:\n",
        "      with Image.open(f) as image:\n",
        "\n",
        "        cover = resizeimage.resize_cover(image, [100, 100])\n",
        "        cover.save(path + '/' + filename, image.format)\n",
        "\n",
        "        # convert image to numpy array\n",
        "        data = np.asarray(cover)\n",
        "\n",
        "        actual = data.reshape(30000, 1)\n",
        "\n",
        "        arr.append(actual)\n",
        "\n",
        "  return np.array(arr).T, labels"
      ],
      "execution_count": 3,
      "outputs": []
    },
    {
      "cell_type": "markdown",
      "metadata": {
        "id": "JB_ZTXy_cDli",
        "colab_type": "text"
      },
      "source": [
        "Πίνακας Δεδομένων και labels. Τα labels είναι 0 για χειμώνα, 1 για φθινόπωρο και 2 για άνοιξη"
      ]
    },
    {
      "cell_type": "code",
      "metadata": {
        "id": "J41yv07v2_GD",
        "colab_type": "code",
        "colab": {
          "base_uri": "https://localhost:8080/",
          "height": 238
        },
        "outputId": "2d486064-0f4c-450b-9fc3-b197cbfba5f9"
      },
      "source": [
        "imAr, labels = loadImages(base_dir)\n",
        "\n",
        "imAr = imAr.reshape(30000, 30)\n",
        "print(\"Image labels are:\", labels)\n",
        "\n",
        "print(\"type(imAr)\", type(imAr))\n",
        "print(\"imAr.shape\", imAr.shape)\n",
        "\n",
        "print(imAr[:5])"
      ],
      "execution_count": 4,
      "outputs": [
        {
          "output_type": "stream",
          "text": [
            "Image labels are: [2, 1, 2, 0, 1, 0, 2, 0, 1, 1, 0, 2, 1, 2, 0, 2, 0, 1, 0, 2, 0, 2, 2, 0, 2, 1, 0, 1, 1, 1]\n",
            "type(imAr) <class 'numpy.ndarray'>\n",
            "imAr.shape (30000, 30)\n",
            "[[  0 132  57  68 174  50  80 139  58  49 134   2  27 171 156  66 188  76\n",
            "  245  56 152  18 137  46   0 145  67  85  58  61]\n",
            " [  1  44  63  68 140  66  81 143  78  51 141   3  16 232 153  50 202  39\n",
            "  241  65 152   2 138  59   0 110  61  65  26  88]\n",
            " [  0   0  35  78 157  82  83 144 115  64 149   7  32 255 146  34 211  20\n",
            "  230  60 164  12  78  78   9  88  63   2  11 105]\n",
            " [  2 195  64  76 151  94  76 166  83  83 116   2  28 183 184  65 200  61\n",
            "  239  58 121  20  96  59   9 134  86  99  64  69]\n",
            " [  4 115  70  76 121 110  79 170 105  87 123   3  15 233 181  50 215  25\n",
            "  235  68 121   2  99  72  12 100  80  79  33  95]]\n"
          ],
          "name": "stdout"
        }
      ]
    },
    {
      "cell_type": "markdown",
      "metadata": {
        "id": "bFZOKt94JMQh",
        "colab_type": "text"
      },
      "source": [
        "Έλεγχος ότι οι διαστάσεις όλων των εικόνων έχουν αλλάξει σε 100 επί 100 pixels"
      ]
    },
    {
      "cell_type": "code",
      "metadata": {
        "id": "9QZ0jedklzxy",
        "colab_type": "code",
        "colab": {
          "base_uri": "https://localhost:8080/",
          "height": 527
        },
        "outputId": "27059c50-1478-47a9-ef45-1de20c205e2c"
      },
      "source": [
        "for filename in os.listdir(base_dir):\n",
        "  image = Image.open(base_dir + '/' + filename)\n",
        "  print(filename,\"has size\", image.size)  # size in pixels as a 2-tuple (width, height)"
      ],
      "execution_count": 5,
      "outputs": [
        {
          "output_type": "stream",
          "text": [
            "S3.jpg has size (100, 100)\n",
            "F9.jpg has size (100, 100)\n",
            "S9.jpg has size (100, 100)\n",
            "W9.jpg has size (100, 100)\n",
            "F10.jpg has size (100, 100)\n",
            "W4.jpg has size (100, 100)\n",
            "S10.jpg has size (100, 100)\n",
            "W2.jpg has size (100, 100)\n",
            "F8.jpg has size (100, 100)\n",
            "F4.jpg has size (100, 100)\n",
            "W6.jpg has size (100, 100)\n",
            "S7.jpg has size (100, 100)\n",
            "F3.jpg has size (100, 100)\n",
            "S4.jpg has size (100, 100)\n",
            "W3.jpg has size (100, 100)\n",
            "S2.jpg has size (100, 100)\n",
            "W5.jpg has size (100, 100)\n",
            "F7.jpg has size (100, 100)\n",
            "W7.jpg has size (100, 100)\n",
            "S8.jpg has size (100, 100)\n",
            "W1.jpg has size (100, 100)\n",
            "S5.jpg has size (100, 100)\n",
            "S6.jpg has size (100, 100)\n",
            "W8.jpg has size (100, 100)\n",
            "S1.jpg has size (100, 100)\n",
            "F5.jpg has size (100, 100)\n",
            "W10.jpg has size (100, 100)\n",
            "F1.jpg has size (100, 100)\n",
            "F2.jpg has size (100, 100)\n",
            "F6.jpg has size (100, 100)\n"
          ],
          "name": "stdout"
        }
      ]
    },
    {
      "cell_type": "markdown",
      "metadata": {
        "id": "j1_zrbFrZjY9",
        "colab_type": "text"
      },
      "source": [
        "## Ζητούμενο 2"
      ]
    },
    {
      "cell_type": "code",
      "metadata": {
        "id": "URhxZuryUCQ4",
        "colab_type": "code",
        "colab": {}
      },
      "source": [
        "def plotImage(x, y, ax, rIm):\n",
        "  bb = Bbox.from_bounds(x,y,30,30)  \n",
        "  bb2 = TransformedBbox(bb,ax.transData)\n",
        "  bbox_image = BboxImage(bb2,\n",
        "                      norm = None,\n",
        "                      origin=None,\n",
        "                      clip_on=False)\n",
        "\n",
        "  bbox_image.set_data(rIm)\n",
        "  ax.add_artist(bbox_image)\n",
        "\n",
        "\n",
        "def PCADF(df, comps):  # takes a dataframe and return another with the pca values\n",
        "  scaled_features = StandardScaler().fit_transform(df.values)\n",
        "  df = pd.DataFrame(scaled_features, index=df.index, columns=df.columns)\n",
        "\n",
        "  # make list of col names\n",
        "  nAms = list()\n",
        "  for i in range(comps):\n",
        "    nAms.append(\"PC\"+str(i+1))\n",
        "\n",
        "  pca = PCA(n_components=comps)\n",
        "  principalComponents = pca.fit_transform(df.values)\n",
        "  principalDf = pd.DataFrame(data = principalComponents, columns = nAms)\n",
        "  \n",
        "  return principalDf\n",
        "\n",
        "\n",
        "def PCA_ImageSpaceVisualization(X): # X is the data array\n",
        "\n",
        "  df = pd.DataFrame(data=X)         # convert to dataframe\n",
        "  df = df.T\n",
        "\n",
        "  principalDf = PCADF(df, 2)\n",
        "\n",
        "  fig = plt.figure(figsize = (15,15))\n",
        "  ax = fig.add_subplot(111)\n",
        "  ax.set_xlabel('Principal Component 1', fontsize = 15)\n",
        "  ax.set_ylabel('Principal Component 2', fontsize = 15)\n",
        "  ax.set_title('2 component PCA', fontsize = 20)\n",
        "\n",
        "  for x, y, im in zip(principalDf[\"PC1\"], principalDf[\"PC2\"], X.T):\n",
        "    img = Image.fromarray(im.reshape((100, 100, 3)), 'RGB')\n",
        "    plotImage(x, y, ax, img)\n",
        "\n",
        "  ax.set_ylim(-200,200)\n",
        "  ax.set_xlim(-200,250)\n",
        "  ax.grid()\n",
        "\n",
        "  return"
      ],
      "execution_count": 6,
      "outputs": []
    },
    {
      "cell_type": "code",
      "metadata": {
        "id": "gwjdPtPMcpne",
        "colab_type": "code",
        "colab": {
          "base_uri": "https://localhost:8080/",
          "height": 906
        },
        "outputId": "7f8237d8-dd9b-4f96-c7fc-d69926af2e30"
      },
      "source": [
        "PCA_ImageSpaceVisualization(imAr)"
      ],
      "execution_count": 7,
      "outputs": [
        {
          "output_type": "display_data",
          "data": {
            "image/png": "[encoded data removed]",
            "text/plain": [
              "<Figure size 1080x1080 with 1 Axes>"
            ]
          },
          "metadata": {
            "tags": [],
            "needs_background": "light"
          }
        }
      ]
    },
    {
      "cell_type": "markdown",
      "metadata": {
        "id": "A9E2fYO4iZPf",
        "colab_type": "text"
      },
      "source": [
        "##### 2.1\n",
        "\n",
        "Η PCA είναι μια dimensionality-reduction μέθοδος που χρησιμοποιεί μόνο τα σημαντικότερα χαρακτηριστικά από τα δεδομένα για να τα συγκρίνει πιο εύκολα και γρήγορα και για να είναι ευκολότερη η οπτικοποίησή τους. Όσο πιο κοντά βρίσκονται δύο εικόνες μεταξύ τους στο plot, τόσο πιο πανομοιότυπες είναι με βάση τις δύο πρώτες κύριες συνιστώσες, ενώ όσο πιο μακριά βρίσκονται τόσο λιγότερο πανομοιότυπες είναι.\n",
        "Τα συμπεράσματα αυτά γενικεύονται και για τον μεγάλης διάστασης αρχικό χώρο χαρακτηριστικών των εικόνων. Εφαρμόζοντας PCA δεν αλλοιώνονται τα χαρακτηριστικά των δεδομένων, αλλά μόνο απλοποιούνται. Αν κάναμε μια αντίστοιχη σύγκριση χρησιμοποιώντας όλα τα αρχικά features θα είχαμε ίδια και ίσως σαφέστερα αποτελέσματα όσον αφορά τις εικόνες, μόνο που θα απαιτούνταν εκτενέστερη και πιο αργή επεξεργασία."
      ]
    },
    {
      "cell_type": "markdown",
      "metadata": {
        "id": "f6rUFRw8l6My",
        "colab_type": "text"
      },
      "source": [
        "##### 2.2\n",
        "Οι χειμωνιάτικες εικόνες ομαδοποιούνται πιο κοντά μεταξύ τους και είναι ευδιάκριτος ο διαχωρισμός τους από τις εικόνες των άλλων δύο εποχών οι οποίες σε κάποιο βαθμό είναι ανακατεμένες. Η ξεκάθαρη αυτή ομαδοποίηση των χειμωνιάτικων εικόνων συμβαίνει λόγω των χρωματικών τους αποχρώσεων που τις κάνουν να ξεχωρίζουν αρκετά απο τις ανοιξιάτικες και τις φθινοπωρινές. Έχουν πιο γκρι, λευκά και μουντά χρώματα που τις διαφοροποιούν από τις άλλες δύο κατηγορίες."
      ]
    },
    {
      "cell_type": "markdown",
      "metadata": {
        "id": "bxD7b8z7sTgd",
        "colab_type": "text"
      },
      "source": [
        "## Ζητούμενο 3"
      ]
    },
    {
      "cell_type": "code",
      "metadata": {
        "id": "tjA1EPydzcuH",
        "colab_type": "code",
        "colab": {}
      },
      "source": [
        "def splitData(data, labels, t_size):\n",
        "  # Split dataset into training set and test set\n",
        "  return train_test_split(data, labels, test_size=t_size, random_state=109)\n",
        "\n",
        "def crossValS(data, labels, best_svr):\n",
        "  print(\"5-fold cross validation\")\n",
        "\n",
        "  scores = []\n",
        "  labelAr = numpy.array(labels)\n",
        "  cv = KFold(n_splits=5, shuffle=False)\n",
        "  for train_index, test_index in cv.split(data):\n",
        "\n",
        "      X_train, X_test, y_train, y_test = data[train_index], data[test_index], labelAr[train_index], labelAr[test_index]\n",
        "      best_svr.fit(X_train, y_train)\n",
        "      scores.append(best_svr.score(X_test, y_test))\n",
        "\n",
        "  print(\"Mean Score:\", np.mean(scores))\n",
        "  print(\"cross_val_score\", cross_val_score(best_svr, data, labels, cv=5))\n",
        "\n",
        "def K1NN(data, labels, X_train, X_test, y_train, y_test):\n",
        "\n",
        "  knn = KNeighborsClassifier(n_neighbors=1, weights='distance')\n",
        "\n",
        "  #Train the model using the training sets\n",
        "  knn.fit(X_train, y_train)\n",
        "\n",
        "  #Predict the response for test dataset\n",
        "  y_pred = knn.predict(X_test)\n",
        "\n",
        "  # Model Accuracy, how often is the classifier correct?\n",
        "  print(\"Classification Accuracy:\",metrics.accuracy_score(y_test, y_pred))\n",
        "\n",
        "  crossValS(data, labels, knn)\n",
        "\n",
        "  return\n",
        "\n",
        "\n",
        "def SVMclas(data, labels, X_train, X_test, y_train, y_test):\n",
        "\n",
        "  clf = svm.SVC(kernel='linear', C=1.0) # Linear Kernel\n",
        "\n",
        "  clf.fit(X_train, y_train)\n",
        "\n",
        "  y_pred = clf.predict(X_test)\n",
        "\n",
        "  print(\"Accuracy:\",metrics.accuracy_score(y_test, y_pred))\n",
        "\n",
        "  crossValS(data, labels, clf)\n",
        "  return\n",
        "\n",
        "def PCADFWithComp(df):  # takes a dataframe and return another with the pca values\n",
        "  scaled_features = StandardScaler().fit_transform(df.values)\n",
        "  df = pd.DataFrame(scaled_features, index=df.index, columns=df.columns)\n",
        "\n",
        "  n_components = 30 ## how may componets to compute\n",
        "  pca = PCA(n_components=n_components, whiten=True).fit(df.values)\n",
        "  components = pca.transform(df.values)\n",
        "  \n",
        "  cumExplainedVar=np.cumsum(pca.explained_variance_ratio_)\n",
        "\n",
        "  plt.figure(figsize=(10, 10))\n",
        "  numOfComp=10\n",
        "  plt.subplot(2, 2, 1)\n",
        "  plt.bar(range(numOfComp),pca.explained_variance_ratio_[:numOfComp])\n",
        "  plt.xlabel(' components ')\n",
        "  plt.ylabel(' explained variance');\n",
        "\n",
        "  plt.subplot(2, 2, 2)\n",
        "  plt.plot(cumExplainedVar[:10])\n",
        "  plt.xlabel('number of components retained (10 first)')\n",
        "  plt.ylabel('cumulative explained variance');\n",
        "\n",
        "  plt.subplot(2, 2, 3)\n",
        "  plt.plot(cumExplainedVar[:20])\n",
        "  plt.xlabel('number of components retained (20 first)')\n",
        "  plt.ylabel('cumulative explained variance');\n",
        "\n",
        "  plt.subplot(2, 2, 4)\n",
        "  plt.plot(cumExplainedVar)\n",
        "  plt.xlabel('number of components retained (30)')\n",
        "  plt.ylabel('cumulative explained variance');\n",
        "\n",
        "  plt.show()\n",
        "\n",
        "  return"
      ],
      "execution_count": 8,
      "outputs": []
    },
    {
      "cell_type": "markdown",
      "metadata": {
        "id": "xeDiSsOOhmTt",
        "colab_type": "text"
      },
      "source": [
        "Classification Accuracy:\n",
        "\n",
        "$Accuracy=\\frac{TP+TN}{TP+FP+TN+FN}$\n",
        "\n",
        "where:<br>\n",
        "TP = True Positive<br>\n",
        "TN = True Negative<br>\n",
        "FP = False Positive<br>\n",
        "FP = False Negative<br>\n",
        "\n",
        "Σε κάθε ένα από τα παρακάτω fields εκτελούνται οι μέθοδοι για τους διάφορους τύπους δεδομένων(1-ΝΝ και SVM για τις αρχικές\n",
        "μεγάλης διάστασης εικόνες σε μορφή διανύσματος και για τα χαρακτηριστικά χαμηλής διάστασης που εξάγονται μέσω της PCA). Υπολογίζεται το Classification Accuracy(3.1) και πραγματοποιείται 5-fold cross validation(3.2)"
      ]
    },
    {
      "cell_type": "markdown",
      "metadata": {
        "id": "5gsSSBSharqa",
        "colab_type": "text"
      },
      "source": [
        "(3.3)<br>\n",
        "Για την ορθή χρήση της PCA είναι πολύ σημαντική η ικανότητα εκτίμησης της διάστασης των χαρακτηριστικών που εξάγουμε. Αυτό μπορεί να προσδιοριστεί εξετάζοντας το σωρευτικό λόγο της εξηγούμενης διακύμανσης σε σχέση με τον αριθμό των κυρίων συνιστωσών"
      ]
    },
    {
      "cell_type": "code",
      "metadata": {
        "id": "Op-RLVX0bJtX",
        "colab_type": "code",
        "colab": {
          "base_uri": "https://localhost:8080/",
          "height": 611
        },
        "outputId": "115ed2a0-8e0e-4588-ea5c-346a69492090"
      },
      "source": [
        "df = pd.DataFrame(data=imAr)\n",
        "df = df.T\n",
        "\n",
        "PCADFWithComp(df)"
      ],
      "execution_count": 9,
      "outputs": [
        {
          "output_type": "display_data",
          "data": {
            "image/png": "[encoded data removed]",
            "text/plain": [
              "<Figure size 720x720 with 4 Axes>"
            ]
          },
          "metadata": {
            "tags": [],
            "needs_background": "light"
          }
        }
      ]
    },
    {
      "cell_type": "markdown",
      "metadata": {
        "id": "KYd-GVLFgPLx",
        "colab_type": "text"
      },
      "source": [
        "Παρατηρούμε ότι οι δύο πρώτες συνιστώσες εξηγούν περίπου το 58% της διακύμανσης των δεδομένων μας ενώ για το 90% χρειάζονται περίπου 16 συνιστώσες. Παρακάτω αναλύουμε τα δεδομένα στις 10 πρώτες συνιστώσες, ένας αριθμός που είναι αρκετά μεγάλος για να έχουμε καλή περιγραφή των δεδομένων και αρκετά μικρός για να μην είναι πολύ χρονοβόροι οι υπολογισμοί."
      ]
    },
    {
      "cell_type": "markdown",
      "metadata": {
        "id": "34Yt5pUizB9e",
        "colab_type": "text"
      },
      "source": [
        "1-ΝΝ σε μεγάλης διάστασης εικόνες σε μορφή διανύσματος."
      ]
    },
    {
      "cell_type": "code",
      "metadata": {
        "id": "GOEmtLI_axl2",
        "colab_type": "code",
        "colab": {
          "base_uri": "https://localhost:8080/",
          "height": 85
        },
        "outputId": "1f07d166-2703-4ed6-b369-48834ece8dcd"
      },
      "source": [
        "tmp = imAr.T\n",
        "\n",
        "X_train, X_test, y_train, y_test = splitData(tmp, labels, 0.3)\n",
        "\n",
        "K1NN(tmp, labels, X_train, X_test, y_train, y_test)"
      ],
      "execution_count": 10,
      "outputs": [
        {
          "output_type": "stream",
          "text": [
            "Classification Accuracy: 0.6666666666666666\n",
            "5-fold cross validation\n",
            "Mean Score: 0.7333333333333334\n",
            "cross_val_score [0.83333333 0.5        0.66666667 0.83333333 1.        ]\n"
          ],
          "name": "stdout"
        }
      ]
    },
    {
      "cell_type": "markdown",
      "metadata": {
        "id": "-lSVGP5JzMGk",
        "colab_type": "text"
      },
      "source": [
        "1-ΝΝ σε χαρακτηριστικά χαμηλής διάστασης μέσω της PCA"
      ]
    },
    {
      "cell_type": "code",
      "metadata": {
        "id": "c3AGZbVWWMeE",
        "colab_type": "code",
        "colab": {
          "base_uri": "https://localhost:8080/",
          "height": 85
        },
        "outputId": "5636e409-4014-46b0-b043-766acadde3e2"
      },
      "source": [
        "principalDf = PCADF(df, 10)\n",
        "\n",
        "X_train, X_test, y_train, y_test = splitData(principalDf.to_numpy(), labels, 0.3)\n",
        "\n",
        "K1NN(principalDf.to_numpy(), labels, X_train, X_test, y_train, y_test)"
      ],
      "execution_count": 11,
      "outputs": [
        {
          "output_type": "stream",
          "text": [
            "Classification Accuracy: 0.6666666666666666\n",
            "5-fold cross validation\n",
            "Mean Score: 0.6333333333333333\n",
            "cross_val_score [0.83333333 0.5        0.66666667 0.83333333 0.66666667]\n"
          ],
          "name": "stdout"
        }
      ]
    },
    {
      "cell_type": "markdown",
      "metadata": {
        "id": "gW06aecAzVkM",
        "colab_type": "text"
      },
      "source": [
        "SVM σε μεγάλης διάστασης εικόνες σε μορφή διανύσματος."
      ]
    },
    {
      "cell_type": "code",
      "metadata": {
        "id": "6b75Ykgna5PE",
        "colab_type": "code",
        "colab": {
          "base_uri": "https://localhost:8080/",
          "height": 85
        },
        "outputId": "3210f62c-23a7-459e-b15c-5b7a177b4ac1"
      },
      "source": [
        "X_train, X_test, y_train, y_test = splitData(tmp, labels, 0.3)\n",
        "\n",
        "SVMclas(tmp, labels, X_train, X_test, y_train, y_test)"
      ],
      "execution_count": 12,
      "outputs": [
        {
          "output_type": "stream",
          "text": [
            "Accuracy: 0.7777777777777778\n",
            "5-fold cross validation\n",
            "Mean Score: 0.7333333333333334\n",
            "cross_val_score [0.83333333 0.66666667 0.5        0.83333333 1.        ]\n"
          ],
          "name": "stdout"
        }
      ]
    },
    {
      "cell_type": "markdown",
      "metadata": {
        "id": "J2ijhbnBzcyE",
        "colab_type": "text"
      },
      "source": [
        "SVM σε χαρακτηριστικά χαμηλής διάστασης μέσω της PCA"
      ]
    },
    {
      "cell_type": "code",
      "metadata": {
        "id": "aARVN60LyhF4",
        "colab_type": "code",
        "colab": {
          "base_uri": "https://localhost:8080/",
          "height": 85
        },
        "outputId": "d08d776a-5e2e-490a-c76a-45c378127f45"
      },
      "source": [
        "X_train, X_test, y_train, y_test = splitData(principalDf.to_numpy(), labels, 0.3)\n",
        "\n",
        "SVMclas(principalDf.to_numpy(), labels, X_train, X_test, y_train, y_test)"
      ],
      "execution_count": 13,
      "outputs": [
        {
          "output_type": "stream",
          "text": [
            "Accuracy: 0.7777777777777778\n",
            "5-fold cross validation\n",
            "Mean Score: 0.7666666666666667\n",
            "cross_val_score [0.83333333 0.5        0.83333333 0.83333333 0.66666667]\n"
          ],
          "name": "stdout"
        }
      ]
    },
    {
      "cell_type": "markdown",
      "metadata": {
        "id": "guDi-212ePRt",
        "colab_type": "text"
      },
      "source": [
        "Καλύτερη επίδοση έχει ο ταξινομητής SVM όπως βλέπουμε από τα mean scores του cross validation και από τα classification accuracy scores. Αυτό ήταν αναμενόμενο, εφόσον ο SVM υπολογίζει τις ακραίες τιμές(outliers) καλύτερα από ότι ο KNN, ενώ ο KNN είναι καλύτερος από τον SVM μόνο στην περίπτωση που το πλήθος των δεδομένων εκπαίδευσης είναι κατά πολύ μεγαλύτερο από το πλήθος των χαρακτηριστικών.\n",
        "<br>Πηγή:\n",
        "<br>https://towardsdatascience.com/comparative-study-on-classic-machine-learning-algorithms-24f9ff6ab222#:~:text=SVM%20take%20cares%20of%20outliers,features%20and%20lesser%20training%20data."
      ]
    },
    {
      "cell_type": "markdown",
      "metadata": {
        "id": "9jlEBGVJCn0e",
        "colab_type": "text"
      },
      "source": [
        "# Ερώτημα 2"
      ]
    },
    {
      "cell_type": "markdown",
      "metadata": {
        "id": "9Tf2RqqGNdtp",
        "colab_type": "text"
      },
      "source": [
        "Μελετούμε το πρόβλημα βελτιστοποίησης \n",
        "<br><br>\n",
        "$$\\min_{W, C}∥X − WC∥^2_F + λ∥W∥^2_F + λ∥C∥^2_F s.t.W ≥ 0, C ≥ 0$$"
      ]
    },
    {
      "cell_type": "markdown",
      "metadata": {
        "id": "6SFCukiRQDzi",
        "colab_type": "text"
      },
      "source": [
        "Μελετήθηκαν δύο τρόποι για την επίλυση του προβλήματος.\n",
        "<br>\n",
        "###Πρώτος τρόπος, ο οποίος είναι και ο κατά πολύ πιο αποδοτικός:\n",
        "<br>Δεδομένου ότι για το πρόβλημα ελαχίστων τετραγώνων που συζητήθηκε στο μάθημα<br><br>\n",
        "$$\\min_{W,C} l(W,C) = ∥ X − WC ∥ _F^2 s.t.W ≥ 0, C ≥ 0 $$\n",
        "\n",
        "καταλήγουμε στους εξής τύπους ενημέρωσης των παραμέτρων:<br><br>\n",
        "$ C_{[t+1]} = C_{[t]} − n_t*∇_{C_{[t]}} l (W,C_{[t]}) $  \n",
        "<br>\n",
        "$ W_{[t+1]} = W_{[t]} − n_t*∇_{W_{[t]}} l (W_{[t]},C) $  \n",
        "<br>\n",
        "t = t + 1\n",
        "<br>\n",
        "ή ισοδύναμα<br>\n",
        "$C_{[t+1]} =C_{[t]}*\\frac{W_{[t]}^TX}{W_{[t]}^TW_{[t]}C_{[t]}} $  \n",
        "<br>\n",
        "$W_{[t+1]} =W_{[t]}*\\frac{XC_{[t]}^T}{W_{[t]}C_{[t]}C_{[t]}^T} $\n",
        "<br>t = t + 1  \n",
        "\n",
        "τότε, αντίστοιχα για το ζητούμενο πρόβλημα καταλήγουμε στους εξής τύπους με βάση την πηγή https://stats.stackexchange.com/questions/351359/deriving-multiplicative-update-rules-for-nmf:<br><br>\n",
        "$ C_{[t+1]} = C_{[t]} * \\frac{W^TX} {W^TWC_{[t]} + λC_{[t]}} $  \n",
        "<br>\n",
        "$ W_{[t+1]} = W_{[t]} * \\frac{XC^T} {W_{[t]}CC^T + λW_{[t]}} $\n",
        "<br>\n",
        "t = t + 1  \n",
        "<br>\n",
        "## Aιτιολόγηση:  \n",
        "\n",
        "$$\\min_{W,C} l(W,C) = ∥ X − WC ∥ _F^2 s.t.W ≥ 0, C ≥ 0 $$\n",
        "από $ ∥ X ∥ _F^2 = Tr(X^TX) $ παίρνουμε ισοδύναμα<br><br>\n",
        "$Tr((X-WC)^T(X-WC)) + λTr(W^TW) + λTr(C^TC) =$<br>  \n",
        "$Tr(X^TX - X^TWC -C^TW^TX + C^TW^TWC) + λTr(W^TW) + λTr(C^TC)=$<br>\n",
        "$Tr(X^T) - Tr(X^TWC) - Tr(C^TW^TX) + Tr(C^TW^TWC) + λTr(W^TW) + λTr(C^TC)$\n",
        "\n",
        "<br>Με παραγώγιση ως προς W έχουμε:<br><br>\n",
        "$ ∇_W Tr(X^T) - ∇_W Tr(X^TWC) - ∇_W Tr(C^TW^TX) + ∇_W Tr(C^TW^TWC) + ∇_W\n",
        "λTr(W^TW) + ∇_W λTr(C^TC)$<br><br>\n",
        "\n",
        "Με βάση τις ιδιότητες:<br>\n",
        "$ ∇_X Tr(AX) = A^T $<br>\n",
        "$ ∇_X Tr(X^TA) = A $<br>\n",
        "$ ∇_X Tr(XAA^TX^T) = X(A + A^T)$<br><br>\n",
        "\n",
        "Yπολογίζουμε τις παραγώγους:<br>\n",
        "$ ∇_W Tr(X^TX) = 0$<br><br>\n",
        "$ ∇_W Tr(X^TWC) = ∇_W Tr(CX^TW) = (CX^T)^T = XC^T$<br><br>\n",
        "$ ∇_W Tr(C^TW^TX) = ∇_W Tr(XC^TW^T) = XC^T $<br><br>\n",
        "$ ∇_W Tr(C^TW^TWC) = ∇_W Tr(WCC^TW^T) = W(CC^T + (CC^T)^T) = 2WCC^T$<br><br>\n",
        "$ ∇_W λTr(W^TW) = ∇_W λTr(WIW^T) = λW(I + I^T) = 2λW$<br><br>\n",
        "$ ∇_W λTr(C^TC) = 0 $<br><br>\n",
        "\n",
        "\n",
        "Έτσι καταλήγουμε ότι<br><br>\n",
        "$ ∇_W f(W,C) = 2WCC^T + 2λW - 2XC^T$<br><br>\n",
        "Έπομένως<br><br>\n",
        "$ W_{[t+1]} = W_{[t]} - n_t*∇_{W_{[t]}} l (W_{[t]},C)=$<br><br>\n",
        "$W_{[t]} - n_t * (2W_{[t]}CC^T + 2λW_{[t]} - 2XC^T)$<br><br>\n",
        "Η σταθερά 2 μπορεί να προσαρμοστεί στο learning rate $(n_t)$ και έτσι μπορεί να αγνοηθεί σε αυτό το σημείο:<br><br>\n",
        "$ W_{[t+1]} = W_{[t]} - n_t * (W_{[t+1]}CC^T - XC^T + λW_{[t+1]})$<br>\n",
        "ή ισοδύναμα<br><br>\n",
        "$ W_{[t+1]} = W_{[t]} * \\frac{XC^T} {W_{[t]}CC^T + λW_{[t]}}$<br><br>\n",
        "\n",
        "Αντίστοιχα με παραγώγιση ως προς C καταλήγουμε ότι<br>\n",
        "$ C_{[t+1]} = C_{[t]} * \\frac{W^TX} {W^TWC_{[t]} + λC_{[t]}} $\n",
        "\n",
        "Για να διαπιστώσουμε εάν συγκλίνει στη βέλτιστη λύση ο επαναληπτικός αλγόριθμος παρακολουθούμε το σφάλμα ανακατασκευής\n",
        "<br><br>$\\frac{∥X − W_{[t]}C_{[t]}∥^2_F}{∥X∥^2_F}$ <br><br>\n",
        "\n",
        "σε κάθε επανάληψη και εάν η μεταβολή του ανάμεσα σε δύο διαδοχικές επαναλήψεις είναι μικρότερη από ένα κατώφλι $ε$\n",
        "<br><br>$\\frac{∥X − W_{[t]}C_{[t]}∥^2_F - ∥X − W_{[t-1]}C_{[t-1]}∥^2_F}{∥X∥^2_F} < ε$ <br><br>\n",
        "με $ε$ = 0.01 ή 0.001 ή 0.0001 τερματίζουμε τον αλγόριθμο. Το $t$ στις παραπάνω σχέσεις συμβολίζει το δείκτη επανάληψης."
      ]
    },
    {
      "cell_type": "code",
      "metadata": {
        "id": "VwttnhRI74xt",
        "colab_type": "code",
        "colab": {}
      },
      "source": [
        "# W : matrix of basis vectors\n",
        "# C : matrix of coefficients\n",
        "# frob_error : frobenius norm\n",
        "def frobenius_norm(X,W,C):\n",
        "\t\t#error between X and W*H\n",
        "\t\terror = LA.norm(X - np.dot(W, C))\n",
        "\t\treturn error\n",
        "\n",
        "def C_update(X, W, C, l):\n",
        "  numerator = np.dot(W.T, X)\n",
        "  denominator = np.dot(W.T, W.dot(C)) + l*C\n",
        "  C = np.multiply(C, numerator) / denominator\n",
        "  return C\n",
        "\n",
        "def W_update(X, W, C, l):\n",
        "  numerator = X.dot(C.T)\n",
        "  denominator = W.dot(C.dot(C.T)) + l*W\n",
        "  W = np.multiply(W, numerator) / denominator\n",
        "  return W\n",
        "\n",
        "def RegUNMF(X, k, lambdaL, epsilon):\n",
        "  X_dim, samples = X.shape\n",
        "  W = np.random.random((X_dim, k))\n",
        "  C = np.random.random((k, samples))\n",
        "\n",
        "  diff = epsilon + 1\n",
        "  iters=0\n",
        "  while diff>=epsilon:\n",
        "    iters+=1\n",
        "    wNew=W_update(X, W, C, lambdaL)\n",
        "    cNew=C_update(X, W, C, lambdaL)\n",
        "\n",
        "    diff = abs(frobenius_norm(X, wNew, cNew) - frobenius_norm(X, W, C)) / LA.norm(X)\n",
        "\n",
        "    W = wNew\n",
        "    C = cNew\n",
        "\n",
        "  return (wNew, cNew, iters)\n",
        "\n",
        "def RunReg(X, rank, l, epsilon):\n",
        "  W, C, iters = RegUNMF(X, rank, l, epsilon)\n",
        "\n",
        "  print(75*\"-\")\n",
        "  print(\"For rank=\", rank, \"and l=\", l, \"and epsilon=\", epsilon, iters, \"iterations made\")\n",
        "  print (34*\"-\", \"X\", 34*\"-\")\n",
        "  print (X)\n",
        "  # print (34*\"-\", \"W\", 34*\"-\")\n",
        "  # print (W)\n",
        "  # print (34*\"-\", \"C\", 34*\"-\")\n",
        "  # print (H)\n",
        "  print (27*\"-\", \"W.dot(C)\", 27*\"-\")\n",
        "  print (W.dot(C))\n",
        "  print (25*\"-\", \"(X - np.dot(W,C))\", 25*\"-\")\n",
        "  print(np.ndarray.sum(abs(X - np.dot(W,C)))/500000)\n",
        "  print(75*\"-\")\n",
        "\n",
        "X = np.random.random((500,1000))"
      ],
      "execution_count": 14,
      "outputs": []
    },
    {
      "cell_type": "markdown",
      "metadata": {
        "id": "WPMv-4IcXLHL",
        "colab_type": "text"
      },
      "source": [
        "$λ=1.0$, $λ=0.1$, $λ=0.01$ για $ε=0.001$"
      ]
    },
    {
      "cell_type": "code",
      "metadata": {
        "id": "qnMBXj4S_ZM7",
        "colab_type": "code",
        "colab": {
          "base_uri": "https://localhost:8080/",
          "height": 1000
        },
        "outputId": "05a0ea08-3802-4904-cd02-d7013fd356b1"
      },
      "source": [
        "RunReg(X, 1, 1.0, 0.001)\n",
        "RunReg(X, 10, 1.0, 0.001)\n",
        "RunReg(X, 100, 1.0, 0.001)\n",
        "\n",
        "RunReg(X, 1, 0.1, 0.001)\n",
        "RunReg(X, 10, 0.1, 0.001)\n",
        "RunReg(X, 100, 0.1, 0.001)\n",
        "\n",
        "RunReg(X, 1, 0.01, 0.001)\n",
        "RunReg(X, 10, 0.01, 0.001)\n",
        "RunReg(X, 100, 0.01, 0.001)"
      ],
      "execution_count": 15,
      "outputs": [
        {
          "output_type": "stream",
          "text": [
            "---------------------------------------------------------------------------\n",
            "For rank= 1 and l= 1.0 and epsilon= 0.001 2 iterations made\n",
            "---------------------------------- X ----------------------------------\n",
            "[[0.84807373 0.291988   0.94104619 ... 0.27291572 0.02144324 0.69294392]\n",
            " [0.85217806 0.1110223  0.04774883 ... 0.65896813 0.10323989 0.18166938]\n",
            " [0.72737175 0.91722611 0.9275236  ... 0.38899888 0.09456695 0.56684489]\n",
            " ...\n",
            " [0.22117551 0.93462406 0.70476997 ... 0.23992461 0.07210619 0.78674361]\n",
            " [0.35534044 0.04360233 0.90675871 ... 0.43645689 0.55632462 0.1886731 ]\n",
            " [0.5715067  0.13110943 0.24379022 ... 0.14774356 0.56178067 0.56547008]]\n",
            "--------------------------- W.dot(C) ---------------------------\n",
            "[[0.44107214 0.45105724 0.4550024  ... 0.44646339 0.42387842 0.44847747]\n",
            " [0.45589942 0.46622019 0.47029797 ... 0.4614719  0.43812771 0.46355369]\n",
            " [0.46996654 0.48060577 0.48480937 ... 0.47571097 0.45164647 0.47785699]\n",
            " ...\n",
            " [0.45532393 0.46563167 0.46970431 ... 0.46088939 0.43757466 0.46296854]\n",
            " [0.44726596 0.45739129 0.46139185 ... 0.45273292 0.4298308  0.45477528]\n",
            " [0.44328108 0.45331619 0.45728111 ... 0.44869933 0.42600125 0.45072349]]\n",
            "------------------------- (X - np.dot(W,C)) -------------------------\n",
            "0.2514850566774069\n",
            "---------------------------------------------------------------------------\n",
            "---------------------------------------------------------------------------\n",
            "For rank= 10 and l= 1.0 and epsilon= 0.001 342 iterations made\n",
            "---------------------------------- X ----------------------------------\n",
            "[[0.84807373 0.291988   0.94104619 ... 0.27291572 0.02144324 0.69294392]\n",
            " [0.85217806 0.1110223  0.04774883 ... 0.65896813 0.10323989 0.18166938]\n",
            " [0.72737175 0.91722611 0.9275236  ... 0.38899888 0.09456695 0.56684489]\n",
            " ...\n",
            " [0.22117551 0.93462406 0.70476997 ... 0.23992461 0.07210619 0.78674361]\n",
            " [0.35534044 0.04360233 0.90675871 ... 0.43645689 0.55632462 0.1886731 ]\n",
            " [0.5715067  0.13110943 0.24379022 ... 0.14774356 0.56178067 0.56547008]]\n",
            "--------------------------- W.dot(C) ---------------------------\n",
            "[[0.5323011  0.52185756 0.59634786 ... 0.5373647  0.62520826 0.43229907]\n",
            " [0.49045941 0.50020887 0.50300184 ... 0.54916335 0.51820489 0.55429203]\n",
            " [0.58749074 0.67138578 0.60919033 ... 0.66377424 0.44297451 0.46633314]\n",
            " ...\n",
            " [0.53956941 0.62528826 0.52731696 ... 0.61413969 0.47265683 0.49137745]\n",
            " [0.52737833 0.60750162 0.59761515 ... 0.51953689 0.5183875  0.61487114]\n",
            " [0.55538922 0.49925194 0.53476274 ... 0.4844645  0.5095547  0.66390992]]\n",
            "------------------------- (X - np.dot(W,C)) -------------------------\n",
            "0.2458179635606329\n",
            "---------------------------------------------------------------------------\n",
            "---------------------------------------------------------------------------\n",
            "For rank= 100 and l= 1.0 and epsilon= 0.001 206 iterations made\n",
            "---------------------------------- X ----------------------------------\n",
            "[[0.84807373 0.291988   0.94104619 ... 0.27291572 0.02144324 0.69294392]\n",
            " [0.85217806 0.1110223  0.04774883 ... 0.65896813 0.10323989 0.18166938]\n",
            " [0.72737175 0.91722611 0.9275236  ... 0.38899888 0.09456695 0.56684489]\n",
            " ...\n",
            " [0.22117551 0.93462406 0.70476997 ... 0.23992461 0.07210619 0.78674361]\n",
            " [0.35534044 0.04360233 0.90675871 ... 0.43645689 0.55632462 0.1886731 ]\n",
            " [0.5715067  0.13110943 0.24379022 ... 0.14774356 0.56178067 0.56547008]]\n",
            "--------------------------- W.dot(C) ---------------------------\n",
            "[[0.68007503 0.72882812 0.77270658 ... 0.47829265 0.55349514 0.6935876 ]\n",
            " [0.77383249 0.62643796 0.40817556 ... 0.60140718 0.40627336 0.45100654]\n",
            " [0.64610133 0.79339225 0.62059182 ... 0.4977636  0.35812195 0.43290696]\n",
            " ...\n",
            " [0.46926884 0.99161025 0.77449882 ... 0.48976141 0.17944649 0.59134666]\n",
            " [0.58219376 0.55162272 0.66107838 ... 0.49454082 0.53681393 0.74578892]\n",
            " [0.57446089 0.48795622 0.58532906 ... 0.64940653 0.56885368 0.60904705]]\n",
            "------------------------- (X - np.dot(W,C)) -------------------------\n",
            "0.21516880917089165\n",
            "---------------------------------------------------------------------------\n",
            "---------------------------------------------------------------------------\n",
            "For rank= 1 and l= 0.1 and epsilon= 0.001 289 iterations made\n",
            "---------------------------------- X ----------------------------------\n",
            "[[0.84807373 0.291988   0.94104619 ... 0.27291572 0.02144324 0.69294392]\n",
            " [0.85217806 0.1110223  0.04774883 ... 0.65896813 0.10323989 0.18166938]\n",
            " [0.72737175 0.91722611 0.9275236  ... 0.38899888 0.09456695 0.56684489]\n",
            " ...\n",
            " [0.22117551 0.93462406 0.70476997 ... 0.23992461 0.07210619 0.78674361]\n",
            " [0.35534044 0.04360233 0.90675871 ... 0.43645689 0.55632462 0.1886731 ]\n",
            " [0.5715067  0.13110943 0.24379022 ... 0.14774356 0.56178067 0.56547008]]\n",
            "--------------------------- W.dot(C) ---------------------------\n",
            "[[0.53162392 0.54364383 0.54798677 ... 0.53800824 0.51057376 0.54031883]\n",
            " [0.54989926 0.56233238 0.56682461 ... 0.55650305 0.52812547 0.55889307]\n",
            " [0.56674866 0.57956274 0.58419262 ... 0.5735548  0.54430771 0.57601806]\n",
            " ...\n",
            " [0.54902745 0.56144086 0.56592597 ... 0.55562078 0.52728819 0.55800701]\n",
            " [0.53936038 0.55155522 0.55596135 ... 0.54583761 0.51800389 0.54818183]\n",
            " [0.53462898 0.54671684 0.55108432 ... 0.54104939 0.51345983 0.54337304]]\n",
            "------------------------- (X - np.dot(W,C)) -------------------------\n",
            "0.25158589882248733\n",
            "---------------------------------------------------------------------------\n",
            "---------------------------------------------------------------------------\n",
            "For rank= 10 and l= 0.1 and epsilon= 0.001 3586 iterations made\n",
            "---------------------------------- X ----------------------------------\n",
            "[[0.84807373 0.291988   0.94104619 ... 0.27291572 0.02144324 0.69294392]\n",
            " [0.85217806 0.1110223  0.04774883 ... 0.65896813 0.10323989 0.18166938]\n",
            " [0.72737175 0.91722611 0.9275236  ... 0.38899888 0.09456695 0.56684489]\n",
            " ...\n",
            " [0.22117551 0.93462406 0.70476997 ... 0.23992461 0.07210619 0.78674361]\n",
            " [0.35534044 0.04360233 0.90675871 ... 0.43645689 0.55632462 0.1886731 ]\n",
            " [0.5715067  0.13110943 0.24379022 ... 0.14774356 0.56178067 0.56547008]]\n",
            "--------------------------- W.dot(C) ---------------------------\n",
            "[[0.50470184 0.49506459 0.56064351 ... 0.53332963 0.41820562 0.45905599]\n",
            " [0.47045774 0.49897719 0.49873601 ... 0.52172169 0.4261661  0.54084265]\n",
            " [0.54473427 0.63594542 0.6503131  ... 0.66891625 0.39028727 0.51302658]\n",
            " ...\n",
            " [0.57304031 0.5029182  0.54862229 ... 0.47649635 0.46539763 0.59209152]\n",
            " [0.58725347 0.59678339 0.64057291 ... 0.54536817 0.43324317 0.59850405]\n",
            " [0.59707156 0.52680578 0.56147048 ... 0.41176859 0.56580939 0.58414327]]\n",
            "------------------------- (X - np.dot(W,C)) -------------------------\n",
            "0.24348491734659394\n",
            "---------------------------------------------------------------------------\n",
            "---------------------------------------------------------------------------\n",
            "For rank= 100 and l= 0.1 and epsilon= 0.001 1628 iterations made\n",
            "---------------------------------- X ----------------------------------\n",
            "[[0.84807373 0.291988   0.94104619 ... 0.27291572 0.02144324 0.69294392]\n",
            " [0.85217806 0.1110223  0.04774883 ... 0.65896813 0.10323989 0.18166938]\n",
            " [0.72737175 0.91722611 0.9275236  ... 0.38899888 0.09456695 0.56684489]\n",
            " ...\n",
            " [0.22117551 0.93462406 0.70476997 ... 0.23992461 0.07210619 0.78674361]\n",
            " [0.35534044 0.04360233 0.90675871 ... 0.43645689 0.55632462 0.1886731 ]\n",
            " [0.5715067  0.13110943 0.24379022 ... 0.14774356 0.56178067 0.56547008]]\n",
            "--------------------------- W.dot(C) ---------------------------\n",
            "[[0.55865805 0.4470387  0.77900892 ... 0.451808   0.46897017 0.48817444]\n",
            " [0.83876372 0.51180739 0.49757636 ... 0.62335052 0.43515003 0.33951374]\n",
            " [0.62722295 0.78341516 0.74069419 ... 0.60006431 0.50324636 0.53701415]\n",
            " ...\n",
            " [0.27116077 0.7825817  0.56516198 ... 0.51360771 0.26532095 0.5835099 ]\n",
            " [0.69399357 0.34040333 0.70316417 ... 0.62103374 0.45463775 0.71857879]\n",
            " [0.34666605 0.49793905 0.63045248 ... 0.48940885 0.34873833 0.40726046]]\n",
            "------------------------- (X - np.dot(W,C)) -------------------------\n",
            "0.20234329970632348\n",
            "---------------------------------------------------------------------------\n",
            "---------------------------------------------------------------------------\n",
            "For rank= 1 and l= 0.01 and epsilon= 0.001 7109 iterations made\n",
            "---------------------------------- X ----------------------------------\n",
            "[[0.84807373 0.291988   0.94104619 ... 0.27291572 0.02144324 0.69294392]\n",
            " [0.85217806 0.1110223  0.04774883 ... 0.65896813 0.10323989 0.18166938]\n",
            " [0.72737175 0.91722611 0.9275236  ... 0.38899888 0.09456695 0.56684489]\n",
            " ...\n",
            " [0.22117551 0.93462406 0.70476997 ... 0.23992461 0.07210619 0.78674361]\n",
            " [0.35534044 0.04360233 0.90675871 ... 0.43645689 0.55632462 0.1886731 ]\n",
            " [0.5715067  0.13110943 0.24379022 ... 0.14774356 0.56178067 0.56547008]]\n",
            "--------------------------- W.dot(C) ---------------------------\n",
            "[[0.53058525 0.54258168 0.54691614 ... 0.5369571  0.50957622 0.53926318]\n",
            " [0.54882489 0.56123371 0.56571717 ... 0.55541578 0.52709364 0.55780113]\n",
            " [0.56564137 0.57843041 0.58305125 ... 0.57243421 0.54324426 0.57489265]\n",
            " ...\n",
            " [0.54795478 0.56034394 0.56482028 ... 0.55453523 0.52625799 0.5569168 ]\n",
            " [0.5383066  0.55047761 0.55487514 ... 0.54477117 0.51699184 0.54711081]\n",
            " [0.53358444 0.54564868 0.55000763 ... 0.53999231 0.51245666 0.54231142]]\n",
            "------------------------- (X - np.dot(W,C)) -------------------------\n",
            "0.2514863290265735\n",
            "---------------------------------------------------------------------------\n",
            "---------------------------------------------------------------------------\n",
            "For rank= 10 and l= 0.01 and epsilon= 0.001 35828 iterations made\n",
            "---------------------------------- X ----------------------------------\n",
            "[[0.84807373 0.291988   0.94104619 ... 0.27291572 0.02144324 0.69294392]\n",
            " [0.85217806 0.1110223  0.04774883 ... 0.65896813 0.10323989 0.18166938]\n",
            " [0.72737175 0.91722611 0.9275236  ... 0.38899888 0.09456695 0.56684489]\n",
            " ...\n",
            " [0.22117551 0.93462406 0.70476997 ... 0.23992461 0.07210619 0.78674361]\n",
            " [0.35534044 0.04360233 0.90675871 ... 0.43645689 0.55632462 0.1886731 ]\n",
            " [0.5715067  0.13110943 0.24379022 ... 0.14774356 0.56178067 0.56547008]]\n",
            "--------------------------- W.dot(C) ---------------------------\n",
            "[[0.51633616 0.44208818 0.54387316 ... 0.54578987 0.36690727 0.45114962]\n",
            " [0.42779846 0.46987412 0.55101939 ... 0.54474906 0.30134916 0.4895591 ]\n",
            " [0.5241841  0.5738991  0.57170935 ... 0.66648711 0.40475597 0.55019892]\n",
            " ...\n",
            " [0.54091097 0.48614991 0.55937196 ... 0.50474263 0.39082058 0.5155653 ]\n",
            " [0.62690198 0.5349147  0.602058   ... 0.60656977 0.50226201 0.71544493]\n",
            " [0.48901313 0.51898559 0.54543737 ... 0.3760003  0.56281028 0.55146248]]\n",
            "------------------------- (X - np.dot(W,C)) -------------------------\n",
            "0.2432716043080581\n",
            "---------------------------------------------------------------------------\n",
            "---------------------------------------------------------------------------\n",
            "For rank= 100 and l= 0.01 and epsilon= 0.001 15656 iterations made\n",
            "---------------------------------- X ----------------------------------\n",
            "[[0.84807373 0.291988   0.94104619 ... 0.27291572 0.02144324 0.69294392]\n",
            " [0.85217806 0.1110223  0.04774883 ... 0.65896813 0.10323989 0.18166938]\n",
            " [0.72737175 0.91722611 0.9275236  ... 0.38899888 0.09456695 0.56684489]\n",
            " ...\n",
            " [0.22117551 0.93462406 0.70476997 ... 0.23992461 0.07210619 0.78674361]\n",
            " [0.35534044 0.04360233 0.90675871 ... 0.43645689 0.55632462 0.1886731 ]\n",
            " [0.5715067  0.13110943 0.24379022 ... 0.14774356 0.56178067 0.56547008]]\n",
            "--------------------------- W.dot(C) ---------------------------\n",
            "[[0.67559903 0.55613599 0.81359615 ... 0.32663078 0.51146545 0.48451332]\n",
            " [0.80382946 0.36986553 0.42071129 ... 0.64242523 0.54047399 0.41729248]\n",
            " [0.80296624 0.56641706 0.43706477 ... 0.61097329 0.4108659  0.52454053]\n",
            " ...\n",
            " [0.29545109 0.93087212 0.49122034 ... 0.54480842 0.29067434 0.7004603 ]\n",
            " [0.70967851 0.3778099  0.7575562  ... 0.46038596 0.44769631 0.70051218]\n",
            " [0.33599998 0.42351181 0.8508438  ... 0.32586427 0.69846068 0.4335968 ]]\n",
            "------------------------- (X - np.dot(W,C)) -------------------------\n",
            "0.2004331863905185\n",
            "---------------------------------------------------------------------------\n"
          ],
          "name": "stdout"
        }
      ]
    },
    {
      "cell_type": "markdown",
      "metadata": {
        "id": "K1SCu7QUCORy",
        "colab_type": "text"
      },
      "source": [
        "Παρατηρούμε ότι το βέλτιστο αποτέλεσμα το έχουμε για $k$= 100 και $λ$= 0.01. Ωστόσο η συγκεκριμένη εκτέλεση απαιτεί αισθητά περισσότερο χρόνο και εκτελεί πολλές περισσότερες επαναλήψεις(15656) έναντι του αμέσως χειρότερου αποτελέσματος($k$= 100, $λ$= 0.1 με 1628 επαναλήψεις)"
      ]
    },
    {
      "cell_type": "markdown",
      "metadata": {
        "id": "xoKPQVkvYk6b",
        "colab_type": "text"
      },
      "source": [
        "$λ=1.0$, $λ=0.1$ για $ε=0.01$"
      ]
    },
    {
      "cell_type": "code",
      "metadata": {
        "id": "OAeYF5r7YpgS",
        "colab_type": "code",
        "colab": {
          "base_uri": "https://localhost:8080/",
          "height": 1000
        },
        "outputId": "a37391cd-1833-485e-d0cf-ce1296772d20"
      },
      "source": [
        "RunReg(X, 1, 1.0, 0.01)\n",
        "RunReg(X, 10, 1.0, 0.01)\n",
        "RunReg(X, 100, 1.0, 0.01)\n",
        "\n",
        "RunReg(X, 1, 0.1, 0.01)\n",
        "RunReg(X, 10, 0.1, 0.01)\n",
        "RunReg(X, 100, 0.1, 0.01)"
      ],
      "execution_count": 16,
      "outputs": [
        {
          "output_type": "stream",
          "text": [
            "---------------------------------------------------------------------------\n",
            "For rank= 1 and l= 1.0 and epsilon= 0.01 2 iterations made\n",
            "---------------------------------- X ----------------------------------\n",
            "[[0.84807373 0.291988   0.94104619 ... 0.27291572 0.02144324 0.69294392]\n",
            " [0.85217806 0.1110223  0.04774883 ... 0.65896813 0.10323989 0.18166938]\n",
            " [0.72737175 0.91722611 0.9275236  ... 0.38899888 0.09456695 0.56684489]\n",
            " ...\n",
            " [0.22117551 0.93462406 0.70476997 ... 0.23992461 0.07210619 0.78674361]\n",
            " [0.35534044 0.04360233 0.90675871 ... 0.43645689 0.55632462 0.1886731 ]\n",
            " [0.5715067  0.13110943 0.24379022 ... 0.14774356 0.56178067 0.56547008]]\n",
            "--------------------------- W.dot(C) ---------------------------\n",
            "[[0.43095802 0.44094057 0.44420668 ... 0.43622148 0.41379957 0.43805772]\n",
            " [0.44575309 0.45607835 0.45945658 ... 0.45119725 0.42800558 0.45309653]\n",
            " [0.45970125 0.4703496  0.47383355 ... 0.46531577 0.4413984  0.46727448]\n",
            " ...\n",
            " [0.44531346 0.45562853 0.45900344 ... 0.45075224 0.42758345 0.45264965]\n",
            " [0.43756321 0.44769877 0.45101493 ... 0.44290735 0.42014178 0.44477173]\n",
            " [0.4331192  0.44315181 0.4464343  ... 0.43840906 0.4158747  0.44025451]]\n",
            "------------------------- (X - np.dot(W,C)) -------------------------\n",
            "0.25256194675653193\n",
            "---------------------------------------------------------------------------\n",
            "---------------------------------------------------------------------------\n",
            "For rank= 10 and l= 1.0 and epsilon= 0.01 266 iterations made\n",
            "---------------------------------- X ----------------------------------\n",
            "[[0.84807373 0.291988   0.94104619 ... 0.27291572 0.02144324 0.69294392]\n",
            " [0.85217806 0.1110223  0.04774883 ... 0.65896813 0.10323989 0.18166938]\n",
            " [0.72737175 0.91722611 0.9275236  ... 0.38899888 0.09456695 0.56684489]\n",
            " ...\n",
            " [0.22117551 0.93462406 0.70476997 ... 0.23992461 0.07210619 0.78674361]\n",
            " [0.35534044 0.04360233 0.90675871 ... 0.43645689 0.55632462 0.1886731 ]\n",
            " [0.5715067  0.13110943 0.24379022 ... 0.14774356 0.56178067 0.56547008]]\n",
            "--------------------------- W.dot(C) ---------------------------\n",
            "[[0.57969487 0.63817817 0.56371744 ... 0.51600705 0.52577339 0.62167854]\n",
            " [0.68457768 0.56653754 0.489943   ... 0.54897675 0.471274   0.51146148]\n",
            " [0.68195473 0.74273639 0.58791769 ... 0.67039245 0.49678936 0.48436323]\n",
            " ...\n",
            " [0.61344325 0.69161338 0.5768855  ... 0.62425796 0.502266   0.59203718]\n",
            " [0.59692552 0.58891205 0.60134496 ... 0.61448831 0.56156926 0.61431113]\n",
            " [0.54974308 0.49095507 0.53803724 ... 0.55843366 0.6395302  0.50270774]]\n",
            "------------------------- (X - np.dot(W,C)) -------------------------\n",
            "0.2551596610136483\n",
            "---------------------------------------------------------------------------\n",
            "---------------------------------------------------------------------------\n",
            "For rank= 100 and l= 1.0 and epsilon= 0.01 184 iterations made\n",
            "---------------------------------- X ----------------------------------\n",
            "[[0.84807373 0.291988   0.94104619 ... 0.27291572 0.02144324 0.69294392]\n",
            " [0.85217806 0.1110223  0.04774883 ... 0.65896813 0.10323989 0.18166938]\n",
            " [0.72737175 0.91722611 0.9275236  ... 0.38899888 0.09456695 0.56684489]\n",
            " ...\n",
            " [0.22117551 0.93462406 0.70476997 ... 0.23992461 0.07210619 0.78674361]\n",
            " [0.35534044 0.04360233 0.90675871 ... 0.43645689 0.55632462 0.1886731 ]\n",
            " [0.5715067  0.13110943 0.24379022 ... 0.14774356 0.56178067 0.56547008]]\n",
            "--------------------------- W.dot(C) ---------------------------\n",
            "[[0.52601467 0.60375014 0.85951297 ... 0.64004224 0.48458486 0.5969139 ]\n",
            " [0.76412495 0.55517748 0.36365739 ... 0.52949779 0.49512233 0.32211648]\n",
            " [0.75514925 0.7085411  0.70714518 ... 0.71686591 0.43125768 0.65585724]\n",
            " ...\n",
            " [0.60677283 0.66075077 0.65909626 ... 0.58959505 0.59621948 0.72270282]\n",
            " [0.69014247 0.53343567 0.79546139 ... 0.47787568 0.53660924 0.63431152]\n",
            " [0.68374246 0.55416166 0.60445842 ... 0.60561792 0.50595309 0.49258217]]\n",
            "------------------------- (X - np.dot(W,C)) -------------------------\n",
            "0.22649525916454882\n",
            "---------------------------------------------------------------------------\n",
            "---------------------------------------------------------------------------\n",
            "For rank= 1 and l= 0.1 and epsilon= 0.01 2 iterations made\n",
            "---------------------------------- X ----------------------------------\n",
            "[[0.84807373 0.291988   0.94104619 ... 0.27291572 0.02144324 0.69294392]\n",
            " [0.85217806 0.1110223  0.04774883 ... 0.65896813 0.10323989 0.18166938]\n",
            " [0.72737175 0.91722611 0.9275236  ... 0.38899888 0.09456695 0.56684489]\n",
            " ...\n",
            " [0.22117551 0.93462406 0.70476997 ... 0.23992461 0.07210619 0.78674361]\n",
            " [0.35534044 0.04360233 0.90675871 ... 0.43645689 0.55632462 0.1886731 ]\n",
            " [0.5715067  0.13110943 0.24379022 ... 0.14774356 0.56178067 0.56547008]]\n",
            "--------------------------- W.dot(C) ---------------------------\n",
            "[[0.42985758 0.43922629 0.44279854 ... 0.43482322 0.41272357 0.43653824]\n",
            " [0.44474956 0.45444284 0.45813885 ... 0.44988723 0.42702196 0.45166167]\n",
            " [0.4580988  0.46808302 0.47188997 ... 0.46339068 0.43983911 0.46521838]\n",
            " ...\n",
            " [0.44357972 0.4532475  0.45693379 ... 0.44870388 0.42589875 0.45047365]\n",
            " [0.43604877 0.44555241 0.44917612 ... 0.44108593 0.41866798 0.44282566]\n",
            " [0.43220533 0.4416252  0.44521697 ... 0.43719809 0.41497774 0.43892248]]\n",
            "------------------------- (X - np.dot(W,C)) -------------------------\n",
            "0.25274076004286833\n",
            "---------------------------------------------------------------------------\n",
            "---------------------------------------------------------------------------\n",
            "For rank= 10 and l= 0.1 and epsilon= 0.01 2598 iterations made\n",
            "---------------------------------- X ----------------------------------\n",
            "[[0.84807373 0.291988   0.94104619 ... 0.27291572 0.02144324 0.69294392]\n",
            " [0.85217806 0.1110223  0.04774883 ... 0.65896813 0.10323989 0.18166938]\n",
            " [0.72737175 0.91722611 0.9275236  ... 0.38899888 0.09456695 0.56684489]\n",
            " ...\n",
            " [0.22117551 0.93462406 0.70476997 ... 0.23992461 0.07210619 0.78674361]\n",
            " [0.35534044 0.04360233 0.90675871 ... 0.43645689 0.55632462 0.1886731 ]\n",
            " [0.5715067  0.13110943 0.24379022 ... 0.14774356 0.56178067 0.56547008]]\n",
            "--------------------------- W.dot(C) ---------------------------\n",
            "[[0.5753846  0.55162429 0.63270107 ... 0.62344285 0.43285184 0.53829208]\n",
            " [0.5031491  0.40084227 0.5639593  ... 0.57363785 0.31944611 0.6062145 ]\n",
            " [0.59984302 0.75117991 0.67819571 ... 0.70270651 0.39145698 0.57267954]\n",
            " ...\n",
            " [0.58767496 0.56068912 0.66029317 ... 0.56205517 0.42767185 0.62456488]\n",
            " [0.61309464 0.61913894 0.66341303 ... 0.61287521 0.44569118 0.69435335]\n",
            " [0.6195869  0.61782601 0.61679044 ... 0.49536318 0.66123191 0.65685697]]\n",
            "------------------------- (X - np.dot(W,C)) -------------------------\n",
            "0.25248588924009524\n",
            "---------------------------------------------------------------------------\n",
            "---------------------------------------------------------------------------\n",
            "For rank= 100 and l= 0.1 and epsilon= 0.01 1280 iterations made\n",
            "---------------------------------- X ----------------------------------\n",
            "[[0.84807373 0.291988   0.94104619 ... 0.27291572 0.02144324 0.69294392]\n",
            " [0.85217806 0.1110223  0.04774883 ... 0.65896813 0.10323989 0.18166938]\n",
            " [0.72737175 0.91722611 0.9275236  ... 0.38899888 0.09456695 0.56684489]\n",
            " ...\n",
            " [0.22117551 0.93462406 0.70476997 ... 0.23992461 0.07210619 0.78674361]\n",
            " [0.35534044 0.04360233 0.90675871 ... 0.43645689 0.55632462 0.1886731 ]\n",
            " [0.5715067  0.13110943 0.24379022 ... 0.14774356 0.56178067 0.56547008]]\n",
            "--------------------------- W.dot(C) ---------------------------\n",
            "[[0.57832521 0.52097398 1.01572567 ... 0.32793954 0.5942632  0.51964621]\n",
            " [0.67804212 0.33070551 0.45158039 ... 0.81934661 0.34970883 0.45753941]\n",
            " [0.72020327 0.75819339 0.59743867 ... 0.47599533 0.31670828 0.4861795 ]\n",
            " ...\n",
            " [0.4564612  0.63455253 0.4941145  ... 0.79986793 0.27217344 0.72269752]\n",
            " [0.47602951 0.36225025 0.76534821 ... 0.57911585 0.57655466 0.67668842]\n",
            " [0.42672938 0.52226733 0.5691311  ... 0.33512637 0.47403524 0.56689655]]\n",
            "------------------------- (X - np.dot(W,C)) -------------------------\n",
            "0.21377362088593393\n",
            "---------------------------------------------------------------------------\n"
          ],
          "name": "stdout"
        }
      ]
    },
    {
      "cell_type": "markdown",
      "metadata": {
        "id": "ho-LIEKyDRrc",
        "colab_type": "text"
      },
      "source": [
        "Παρατηρούμε ότι το βέλτιστο αποτέλεσμα το έχουμε για $k$= 100 και $λ$= 0.1. Ωστόσο η συγκεκριμένη εκτέλεση απαιτεί περισσότερο χρόνο και εκτελεί περισσότερες επαναλήψεις(1280) έναντι του αμέσως χειρότερου αποτελέσματος($k$= 100, $λ$= 1.0 με 184 επαναλήψεις)"
      ]
    },
    {
      "cell_type": "markdown",
      "metadata": {
        "id": "loz-8AXdY5TT",
        "colab_type": "text"
      },
      "source": [
        "$λ=2.0$, $λ=5.0$ για $ε=0.001$"
      ]
    },
    {
      "cell_type": "code",
      "metadata": {
        "id": "LZ6xnF_UZCZD",
        "colab_type": "code",
        "colab": {
          "base_uri": "https://localhost:8080/",
          "height": 1000
        },
        "outputId": "0e0bc7e4-a124-459d-f1e0-18b672c7a6be"
      },
      "source": [
        "RunReg(X, 1, 2.0, 0.001)\n",
        "RunReg(X, 10, 2.0, 0.001)\n",
        "RunReg(X, 100, 2.0, 0.001)\n",
        "\n",
        "RunReg(X, 1, 5.0, 0.001)\n",
        "RunReg(X, 10, 5.0, 0.001)\n",
        "RunReg(X, 100, 5.0, 0.001)"
      ],
      "execution_count": 17,
      "outputs": [
        {
          "output_type": "stream",
          "text": [
            "---------------------------------------------------------------------------\n",
            "For rank= 1 and l= 2.0 and epsilon= 0.001 3 iterations made\n",
            "---------------------------------- X ----------------------------------\n",
            "[[0.84807373 0.291988   0.94104619 ... 0.27291572 0.02144324 0.69294392]\n",
            " [0.85217806 0.1110223  0.04774883 ... 0.65896813 0.10323989 0.18166938]\n",
            " [0.72737175 0.91722611 0.9275236  ... 0.38899888 0.09456695 0.56684489]\n",
            " ...\n",
            " [0.22117551 0.93462406 0.70476997 ... 0.23992461 0.07210619 0.78674361]\n",
            " [0.35534044 0.04360233 0.90675871 ... 0.43645689 0.55632462 0.1886731 ]\n",
            " [0.5715067  0.13110943 0.24379022 ... 0.14774356 0.56178067 0.56547008]]\n",
            "--------------------------- W.dot(C) ---------------------------\n",
            "[[0.54956751 0.56199543 0.5664722  ... 0.55615625 0.52780818 0.55856024]\n",
            " [0.56844228 0.58129704 0.58592756 ... 0.57525731 0.54593563 0.57774386]\n",
            " [0.58588747 0.59913673 0.60390936 ... 0.59291165 0.5626901  0.5954745 ]\n",
            " ...\n",
            " [0.56756037 0.58039519 0.58501852 ... 0.57436483 0.54508864 0.57684752]\n",
            " [0.55757314 0.57018211 0.57472409 ... 0.56425787 0.53549684 0.56669687]\n",
            " [0.55265817 0.56515599 0.56965793 ... 0.55928397 0.53077647 0.56170147]]\n",
            "------------------------- (X - np.dot(W,C)) -------------------------\n",
            "0.2536630184274746\n",
            "---------------------------------------------------------------------------\n",
            "---------------------------------------------------------------------------\n",
            "For rank= 10 and l= 2.0 and epsilon= 0.001 164 iterations made\n",
            "---------------------------------- X ----------------------------------\n",
            "[[0.84807373 0.291988   0.94104619 ... 0.27291572 0.02144324 0.69294392]\n",
            " [0.85217806 0.1110223  0.04774883 ... 0.65896813 0.10323989 0.18166938]\n",
            " [0.72737175 0.91722611 0.9275236  ... 0.38899888 0.09456695 0.56684489]\n",
            " ...\n",
            " [0.22117551 0.93462406 0.70476997 ... 0.23992461 0.07210619 0.78674361]\n",
            " [0.35534044 0.04360233 0.90675871 ... 0.43645689 0.55632462 0.1886731 ]\n",
            " [0.5715067  0.13110943 0.24379022 ... 0.14774356 0.56178067 0.56547008]]\n",
            "--------------------------- W.dot(C) ---------------------------\n",
            "[[0.56444741 0.42848865 0.62786834 ... 0.60273339 0.43611378 0.57957116]\n",
            " [0.58404887 0.63198724 0.53067631 ... 0.52631003 0.55819799 0.56178281]\n",
            " [0.53752429 0.71628453 0.62165282 ... 0.62016722 0.51863943 0.57459495]\n",
            " ...\n",
            " [0.73982751 0.51496622 0.5779479  ... 0.66152974 0.53113825 0.59351653]\n",
            " [0.55508415 0.55472693 0.56616312 ... 0.63427277 0.53128287 0.57412792]\n",
            " [0.5374489  0.50900479 0.51815749 ... 0.54276052 0.52965837 0.48838895]]\n",
            "------------------------- (X - np.dot(W,C)) -------------------------\n",
            "0.2488616972557799\n",
            "---------------------------------------------------------------------------\n",
            "---------------------------------------------------------------------------\n",
            "For rank= 100 and l= 2.0 and epsilon= 0.001 128 iterations made\n",
            "---------------------------------- X ----------------------------------\n",
            "[[0.84807373 0.291988   0.94104619 ... 0.27291572 0.02144324 0.69294392]\n",
            " [0.85217806 0.1110223  0.04774883 ... 0.65896813 0.10323989 0.18166938]\n",
            " [0.72737175 0.91722611 0.9275236  ... 0.38899888 0.09456695 0.56684489]\n",
            " ...\n",
            " [0.22117551 0.93462406 0.70476997 ... 0.23992461 0.07210619 0.78674361]\n",
            " [0.35534044 0.04360233 0.90675871 ... 0.43645689 0.55632462 0.1886731 ]\n",
            " [0.5715067  0.13110943 0.24379022 ... 0.14774356 0.56178067 0.56547008]]\n",
            "--------------------------- W.dot(C) ---------------------------\n",
            "[[0.64068622 0.62331336 0.65536435 ... 0.4102119  0.60403331 0.62677242]\n",
            " [0.65971968 0.56890602 0.47642467 ... 0.6682347  0.41857347 0.5014544 ]\n",
            " [0.82655316 0.66047952 0.68837324 ... 0.65732088 0.49121875 0.62473516]\n",
            " ...\n",
            " [0.5809141  0.71575405 0.53126664 ... 0.67210707 0.38410405 0.66760243]\n",
            " [0.64130505 0.45451893 0.65776333 ... 0.52210975 0.40289213 0.6984984 ]\n",
            " [0.49105916 0.63899069 0.51951087 ... 0.6014885  0.63999345 0.35126059]]\n",
            "------------------------- (X - np.dot(W,C)) -------------------------\n",
            "0.2269383986652955\n",
            "---------------------------------------------------------------------------\n",
            "---------------------------------------------------------------------------\n",
            "For rank= 1 and l= 5.0 and epsilon= 0.001 34 iterations made\n",
            "---------------------------------- X ----------------------------------\n",
            "[[0.84807373 0.291988   0.94104619 ... 0.27291572 0.02144324 0.69294392]\n",
            " [0.85217806 0.1110223  0.04774883 ... 0.65896813 0.10323989 0.18166938]\n",
            " [0.72737175 0.91722611 0.9275236  ... 0.38899888 0.09456695 0.56684489]\n",
            " ...\n",
            " [0.22117551 0.93462406 0.70476997 ... 0.23992461 0.07210619 0.78674361]\n",
            " [0.35534044 0.04360233 0.90675871 ... 0.43645689 0.55632462 0.1886731 ]\n",
            " [0.5715067  0.13110943 0.24379022 ... 0.14774356 0.56178067 0.56547008]]\n",
            "--------------------------- W.dot(C) ---------------------------\n",
            "[[0.46782616 0.47840362 0.48222538 ... 0.47344433 0.44930214 0.47547764]\n",
            " [0.48390836 0.49484943 0.49880257 ... 0.48971966 0.46474755 0.49182287]\n",
            " [0.49873574 0.51001206 0.51408633 ... 0.50472511 0.47898783 0.50689276]\n",
            " ...\n",
            " [0.48314117 0.4940649  0.49801178 ... 0.48894326 0.46401074 0.49104313]\n",
            " [0.4746342  0.48536559 0.48924297 ... 0.48033413 0.45584061 0.48239703]\n",
            " [0.47047059 0.48110784 0.48495121 ... 0.47612052 0.45184186 0.47816532]]\n",
            "------------------------- (X - np.dot(W,C)) -------------------------\n",
            "0.24972620155514408\n",
            "---------------------------------------------------------------------------\n",
            "---------------------------------------------------------------------------\n",
            "For rank= 10 and l= 5.0 and epsilon= 0.001 60 iterations made\n",
            "---------------------------------- X ----------------------------------\n",
            "[[0.84807373 0.291988   0.94104619 ... 0.27291572 0.02144324 0.69294392]\n",
            " [0.85217806 0.1110223  0.04774883 ... 0.65896813 0.10323989 0.18166938]\n",
            " [0.72737175 0.91722611 0.9275236  ... 0.38899888 0.09456695 0.56684489]\n",
            " ...\n",
            " [0.22117551 0.93462406 0.70476997 ... 0.23992461 0.07210619 0.78674361]\n",
            " [0.35534044 0.04360233 0.90675871 ... 0.43645689 0.55632462 0.1886731 ]\n",
            " [0.5715067  0.13110943 0.24379022 ... 0.14774356 0.56178067 0.56547008]]\n",
            "--------------------------- W.dot(C) ---------------------------\n",
            "[[0.61595539 0.57539499 0.57098438 ... 0.58506148 0.58858239 0.57099813]\n",
            " [0.60449654 0.62041428 0.60067404 ... 0.60165641 0.57841122 0.6197394 ]\n",
            " [0.57559103 0.64867878 0.64006126 ... 0.63226271 0.61782626 0.61021301]\n",
            " ...\n",
            " [0.59605292 0.60001426 0.59521888 ... 0.5893365  0.56034304 0.63082958]\n",
            " [0.55753836 0.58075986 0.59064714 ... 0.57395194 0.52323427 0.57852461]\n",
            " [0.59853872 0.59476605 0.60853681 ... 0.56248855 0.56231284 0.60692139]]\n",
            "------------------------- (X - np.dot(W,C)) -------------------------\n",
            "0.25623990974121336\n",
            "---------------------------------------------------------------------------\n",
            "---------------------------------------------------------------------------\n",
            "For rank= 100 and l= 5.0 and epsilon= 0.001 68 iterations made\n",
            "---------------------------------- X ----------------------------------\n",
            "[[0.84807373 0.291988   0.94104619 ... 0.27291572 0.02144324 0.69294392]\n",
            " [0.85217806 0.1110223  0.04774883 ... 0.65896813 0.10323989 0.18166938]\n",
            " [0.72737175 0.91722611 0.9275236  ... 0.38899888 0.09456695 0.56684489]\n",
            " ...\n",
            " [0.22117551 0.93462406 0.70476997 ... 0.23992461 0.07210619 0.78674361]\n",
            " [0.35534044 0.04360233 0.90675871 ... 0.43645689 0.55632462 0.1886731 ]\n",
            " [0.5715067  0.13110943 0.24379022 ... 0.14774356 0.56178067 0.56547008]]\n",
            "--------------------------- W.dot(C) ---------------------------\n",
            "[[0.57547136 0.58843627 0.60673091 ... 0.57087982 0.53579872 0.60326205]\n",
            " [0.64209453 0.60538954 0.61848529 ... 0.62454511 0.57035093 0.59654885]\n",
            " [0.64802309 0.64086758 0.64759821 ... 0.67593788 0.58204263 0.63949952]\n",
            " ...\n",
            " [0.62331953 0.6147598  0.60597464 ... 0.61570247 0.56357021 0.61846183]\n",
            " [0.58329019 0.57896098 0.62908853 ... 0.62150717 0.55630051 0.60510815]\n",
            " [0.58174387 0.60140284 0.59266836 ... 0.59719296 0.56592066 0.56543531]]\n",
            "------------------------- (X - np.dot(W,C)) -------------------------\n",
            "0.25408980514526924\n",
            "---------------------------------------------------------------------------\n"
          ],
          "name": "stdout"
        }
      ]
    },
    {
      "cell_type": "markdown",
      "metadata": {
        "id": "uR2Y7Zt9s1St",
        "colab_type": "text"
      },
      "source": [
        "Παρατηρούμε ότι το βέλτιστο αποτέλεσμα το έχουμε για $k$= 100 και $λ$= 2.0 με 128 επαναλήψεις"
      ]
    },
    {
      "cell_type": "markdown",
      "metadata": {
        "id": "mbnnIa-qZsh6",
        "colab_type": "text"
      },
      "source": [
        "$λ=2.0$, $λ=5.0$ για $ε=0.01$"
      ]
    },
    {
      "cell_type": "code",
      "metadata": {
        "id": "sK3QTeOeZ31y",
        "colab_type": "code",
        "colab": {
          "base_uri": "https://localhost:8080/",
          "height": 1000
        },
        "outputId": "543a80c9-ada5-4c70-d045-95ba7a22558d"
      },
      "source": [
        "RunReg(X, 1, 2.0, 0.01)\n",
        "RunReg(X, 10, 2.0, 0.01)\n",
        "RunReg(X, 100, 2.0, 0.01)\n",
        "\n",
        "RunReg(X, 1, 5.0, 0.01)\n",
        "RunReg(X, 10, 5.0, 0.01)\n",
        "RunReg(X, 100, 5.0, 0.01)"
      ],
      "execution_count": 18,
      "outputs": [
        {
          "output_type": "stream",
          "text": [
            "---------------------------------------------------------------------------\n",
            "For rank= 1 and l= 2.0 and epsilon= 0.01 2 iterations made\n",
            "---------------------------------- X ----------------------------------\n",
            "[[0.84807373 0.291988   0.94104619 ... 0.27291572 0.02144324 0.69294392]\n",
            " [0.85217806 0.1110223  0.04774883 ... 0.65896813 0.10323989 0.18166938]\n",
            " [0.72737175 0.91722611 0.9275236  ... 0.38899888 0.09456695 0.56684489]\n",
            " ...\n",
            " [0.22117551 0.93462406 0.70476997 ... 0.23992461 0.07210619 0.78674361]\n",
            " [0.35534044 0.04360233 0.90675871 ... 0.43645689 0.55632462 0.1886731 ]\n",
            " [0.5715067  0.13110943 0.24379022 ... 0.14774356 0.56178067 0.56547008]]\n",
            "--------------------------- W.dot(C) ---------------------------\n",
            "[[0.4377442  0.44767483 0.4513977  ... 0.44311457 0.42046995 0.44479857]\n",
            " [0.45320644 0.46348784 0.46734222 ... 0.4587665  0.43532202 0.46050999]\n",
            " [0.46721182 0.47781094 0.48178443 ... 0.4729437  0.44877471 0.47474106]\n",
            " ...\n",
            " [0.45260731 0.46287512 0.4667244  ... 0.45816002 0.43474653 0.45990121]\n",
            " [0.44406424 0.45413824 0.45791487 ... 0.44951214 0.42654059 0.45122046]\n",
            " [0.44017587 0.45016165 0.45390521 ... 0.44557606 0.42280565 0.44726942]]\n",
            "------------------------- (X - np.dot(W,C)) -------------------------\n",
            "0.2518162765168793\n",
            "---------------------------------------------------------------------------\n",
            "---------------------------------------------------------------------------\n",
            "For rank= 10 and l= 2.0 and epsilon= 0.01 134 iterations made\n",
            "---------------------------------- X ----------------------------------\n",
            "[[0.84807373 0.291988   0.94104619 ... 0.27291572 0.02144324 0.69294392]\n",
            " [0.85217806 0.1110223  0.04774883 ... 0.65896813 0.10323989 0.18166938]\n",
            " [0.72737175 0.91722611 0.9275236  ... 0.38899888 0.09456695 0.56684489]\n",
            " ...\n",
            " [0.22117551 0.93462406 0.70476997 ... 0.23992461 0.07210619 0.78674361]\n",
            " [0.35534044 0.04360233 0.90675871 ... 0.43645689 0.55632462 0.1886731 ]\n",
            " [0.5715067  0.13110943 0.24379022 ... 0.14774356 0.56178067 0.56547008]]\n",
            "--------------------------- W.dot(C) ---------------------------\n",
            "[[0.57514363 0.5744758  0.6440988  ... 0.60257277 0.56233451 0.65118256]\n",
            " [0.7594626  0.60077841 0.5999136  ... 0.65345635 0.60922469 0.5759145 ]\n",
            " [0.67713656 0.75331349 0.61640606 ... 0.59405132 0.59675119 0.50401664]\n",
            " ...\n",
            " [0.61176932 0.62446184 0.58210224 ... 0.64462364 0.58770306 0.64065367]\n",
            " [0.64074855 0.66981596 0.69426921 ... 0.57669305 0.57171927 0.59467004]\n",
            " [0.64920269 0.60070989 0.57381054 ... 0.60661499 0.54716597 0.60452456]]\n",
            "------------------------- (X - np.dot(W,C)) -------------------------\n",
            "0.2579954570635136\n",
            "---------------------------------------------------------------------------\n",
            "---------------------------------------------------------------------------\n",
            "For rank= 100 and l= 2.0 and epsilon= 0.01 120 iterations made\n",
            "---------------------------------- X ----------------------------------\n",
            "[[0.84807373 0.291988   0.94104619 ... 0.27291572 0.02144324 0.69294392]\n",
            " [0.85217806 0.1110223  0.04774883 ... 0.65896813 0.10323989 0.18166938]\n",
            " [0.72737175 0.91722611 0.9275236  ... 0.38899888 0.09456695 0.56684489]\n",
            " ...\n",
            " [0.22117551 0.93462406 0.70476997 ... 0.23992461 0.07210619 0.78674361]\n",
            " [0.35534044 0.04360233 0.90675871 ... 0.43645689 0.55632462 0.1886731 ]\n",
            " [0.5715067  0.13110943 0.24379022 ... 0.14774356 0.56178067 0.56547008]]\n",
            "--------------------------- W.dot(C) ---------------------------\n",
            "[[0.61724284 0.53313782 0.83122545 ... 0.7423406  0.50464699 0.45797646]\n",
            " [0.69984144 0.52171959 0.53467311 ... 0.71249111 0.6935599  0.60792292]\n",
            " [0.69193478 0.78128696 0.69834564 ... 0.65150612 0.52270506 0.60737946]\n",
            " ...\n",
            " [0.48478327 0.75692492 0.77620593 ... 0.56786884 0.51213838 0.56786566]\n",
            " [0.65644993 0.59455958 0.64225341 ... 0.54805125 0.71179506 0.58860764]\n",
            " [0.62598629 0.68727684 0.56337506 ... 0.53167158 0.53468035 0.79076824]]\n",
            "------------------------- (X - np.dot(W,C)) -------------------------\n",
            "0.23644595892994524\n",
            "---------------------------------------------------------------------------\n",
            "---------------------------------------------------------------------------\n",
            "For rank= 1 and l= 5.0 and epsilon= 0.01 2 iterations made\n",
            "---------------------------------- X ----------------------------------\n",
            "[[0.84807373 0.291988   0.94104619 ... 0.27291572 0.02144324 0.69294392]\n",
            " [0.85217806 0.1110223  0.04774883 ... 0.65896813 0.10323989 0.18166938]\n",
            " [0.72737175 0.91722611 0.9275236  ... 0.38899888 0.09456695 0.56684489]\n",
            " ...\n",
            " [0.22117551 0.93462406 0.70476997 ... 0.23992461 0.07210619 0.78674361]\n",
            " [0.35534044 0.04360233 0.90675871 ... 0.43645689 0.55632462 0.1886731 ]\n",
            " [0.5715067  0.13110943 0.24379022 ... 0.14774356 0.56178067 0.56547008]]\n",
            "--------------------------- W.dot(C) ---------------------------\n",
            "[[0.44165018 0.45156574 0.4550073  ... 0.44691765 0.42418666 0.44880621]\n",
            " [0.45683899 0.46709557 0.47065548 ... 0.46228762 0.43877489 0.46424113]\n",
            " [0.47099711 0.48157155 0.48524179 ... 0.4766146  0.45237318 0.47862865]\n",
            " ...\n",
            " [0.4557695  0.46600206 0.46955364 ... 0.46120537 0.43774769 0.4631543 ]\n",
            " [0.44790367 0.45795964 0.46144992 ... 0.45324573 0.43019288 0.45516102]\n",
            " [0.44371016 0.45367197 0.45712958 ... 0.4490022  0.42616519 0.45089957]]\n",
            "------------------------- (X - np.dot(W,C)) -------------------------\n",
            "0.25148157403890337\n",
            "---------------------------------------------------------------------------\n",
            "---------------------------------------------------------------------------\n",
            "For rank= 10 and l= 5.0 and epsilon= 0.01 52 iterations made\n",
            "---------------------------------- X ----------------------------------\n",
            "[[0.84807373 0.291988   0.94104619 ... 0.27291572 0.02144324 0.69294392]\n",
            " [0.85217806 0.1110223  0.04774883 ... 0.65896813 0.10323989 0.18166938]\n",
            " [0.72737175 0.91722611 0.9275236  ... 0.38899888 0.09456695 0.56684489]\n",
            " ...\n",
            " [0.22117551 0.93462406 0.70476997 ... 0.23992461 0.07210619 0.78674361]\n",
            " [0.35534044 0.04360233 0.90675871 ... 0.43645689 0.55632462 0.1886731 ]\n",
            " [0.5715067  0.13110943 0.24379022 ... 0.14774356 0.56178067 0.56547008]]\n",
            "--------------------------- W.dot(C) ---------------------------\n",
            "[[0.58438443 0.61736662 0.65972216 ... 0.59229007 0.56639398 0.62778135]\n",
            " [0.64377666 0.65683472 0.66139526 ... 0.64055374 0.61792041 0.63880951]\n",
            " [0.68117772 0.70582779 0.67631439 ... 0.6641901  0.63442598 0.66681397]\n",
            " ...\n",
            " [0.63570426 0.64644359 0.68323384 ... 0.6061425  0.65858093 0.64054415]\n",
            " [0.64897186 0.6534245  0.63781969 ... 0.61446554 0.58994353 0.61760364]\n",
            " [0.61823901 0.67937937 0.64842728 ... 0.6313504  0.61720337 0.60641013]]\n",
            "------------------------- (X - np.dot(W,C)) -------------------------\n",
            "0.263995394564771\n",
            "---------------------------------------------------------------------------\n",
            "---------------------------------------------------------------------------\n",
            "For rank= 100 and l= 5.0 and epsilon= 0.01 62 iterations made\n",
            "---------------------------------- X ----------------------------------\n",
            "[[0.84807373 0.291988   0.94104619 ... 0.27291572 0.02144324 0.69294392]\n",
            " [0.85217806 0.1110223  0.04774883 ... 0.65896813 0.10323989 0.18166938]\n",
            " [0.72737175 0.91722611 0.9275236  ... 0.38899888 0.09456695 0.56684489]\n",
            " ...\n",
            " [0.22117551 0.93462406 0.70476997 ... 0.23992461 0.07210619 0.78674361]\n",
            " [0.35534044 0.04360233 0.90675871 ... 0.43645689 0.55632462 0.1886731 ]\n",
            " [0.5715067  0.13110943 0.24379022 ... 0.14774356 0.56178067 0.56547008]]\n",
            "--------------------------- W.dot(C) ---------------------------\n",
            "[[0.64227548 0.63234508 0.65034685 ... 0.62142123 0.59324403 0.62436428]\n",
            " [0.64935453 0.63591989 0.62764429 ... 0.6464515  0.60056704 0.6166545 ]\n",
            " [0.68105508 0.65839005 0.67760833 ... 0.68321535 0.59786242 0.65321096]\n",
            " ...\n",
            " [0.62277292 0.67139377 0.65784924 ... 0.63631341 0.5925778  0.63290376]\n",
            " [0.58828275 0.63176847 0.63986491 ... 0.64788143 0.58969176 0.62904192]\n",
            " [0.6218844  0.64139914 0.64604622 ... 0.60456081 0.58828895 0.62394095]]\n",
            "------------------------- (X - np.dot(W,C)) -------------------------\n",
            "0.26186493687434814\n",
            "---------------------------------------------------------------------------\n"
          ],
          "name": "stdout"
        }
      ]
    },
    {
      "cell_type": "markdown",
      "metadata": {
        "id": "LXS1kQWytgtS",
        "colab_type": "text"
      },
      "source": [
        "Παρατηρούμε ότι το βέλτιστο αποτέλεσμα το έχουμε για $k$= 100 και $λ$= 2.0 με 120 επαναλήψεις"
      ]
    },
    {
      "cell_type": "markdown",
      "metadata": {
        "id": "Q0J5CwwvaHUZ",
        "colab_type": "text"
      },
      "source": [
        "$λ=2.0$, $λ=5.0$ για $ε=0.1$"
      ]
    },
    {
      "cell_type": "code",
      "metadata": {
        "id": "W0iT64psaJDJ",
        "colab_type": "code",
        "colab": {
          "base_uri": "https://localhost:8080/",
          "height": 1000
        },
        "outputId": "2dadb47c-602a-4770-f2f3-c6b216d774d3"
      },
      "source": [
        "RunReg(X, 1, 2.0, 0.1)\n",
        "RunReg(X, 10, 2.0, 0.1)\n",
        "RunReg(X, 100, 2.0, 0.1)\n",
        "\n",
        "RunReg(X, 1, 5.0, 0.1)\n",
        "RunReg(X, 10, 5.0, 0.1)\n",
        "RunReg(X, 100, 5.0, 0.1)"
      ],
      "execution_count": 19,
      "outputs": [
        {
          "output_type": "stream",
          "text": [
            "---------------------------------------------------------------------------\n",
            "For rank= 1 and l= 2.0 and epsilon= 0.1 2 iterations made\n",
            "---------------------------------- X ----------------------------------\n",
            "[[0.84807373 0.291988   0.94104619 ... 0.27291572 0.02144324 0.69294392]\n",
            " [0.85217806 0.1110223  0.04774883 ... 0.65896813 0.10323989 0.18166938]\n",
            " [0.72737175 0.91722611 0.9275236  ... 0.38899888 0.09456695 0.56684489]\n",
            " ...\n",
            " [0.22117551 0.93462406 0.70476997 ... 0.23992461 0.07210619 0.78674361]\n",
            " [0.35534044 0.04360233 0.90675871 ... 0.43645689 0.55632462 0.1886731 ]\n",
            " [0.5715067  0.13110943 0.24379022 ... 0.14774356 0.56178067 0.56547008]]\n",
            "--------------------------- W.dot(C) ---------------------------\n",
            "[[0.45165938 0.46189937 0.4655958  ... 0.45703022 0.43378972 0.45916607]\n",
            " [0.4672319  0.47782496 0.48164883 ... 0.47278792 0.44874612 0.47499742]\n",
            " [0.48120543 0.4921153  0.49605353 ... 0.48692762 0.4621668  0.48920319]\n",
            " ...\n",
            " [0.46635951 0.47693278 0.48074952 ... 0.47190515 0.44790824 0.47411052]\n",
            " [0.45821071 0.46859924 0.47234928 ... 0.46365945 0.44008185 0.46582628]\n",
            " [0.45407354 0.46436827 0.46808445 ... 0.45947309 0.43610836 0.46162035]]\n",
            "------------------------- (X - np.dot(W,C)) -------------------------\n",
            "0.25062971426869846\n",
            "---------------------------------------------------------------------------\n",
            "---------------------------------------------------------------------------\n",
            "For rank= 10 and l= 2.0 and epsilon= 0.1 84 iterations made\n",
            "---------------------------------- X ----------------------------------\n",
            "[[0.84807373 0.291988   0.94104619 ... 0.27291572 0.02144324 0.69294392]\n",
            " [0.85217806 0.1110223  0.04774883 ... 0.65896813 0.10323989 0.18166938]\n",
            " [0.72737175 0.91722611 0.9275236  ... 0.38899888 0.09456695 0.56684489]\n",
            " ...\n",
            " [0.22117551 0.93462406 0.70476997 ... 0.23992461 0.07210619 0.78674361]\n",
            " [0.35534044 0.04360233 0.90675871 ... 0.43645689 0.55632462 0.1886731 ]\n",
            " [0.5715067  0.13110943 0.24379022 ... 0.14774356 0.56178067 0.56547008]]\n",
            "--------------------------- W.dot(C) ---------------------------\n",
            "[[0.76349957 0.74161302 0.7515962  ... 0.77417053 0.69265672 0.84050733]\n",
            " [0.80215161 0.72664233 0.79597771 ... 0.83384626 0.74502778 0.83699364]\n",
            " [0.83063607 0.88711291 0.86310989 ... 0.77648086 0.7710228  0.77454687]\n",
            " ...\n",
            " [0.82234938 0.82364228 0.760549   ... 0.76910165 0.71322289 0.79071651]\n",
            " [0.74353285 0.7196454  0.79485058 ... 0.88531869 0.74782908 0.82867274]\n",
            " [0.72691237 0.68500488 0.72178752 ... 0.8174157  0.78451559 0.73352158]]\n",
            "------------------------- (X - np.dot(W,C)) -------------------------\n",
            "0.32245344923720604\n",
            "---------------------------------------------------------------------------\n",
            "---------------------------------------------------------------------------\n",
            "For rank= 100 and l= 2.0 and epsilon= 0.1 94 iterations made\n",
            "---------------------------------- X ----------------------------------\n",
            "[[0.84807373 0.291988   0.94104619 ... 0.27291572 0.02144324 0.69294392]\n",
            " [0.85217806 0.1110223  0.04774883 ... 0.65896813 0.10323989 0.18166938]\n",
            " [0.72737175 0.91722611 0.9275236  ... 0.38899888 0.09456695 0.56684489]\n",
            " ...\n",
            " [0.22117551 0.93462406 0.70476997 ... 0.23992461 0.07210619 0.78674361]\n",
            " [0.35534044 0.04360233 0.90675871 ... 0.43645689 0.55632462 0.1886731 ]\n",
            " [0.5715067  0.13110943 0.24379022 ... 0.14774356 0.56178067 0.56547008]]\n",
            "--------------------------- W.dot(C) ---------------------------\n",
            "[[0.79530787 0.65238681 0.8929441  ... 0.68762031 0.74324265 0.85131416]\n",
            " [0.72283276 0.71646535 0.8485264  ... 0.85015399 0.7324995  0.65256678]\n",
            " [1.06347654 0.72357443 0.87855542 ... 0.82588171 0.75775171 0.76979575]\n",
            " ...\n",
            " [0.76773906 0.76253709 0.8889529  ... 0.66026909 0.63936239 0.78518723]\n",
            " [0.7943548  0.77959645 0.85238476 ... 0.93714318 0.84720541 0.78688818]\n",
            " [0.78173367 0.70697333 0.68318562 ... 0.67096084 0.75787428 0.94938333]]\n",
            "------------------------- (X - np.dot(W,C)) -------------------------\n",
            "0.3170233330227377\n",
            "---------------------------------------------------------------------------\n",
            "---------------------------------------------------------------------------\n",
            "For rank= 1 and l= 5.0 and epsilon= 0.1 2 iterations made\n",
            "---------------------------------- X ----------------------------------\n",
            "[[0.84807373 0.291988   0.94104619 ... 0.27291572 0.02144324 0.69294392]\n",
            " [0.85217806 0.1110223  0.04774883 ... 0.65896813 0.10323989 0.18166938]\n",
            " [0.72737175 0.91722611 0.9275236  ... 0.38899888 0.09456695 0.56684489]\n",
            " ...\n",
            " [0.22117551 0.93462406 0.70476997 ... 0.23992461 0.07210619 0.78674361]\n",
            " [0.35534044 0.04360233 0.90675871 ... 0.43645689 0.55632462 0.1886731 ]\n",
            " [0.5715067  0.13110943 0.24379022 ... 0.14774356 0.56178067 0.56547008]]\n",
            "--------------------------- W.dot(C) ---------------------------\n",
            "[[0.43281205 0.44267368 0.446235   ... 0.43833814 0.41561556 0.44008453]\n",
            " [0.44755902 0.45775667 0.46143933 ... 0.4532734  0.42977661 0.45507929]\n",
            " [0.46156167 0.47207837 0.47587625 ... 0.46745484 0.44322291 0.46931722]\n",
            " ...\n",
            " [0.44687301 0.45705502 0.46073204 ... 0.45257863 0.42911785 0.45438175]\n",
            " [0.43902866 0.44903194 0.45264442 ... 0.44463413 0.42158518 0.4464056 ]\n",
            " [0.43563099 0.44555685 0.44914137 ... 0.44119307 0.4183225  0.44295083]]\n",
            "------------------------- (X - np.dot(W,C)) -------------------------\n",
            "0.25235169193412976\n",
            "---------------------------------------------------------------------------\n",
            "---------------------------------------------------------------------------\n",
            "For rank= 10 and l= 5.0 and epsilon= 0.1 34 iterations made\n",
            "---------------------------------- X ----------------------------------\n",
            "[[0.84807373 0.291988   0.94104619 ... 0.27291572 0.02144324 0.69294392]\n",
            " [0.85217806 0.1110223  0.04774883 ... 0.65896813 0.10323989 0.18166938]\n",
            " [0.72737175 0.91722611 0.9275236  ... 0.38899888 0.09456695 0.56684489]\n",
            " ...\n",
            " [0.22117551 0.93462406 0.70476997 ... 0.23992461 0.07210619 0.78674361]\n",
            " [0.35534044 0.04360233 0.90675871 ... 0.43645689 0.55632462 0.1886731 ]\n",
            " [0.5715067  0.13110943 0.24379022 ... 0.14774356 0.56178067 0.56547008]]\n",
            "--------------------------- W.dot(C) ---------------------------\n",
            "[[0.74496984 0.75497564 0.82300633 ... 0.77025262 0.73094037 0.74290806]\n",
            " [0.77967289 0.79607118 0.83285966 ... 0.78179203 0.75409274 0.7733666 ]\n",
            " [0.81386206 0.80236521 0.80077363 ... 0.80562349 0.73777456 0.76893443]\n",
            " ...\n",
            " [0.75383329 0.81072224 0.8306575  ... 0.77987619 0.7435369  0.76360608]\n",
            " [0.75199348 0.72962934 0.80992316 ... 0.74841397 0.73674389 0.72250636]\n",
            " [0.75583493 0.7485134  0.79622731 ... 0.76100408 0.72419215 0.76627184]]\n",
            "------------------------- (X - np.dot(W,C)) -------------------------\n",
            "0.32040546215128046\n",
            "---------------------------------------------------------------------------\n",
            "---------------------------------------------------------------------------\n",
            "For rank= 100 and l= 5.0 and epsilon= 0.1 44 iterations made\n",
            "---------------------------------- X ----------------------------------\n",
            "[[0.84807373 0.291988   0.94104619 ... 0.27291572 0.02144324 0.69294392]\n",
            " [0.85217806 0.1110223  0.04774883 ... 0.65896813 0.10323989 0.18166938]\n",
            " [0.72737175 0.91722611 0.9275236  ... 0.38899888 0.09456695 0.56684489]\n",
            " ...\n",
            " [0.22117551 0.93462406 0.70476997 ... 0.23992461 0.07210619 0.78674361]\n",
            " [0.35534044 0.04360233 0.90675871 ... 0.43645689 0.55632462 0.1886731 ]\n",
            " [0.5715067  0.13110943 0.24379022 ... 0.14774356 0.56178067 0.56547008]]\n",
            "--------------------------- W.dot(C) ---------------------------\n",
            "[[0.75568804 0.77454585 0.79796264 ... 0.76577869 0.71566498 0.77058084]\n",
            " [0.79266458 0.79960266 0.80591519 ... 0.7808888  0.74298807 0.79778239]\n",
            " [0.81104235 0.82188793 0.85534306 ... 0.81009334 0.75238764 0.82569356]\n",
            " ...\n",
            " [0.78342873 0.79734486 0.80305466 ... 0.7806608  0.74288032 0.81162001]\n",
            " [0.77904001 0.78351402 0.78994847 ... 0.77457068 0.72938542 0.76830691]\n",
            " [0.76044817 0.77770333 0.80094552 ... 0.77468986 0.72959722 0.77275099]]\n",
            "------------------------- (X - np.dot(W,C)) -------------------------\n",
            "0.32438263554841834\n",
            "---------------------------------------------------------------------------\n"
          ],
          "name": "stdout"
        }
      ]
    },
    {
      "cell_type": "markdown",
      "metadata": {
        "id": "3LwveLiauoda",
        "colab_type": "text"
      },
      "source": [
        "Παρατηρούμε ότι το βέλτιστο αποτέλεσμα το έχουμε για $k$= 1 και $λ$= 2.0 με 2 επαναλήψεις. Ωστόσο για τις συγκεκριμένες παραμέτρους τα αποτελέσματα είναι χειρότερα σε σχέση με πριν."
      ]
    },
    {
      "cell_type": "markdown",
      "metadata": {
        "id": "yjg1Y0EDaUk4",
        "colab_type": "text"
      },
      "source": [
        "$λ=10.0$, $λ=15.0$ για $ε=0.001$"
      ]
    },
    {
      "cell_type": "code",
      "metadata": {
        "id": "dGmJHdRWaaPQ",
        "colab_type": "code",
        "colab": {
          "base_uri": "https://localhost:8080/",
          "height": 1000
        },
        "outputId": "7f869b51-3a92-4db1-925b-034a83d8c37e"
      },
      "source": [
        "RunReg(X, 1, 10.0, 0.001)\n",
        "RunReg(X, 10, 10.0, 0.001)\n",
        "RunReg(X, 100, 10.0, 0.001)\n",
        "\n",
        "RunReg(X, 1, 15.0, 0.001)\n",
        "RunReg(X, 10, 15.0, 0.001)\n",
        "RunReg(X, 100, 15.0, 0.001)"
      ],
      "execution_count": 20,
      "outputs": [
        {
          "output_type": "stream",
          "text": [
            "---------------------------------------------------------------------------\n",
            "For rank= 1 and l= 10.0 and epsilon= 0.001 32 iterations made\n",
            "---------------------------------- X ----------------------------------\n",
            "[[0.84807373 0.291988   0.94104619 ... 0.27291572 0.02144324 0.69294392]\n",
            " [0.85217806 0.1110223  0.04774883 ... 0.65896813 0.10323989 0.18166938]\n",
            " [0.72737175 0.91722611 0.9275236  ... 0.38899888 0.09456695 0.56684489]\n",
            " ...\n",
            " [0.22117551 0.93462406 0.70476997 ... 0.23992461 0.07210619 0.78674361]\n",
            " [0.35534044 0.04360233 0.90675871 ... 0.43645689 0.55632462 0.1886731 ]\n",
            " [0.5715067  0.13110943 0.24379022 ... 0.14774356 0.56178067 0.56547008]]\n",
            "--------------------------- W.dot(C) ---------------------------\n",
            "[[0.46697202 0.47753017 0.48134496 ... 0.47257994 0.44848182 0.47460953]\n",
            " [0.48302486 0.49394596 0.49789188 ... 0.48882555 0.46389903 0.49092492]\n",
            " [0.49782517 0.50908091 0.51314774 ... 0.50380361 0.47811331 0.5059673 ]\n",
            " ...\n",
            " [0.48225908 0.49316286 0.49710253 ... 0.48805057 0.46316357 0.49014661]\n",
            " [0.47376764 0.48447943 0.48834973 ... 0.47945716 0.45500836 0.48151629]\n",
            " [0.46961163 0.48022946 0.48406581 ... 0.47525124 0.45101691 0.47729231]]\n",
            "------------------------- (X - np.dot(W,C)) -------------------------\n",
            "0.24975960377094902\n",
            "---------------------------------------------------------------------------\n",
            "---------------------------------------------------------------------------\n",
            "For rank= 10 and l= 10.0 and epsilon= 0.001 76 iterations made\n",
            "---------------------------------- X ----------------------------------\n",
            "[[0.84807373 0.291988   0.94104619 ... 0.27291572 0.02144324 0.69294392]\n",
            " [0.85217806 0.1110223  0.04774883 ... 0.65896813 0.10323989 0.18166938]\n",
            " [0.72737175 0.91722611 0.9275236  ... 0.38899888 0.09456695 0.56684489]\n",
            " ...\n",
            " [0.22117551 0.93462406 0.70476997 ... 0.23992461 0.07210619 0.78674361]\n",
            " [0.35534044 0.04360233 0.90675871 ... 0.43645689 0.55632462 0.1886731 ]\n",
            " [0.5715067  0.13110943 0.24379022 ... 0.14774356 0.56178067 0.56547008]]\n",
            "--------------------------- W.dot(C) ---------------------------\n",
            "[[0.48518758 0.47570123 0.49436898 ... 0.47222619 0.46311352 0.48151373]\n",
            " [0.48036399 0.51012572 0.5070333  ... 0.5087659  0.46537487 0.50878275]\n",
            " [0.51029467 0.52404025 0.52220503 ... 0.50582565 0.48707302 0.51019507]\n",
            " ...\n",
            " [0.51359974 0.50293874 0.51360602 ... 0.4750166  0.47583616 0.50260377]\n",
            " [0.47004314 0.4998174  0.48923889 ... 0.48855326 0.49299927 0.49007158]\n",
            " [0.48198356 0.48549565 0.49901768 ... 0.46542666 0.47137582 0.48988367]]\n",
            "------------------------- (X - np.dot(W,C)) -------------------------\n",
            "0.24806620273844154\n",
            "---------------------------------------------------------------------------\n",
            "---------------------------------------------------------------------------\n",
            "For rank= 100 and l= 10.0 and epsilon= 0.001 33 iterations made\n",
            "---------------------------------- X ----------------------------------\n",
            "[[0.84807373 0.291988   0.94104619 ... 0.27291572 0.02144324 0.69294392]\n",
            " [0.85217806 0.1110223  0.04774883 ... 0.65896813 0.10323989 0.18166938]\n",
            " [0.72737175 0.91722611 0.9275236  ... 0.38899888 0.09456695 0.56684489]\n",
            " ...\n",
            " [0.22117551 0.93462406 0.70476997 ... 0.23992461 0.07210619 0.78674361]\n",
            " [0.35534044 0.04360233 0.90675871 ... 0.43645689 0.55632462 0.1886731 ]\n",
            " [0.5715067  0.13110943 0.24379022 ... 0.14774356 0.56178067 0.56547008]]\n",
            "--------------------------- W.dot(C) ---------------------------\n",
            "[[0.38098297 0.39044406 0.39208935 ... 0.38768537 0.36359851 0.38599382]\n",
            " [0.39792728 0.40543507 0.40204727 ... 0.40329249 0.37930531 0.40168599]\n",
            " [0.40330044 0.42491289 0.42216686 ... 0.40858806 0.38574407 0.41526847]\n",
            " ...\n",
            " [0.39088714 0.4051491  0.40538595 ... 0.3950915  0.37618025 0.40144859]\n",
            " [0.38869756 0.38614844 0.40292333 ... 0.39310403 0.368717   0.39188601]\n",
            " [0.38521795 0.3842693  0.39112582 ... 0.38646716 0.36974148 0.39114697]]\n",
            "------------------------- (X - np.dot(W,C)) -------------------------\n",
            "0.2602937914169219\n",
            "---------------------------------------------------------------------------\n",
            "---------------------------------------------------------------------------\n",
            "For rank= 1 and l= 15.0 and epsilon= 0.001 20 iterations made\n",
            "---------------------------------- X ----------------------------------\n",
            "[[0.84807373 0.291988   0.94104619 ... 0.27291572 0.02144324 0.69294392]\n",
            " [0.85217806 0.1110223  0.04774883 ... 0.65896813 0.10323989 0.18166938]\n",
            " [0.72737175 0.91722611 0.9275236  ... 0.38899888 0.09456695 0.56684489]\n",
            " ...\n",
            " [0.22117551 0.93462406 0.70476997 ... 0.23992461 0.07210619 0.78674361]\n",
            " [0.35534044 0.04360233 0.90675871 ... 0.43645689 0.55632462 0.1886731 ]\n",
            " [0.5715067  0.13110943 0.24379022 ... 0.14774356 0.56178067 0.56547008]]\n",
            "--------------------------- W.dot(C) ---------------------------\n",
            "[[0.46199573 0.47244136 0.47621549 ... 0.46754388 0.44370257 0.46955184]\n",
            " [0.4778775  0.48868221 0.49258609 ... 0.48361637 0.45895548 0.48569337]\n",
            " [0.49252009 0.50365587 0.50767937 ... 0.49843481 0.47301829 0.50057545]\n",
            " ...\n",
            " [0.47711987 0.48790746 0.49180515 ... 0.48284965 0.45822786 0.48492335]\n",
            " [0.46871892 0.47931657 0.48314562 ... 0.47434781 0.45015955 0.476385  ]\n",
            " [0.4646072  0.47511188 0.47890735 ... 0.47018672 0.44621064 0.47220603]]\n",
            "------------------------- (X - np.dot(W,C)) -------------------------\n",
            "0.24998453536975787\n",
            "---------------------------------------------------------------------------\n",
            "---------------------------------------------------------------------------\n",
            "For rank= 10 and l= 15.0 and epsilon= 0.001 55 iterations made\n",
            "---------------------------------- X ----------------------------------\n",
            "[[0.84807373 0.291988   0.94104619 ... 0.27291572 0.02144324 0.69294392]\n",
            " [0.85217806 0.1110223  0.04774883 ... 0.65896813 0.10323989 0.18166938]\n",
            " [0.72737175 0.91722611 0.9275236  ... 0.38899888 0.09456695 0.56684489]\n",
            " ...\n",
            " [0.22117551 0.93462406 0.70476997 ... 0.23992461 0.07210619 0.78674361]\n",
            " [0.35534044 0.04360233 0.90675871 ... 0.43645689 0.55632462 0.1886731 ]\n",
            " [0.5715067  0.13110943 0.24379022 ... 0.14774356 0.56178067 0.56547008]]\n",
            "--------------------------- W.dot(C) ---------------------------\n",
            "[[0.46348013 0.47143009 0.47643643 ... 0.46932487 0.44300462 0.47215637]\n",
            " [0.47530672 0.49711944 0.4931064  ... 0.48393478 0.45659549 0.48738799]\n",
            " [0.4879734  0.49737167 0.50414795 ... 0.50034056 0.47498086 0.50109098]\n",
            " ...\n",
            " [0.47783902 0.47900475 0.48889646 ... 0.48122884 0.45655544 0.48427744]\n",
            " [0.47069268 0.47474346 0.48588547 ... 0.47249299 0.44893508 0.47557026]\n",
            " [0.46103967 0.47208026 0.47826162 ... 0.47148278 0.44871777 0.47014418]]\n",
            "------------------------- (X - np.dot(W,C)) -------------------------\n",
            "0.24940101264911915\n",
            "---------------------------------------------------------------------------\n",
            "---------------------------------------------------------------------------\n",
            "For rank= 100 and l= 15.0 and epsilon= 0.001 19 iterations made\n",
            "---------------------------------- X ----------------------------------\n",
            "[[0.84807373 0.291988   0.94104619 ... 0.27291572 0.02144324 0.69294392]\n",
            " [0.85217806 0.1110223  0.04774883 ... 0.65896813 0.10323989 0.18166938]\n",
            " [0.72737175 0.91722611 0.9275236  ... 0.38899888 0.09456695 0.56684489]\n",
            " ...\n",
            " [0.22117551 0.93462406 0.70476997 ... 0.23992461 0.07210619 0.78674361]\n",
            " [0.35534044 0.04360233 0.90675871 ... 0.43645689 0.55632462 0.1886731 ]\n",
            " [0.5715067  0.13110943 0.24379022 ... 0.14774356 0.56178067 0.56547008]]\n",
            "--------------------------- W.dot(C) ---------------------------\n",
            "[[0.36137534 0.37062766 0.3721564  ... 0.36595798 0.34932733 0.37027916]\n",
            " [0.37451342 0.38661534 0.38769351 ... 0.37547766 0.35917308 0.38085672]\n",
            " [0.38622045 0.39319548 0.39808562 ... 0.3901004  0.36767633 0.39238701]\n",
            " ...\n",
            " [0.37366954 0.38448947 0.3851962  ... 0.37501355 0.35652462 0.38206271]\n",
            " [0.36592069 0.37149426 0.37915516 ... 0.37193813 0.35110387 0.37128489]\n",
            " [0.36366872 0.37203913 0.37225958 ... 0.36710768 0.35080652 0.3705854 ]]\n",
            "------------------------- (X - np.dot(W,C)) -------------------------\n",
            "0.26526816884359417\n",
            "---------------------------------------------------------------------------\n"
          ],
          "name": "stdout"
        }
      ]
    },
    {
      "cell_type": "markdown",
      "metadata": {
        "id": "2_4CIXK6vuTg",
        "colab_type": "text"
      },
      "source": [
        "Παρατηρούμε ότι το βέλτιστο αποτέλεσμα το έχουμε για $k$= 10 και $λ$= 10.0 με 76 επαναλήψεις"
      ]
    },
    {
      "cell_type": "markdown",
      "metadata": {
        "id": "JVSrQrowak3g",
        "colab_type": "text"
      },
      "source": [
        "$λ=30.0$, $λ=60.0$ για $ε=0.001$"
      ]
    },
    {
      "cell_type": "code",
      "metadata": {
        "id": "ZDiZCUVwauDh",
        "colab_type": "code",
        "colab": {
          "base_uri": "https://localhost:8080/",
          "height": 1000
        },
        "outputId": "b5efb61d-e3f5-4336-ef84-66c461b383d1"
      },
      "source": [
        "RunReg(X, 1, 30.0, 0.001)\n",
        "RunReg(X, 10, 30.0, 0.001)\n",
        "RunReg(X, 100, 30.0, 0.001)\n",
        "\n",
        "RunReg(X, 1, 60.0, 0.001)\n",
        "RunReg(X, 10, 60.0, 0.001)\n",
        "RunReg(X, 100, 60.0, 0.001)"
      ],
      "execution_count": 21,
      "outputs": [
        {
          "output_type": "stream",
          "text": [
            "---------------------------------------------------------------------------\n",
            "For rank= 1 and l= 30.0 and epsilon= 0.001 13 iterations made\n",
            "---------------------------------- X ----------------------------------\n",
            "[[0.84807373 0.291988   0.94104619 ... 0.27291572 0.02144324 0.69294392]\n",
            " [0.85217806 0.1110223  0.04774883 ... 0.65896813 0.10323989 0.18166938]\n",
            " [0.72737175 0.91722611 0.9275236  ... 0.38899888 0.09456695 0.56684489]\n",
            " ...\n",
            " [0.22117551 0.93462406 0.70476997 ... 0.23992461 0.07210619 0.78674361]\n",
            " [0.35534044 0.04360233 0.90675871 ... 0.43645689 0.55632462 0.1886731 ]\n",
            " [0.5715067  0.13110943 0.24379022 ... 0.14774356 0.56178067 0.56547008]]\n",
            "--------------------------- W.dot(C) ---------------------------\n",
            "[[0.44331566 0.45333894 0.45696047 ... 0.44863948 0.42576216 0.45056626]\n",
            " [0.45855528 0.46892313 0.47266915 ... 0.46406211 0.44039835 0.46605513]\n",
            " [0.47260582 0.48329135 0.48715216 ... 0.47828139 0.45389254 0.48033547]\n",
            " ...\n",
            " [0.45782829 0.4681797  0.47191979 ... 0.46332639 0.43970014 0.46531625]\n",
            " [0.44976702 0.45993616 0.4636104  ... 0.45516831 0.43195806 0.45712313]\n",
            " [0.44582155 0.45590149 0.45954349 ... 0.45117546 0.42816882 0.45311313]]\n",
            "------------------------- (X - np.dot(W,C)) -------------------------\n",
            "0.25129568925714707\n",
            "---------------------------------------------------------------------------\n",
            "---------------------------------------------------------------------------\n",
            "For rank= 10 and l= 30.0 and epsilon= 0.001 30 iterations made\n",
            "---------------------------------- X ----------------------------------\n",
            "[[0.84807373 0.291988   0.94104619 ... 0.27291572 0.02144324 0.69294392]\n",
            " [0.85217806 0.1110223  0.04774883 ... 0.65896813 0.10323989 0.18166938]\n",
            " [0.72737175 0.91722611 0.9275236  ... 0.38899888 0.09456695 0.56684489]\n",
            " ...\n",
            " [0.22117551 0.93462406 0.70476997 ... 0.23992461 0.07210619 0.78674361]\n",
            " [0.35534044 0.04360233 0.90675871 ... 0.43645689 0.55632462 0.1886731 ]\n",
            " [0.5715067  0.13110943 0.24379022 ... 0.14774356 0.56178067 0.56547008]]\n",
            "--------------------------- W.dot(C) ---------------------------\n",
            "[[0.44216571 0.45498342 0.45681719 ... 0.45120488 0.42690053 0.4518373 ]\n",
            " [0.46093908 0.47313753 0.47578068 ... 0.46696262 0.44449802 0.46702501]\n",
            " [0.47315256 0.48684104 0.49057987 ... 0.48135485 0.45743903 0.48323865]\n",
            " ...\n",
            " [0.45905386 0.47117401 0.4739882  ... 0.46672498 0.4425997  0.46744008]\n",
            " [0.45323746 0.46335015 0.46713537 ... 0.45864224 0.43516551 0.45972015]\n",
            " [0.44687036 0.459735   0.46270761 ... 0.45422991 0.43123562 0.45634296]]\n",
            "------------------------- (X - np.dot(W,C)) -------------------------\n",
            "0.2509212009503376\n",
            "---------------------------------------------------------------------------\n",
            "---------------------------------------------------------------------------\n",
            "For rank= 100 and l= 30.0 and epsilon= 0.001 28 iterations made\n",
            "---------------------------------- X ----------------------------------\n",
            "[[0.84807373 0.291988   0.94104619 ... 0.27291572 0.02144324 0.69294392]\n",
            " [0.85217806 0.1110223  0.04774883 ... 0.65896813 0.10323989 0.18166938]\n",
            " [0.72737175 0.91722611 0.9275236  ... 0.38899888 0.09456695 0.56684489]\n",
            " ...\n",
            " [0.22117551 0.93462406 0.70476997 ... 0.23992461 0.07210619 0.78674361]\n",
            " [0.35534044 0.04360233 0.90675871 ... 0.43645689 0.55632462 0.1886731 ]\n",
            " [0.5715067  0.13110943 0.24379022 ... 0.14774356 0.56178067 0.56547008]]\n",
            "--------------------------- W.dot(C) ---------------------------\n",
            "[[0.44568117 0.45559526 0.45960247 ... 0.45093854 0.42673551 0.452608  ]\n",
            " [0.46173364 0.47165954 0.47602765 ... 0.46706607 0.44312226 0.46905431]\n",
            " [0.47471014 0.48633294 0.48913342 ... 0.47939252 0.45524857 0.48243264]\n",
            " ...\n",
            " [0.45999488 0.47091208 0.47433257 ... 0.46560198 0.44193525 0.46825213]\n",
            " [0.45340729 0.46290319 0.4665455  ... 0.457651   0.43450861 0.46024406]\n",
            " [0.44875845 0.45884345 0.46242237 ... 0.45346041 0.43115115 0.45607822]]\n",
            "------------------------- (X - np.dot(W,C)) -------------------------\n",
            "0.25096574018327367\n",
            "---------------------------------------------------------------------------\n",
            "---------------------------------------------------------------------------\n",
            "For rank= 1 and l= 60.0 and epsilon= 0.001 12 iterations made\n",
            "---------------------------------- X ----------------------------------\n",
            "[[0.84807373 0.291988   0.94104619 ... 0.27291572 0.02144324 0.69294392]\n",
            " [0.85217806 0.1110223  0.04774883 ... 0.65896813 0.10323989 0.18166938]\n",
            " [0.72737175 0.91722611 0.9275236  ... 0.38899888 0.09456695 0.56684489]\n",
            " ...\n",
            " [0.22117551 0.93462406 0.70476997 ... 0.23992461 0.07210619 0.78674361]\n",
            " [0.35534044 0.04360233 0.90675871 ... 0.43645689 0.55632462 0.1886731 ]\n",
            " [0.5715067  0.13110943 0.24379022 ... 0.14774356 0.56178067 0.56547008]]\n",
            "--------------------------- W.dot(C) ---------------------------\n",
            "[[0.40423323 0.41337286 0.41667512 ... 0.4090877  0.38822723 0.41084462]\n",
            " [0.41812933 0.42758315 0.43099893 ... 0.42315068 0.4015731  0.42496799]\n",
            " [0.43094118 0.44068468 0.44420512 ... 0.4361164  0.41387766 0.43798939]\n",
            " ...\n",
            " [0.41746643 0.42690526 0.43031563 ... 0.42247982 0.40093645 0.42429425]\n",
            " [0.41011583 0.41938847 0.42273879 ... 0.41504095 0.39387691 0.41682344]\n",
            " [0.40651819 0.41570949 0.41903042 ... 0.41140011 0.39042172 0.41316696]]\n",
            "------------------------- (X - np.dot(W,C)) -------------------------\n",
            "0.2564285083239525\n",
            "---------------------------------------------------------------------------\n",
            "---------------------------------------------------------------------------\n",
            "For rank= 10 and l= 60.0 and epsilon= 0.001 15 iterations made\n",
            "---------------------------------- X ----------------------------------\n",
            "[[0.84807373 0.291988   0.94104619 ... 0.27291572 0.02144324 0.69294392]\n",
            " [0.85217806 0.1110223  0.04774883 ... 0.65896813 0.10323989 0.18166938]\n",
            " [0.72737175 0.91722611 0.9275236  ... 0.38899888 0.09456695 0.56684489]\n",
            " ...\n",
            " [0.22117551 0.93462406 0.70476997 ... 0.23992461 0.07210619 0.78674361]\n",
            " [0.35534044 0.04360233 0.90675871 ... 0.43645689 0.55632462 0.1886731 ]\n",
            " [0.5715067  0.13110943 0.24379022 ... 0.14774356 0.56178067 0.56547008]]\n",
            "--------------------------- W.dot(C) ---------------------------\n",
            "[[0.40317264 0.41165769 0.41657307 ... 0.4011644  0.38684079 0.40911158]\n",
            " [0.41696392 0.42695521 0.42960106 ... 0.41809932 0.40045706 0.42324054]\n",
            " [0.43054449 0.43970609 0.44295    ... 0.43518453 0.4132089  0.43685275]\n",
            " ...\n",
            " [0.41672594 0.42605884 0.42984703 ... 0.41743325 0.40028506 0.42368113]\n",
            " [0.40917487 0.41868928 0.42169529 ... 0.40984899 0.39310913 0.41528377]\n",
            " [0.40590822 0.41510209 0.41834892 ... 0.40592428 0.3898857  0.41250503]]\n",
            "------------------------- (X - np.dot(W,C)) -------------------------\n",
            "0.25676109052430945\n",
            "---------------------------------------------------------------------------\n",
            "---------------------------------------------------------------------------\n",
            "For rank= 100 and l= 60.0 and epsilon= 0.001 16 iterations made\n",
            "---------------------------------- X ----------------------------------\n",
            "[[0.84807373 0.291988   0.94104619 ... 0.27291572 0.02144324 0.69294392]\n",
            " [0.85217806 0.1110223  0.04774883 ... 0.65896813 0.10323989 0.18166938]\n",
            " [0.72737175 0.91722611 0.9275236  ... 0.38899888 0.09456695 0.56684489]\n",
            " ...\n",
            " [0.22117551 0.93462406 0.70476997 ... 0.23992461 0.07210619 0.78674361]\n",
            " [0.35534044 0.04360233 0.90675871 ... 0.43645689 0.55632462 0.1886731 ]\n",
            " [0.5715067  0.13110943 0.24379022 ... 0.14774356 0.56178067 0.56547008]]\n",
            "--------------------------- W.dot(C) ---------------------------\n",
            "[[0.40268862 0.41228999 0.41562766 ... 0.40791478 0.38705119 0.4097186 ]\n",
            " [0.41649159 0.42644424 0.42982575 ... 0.4219161  0.40019987 0.42369579]\n",
            " [0.42898539 0.43953386 0.44294995 ... 0.43471958 0.41249656 0.43669893]\n",
            " ...\n",
            " [0.41567769 0.42579457 0.42917552 ... 0.42120872 0.39964261 0.42306101]\n",
            " [0.40838408 0.41818214 0.42154595 ... 0.41364674 0.39244103 0.41579174]\n",
            " [0.40469082 0.41426844 0.41762228 ... 0.40985124 0.38888418 0.41170063]]\n",
            "------------------------- (X - np.dot(W,C)) -------------------------\n",
            "0.25666401022866897\n",
            "---------------------------------------------------------------------------\n"
          ],
          "name": "stdout"
        }
      ]
    },
    {
      "cell_type": "markdown",
      "metadata": {
        "id": "AQ6efrvEwe25",
        "colab_type": "text"
      },
      "source": [
        "Παρατηρούμε ότι το βέλτιστο αποτέλεσμα το έχουμε για $k$= 10 και $λ$= 30.0 με 30 επαναλήψεις"
      ]
    },
    {
      "cell_type": "markdown",
      "metadata": {
        "id": "C0PUpqbsaqHI",
        "colab_type": "text"
      },
      "source": [
        "$λ=100.0$ για $ε=0.001$"
      ]
    },
    {
      "cell_type": "code",
      "metadata": {
        "id": "LIzsLNQwa09r",
        "colab_type": "code",
        "colab": {
          "base_uri": "https://localhost:8080/",
          "height": 1000
        },
        "outputId": "7198092c-c3f2-4201-b265-43248902182c"
      },
      "source": [
        "RunReg(X, 1, 100.0, 0.001)\n",
        "RunReg(X, 10, 100.0, 0.001)\n",
        "RunReg(X, 100, 100.0, 0.001)"
      ],
      "execution_count": 22,
      "outputs": [
        {
          "output_type": "stream",
          "text": [
            "---------------------------------------------------------------------------\n",
            "For rank= 1 and l= 100.0 and epsilon= 0.001 8 iterations made\n",
            "---------------------------------- X ----------------------------------\n",
            "[[0.84807373 0.291988   0.94104619 ... 0.27291572 0.02144324 0.69294392]\n",
            " [0.85217806 0.1110223  0.04774883 ... 0.65896813 0.10323989 0.18166938]\n",
            " [0.72737175 0.91722611 0.9275236  ... 0.38899888 0.09456695 0.56684489]\n",
            " ...\n",
            " [0.22117551 0.93462406 0.70476997 ... 0.23992461 0.07210619 0.78674361]\n",
            " [0.35534044 0.04360233 0.90675871 ... 0.43645689 0.55632462 0.1886731 ]\n",
            " [0.5715067  0.13110943 0.24379022 ... 0.14774356 0.56178067 0.56547008]]\n",
            "--------------------------- W.dot(C) ---------------------------\n",
            "[[0.3488278  0.35671473 0.35956437 ... 0.3530169  0.33501563 0.35453301]\n",
            " [0.36081926 0.36897731 0.37192491 ... 0.36515237 0.34653227 0.36672059]\n",
            " [0.37187508 0.3802831  0.38332102 ... 0.37634096 0.35715033 0.37795724]\n",
            " ...\n",
            " [0.36024722 0.36839234 0.37133527 ... 0.36457346 0.34598289 0.3661392 ]\n",
            " [0.35390412 0.36190582 0.36479693 ... 0.35815419 0.33989095 0.35969235]\n",
            " [0.35079958 0.35873109 0.36159684 ... 0.35501237 0.33690934 0.35653704]]\n",
            "------------------------- (X - np.dot(W,C)) -------------------------\n",
            "0.2692757486265335\n",
            "---------------------------------------------------------------------------\n",
            "---------------------------------------------------------------------------\n",
            "For rank= 10 and l= 100.0 and epsilon= 0.001 6 iterations made\n",
            "---------------------------------- X ----------------------------------\n",
            "[[0.84807373 0.291988   0.94104619 ... 0.27291572 0.02144324 0.69294392]\n",
            " [0.85217806 0.1110223  0.04774883 ... 0.65896813 0.10323989 0.18166938]\n",
            " [0.72737175 0.91722611 0.9275236  ... 0.38899888 0.09456695 0.56684489]\n",
            " ...\n",
            " [0.22117551 0.93462406 0.70476997 ... 0.23992461 0.07210619 0.78674361]\n",
            " [0.35534044 0.04360233 0.90675871 ... 0.43645689 0.55632462 0.1886731 ]\n",
            " [0.5715067  0.13110943 0.24379022 ... 0.14774356 0.56178067 0.56547008]]\n",
            "--------------------------- W.dot(C) ---------------------------\n",
            "[[0.35010088 0.35774566 0.35816584 ... 0.35324376 0.33620882 0.34651395]\n",
            " [0.35562311 0.36482851 0.36309736 ... 0.35899102 0.34151795 0.34912825]\n",
            " [0.37250285 0.38040966 0.38135112 ... 0.37519924 0.35832839 0.36972728]\n",
            " ...\n",
            " [0.35605126 0.36482027 0.36536549 ... 0.35917769 0.34169921 0.35071148]\n",
            " [0.35444702 0.36271338 0.36227113 ... 0.35748744 0.34066302 0.35544255]\n",
            " [0.34628551 0.35304209 0.34989814 ... 0.34910347 0.3346279  0.34126247]]\n",
            "------------------------- (X - np.dot(W,C)) -------------------------\n",
            "0.27043871232772526\n",
            "---------------------------------------------------------------------------\n",
            "---------------------------------------------------------------------------\n",
            "For rank= 100 and l= 100.0 and epsilon= 0.001 9 iterations made\n",
            "---------------------------------- X ----------------------------------\n",
            "[[0.84807373 0.291988   0.94104619 ... 0.27291572 0.02144324 0.69294392]\n",
            " [0.85217806 0.1110223  0.04774883 ... 0.65896813 0.10323989 0.18166938]\n",
            " [0.72737175 0.91722611 0.9275236  ... 0.38899888 0.09456695 0.56684489]\n",
            " ...\n",
            " [0.22117551 0.93462406 0.70476997 ... 0.23992461 0.07210619 0.78674361]\n",
            " [0.35534044 0.04360233 0.90675871 ... 0.43645689 0.55632462 0.1886731 ]\n",
            " [0.5715067  0.13110943 0.24379022 ... 0.14774356 0.56178067 0.56547008]]\n",
            "--------------------------- W.dot(C) ---------------------------\n",
            "[[0.34890915 0.35672103 0.35928314 ... 0.35314349 0.33477208 0.35448911]\n",
            " [0.36052084 0.36857143 0.37116359 ... 0.36487493 0.3458759  0.36624577]\n",
            " [0.37169591 0.3800577  0.38272353 ... 0.3761335  0.35660573 0.37759508]\n",
            " ...\n",
            " [0.36040311 0.36848435 0.37113018 ... 0.36474072 0.3458367  0.36614066]\n",
            " [0.35406965 0.36202991 0.36458668 ... 0.35833926 0.33973595 0.35969057]\n",
            " [0.35093234 0.35879075 0.36133309 ... 0.35517004 0.33678335 0.35651069]]\n",
            "------------------------- (X - np.dot(W,C)) -------------------------\n",
            "0.26931566375341803\n",
            "---------------------------------------------------------------------------\n"
          ],
          "name": "stdout"
        }
      ]
    },
    {
      "cell_type": "markdown",
      "metadata": {
        "id": "ZkF3Jwohw-cV",
        "colab_type": "text"
      },
      "source": [
        "Παρατηρούμε ότι το βέλτιστο αποτέλεσμα το έχουμε για $k$= 1 και $λ$= 100.0 με 8 επαναλήψεις"
      ]
    },
    {
      "cell_type": "markdown",
      "metadata": {
        "id": "NYX9b6QdVjEz",
        "colab_type": "text"
      },
      "source": [
        "Από όλες τις εκτελέσεις το καλύτερο αποτέλεσμα το είχαμε για $k=100$, $λ=0.01$ και $ε=0.001$, ωστόσο σε αυτή την περίπτωση πραγματοποιήθηκαν οι πιο πολλές επαναλήψεις(15656). Το αμέσως χειρότερο αποτέλεσμα το πήραμε για $k=100$, $λ=0.1$ και $ε=0.001$ με 1628 επαναλήψεις. Για $λ<=2.0$ τα αποτελέσματα είναι τα πιο ικανοποιητικά, ωστόσο ο αριθμός επαναλήψεων και συνεπώς ο χρόνος εκτέλεσης είναι αισθητά πιο πολύς. Για παράδειγμα, μια εκτέλεση που παράγει αρκετά ικανοποιητικά αποτελέσματα και δε κάνει τόσο μεγάλο αριθμό επαναλήψεων είναι για $k=10$, $λ=10.0$ και $ε=0.001$ με 76 επαναλήψεις.\n",
        "\n",
        "<br>Στην πλειοψηφία των περιπτώσεων, όσο αυξάνεται το $λ$, αυξάνεται και ο αριθμός των επαναλήψεων που πραγματοποιούνται, αλλά τόσο πιο ακριβή είναι τα αποτελέσματα που λαμβάνουμε. Συμπεραίνουμε πως η επιλογή του $λ$ εξαρτάται και από το πόσο καλά αποτελέσματα θέλουμε να πετύχουμε αλλά και από το πόσο χρόνο είμαστε διατεθειμένοι να δώσουμε στην εκτέλεση. Η επιλογή ενός $λ\\in[3.0, 4.0]$ φαίνεται ότι είναι αρκετά ικανοποιητική έχοντας υπόψη τόσο τα αποτελέσματα όσο και το χρόνο εκτέλεσης.\n",
        "\n",
        "<br>Όσο αυξάνεται το $k$ κρατώντας σταθερές τις υπόλοιπες παραμέτρους αυξάνεται ο αριθμός των επαναλήψεων. Το ίδιο γίνεται και όσο μειώνεται το $ε$ κρατώντας σταθερές τις υπόλοιπες παραμέτρους"
      ]
    },
    {
      "cell_type": "markdown",
      "metadata": {
        "id": "U3EDFJ7PMIS_",
        "colab_type": "text"
      },
      "source": [
        "##Δεύτερος τρόπος ο οποίος όμως παράγει ικανοποιητικά αποτελέσματα για συγκεκριμένες μόνο παραμέτρους και η χρησιμοποίησή του δε προτείνεται:\n",
        "<br>με βάση την παρουσίαση https://angms.science/doc/NMF/nmf_2.pdf ως εξής:\n",
        "\n",
        "Οι W και C αρχικοποιούνται με μη αρνητικές τιμές και σε κάθε βήμα υπολογίζονται οι τιμές \n",
        "<br><br>$C_{[t+1]} =C_{[t]}*\\frac{W_{[t]}X - λ\\nabla{C_{[t]}}}{W_{[t]}^TW_{[t]}C_{[t]}}=C_{[t]}*\\frac{W_{[t]}X - λ(W_{[t]}^TW_{[t]}C_{[t]}-W_{[t]}^TΧ)}{W_{[t]}^TW_{[t]}C_{[t]}} $ \n",
        "\n",
        "<br>και<br>\n",
        "$W_{[t+1]} =W_{[t]}*\\frac{XC_{[t]}^T - λ\\nabla{W_{[t]}}}{W_{[t]}C_{[t]}C_{[t]}^T} = W_{[t]}*\\frac{XC_{[t]}^T - λ(C_{[t]}^TC_{[t]}W_{[t]}-C_{[t]}^TΧ)}{W_{[t]}C_{[t]}C_{[t]}^T} $ <br><br>\n",
        "\n",
        "όπου τo * συμβολίζει το γινόμενο Hadamard (δηλ. γινόμενο στοιχείο προς στοιχείο του πίνακα)<br>\n",
        "Επιλέγεται ένας αριθμός μέγιστων επαναλήψεων υπολογισμού των πινάκων W και C, έστω 1000"
      ]
    },
    {
      "cell_type": "code",
      "metadata": {
        "id": "l0yN2wXykJc3",
        "colab_type": "code",
        "colab": {}
      },
      "source": [
        "def update_C(X, W, C, l):\n",
        "  numerator = np.dot(W.T, X) - l*( ((W.T).dot(W)).dot(C) - (W.T).dot(X) )\n",
        "  denominator = np.dot(W.T.dot(W), C )\n",
        "  C *= numerator\n",
        "  C /= denominator\n",
        "  return C\n",
        "\n",
        "def update_W(X, W, C, l):\n",
        "  numerator = X.dot(C.T) - l*( W.dot(np.dot(C, C.T)) - (X).dot(C.T))  \n",
        "  denominator = W.dot(C.dot(C.T)) \n",
        "  W *= numerator\n",
        "  W /= denominator\n",
        "  return W\n",
        "\n",
        "def RegNMF(X, k, lambdaL, epsilon, reps):\n",
        "  X_dim, samples = X.shape\n",
        "  W = np.random.random((X_dim, k))\n",
        "  C = np.random.random((k, samples))\n",
        "\n",
        "  mis = 0\n",
        "\n",
        "  while mis<reps:\n",
        "\n",
        "    wNew=update_W(X, W, C, lambdaL)\n",
        "    cNew=update_C(X, W, C, lambdaL)\n",
        "\n",
        "    W = wNew\n",
        "    C = cNew\n",
        "\n",
        "    mis+=1\n",
        "\n",
        "  return (wNew, cNew)\n",
        "\n",
        "def runReg(X, rank, l, epsilon, reps):\n",
        "  W, C = RegNMF(X, rank, l, epsilon, reps)\n",
        "  print(75*\"-\")\n",
        "  print(\"For rank=\", rank, \"l=\", l, \"and epsilon=\", epsilon)\n",
        "  print (34*\"-\", \"X\", 34*\"-\")\n",
        "  print (X)\n",
        "\n",
        "  # print (34*\"-\", \"W\", 34*\"-\")\n",
        "  # print (W)\n",
        "  # print (34*\"-\", \"C\", 34*\"-\")\n",
        "  # print (C)\n",
        "  \n",
        "  print (27*\"-\", \"W.dot(C)\", 27*\"-\")\n",
        "  print (W.dot(C))\n",
        "  print (25*\"-\", \"(X - np.dot(W,C))\", 25*\"-\")\n",
        "  print(np.ndarray.sum(abs(X - np.dot(W,C)))/500000)\n",
        "  print(75*\"-\")\n",
        "\n",
        "X = np.random.random((500,1000))"
      ],
      "execution_count": 23,
      "outputs": []
    },
    {
      "cell_type": "markdown",
      "metadata": {
        "id": "3QVQ9jcxb7H2",
        "colab_type": "text"
      },
      "source": [
        "$λ=0.01$, $λ=0.1$ για 1000 επαναλήψεις μέγιστο"
      ]
    },
    {
      "cell_type": "code",
      "metadata": {
        "id": "Fi-X7eftcZUr",
        "colab_type": "code",
        "colab": {
          "base_uri": "https://localhost:8080/",
          "height": 1000
        },
        "outputId": "82523796-07fd-44c3-a9b4-1534dc2c2d6c"
      },
      "source": [
        "runReg(X, 1, 0.01, 0.1, 1000)\n",
        "runReg(X, 10, 0.01, 0.1, 1000)\n",
        "runReg(X, 100, 0.01, 0.1, 1000)\n",
        "\n",
        "runReg(X, 1, 0.1, 0.1, 1000)\n",
        "runReg(X, 10, 0.1, 0.1, 1000)\n",
        "runReg(X, 100, 0.1, 0.1, 1000)"
      ],
      "execution_count": 24,
      "outputs": [
        {
          "output_type": "stream",
          "text": [
            "---------------------------------------------------------------------------\n",
            "For rank= 1 l= 0.01 and epsilon= 0.1\n",
            "---------------------------------- X ----------------------------------\n",
            "[[0.9976099  0.27795807 0.63371126 ... 0.56890806 0.29665874 0.81152299]\n",
            " [0.73031027 0.07056458 0.44757871 ... 0.96585257 0.94087176 0.52939272]\n",
            " [0.62480342 0.82609059 0.66494935 ... 0.2043102  0.80898203 0.28091245]\n",
            " ...\n",
            " [0.47570711 0.4535409  0.74490146 ... 0.40488339 0.74039211 0.73270471]\n",
            " [0.14606657 0.89951543 0.19969947 ... 0.14382609 0.87266727 0.17668459]\n",
            " [0.20504127 0.61938173 0.93769224 ... 0.8505564  0.39390942 0.00631763]]\n",
            "--------------------------- W.dot(C) ---------------------------\n",
            "[[0.49014516 0.50610747 0.5136182  ... 0.50448533 0.48236603 0.50606372]\n",
            " [0.51298246 0.5296885  0.53754917 ... 0.52799079 0.50484088 0.52964271]\n",
            " [0.48344937 0.49919362 0.50660174 ... 0.49759365 0.47577651 0.49915047]\n",
            " ...\n",
            " [0.49504813 0.51117011 0.51875597 ... 0.50953176 0.48719119 0.51112593]\n",
            " [0.50391581 0.52032658 0.52804833 ... 0.51865888 0.49591813 0.52028161]\n",
            " [0.49541554 0.51154949 0.51914098 ... 0.50990991 0.48755276 0.51150527]]\n",
            "------------------------- (X - np.dot(W,C)) -------------------------\n",
            "0.2497451576959384\n",
            "---------------------------------------------------------------------------\n",
            "---------------------------------------------------------------------------\n",
            "For rank= 10 l= 0.01 and epsilon= 0.1\n",
            "---------------------------------- X ----------------------------------\n",
            "[[0.9976099  0.27795807 0.63371126 ... 0.56890806 0.29665874 0.81152299]\n",
            " [0.73031027 0.07056458 0.44757871 ... 0.96585257 0.94087176 0.52939272]\n",
            " [0.62480342 0.82609059 0.66494935 ... 0.2043102  0.80898203 0.28091245]\n",
            " ...\n",
            " [0.47570711 0.4535409  0.74490146 ... 0.40488339 0.74039211 0.73270471]\n",
            " [0.14606657 0.89951543 0.19969947 ... 0.14382609 0.87266727 0.17668459]\n",
            " [0.20504127 0.61938173 0.93769224 ... 0.8505564  0.39390942 0.00631763]]\n",
            "--------------------------- W.dot(C) ---------------------------\n",
            "[[0.53014028 0.46187715 0.56708788 ... 0.46313453 0.51857509 0.53617502]\n",
            " [0.54163058 0.40737541 0.59177807 ... 0.48280127 0.5545147  0.51967519]\n",
            " [0.45132391 0.41755006 0.44012807 ... 0.45777775 0.45732855 0.49297027]\n",
            " ...\n",
            " [0.44863667 0.52448281 0.46813217 ... 0.63687091 0.56633563 0.4695018 ]\n",
            " [0.52605052 0.62247855 0.53977534 ... 0.55699306 0.4893713  0.46600035]\n",
            " [0.40806749 0.55476097 0.45761201 ... 0.60877433 0.43628989 0.44638732]]\n",
            "------------------------- (X - np.dot(W,C)) -------------------------\n",
            "0.24192611953055088\n",
            "---------------------------------------------------------------------------\n",
            "---------------------------------------------------------------------------\n",
            "For rank= 100 l= 0.01 and epsilon= 0.1\n",
            "---------------------------------- X ----------------------------------\n",
            "[[0.9976099  0.27795807 0.63371126 ... 0.56890806 0.29665874 0.81152299]\n",
            " [0.73031027 0.07056458 0.44757871 ... 0.96585257 0.94087176 0.52939272]\n",
            " [0.62480342 0.82609059 0.66494935 ... 0.2043102  0.80898203 0.28091245]\n",
            " ...\n",
            " [0.47570711 0.4535409  0.74490146 ... 0.40488339 0.74039211 0.73270471]\n",
            " [0.14606657 0.89951543 0.19969947 ... 0.14382609 0.87266727 0.17668459]\n",
            " [0.20504127 0.61938173 0.93769224 ... 0.8505564  0.39390942 0.00631763]]\n",
            "--------------------------- W.dot(C) ---------------------------\n",
            "[[0.56168392 0.74282436 0.73344337 ... 0.36696418 0.35138603 0.5460135 ]\n",
            " [0.69034211 0.32316475 0.35568027 ... 0.46848132 0.66951975 0.49634363]\n",
            " [0.35059181 0.64604306 0.55687778 ... 0.49955783 0.45672107 0.65579946]\n",
            " ...\n",
            " [0.47240144 0.47450253 0.4561263  ... 0.53941359 0.55200921 0.53349849]\n",
            " [0.41644064 0.58604774 0.5595027  ... 0.46695298 0.63370206 0.41206905]\n",
            " [0.28119617 0.56073769 0.60012915 ... 0.73299648 0.3205571  0.54806911]]\n",
            "------------------------- (X - np.dot(W,C)) -------------------------\n",
            "0.20120448292400178\n",
            "---------------------------------------------------------------------------\n",
            "---------------------------------------------------------------------------\n",
            "For rank= 1 l= 0.1 and epsilon= 0.1\n",
            "---------------------------------- X ----------------------------------\n",
            "[[0.9976099  0.27795807 0.63371126 ... 0.56890806 0.29665874 0.81152299]\n",
            " [0.73031027 0.07056458 0.44757871 ... 0.96585257 0.94087176 0.52939272]\n",
            " [0.62480342 0.82609059 0.66494935 ... 0.2043102  0.80898203 0.28091245]\n",
            " ...\n",
            " [0.47570711 0.4535409  0.74490146 ... 0.40488339 0.74039211 0.73270471]\n",
            " [0.14606657 0.89951543 0.19969947 ... 0.14382609 0.87266727 0.17668459]\n",
            " [0.20504127 0.61938173 0.93769224 ... 0.8505564  0.39390942 0.00631763]]\n",
            "--------------------------- W.dot(C) ---------------------------\n",
            "[[0.49014516 0.50610747 0.5136182  ... 0.50448533 0.48236603 0.50606372]\n",
            " [0.51298246 0.5296885  0.53754917 ... 0.52799079 0.50484088 0.52964271]\n",
            " [0.48344937 0.49919362 0.50660174 ... 0.49759365 0.47577651 0.49915047]\n",
            " ...\n",
            " [0.49504813 0.51117011 0.51875597 ... 0.50953176 0.48719119 0.51112593]\n",
            " [0.50391581 0.52032658 0.52804833 ... 0.51865888 0.49591813 0.52028161]\n",
            " [0.49541554 0.51154949 0.51914098 ... 0.50990991 0.48755276 0.51150527]]\n",
            "------------------------- (X - np.dot(W,C)) -------------------------\n",
            "0.2497451576959384\n",
            "---------------------------------------------------------------------------\n",
            "---------------------------------------------------------------------------\n",
            "For rank= 10 l= 0.1 and epsilon= 0.1\n",
            "---------------------------------- X ----------------------------------\n",
            "[[0.9976099  0.27795807 0.63371126 ... 0.56890806 0.29665874 0.81152299]\n",
            " [0.73031027 0.07056458 0.44757871 ... 0.96585257 0.94087176 0.52939272]\n",
            " [0.62480342 0.82609059 0.66494935 ... 0.2043102  0.80898203 0.28091245]\n",
            " ...\n",
            " [0.47570711 0.4535409  0.74490146 ... 0.40488339 0.74039211 0.73270471]\n",
            " [0.14606657 0.89951543 0.19969947 ... 0.14382609 0.87266727 0.17668459]\n",
            " [0.20504127 0.61938173 0.93769224 ... 0.8505564  0.39390942 0.00631763]]\n",
            "--------------------------- W.dot(C) ---------------------------\n",
            "[[0.60213916 0.4613967  0.51173862 ... 0.46226643 0.45303166 0.46367188]\n",
            " [0.50084853 0.38110518 0.49712001 ... 0.49998371 0.59133703 0.59352176]\n",
            " [0.38706294 0.4975335  0.46120996 ... 0.36962969 0.54941369 0.47977767]\n",
            " ...\n",
            " [0.42864983 0.48957572 0.49892333 ... 0.50988989 0.55820675 0.48219433]\n",
            " [0.55235041 0.54425275 0.54536269 ... 0.53889743 0.44546726 0.49202326]\n",
            " [0.41032901 0.55422825 0.60301001 ... 0.65614944 0.41760444 0.48165234]]\n",
            "------------------------- (X - np.dot(W,C)) -------------------------\n",
            "0.2419543948761626\n",
            "---------------------------------------------------------------------------\n",
            "---------------------------------------------------------------------------\n",
            "For rank= 100 l= 0.1 and epsilon= 0.1\n",
            "---------------------------------- X ----------------------------------\n",
            "[[0.9976099  0.27795807 0.63371126 ... 0.56890806 0.29665874 0.81152299]\n",
            " [0.73031027 0.07056458 0.44757871 ... 0.96585257 0.94087176 0.52939272]\n",
            " [0.62480342 0.82609059 0.66494935 ... 0.2043102  0.80898203 0.28091245]\n",
            " ...\n",
            " [0.47570711 0.4535409  0.74490146 ... 0.40488339 0.74039211 0.73270471]\n",
            " [0.14606657 0.89951543 0.19969947 ... 0.14382609 0.87266727 0.17668459]\n",
            " [0.20504127 0.61938173 0.93769224 ... 0.8505564  0.39390942 0.00631763]]\n",
            "--------------------------- W.dot(C) ---------------------------\n",
            "[[0.68256622 0.56563874 0.54867557 ... 0.32437659 0.49360983 0.56248507]\n",
            " [0.58985996 0.32384661 0.66351417 ... 0.53008343 0.89733759 0.26870176]\n",
            " [0.50466385 0.61252717 0.54435444 ... 0.52496715 0.4531942  0.35448772]\n",
            " ...\n",
            " [0.52351554 0.51551652 0.66884054 ... 0.4273751  0.58593321 0.52699627]\n",
            " [0.45857372 0.60776349 0.56724002 ... 0.52490144 0.83011976 0.54944517]\n",
            " [0.39524975 0.59417043 0.72916971 ... 0.73225293 0.52101886 0.43626097]]\n",
            "------------------------- (X - np.dot(W,C)) -------------------------\n",
            "0.20111525270621453\n",
            "---------------------------------------------------------------------------\n"
          ],
          "name": "stdout"
        }
      ]
    },
    {
      "cell_type": "markdown",
      "metadata": {
        "id": "iAFgA7n-cmcJ",
        "colab_type": "text"
      },
      "source": [
        "$λ=1.0$ για 1000 επαναλήψεις μέγιστο"
      ]
    },
    {
      "cell_type": "code",
      "metadata": {
        "id": "ZutvUZD2csiq",
        "colab_type": "code",
        "colab": {
          "base_uri": "https://localhost:8080/",
          "height": 1000
        },
        "outputId": "86965845-045b-4cc3-9bf4-b530c0343373"
      },
      "source": [
        "runReg(X, 1, 1.0, 0.1, 1000)\n",
        "runReg(X, 10, 1.0, 0.1, 1000)\n",
        "runReg(X, 100, 1.0, 0.1, 1000)"
      ],
      "execution_count": 25,
      "outputs": [
        {
          "output_type": "stream",
          "text": [
            "---------------------------------------------------------------------------\n",
            "For rank= 1 l= 1.0 and epsilon= 0.1\n",
            "---------------------------------- X ----------------------------------\n",
            "[[0.9976099  0.27795807 0.63371126 ... 0.56890806 0.29665874 0.81152299]\n",
            " [0.73031027 0.07056458 0.44757871 ... 0.96585257 0.94087176 0.52939272]\n",
            " [0.62480342 0.82609059 0.66494935 ... 0.2043102  0.80898203 0.28091245]\n",
            " ...\n",
            " [0.47570711 0.4535409  0.74490146 ... 0.40488339 0.74039211 0.73270471]\n",
            " [0.14606657 0.89951543 0.19969947 ... 0.14382609 0.87266727 0.17668459]\n",
            " [0.20504127 0.61938173 0.93769224 ... 0.8505564  0.39390942 0.00631763]]\n",
            "--------------------------- W.dot(C) ---------------------------\n",
            "[[0.11006124 0.04493388 0.04421552 ... 0.00510174 0.1050828  0.07642718]\n",
            " [0.63278859 0.25834388 0.2542137  ... 0.02933207 0.60416545 0.43941214]\n",
            " [1.09028775 0.44512364 0.4380074  ... 0.05053883 1.04097039 0.75710227]\n",
            " ...\n",
            " [1.17659386 0.48035919 0.47267964 ... 0.05453944 1.12337259 0.81703374]\n",
            " [1.20982828 0.49392757 0.48603109 ... 0.05607998 1.15510371 0.84011192]\n",
            " [1.36952258 0.55912477 0.55018597 ... 0.06348239 1.3075745  0.95100459]]\n",
            "------------------------- (X - np.dot(W,C)) -------------------------\n",
            "0.351292266232756\n",
            "---------------------------------------------------------------------------\n",
            "---------------------------------------------------------------------------\n",
            "For rank= 10 l= 1.0 and epsilon= 0.1\n",
            "---------------------------------- X ----------------------------------\n",
            "[[0.9976099  0.27795807 0.63371126 ... 0.56890806 0.29665874 0.81152299]\n",
            " [0.73031027 0.07056458 0.44757871 ... 0.96585257 0.94087176 0.52939272]\n",
            " [0.62480342 0.82609059 0.66494935 ... 0.2043102  0.80898203 0.28091245]\n",
            " ...\n",
            " [0.47570711 0.4535409  0.74490146 ... 0.40488339 0.74039211 0.73270471]\n",
            " [0.14606657 0.89951543 0.19969947 ... 0.14382609 0.87266727 0.17668459]\n",
            " [0.20504127 0.61938173 0.93769224 ... 0.8505564  0.39390942 0.00631763]]\n",
            "--------------------------- W.dot(C) ---------------------------\n",
            "[[  80.91678755  223.60009287  136.9916353  ... -125.80134037\n",
            "  -100.54991117  295.59656421]\n",
            " [ 829.80107484 1188.04367232  911.89751979 ... -251.49394058\n",
            "   -24.98303587  638.65630361]\n",
            " [ 612.76704844  904.04233557  845.26972553 ...   16.77668212\n",
            "     2.92006761 -114.43988206]\n",
            " ...\n",
            " [ 923.93521227 1219.71479706 1028.7800149  ...  -45.64179905\n",
            "    18.05583378  -26.93655061]\n",
            " [1019.2588956  1380.75757466 1073.96467514 ... -165.81096729\n",
            "  -101.13262029  402.02272518]\n",
            " [ 396.67495409  368.20249019  511.11585998 ...   10.58120095\n",
            "    21.88574629    4.01488671]]\n",
            "------------------------- (X - np.dot(W,C)) -------------------------\n",
            "833.0988216615647\n",
            "---------------------------------------------------------------------------\n",
            "---------------------------------------------------------------------------\n",
            "For rank= 100 l= 1.0 and epsilon= 0.1\n",
            "---------------------------------- X ----------------------------------\n",
            "[[0.9976099  0.27795807 0.63371126 ... 0.56890806 0.29665874 0.81152299]\n",
            " [0.73031027 0.07056458 0.44757871 ... 0.96585257 0.94087176 0.52939272]\n",
            " [0.62480342 0.82609059 0.66494935 ... 0.2043102  0.80898203 0.28091245]\n",
            " ...\n",
            " [0.47570711 0.4535409  0.74490146 ... 0.40488339 0.74039211 0.73270471]\n",
            " [0.14606657 0.89951543 0.19969947 ... 0.14382609 0.87266727 0.17668459]\n",
            " [0.20504127 0.61938173 0.93769224 ... 0.8505564  0.39390942 0.00631763]]\n",
            "--------------------------- W.dot(C) ---------------------------\n",
            "[[-5.06359210e+04  1.05352495e+03 -5.39574953e+02 ...  8.61892474e+02\n",
            "   1.80688188e+02 -4.98383992e+02]\n",
            " [ 1.39096051e+05  5.52260503e+01  1.38194108e+03 ...  9.18976355e+01\n",
            "  -3.20178945e+02  4.82608272e+02]\n",
            " [-1.00111348e+04 -4.26982625e+03  4.59831001e+02 ... -4.68603774e+02\n",
            "  -1.57183744e+02 -1.09176802e+02]\n",
            " ...\n",
            " [ 2.12632752e+04 -3.23867142e+02  2.15619106e+02 ...  2.00564798e+03\n",
            "  -2.11222009e+02  1.34612811e+02]\n",
            " [ 7.28287247e+04 -1.06104166e+03  7.90407630e+02 ... -2.02339781e+03\n",
            "  -1.11375854e+03  7.25015661e+01]\n",
            " [ 7.93616863e+03  2.32328180e+01  4.09611540e+02 ...  1.71063396e+02\n",
            "   5.75858443e+03  2.59612765e+02]]\n",
            "------------------------- (X - np.dot(W,C)) -------------------------\n",
            "2363.041464779266\n",
            "---------------------------------------------------------------------------\n"
          ],
          "name": "stdout"
        }
      ]
    },
    {
      "cell_type": "markdown",
      "metadata": {
        "id": "Y0oGWRWgdEXx",
        "colab_type": "text"
      },
      "source": [
        "$λ=1.0$, $λ=5.0$ για 10000 επαναλήψεις μέγιστο"
      ]
    },
    {
      "cell_type": "code",
      "metadata": {
        "id": "YSV267WwdHOF",
        "colab_type": "code",
        "colab": {
          "base_uri": "https://localhost:8080/",
          "height": 1000
        },
        "outputId": "bc90c04c-bf25-41ea-dca7-5eca70354621"
      },
      "source": [
        "runReg(X, 1, 1.0, 0.1, 10000)\n",
        "runReg(X, 10, 1.0, 0.1, 10000)\n",
        "runReg(X, 100, 1.0, 0.1, 10000)"
      ],
      "execution_count": 26,
      "outputs": [
        {
          "output_type": "stream",
          "text": [
            "---------------------------------------------------------------------------\n",
            "For rank= 1 l= 1.0 and epsilon= 0.1\n",
            "---------------------------------- X ----------------------------------\n",
            "[[0.9976099  0.27795807 0.63371126 ... 0.56890806 0.29665874 0.81152299]\n",
            " [0.73031027 0.07056458 0.44757871 ... 0.96585257 0.94087176 0.52939272]\n",
            " [0.62480342 0.82609059 0.66494935 ... 0.2043102  0.80898203 0.28091245]\n",
            " ...\n",
            " [0.47570711 0.4535409  0.74490146 ... 0.40488339 0.74039211 0.73270471]\n",
            " [0.14606657 0.89951543 0.19969947 ... 0.14382609 0.87266727 0.17668459]\n",
            " [0.20504127 0.61938173 0.93769224 ... 0.8505564  0.39390942 0.00631763]]\n",
            "--------------------------- W.dot(C) ---------------------------\n",
            "[[0.81394396 0.28152287 0.27649308 ... 0.27618775 0.53159441 0.64126165]\n",
            " [1.00871741 0.34889014 0.34265674 ... 0.34227835 0.65880278 0.79471293]\n",
            " [0.81806039 0.28294664 0.27789141 ... 0.27758454 0.5342829  0.64450476]\n",
            " ...\n",
            " [0.41267072 0.14273249 0.14018237 ... 0.14002758 0.26951911 0.32512055]\n",
            " [0.69281593 0.23962771 0.23534644 ... 0.23508655 0.45248457 0.54583155]\n",
            " [0.90259754 0.31218593 0.3066083  ... 0.30626972 0.5894949  0.71110693]]\n",
            "------------------------- (X - np.dot(W,C)) -------------------------\n",
            "0.3547385615097642\n",
            "---------------------------------------------------------------------------\n",
            "---------------------------------------------------------------------------\n",
            "For rank= 10 l= 1.0 and epsilon= 0.1\n",
            "---------------------------------- X ----------------------------------\n",
            "[[0.9976099  0.27795807 0.63371126 ... 0.56890806 0.29665874 0.81152299]\n",
            " [0.73031027 0.07056458 0.44757871 ... 0.96585257 0.94087176 0.52939272]\n",
            " [0.62480342 0.82609059 0.66494935 ... 0.2043102  0.80898203 0.28091245]\n",
            " ...\n",
            " [0.47570711 0.4535409  0.74490146 ... 0.40488339 0.74039211 0.73270471]\n",
            " [0.14606657 0.89951543 0.19969947 ... 0.14382609 0.87266727 0.17668459]\n",
            " [0.20504127 0.61938173 0.93769224 ... 0.8505564  0.39390942 0.00631763]]\n",
            "--------------------------- W.dot(C) ---------------------------\n",
            "[[ -5873.38023436  -4641.6230941    -164.50900945 ...  -3959.88181257\n",
            "   -3188.92825396  -4567.60860378]\n",
            " [   388.26805308   -522.20174098   -765.99601854 ...   -300.10560788\n",
            "    -181.50775754    -36.26376387]\n",
            " [ -3836.96838405 -11682.82788067  -1956.76481006 ...  -4010.23542899\n",
            "   -4040.29391822  -3580.53349182]\n",
            " ...\n",
            " [ -4219.21035648  -6897.42407088  -1370.8754246  ...  -3651.83230343\n",
            "   -3793.05854856  -2951.18909636]\n",
            " [ -4966.88475651 -20714.41618844  -2665.48679591 ...  -4136.24426425\n",
            "   -4191.52442389  -5857.23561937]\n",
            " [ -2445.09378915  -5743.20291652   -951.79508923 ...  -2141.24247164\n",
            "   -2170.19146464  -2083.1340591 ]]\n",
            "------------------------- (X - np.dot(W,C)) -------------------------\n",
            "4217.135736918342\n",
            "---------------------------------------------------------------------------\n",
            "---------------------------------------------------------------------------\n",
            "For rank= 100 l= 1.0 and epsilon= 0.1\n",
            "---------------------------------- X ----------------------------------\n",
            "[[0.9976099  0.27795807 0.63371126 ... 0.56890806 0.29665874 0.81152299]\n",
            " [0.73031027 0.07056458 0.44757871 ... 0.96585257 0.94087176 0.52939272]\n",
            " [0.62480342 0.82609059 0.66494935 ... 0.2043102  0.80898203 0.28091245]\n",
            " ...\n",
            " [0.47570711 0.4535409  0.74490146 ... 0.40488339 0.74039211 0.73270471]\n",
            " [0.14606657 0.89951543 0.19969947 ... 0.14382609 0.87266727 0.17668459]\n",
            " [0.20504127 0.61938173 0.93769224 ... 0.8505564  0.39390942 0.00631763]]\n",
            "--------------------------- W.dot(C) ---------------------------\n",
            "[[ 1.27657479e+03  5.99333837e+03  2.97626699e+03 ... -7.53916148e+03\n",
            "   8.36134372e+03  2.17753841e+04]\n",
            " [-4.60819316e+03 -4.18961657e+04  2.91424682e+02 ... -9.40240448e+01\n",
            "   8.40783063e+03  6.60812884e+03]\n",
            " [ 1.13807870e+03  2.63248618e+03 -9.23045369e+00 ... -6.39127634e+03\n",
            "   3.37375271e+03  4.38513236e+04]\n",
            " ...\n",
            " [ 1.97568117e+03  4.60989401e+03  8.47188282e+02 ...  5.73115267e+02\n",
            "   1.29483149e+02  5.15274093e+03]\n",
            " [ 5.95304582e+03  7.51843231e+03  4.45775256e+03 ... -1.05628893e+04\n",
            "   1.39394896e+04  8.00370108e+02]\n",
            " [ 2.03412579e+03  1.35797422e+04 -3.22649297e+03 ... -4.27607277e+03\n",
            "  -4.20040821e+03  6.41074380e+03]]\n",
            "------------------------- (X - np.dot(W,C)) -------------------------\n",
            "21725.80957647352\n",
            "---------------------------------------------------------------------------\n"
          ],
          "name": "stdout"
        }
      ]
    },
    {
      "cell_type": "markdown",
      "metadata": {
        "id": "IGC9_fQ7A7Dk",
        "colab_type": "text"
      },
      "source": [
        "Παράγονται ικανοποιητικά αποτελέσματα μόνο για $λ=0.01$, $λ=0.1$, συνεπώς πρόκειται για μία κακή επιλογή επίλυσης του προβήματος "
      ]
    }
  ]
}