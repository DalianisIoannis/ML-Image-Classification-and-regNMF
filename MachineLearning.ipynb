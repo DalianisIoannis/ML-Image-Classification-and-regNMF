{
  "nbformat": 4,
  "nbformat_minor": 0,
  "metadata": {
    "colab": {
      "name": "MachineLearning.ipynb",
      "provenance": [],
      "collapsed_sections": []
    },
    "kernelspec": {
      "name": "python3",
      "display_name": "Python 3"
    }
  },
  "cells": [
    {
      "cell_type": "markdown",
      "metadata": {
        "id": "hZe7fWqzwTHe"
      },
      "source": [
        "#Part 1"
      ]
    },
    {
      "cell_type": "markdown",
      "metadata": {
        "id": "UqPrNnxnwsTw"
      },
      "source": [
        "## Question 1"
      ]
    },
    {
      "cell_type": "code",
      "metadata": {
        "id": "jPOWPY3mwwI0",
        "colab": {
          "base_uri": "https://localhost:8080/",
          "height": 258
        },
        "outputId": "693f02a8-cebf-4ffb-814b-7e613c61a962"
      },
      "source": [
        "%matplotlib inline\n",
        "%pylab inline\n",
        "\n",
        "import os\n",
        "import numpy as np\n",
        "import numpy.linalg as LA\n",
        "from google.colab import drive\n",
        "from PIL import Image\n",
        "import seaborn as sns\n",
        "sns.set()\n",
        "\n",
        "from sklearn.decomposition import PCA\n",
        "from sklearn.preprocessing import StandardScaler\n",
        "from sklearn.neighbors import KNeighborsClassifier\n",
        "from sklearn.model_selection import train_test_split, cross_val_predict, cross_val_score, KFold\n",
        "from sklearn import metrics, svm\n",
        "from sklearn.svm import SVR\n",
        "from sklearn.metrics import classification_report, confusion_matrix\n",
        "\n",
        "import pandas as pd\n",
        "\n",
        "import matplotlib.pyplot as plt\n",
        "from matplotlib.image import BboxImage\n",
        "from matplotlib.transforms import Bbox, TransformedBbox\n",
        "\n",
        "!pip install python-resize-image\n",
        "from resizeimage import resizeimage"
      ],
      "execution_count": null,
      "outputs": [
        {
          "output_type": "stream",
          "text": [
            "Populating the interactive namespace from numpy and matplotlib\n"
          ],
          "name": "stdout"
        },
        {
          "output_type": "stream",
          "text": [
            "/usr/local/lib/python3.6/dist-packages/statsmodels/tools/_testing.py:19: FutureWarning: pandas.util.testing is deprecated. Use the functions in the public API at pandas.testing instead.\n",
            "  import pandas.util.testing as tm\n"
          ],
          "name": "stderr"
        },
        {
          "output_type": "stream",
          "text": [
            "Collecting python-resize-image\n",
            "  Downloading https://files.pythonhosted.org/packages/bc/89/008481c95551992e1a77503eba490b75fd17c0a98e33dd4dc39e0b99e5e8/python_resize_image-1.1.19-py2.py3-none-any.whl\n",
            "Requirement already satisfied: requests>=2.19.1 in /usr/local/lib/python3.6/dist-packages (from python-resize-image) (2.23.0)\n",
            "Requirement already satisfied: Pillow>=5.1.0 in /usr/local/lib/python3.6/dist-packages (from python-resize-image) (7.0.0)\n",
            "Requirement already satisfied: idna<3,>=2.5 in /usr/local/lib/python3.6/dist-packages (from requests>=2.19.1->python-resize-image) (2.10)\n",
            "Requirement already satisfied: chardet<4,>=3.0.2 in /usr/local/lib/python3.6/dist-packages (from requests>=2.19.1->python-resize-image) (3.0.4)\n",
            "Requirement already satisfied: certifi>=2017.4.17 in /usr/local/lib/python3.6/dist-packages (from requests>=2.19.1->python-resize-image) (2020.6.20)\n",
            "Requirement already satisfied: urllib3!=1.25.0,!=1.25.1,<1.26,>=1.21.1 in /usr/local/lib/python3.6/dist-packages (from requests>=2.19.1->python-resize-image) (1.24.3)\n",
            "Installing collected packages: python-resize-image\n",
            "Successfully installed python-resize-image-1.1.19\n"
          ],
          "name": "stdout"
        }
      ]
    },
    {
      "cell_type": "markdown",
      "metadata": {
        "id": "W2YHxJR6qoV9"
      },
      "source": [
        "Import images from google drive"
      ]
    },
    {
      "cell_type": "code",
      "metadata": {
        "id": "rZwA2WImyvW7",
        "colab": {
          "base_uri": "https://localhost:8080/",
          "height": 122
        },
        "outputId": "b25a8357-5120-41a1-8633-bb8fc9b0a838"
      },
      "source": [
        "drive.mount('/content/gdrive', force_remount=True)\n",
        "\n",
        "root_dir = \"/content/gdrive/My Drive/\"\n",
        "base_dir = root_dir + 'DI/images/'"
      ],
      "execution_count": null,
      "outputs": [
        {
          "output_type": "stream",
          "text": [
            "Go to this URL in a browser: https://accounts.google.com/o/oauth2/auth?client_id=947318989803-6bn6qk8qdgf4n4g3pfee6491hc0brc4i.apps.googleusercontent.com&redirect_uri=urn%3aietf%3awg%3aoauth%3a2.0%3aoob&scope=email%20https%3a%2f%2fwww.googleapis.com%2fauth%2fdocs.test%20https%3a%2f%2fwww.googleapis.com%2fauth%2fdrive%20https%3a%2f%2fwww.googleapis.com%2fauth%2fdrive.photos.readonly%20https%3a%2f%2fwww.googleapis.com%2fauth%2fpeopleapi.readonly&response_type=code\n",
            "\n",
            "Enter your authorization code:\n",
            "··········\n",
            "Mounted at /content/gdrive\n"
          ],
          "name": "stdout"
        }
      ]
    },
    {
      "cell_type": "code",
      "metadata": {
        "id": "7jWfHa5GN6J2"
      },
      "source": [
        "def loadImages(path):\n",
        "\n",
        "  arr = list()\n",
        "  labels = list()\n",
        "\n",
        "  for filename in os.listdir(path):\n",
        "\n",
        "    if filename[0]==\"W\":\n",
        "      labels.append(0)\n",
        "    elif filename[0]==\"F\":\n",
        "      labels.append(1)\n",
        "    else:\n",
        "      labels.append(2)\n",
        "\n",
        "    with open(path + '/' + filename, 'r+b') as f:\n",
        "      with Image.open(f) as image:\n",
        "\n",
        "        cover = resizeimage.resize_cover(image, [100, 100])\n",
        "        cover.save(path + '/' + filename, image.format)\n",
        "\n",
        "        # convert image to numpy array\n",
        "        data = np.asarray(cover)\n",
        "\n",
        "        actual = data.reshape(30000, 1)\n",
        "\n",
        "        arr.append(actual)\n",
        "\n",
        "  return np.array(arr).T, labels"
      ],
      "execution_count": null,
      "outputs": []
    },
    {
      "cell_type": "markdown",
      "metadata": {
        "id": "JB_ZTXy_cDli"
      },
      "source": [
        "Data and labels. Labels are 0 for winter, 1 for autumn and 2 for spring"
      ]
    },
    {
      "cell_type": "code",
      "metadata": {
        "id": "J41yv07v2_GD",
        "colab": {
          "base_uri": "https://localhost:8080/",
          "height": 238
        },
        "outputId": "bbaa97bc-9118-44e5-96e2-064066f19355"
      },
      "source": [
        "imAr, labels = loadImages(base_dir)\n",
        "\n",
        "imAr = imAr.reshape(30000, 30)\n",
        "print(\"Image labels are:\", labels)\n",
        "\n",
        "print(\"type(imAr)\", type(imAr))\n",
        "print(\"imAr.shape\", imAr.shape)\n",
        "\n",
        "print(imAr[:5])"
      ],
      "execution_count": null,
      "outputs": [
        {
          "output_type": "stream",
          "text": [
            "Image labels are: [1, 2, 0, 0, 1, 2, 1, 2, 1, 0, 0, 0, 2, 2, 2, 1, 0, 1, 0, 2, 0, 2, 2, 1, 2, 0, 0, 1, 1, 1]\n",
            "type(imAr) <class 'numpy.ndarray'>\n",
            "imAr.shape (30000, 30)\n",
            "[[174  57  50 139 132   0  58  80  49  68 134 188 171  66   2  27 156  76\n",
            "  245  56 152  18 137 145   0  46  67  61  58  85]\n",
            " [140  63  66 143  44   1  78  81  51  68 141 202 232  50   3  16 153  39\n",
            "  241  65 152   2 138 110   0  59  61  88  26  65]\n",
            " [157  35  82 144   0   0 115  83  64  78 149 211 255  34   7  32 146  20\n",
            "  230  60 164  12  78  88   9  78  63 105  11   2]\n",
            " [151  64  94 166 195   2  83  76  83  76 116 200 183  65   2  28 184  61\n",
            "  239  58 121  20  96 134   9  59  86  69  64  99]\n",
            " [121  70 110 170 115   4 105  79  87  76 123 215 233  50   3  15 181  25\n",
            "  235  68 121   2  99 100  12  72  80  95  33  79]]\n"
          ],
          "name": "stdout"
        }
      ]
    },
    {
      "cell_type": "markdown",
      "metadata": {
        "id": "bFZOKt94JMQh"
      },
      "source": [
        "Dimensions of all images must change to 100 * 100 pixels"
      ]
    },
    {
      "cell_type": "code",
      "metadata": {
        "id": "9QZ0jedklzxy",
        "colab": {
          "base_uri": "https://localhost:8080/",
          "height": 527
        },
        "outputId": "70279db0-4457-4861-9958-d47824f731a4"
      },
      "source": [
        "for filename in os.listdir(base_dir):\n",
        "  image = Image.open(base_dir + '/' + filename)\n",
        "  print(filename,\"has size\", image.size)  # size in pixels as a 2-tuple (width, height)"
      ],
      "execution_count": null,
      "outputs": [
        {
          "output_type": "stream",
          "text": [
            "F10.jpg has size (100, 100)\n",
            "S9.jpg has size (100, 100)\n",
            "W4.jpg has size (100, 100)\n",
            "W2.jpg has size (100, 100)\n",
            "F9.jpg has size (100, 100)\n",
            "S3.jpg has size (100, 100)\n",
            "F8.jpg has size (100, 100)\n",
            "S10.jpg has size (100, 100)\n",
            "F4.jpg has size (100, 100)\n",
            "W9.jpg has size (100, 100)\n",
            "W6.jpg has size (100, 100)\n",
            "W5.jpg has size (100, 100)\n",
            "S4.jpg has size (100, 100)\n",
            "S2.jpg has size (100, 100)\n",
            "S7.jpg has size (100, 100)\n",
            "F3.jpg has size (100, 100)\n",
            "W3.jpg has size (100, 100)\n",
            "F7.jpg has size (100, 100)\n",
            "W7.jpg has size (100, 100)\n",
            "S8.jpg has size (100, 100)\n",
            "W1.jpg has size (100, 100)\n",
            "S5.jpg has size (100, 100)\n",
            "S6.jpg has size (100, 100)\n",
            "F5.jpg has size (100, 100)\n",
            "S1.jpg has size (100, 100)\n",
            "W8.jpg has size (100, 100)\n",
            "W10.jpg has size (100, 100)\n",
            "F6.jpg has size (100, 100)\n",
            "F2.jpg has size (100, 100)\n",
            "F1.jpg has size (100, 100)\n"
          ],
          "name": "stdout"
        }
      ]
    },
    {
      "cell_type": "markdown",
      "metadata": {
        "id": "j1_zrbFrZjY9"
      },
      "source": [
        "## Question 2"
      ]
    },
    {
      "cell_type": "code",
      "metadata": {
        "id": "URhxZuryUCQ4"
      },
      "source": [
        "def plotImage(x, y, ax, rIm):\n",
        "  bb = Bbox.from_bounds(x,y,30,30)  \n",
        "  bb2 = TransformedBbox(bb,ax.transData)\n",
        "  bbox_image = BboxImage(bb2,\n",
        "                      norm = None,\n",
        "                      origin=None,\n",
        "                      clip_on=False)\n",
        "\n",
        "  bbox_image.set_data(rIm)\n",
        "  ax.add_artist(bbox_image)\n",
        "\n",
        "\n",
        "def PCADF(df, comps):  # takes a dataframe and return another with the pca values\n",
        "  scaled_features = StandardScaler().fit_transform(df.values)\n",
        "  df = pd.DataFrame(scaled_features, index=df.index, columns=df.columns)\n",
        "\n",
        "  # make list of col names\n",
        "  nAms = list()\n",
        "  for i in range(comps):\n",
        "    nAms.append(\"PC\"+str(i+1))\n",
        "\n",
        "  pca = PCA(n_components=comps)\n",
        "  principalComponents = pca.fit_transform(df.values)\n",
        "  principalDf = pd.DataFrame(data = principalComponents, columns = nAms)\n",
        "  \n",
        "  return principalDf\n",
        "\n",
        "\n",
        "def PCA_ImageSpaceVisualization(X): # X is the data array\n",
        "\n",
        "  df = pd.DataFrame(data=X)         # convert to dataframe\n",
        "  df = df.T\n",
        "\n",
        "  principalDf = PCADF(df, 2)\n",
        "\n",
        "  fig = plt.figure(figsize = (15,15))\n",
        "  ax = fig.add_subplot(111)\n",
        "  ax.set_xlabel('Principal Component 1', fontsize = 15)\n",
        "  ax.set_ylabel('Principal Component 2', fontsize = 15)\n",
        "  ax.set_title('2 component PCA', fontsize = 20)\n",
        "\n",
        "  for x, y, im in zip(principalDf[\"PC1\"], principalDf[\"PC2\"], X.T):\n",
        "    img = Image.fromarray(im.reshape((100, 100, 3)), 'RGB')\n",
        "    plotImage(x, y, ax, img)\n",
        "\n",
        "  ax.set_ylim(-200,200)\n",
        "  ax.set_xlim(-200,250)\n",
        "  ax.grid()\n",
        "\n",
        "  return"
      ],
      "execution_count": null,
      "outputs": []
    },
    {
      "cell_type": "code",
      "metadata": {
        "id": "gwjdPtPMcpne",
        "colab": {
          "base_uri": "https://localhost:8080/",
          "height": 906
        },
        "outputId": "4ad58db7-40f0-42e6-e19d-a5abcc3d3374"
      },
      "source": [
        "PCA_ImageSpaceVisualization(imAr)"
      ],
      "execution_count": null,
      "outputs": [
        {
          "output_type": "display_data",
          "data": {
            "image/png": "[encoded data removed]",
            "text/plain": [
              "<Figure size 1080x1080 with 1 Axes>"
            ]
          },
          "metadata": {
            "tags": [],
            "needs_background": "light"
          }
        }
      ]
    },
    {
      "cell_type": "markdown",
      "metadata": {
        "id": "A9E2fYO4iZPf"
      },
      "source": [
        "##### 2.1\n",
        "PCA is a dimensionality-reduction method that only uses the most important features of the data to compare them easily and quickly and to make it easier to visualize them.\n",
        " The closer two images are to each other in the plot, the more identical they are based on the first two main components, while the farther away they are, the less identical they are.\n",
        "These conclusions are also generalized for the large initial feature space of the images.\n",
        "Applying PCA does not alter the characteristics of the data, but only presents them more simply.\n",
        "If we made a similar comparison using all the original features we would have the same and perhaps clearer results with the difference that more extensive and slower processing would be required."
      ]
    },
    {
      "cell_type": "markdown",
      "metadata": {
        "id": "f6rUFRw8l6My"
      },
      "source": [
        "##### 2.2\n",
        "The winter images are grouped closer to each other and can be easily distinguished in comparison with the images of the other two seasons which are to some extent mixed. This clear grouping of winter images occurs due to their color shades that make them stand out from the spring and autumn ones. They have more gray, white and hazy colors that differentiate them from the other two categories."
      ]
    },
    {
      "cell_type": "markdown",
      "metadata": {
        "id": "bxD7b8z7sTgd"
      },
      "source": [
        "## Question 3"
      ]
    },
    {
      "cell_type": "code",
      "metadata": {
        "id": "tjA1EPydzcuH"
      },
      "source": [
        "def splitData(data, labels, t_size):\n",
        "  # Split dataset into training set and test set\n",
        "  return train_test_split(data, labels, test_size=t_size, random_state=109)\n",
        "\n",
        "def crossValS(data, labels, best_svr):\n",
        "  print(\"5-fold cross validation\")\n",
        "\n",
        "  scores = []\n",
        "  labelAr = numpy.array(labels)\n",
        "  cv = KFold(n_splits=5, shuffle=False)\n",
        "  for train_index, test_index in cv.split(data):\n",
        "\n",
        "      X_train, X_test, y_train, y_test = data[train_index], data[test_index], labelAr[train_index], labelAr[test_index]\n",
        "      best_svr.fit(X_train, y_train)\n",
        "      scores.append(best_svr.score(X_test, y_test))\n",
        "\n",
        "  print(\"Mean Score:\", np.mean(scores))\n",
        "  print(\"cross_val_score\", cross_val_score(best_svr, data, labels, cv=5))\n",
        "\n",
        "def K1NN(data, labels, X_train, X_test, y_train, y_test):\n",
        "\n",
        "  knn = KNeighborsClassifier(n_neighbors=1, weights='distance')\n",
        "\n",
        "  #Train the model using the training sets\n",
        "  knn.fit(X_train, y_train)\n",
        "\n",
        "  #Predict the response for test dataset\n",
        "  y_pred = knn.predict(X_test)\n",
        "\n",
        "  # Model Accuracy, how often is the classifier correct?\n",
        "  print(\"Classification Accuracy:\",metrics.accuracy_score(y_test, y_pred))\n",
        "  print(\"Balanced Classification Accuracy:\",metrics.balanced_accuracy_score(y_test, y_pred))\n",
        "\n",
        "  crossValS(data, labels, knn)\n",
        "\n",
        "  return\n",
        "\n",
        "\n",
        "def SVMclas(data, labels, X_train, X_test, y_train, y_test):\n",
        "\n",
        "  clf = svm.SVC(kernel='linear', C=1.0) # Linear Kernel\n",
        "\n",
        "  clf.fit(X_train, y_train)\n",
        "\n",
        "  y_pred = clf.predict(X_test)\n",
        "\n",
        "  print(\"Classification Accuracy:\",metrics.accuracy_score(y_test, y_pred))\n",
        "  print(\"Balanced Classification Accuracy:\",metrics.balanced_accuracy_score(y_test, y_pred))\n",
        "\n",
        "  crossValS(data, labels, clf)\n",
        "  return\n",
        "\n",
        "def PCADFWithComp(df):  # takes a dataframe and return another with the pca values\n",
        "  scaled_features = StandardScaler().fit_transform(df.values)\n",
        "  df = pd.DataFrame(scaled_features, index=df.index, columns=df.columns)\n",
        "\n",
        "  n_components = 30 ## how may componets to compute\n",
        "  pca = PCA(n_components=n_components, whiten=True).fit(df.values)\n",
        "  components = pca.transform(df.values)\n",
        "  \n",
        "  cumExplainedVar=np.cumsum(pca.explained_variance_ratio_)\n",
        "\n",
        "  plt.figure(figsize=(10, 10))\n",
        "  numOfComp=10\n",
        "  plt.subplot(2, 2, 1)\n",
        "  plt.bar(range(numOfComp),pca.explained_variance_ratio_[:numOfComp])\n",
        "  plt.xlabel(' components ')\n",
        "  plt.ylabel(' explained variance');\n",
        "\n",
        "  plt.subplot(2, 2, 2)\n",
        "  plt.plot(cumExplainedVar[:10])\n",
        "  plt.xlabel('number of components retained (10 first)')\n",
        "  plt.ylabel('cumulative explained variance');\n",
        "\n",
        "  plt.subplot(2, 2, 3)\n",
        "  plt.plot(cumExplainedVar[:20])\n",
        "  plt.xlabel('number of components retained (20 first)')\n",
        "  plt.ylabel('cumulative explained variance');\n",
        "\n",
        "  plt.subplot(2, 2, 4)\n",
        "  plt.plot(cumExplainedVar)\n",
        "  plt.xlabel('number of components retained (30)')\n",
        "  plt.ylabel('cumulative explained variance');\n",
        "\n",
        "  plt.show()\n",
        "\n",
        "  return"
      ],
      "execution_count": null,
      "outputs": []
    },
    {
      "cell_type": "markdown",
      "metadata": {
        "id": "xeDiSsOOhmTt"
      },
      "source": [
        "Classification Accuracy:\n",
        "\n",
        "$Accuracy=\\frac{TP+TN}{TP+FP+TN+FN}$\n",
        "\n",
        "where:<br>\n",
        "TP = True Positive<br>\n",
        "TN = True Negative<br>\n",
        "FP = False Positive<br>\n",
        "FP = False Negative<br>\n",
        "\n",
        "In each of the following fields the methods for the different data types are executed (1-NN and SVM for the initial full-scale vector-formatted images and for the low-dimensional features exported via PCA). Classification Accuracy (3.1) is calculated and 5-fold cross validation (3.2) is executed."
      ]
    },
    {
      "cell_type": "markdown",
      "metadata": {
        "id": "5gsSSBSharqa"
      },
      "source": [
        "(3.3)<br>\n",
        "The ability to estimate the dimension of the characteristics we export is very important for the proper use of PCA. This can be determined by examining the cumulative ratio of the variance in relation to the number of main components."
      ]
    },
    {
      "cell_type": "code",
      "metadata": {
        "id": "Op-RLVX0bJtX",
        "colab": {
          "base_uri": "https://localhost:8080/",
          "height": 611
        },
        "outputId": "584f7138-4e6c-4bd3-bba2-548a73e272bf"
      },
      "source": [
        "df = pd.DataFrame(data=imAr)\n",
        "df = df.T\n",
        "\n",
        "PCADFWithComp(df)"
      ],
      "execution_count": null,
      "outputs": [
        {
          "output_type": "display_data",
          "data": {
            "image/png": "[encoded data removed]",
            "text/plain": [
              "<Figure size 720x720 with 4 Axes>"
            ]
          },
          "metadata": {
            "tags": [],
            "needs_background": "light"
          }
        }
      ]
    },
    {
      "cell_type": "markdown",
      "metadata": {
        "id": "KYd-GVLFgPLx"
      },
      "source": [
        "We observe that the first two components explain about 58% of the data fluctuation while for the 90% we need about 16 components. Below we analyze the data in the first 10 components, a number that is large enough to have a good description of the data and small enough that the calculations are not time consuming."
      ]
    },
    {
      "cell_type": "markdown",
      "metadata": {
        "id": "34Yt5pUizB9e"
      },
      "source": [
        "1-NN on vector-formatted large dimension images."
      ]
    },
    {
      "cell_type": "code",
      "metadata": {
        "id": "GOEmtLI_axl2",
        "colab": {
          "base_uri": "https://localhost:8080/",
          "height": 102
        },
        "outputId": "91fda9d1-9fa2-44fd-b163-dbe387e5102a"
      },
      "source": [
        "tmp = imAr.T\n",
        "\n",
        "X_train, X_test, y_train, y_test = splitData(tmp, labels, 0.3)\n",
        "\n",
        "K1NN(tmp, labels, X_train, X_test, y_train, y_test)"
      ],
      "execution_count": null,
      "outputs": [
        {
          "output_type": "stream",
          "text": [
            "Classification Accuracy: 0.7777777777777778\n",
            "Balanced Classification Accuracy: 0.7222222222222222\n",
            "5-fold cross validation\n",
            "Mean Score: 0.8333333333333333\n",
            "cross_val_score [0.83333333 0.5        0.83333333 0.83333333 1.        ]\n"
          ],
          "name": "stdout"
        }
      ]
    },
    {
      "cell_type": "markdown",
      "metadata": {
        "id": "-lSVGP5JzMGk"
      },
      "source": [
        "1-NN on low dimensional characteristics via PCA"
      ]
    },
    {
      "cell_type": "code",
      "metadata": {
        "id": "c3AGZbVWWMeE",
        "colab": {
          "base_uri": "https://localhost:8080/",
          "height": 102
        },
        "outputId": "8b27ab16-bc28-41da-9319-b27e303b1776"
      },
      "source": [
        "principalDf = PCADF(df, 10)\n",
        "\n",
        "X_train, X_test, y_train, y_test = splitData(principalDf.to_numpy(), labels, 0.3)\n",
        "\n",
        "K1NN(principalDf.to_numpy(), labels, X_train, X_test, y_train, y_test)"
      ],
      "execution_count": null,
      "outputs": [
        {
          "output_type": "stream",
          "text": [
            "Classification Accuracy: 0.7777777777777778\n",
            "Balanced Classification Accuracy: 0.7222222222222222\n",
            "5-fold cross validation\n",
            "Mean Score: 0.6666666666666666\n",
            "cross_val_score [0.83333333 0.5        0.66666667 0.83333333 0.66666667]\n"
          ],
          "name": "stdout"
        }
      ]
    },
    {
      "cell_type": "markdown",
      "metadata": {
        "id": "gW06aecAzVkM"
      },
      "source": [
        "SVM on vector-formatted large dimension images."
      ]
    },
    {
      "cell_type": "code",
      "metadata": {
        "id": "6b75Ykgna5PE",
        "colab": {
          "base_uri": "https://localhost:8080/",
          "height": 102
        },
        "outputId": "42143a6c-bcb1-45f1-f301-f79e5a3f9ed2"
      },
      "source": [
        "X_train, X_test, y_train, y_test = splitData(tmp, labels, 0.3)\n",
        "\n",
        "SVMclas(tmp, labels, X_train, X_test, y_train, y_test)"
      ],
      "execution_count": null,
      "outputs": [
        {
          "output_type": "stream",
          "text": [
            "Classification Accuracy: 0.7777777777777778\n",
            "Balanced Classification Accuracy: 0.7222222222222222\n",
            "5-fold cross validation\n",
            "Mean Score: 0.7666666666666667\n",
            "cross_val_score [0.83333333 0.66666667 0.83333333 0.83333333 1.        ]\n"
          ],
          "name": "stdout"
        }
      ]
    },
    {
      "cell_type": "markdown",
      "metadata": {
        "id": "J2ijhbnBzcyE"
      },
      "source": [
        "SVM on low dimensional characteristics via PCA"
      ]
    },
    {
      "cell_type": "code",
      "metadata": {
        "id": "aARVN60LyhF4",
        "colab": {
          "base_uri": "https://localhost:8080/",
          "height": 102
        },
        "outputId": "91f19f27-37dc-48cd-cf23-ed7b33651307"
      },
      "source": [
        "X_train, X_test, y_train, y_test = splitData(principalDf.to_numpy(), labels, 0.3)\n",
        "\n",
        "SVMclas(principalDf.to_numpy(), labels, X_train, X_test, y_train, y_test)"
      ],
      "execution_count": null,
      "outputs": [
        {
          "output_type": "stream",
          "text": [
            "Classification Accuracy: 0.7777777777777778\n",
            "Balanced Classification Accuracy: 0.7222222222222222\n",
            "5-fold cross validation\n",
            "Mean Score: 0.7666666666666667\n",
            "cross_val_score [0.83333333 0.83333333 0.66666667 0.83333333 0.66666667]\n"
          ],
          "name": "stdout"
        }
      ]
    },
    {
      "cell_type": "markdown",
      "metadata": {
        "id": "guDi-212ePRt"
      },
      "source": [
        "The SVM classifier has better performance as we see from the mean scores of cross validation and from the classification accuracy scores. This was expected, since the SVM calculates outliers better than the KNN, while the KNN is better than the SVM only if the amount of training data is much larger than the number of features.\n",
        "<br>Source:\n",
        "<br>https://towardsdatascience.com/comparative-study-on-classic-machine-learning-algorithms-24f9ff6ab222#:~:text=SVM%20take%20cares%20of%20outliers,features%20and%20lesser%20training%20data."
      ]
    },
    {
      "cell_type": "markdown",
      "metadata": {
        "id": "9jlEBGVJCn0e"
      },
      "source": [
        "# Part 2"
      ]
    },
    {
      "cell_type": "markdown",
      "metadata": {
        "id": "9Tf2RqqGNdtp"
      },
      "source": [
        "We study the optimization problem\n",
        "<br><br>\n",
        "$$\\min_{W, C}∥X − WC∥^2_F + λ∥W∥^2_F + λ∥C∥^2_F s.t.W ≥ 0, C ≥ 0$$"
      ]
    },
    {
      "cell_type": "markdown",
      "metadata": {
        "id": "6SFCukiRQDzi"
      },
      "source": [
        "Two ways to solve the problem were studied.\n",
        "<br>\n",
        "###First way, which is by far the most efficient:\n",
        "<br>Taking into consideration that for the least squares problem discussed in course<br><br>\n",
        "$$\\min_{W,C} l(W,C) = ∥ X − WC ∥ _F^2 s.t.W ≥ 0, C ≥ 0 $$\n",
        "\n",
        "we end up with the following parameter update formulas:<br><br>\n",
        "$ C_{[t+1]} = C_{[t]} − n_t*∇_{C_{[t]}} l (W,C_{[t]}) $  \n",
        "<br>\n",
        "$ W_{[t+1]} = W_{[t]} − n_t*∇_{W_{[t]}} l (W_{[t]},C) $  \n",
        "<br>\n",
        "t = t + 1\n",
        "<br>\n",
        "or equivalently<br>\n",
        "$C_{[t+1]} =C_{[t]}*\\frac{W_{[t]}^TX}{W_{[t]}^TW_{[t]}C_{[t]}} $  \n",
        "<br>\n",
        "$W_{[t+1]} =W_{[t]}*\\frac{XC_{[t]}^T}{W_{[t]}C_{[t]}C_{[t]}^T} $\n",
        "<br>t = t + 1  \n",
        "\n",
        "then, as it comes to the problem given, we end up with the following formulas based on the source https://stats.stackexchange.com/questions/351359/deriving-multiplicative-update-rules-for-nmf:<br><br>\n",
        "$ C_{[t+1]} = C_{[t]} * \\frac{W^TX} {W^TWC_{[t]} + λC_{[t]}} $  \n",
        "<br>\n",
        "$ W_{[t+1]} = W_{[t]} * \\frac{XC^T} {W_{[t]}CC^T + λW_{[t]}} $\n",
        "<br>\n",
        "t = t + 1  \n",
        "<br>\n",
        "## Justification:  \n",
        "\n",
        "$$\\min_{W,C} l(W,C) = ∥ X − WC ∥ _F^2 s.t.W ≥ 0, C ≥ 0 $$\n",
        "from $ ∥ X ∥ _F^2 = Tr(X^TX) $ we equivalently get<br><br>\n",
        "$Tr((X-WC)^T(X-WC)) + λTr(W^TW) + λTr(C^TC) =$<br>  \n",
        "$Tr(X^TX - X^TWC -C^TW^TX + C^TW^TWC) + λTr(W^TW) + λTr(C^TC)=$<br>\n",
        "$Tr(X^T) - Tr(X^TWC) - Tr(C^TW^TX) + Tr(C^TW^TWC) + λTr(W^TW) + λTr(C^TC)$\n",
        "\n",
        "<br>By derivation with respect to W we get:<br><br>\n",
        "$ ∇_W Tr(X^T) - ∇_W Tr(X^TWC) - ∇_W Tr(C^TW^TX) + ∇_W Tr(C^TW^TWC) + ∇_W\n",
        "λTr(W^TW) + ∇_W λTr(C^TC)$<br><br>\n",
        "\n",
        "According to the properties:<br>\n",
        "$ ∇_X Tr(AX) = A^T $<br>\n",
        "$ ∇_X Tr(X^TA) = A $<br>\n",
        "$ ∇_X Tr(XAA^TX^T) = X(A + A^T)$<br><br>\n",
        "\n",
        "We calculate the derivatives:<br>\n",
        "$ ∇_W Tr(X^TX) = 0$<br><br>\n",
        "$ ∇_W Tr(X^TWC) = ∇_W Tr(CX^TW) = (CX^T)^T = XC^T$<br><br>\n",
        "$ ∇_W Tr(C^TW^TX) = ∇_W Tr(XC^TW^T) = XC^T $<br><br>\n",
        "$ ∇_W Tr(C^TW^TWC) = ∇_W Tr(WCC^TW^T) = W(CC^T + (CC^T)^T) = 2WCC^T$<br><br>\n",
        "$ ∇_W λTr(W^TW) = ∇_W λTr(WIW^T) = λW(I + I^T) = 2λW$<br><br>\n",
        "$ ∇_W λTr(C^TC) = 0 $<br><br>\n",
        "\n",
        "\n",
        "So we conclude that<br><br>\n",
        "$ ∇_W f(W,C) = 2WCC^T + 2λW - 2XC^T$<br><br>\n",
        "Therefore<br><br>\n",
        "$ W_{[t+1]} = W_{[t]} - n_t*∇_{W_{[t]}} l (W_{[t]},C)=$<br><br>\n",
        "$W_{[t]} - n_t * (2W_{[t]}CC^T + 2λW_{[t]} - 2XC^T)$<br><br>\n",
        "\n",
        "The constant 2 can be adjusted to the learning rate $ (n_t) $ and thus can be ignored at this point:<br><br>\n",
        "$ W_{[t+1]} = W_{[t]} - n_t * (W_{[t+1]}CC^T - XC^T + λW_{[t+1]})$<br>\n",
        "or equivalently<br><br>\n",
        "$ W_{[t+1]} = W_{[t]} * \\frac{XC^T} {W_{[t]}CC^T + λW_{[t]}}$<br><br>\n",
        "\n",
        "Respectively, with derivative with respect to C we conclude that<br>\n",
        "$ C_{[t+1]} = C_{[t]} * \\frac{W^TX} {W^TWC_{[t]} + λC_{[t]}} $\n",
        "\n",
        "To determine if the iterative algorithm converges to the optimal solution we monitor the reconstruction error\n",
        "<br><br>$\\frac{∥X − W_{[t]}C_{[t]}∥^2_F}{∥X∥^2_F}$ <br><br>\n",
        "\n",
        "in each iteration and if its change between two consecutive iterations is less than a threshold $ε$\n",
        "<br><br>$\\frac{∥X − W_{[t]}C_{[t]}∥^2_F - ∥X − W_{[t-1]}C_{[t-1]}∥^2_F}{∥X∥^2_F} < ε$ <br><br>\n",
        "with $ε$ = 0.01 or 0.001 or 0.0001 the algorithm is terminated. $t$ on the above relations symbolizes the iteration index."
      ]
    },
    {
      "cell_type": "code",
      "metadata": {
        "id": "VwttnhRI74xt"
      },
      "source": [
        "# W : matrix of basis vectors\n",
        "# C : matrix of coefficients\n",
        "# frob_error : frobenius norm\n",
        "def frobenius_norm(X,W,C):\n",
        "\t\t#error between X and W*H\n",
        "\t\terror = LA.norm(X - np.dot(W, C))\n",
        "\t\treturn error\n",
        "\n",
        "def C_update(X, W, C, l):\n",
        "  numerator = np.dot(W.T, X)\n",
        "  denominator = np.dot(W.T, W.dot(C)) + l*C\n",
        "  C = np.multiply(C, numerator) / denominator\n",
        "  return C\n",
        "\n",
        "def W_update(X, W, C, l):\n",
        "  numerator = X.dot(C.T)\n",
        "  denominator = W.dot(C.dot(C.T)) + l*W\n",
        "  W = np.multiply(W, numerator) / denominator\n",
        "  return W\n",
        "\n",
        "def RegUNMF(X, k, lambdaL, epsilon):\n",
        "  X_dim, samples = X.shape\n",
        "  W = np.random.random((X_dim, k))\n",
        "  C = np.random.random((k, samples))\n",
        "\n",
        "  diff = epsilon + 1\n",
        "  iters=0\n",
        "  while diff>=epsilon:\n",
        "    iters+=1\n",
        "    wNew=W_update(X, W, C, lambdaL)\n",
        "    cNew=C_update(X, W, C, lambdaL)\n",
        "\n",
        "    frob_er = frobenius_norm(X, wNew, cNew)\n",
        "    diff = abs(frob_er - frobenius_norm(X, W, C)) / LA.norm(X)\n",
        "\n",
        "    W = wNew\n",
        "    C = cNew\n",
        "\n",
        "  return (wNew, cNew, iters, frob_er)\n",
        "\n",
        "def RunReg(X, rank, l, epsilon):\n",
        "  W, C, iters, frob_er = RegUNMF(X, rank, l, epsilon)\n",
        "\n",
        "  print(75*\"-\")\n",
        "  print(\"For rank=\", rank, \"and l=\", l, \"and epsilon=\", epsilon, iters, \"iterations made\")\n",
        "  print (34*\"-\", \"X\", 34*\"-\")\n",
        "  print (X)\n",
        "  # print (34*\"-\", \"W\", 34*\"-\")\n",
        "  # print (W)\n",
        "  # print (34*\"-\", \"C\", 34*\"-\")\n",
        "  # print (H)\n",
        "  print (27*\"-\", \"W.dot(C)\", 27*\"-\")\n",
        "  print (W.dot(C))\n",
        "  print (25*\"-\", \"(X - np.dot(W,C))\", 25*\"-\")\n",
        "  print(np.ndarray.sum(abs(X - np.dot(W,C)))/500000)\n",
        "  print (26*\"-\", \"frobenius_norm\", 26*\"-\")\n",
        "  print(frob_er)\n",
        "  print(75*\"-\")\n",
        "\n",
        "X = np.random.random((500,1000))"
      ],
      "execution_count": null,
      "outputs": []
    },
    {
      "cell_type": "markdown",
      "metadata": {
        "id": "s2fLGs2CB5YD"
      },
      "source": [
        "$λ=0.0$ for $ε=0.01$"
      ]
    },
    {
      "cell_type": "code",
      "metadata": {
        "id": "2U4YvAyQB1H7",
        "colab": {
          "base_uri": "https://localhost:8080/",
          "height": 408
        },
        "outputId": "070bbd0d-3dc6-4790-e821-05a204ddd030"
      },
      "source": [
        "RunReg(X, 1, 0.0, 0.01)"
      ],
      "execution_count": null,
      "outputs": [
        {
          "output_type": "stream",
          "text": [
            "---------------------------------------------------------------------------\n",
            "For rank= 1 and l= 0.0 and epsilon= 0.01 2 iterations made\n",
            "---------------------------------- X ----------------------------------\n",
            "[[0.18765425 0.1679271  0.32601351 ... 0.53879014 0.52659466 0.65917599]\n",
            " [0.27581471 0.11637603 0.75602255 ... 0.70060198 0.0572841  0.64903725]\n",
            " [0.29920321 0.71168337 0.93587113 ... 0.75914369 0.90888289 0.87383146]\n",
            " ...\n",
            " [0.55318771 0.87638193 0.29894431 ... 0.39717961 0.97648978 0.72961434]\n",
            " [0.16246698 0.95246423 0.90550678 ... 0.99219818 0.05359102 0.12938735]\n",
            " [0.23485113 0.93293591 0.59291806 ... 0.01102449 0.6267375  0.30056236]]\n",
            "--------------------------- W.dot(C) ---------------------------\n",
            "[[0.44198429 0.43793555 0.46994227 ... 0.4403397  0.4437866  0.47111921]\n",
            " [0.44397407 0.4399071  0.47205792 ... 0.44232208 0.44578449 0.47324015]\n",
            " [0.44963736 0.44551851 0.47807944 ... 0.44796429 0.45147087 0.47927675]\n",
            " ...\n",
            " [0.43587437 0.4318816  0.46344587 ... 0.43425252 0.43765176 0.46460653]\n",
            " [0.45466183 0.45049696 0.48342174 ... 0.45297007 0.45651584 0.48463244]\n",
            " [0.44908469 0.4449709  0.47749181 ... 0.44741368 0.45091595 0.47868765]]\n",
            "------------------------- (X - np.dot(W,C)) -------------------------\n",
            "0.25315997721751093\n",
            "-------------------------- frobenius_norm --------------------------\n",
            "208.0023020012801\n",
            "---------------------------------------------------------------------------\n"
          ],
          "name": "stdout"
        }
      ]
    },
    {
      "cell_type": "markdown",
      "metadata": {
        "id": "WPMv-4IcXLHL"
      },
      "source": [
        "$λ=1.0$, $λ=0.1$, $λ=0.01$ for $ε=0.001$"
      ]
    },
    {
      "cell_type": "code",
      "metadata": {
        "id": "qnMBXj4S_ZM7",
        "colab": {
          "base_uri": "https://localhost:8080/",
          "height": 1000
        },
        "outputId": "d66b55c1-eb63-4a31-cecd-7259e780b56e"
      },
      "source": [
        "RunReg(X, 1, 1.0, 0.001)\n",
        "RunReg(X, 10, 1.0, 0.001)\n",
        "RunReg(X, 100, 1.0, 0.001)\n",
        "\n",
        "RunReg(X, 1, 0.1, 0.001)\n",
        "RunReg(X, 10, 0.1, 0.001)\n",
        "RunReg(X, 100, 0.1, 0.001)\n",
        "\n",
        "RunReg(X, 1, 0.01, 0.001)\n",
        "RunReg(X, 10, 0.01, 0.001)\n",
        "RunReg(X, 100, 0.01, 0.001)"
      ],
      "execution_count": null,
      "outputs": [
        {
          "output_type": "stream",
          "text": [
            "---------------------------------------------------------------------------\n",
            "For rank= 1 and l= 1.0 and epsilon= 0.001 27 iterations made\n",
            "---------------------------------- X ----------------------------------\n",
            "[[0.18765425 0.1679271  0.32601351 ... 0.53879014 0.52659466 0.65917599]\n",
            " [0.27581471 0.11637603 0.75602255 ... 0.70060198 0.0572841  0.64903725]\n",
            " [0.29920321 0.71168337 0.93587113 ... 0.75914369 0.90888289 0.87383146]\n",
            " ...\n",
            " [0.55318771 0.87638193 0.29894431 ... 0.39717961 0.97648978 0.72961434]\n",
            " [0.16246698 0.95246423 0.90550678 ... 0.99219818 0.05359102 0.12938735]\n",
            " [0.23485113 0.93293591 0.59291806 ... 0.01102449 0.6267375  0.30056236]]\n",
            "--------------------------- W.dot(C) ---------------------------\n",
            "[[0.55683685 0.55162051 0.59213068 ... 0.55466577 0.55870513 0.59354078]\n",
            " [0.55951128 0.55426989 0.59497463 ... 0.55732978 0.56138853 0.5963915 ]\n",
            " [0.56627482 0.56097007 0.60216686 ... 0.56406695 0.56817477 0.60360086]\n",
            " ...\n",
            " [0.54903505 0.54389179 0.58383438 ... 0.54689439 0.55087715 0.58522473]\n",
            " [0.57261872 0.56725454 0.60891285 ... 0.57038611 0.57453995 0.61036292]\n",
            " [0.56593798 0.56063638 0.60180866 ... 0.56373142 0.56783679 0.60324182]]\n",
            "------------------------- (X - np.dot(W,C)) -------------------------\n",
            "0.25307990783200845\n",
            "-------------------------- frobenius_norm --------------------------\n",
            "207.95342553027587\n",
            "---------------------------------------------------------------------------\n",
            "---------------------------------------------------------------------------\n",
            "For rank= 10 and l= 1.0 and epsilon= 0.001 340 iterations made\n",
            "---------------------------------- X ----------------------------------\n",
            "[[0.18765425 0.1679271  0.32601351 ... 0.53879014 0.52659466 0.65917599]\n",
            " [0.27581471 0.11637603 0.75602255 ... 0.70060198 0.0572841  0.64903725]\n",
            " [0.29920321 0.71168337 0.93587113 ... 0.75914369 0.90888289 0.87383146]\n",
            " ...\n",
            " [0.55318771 0.87638193 0.29894431 ... 0.39717961 0.97648978 0.72961434]\n",
            " [0.16246698 0.95246423 0.90550678 ... 0.99219818 0.05359102 0.12938735]\n",
            " [0.23485113 0.93293591 0.59291806 ... 0.01102449 0.6267375  0.30056236]]\n",
            "--------------------------- W.dot(C) ---------------------------\n",
            "[[0.52042858 0.55263045 0.56580466 ... 0.64003892 0.52009409 0.50113971]\n",
            " [0.41219812 0.60420993 0.71630189 ... 0.5417903  0.65081572 0.61577225]\n",
            " [0.53040673 0.45899859 0.716867   ... 0.55999765 0.71091049 0.6008908 ]\n",
            " ...\n",
            " [0.56135927 0.63968091 0.6231397  ... 0.59283656 0.63627888 0.64639194]\n",
            " [0.58250676 0.51519052 0.58723747 ... 0.5223206  0.65052827 0.69679965]\n",
            " [0.44604586 0.63133982 0.59093979 ... 0.55754597 0.48910459 0.4812339 ]]\n",
            "------------------------- (X - np.dot(W,C)) -------------------------\n",
            "0.24605977779396004\n",
            "-------------------------- frobenius_norm --------------------------\n",
            "203.8851195393523\n",
            "---------------------------------------------------------------------------\n",
            "---------------------------------------------------------------------------\n",
            "For rank= 100 and l= 1.0 and epsilon= 0.001 204 iterations made\n",
            "---------------------------------- X ----------------------------------\n",
            "[[0.18765425 0.1679271  0.32601351 ... 0.53879014 0.52659466 0.65917599]\n",
            " [0.27581471 0.11637603 0.75602255 ... 0.70060198 0.0572841  0.64903725]\n",
            " [0.29920321 0.71168337 0.93587113 ... 0.75914369 0.90888289 0.87383146]\n",
            " ...\n",
            " [0.55318771 0.87638193 0.29894431 ... 0.39717961 0.97648978 0.72961434]\n",
            " [0.16246698 0.95246423 0.90550678 ... 0.99219818 0.05359102 0.12938735]\n",
            " [0.23485113 0.93293591 0.59291806 ... 0.01102449 0.6267375  0.30056236]]\n",
            "--------------------------- W.dot(C) ---------------------------\n",
            "[[0.40525568 0.33192009 0.60157957 ... 0.61115072 0.5187416  0.86304336]\n",
            " [0.55844218 0.68050735 0.75477621 ... 0.69310229 0.49811036 0.47470655]\n",
            " [0.54815907 0.55428753 0.72844129 ... 0.5508058  0.73464615 0.60018942]\n",
            " ...\n",
            " [0.51124467 0.62395518 0.65250623 ... 0.57190902 0.4686722  0.60292079]\n",
            " [0.77958475 0.78921692 0.68723831 ... 0.4843728  0.51702442 0.64512513]\n",
            " [0.5711929  0.74189737 0.54450114 ... 0.40266396 0.65256097 0.62596765]]\n",
            "------------------------- (X - np.dot(W,C)) -------------------------\n",
            "0.21560915604486117\n",
            "-------------------------- frobenius_norm --------------------------\n",
            "183.6470841667176\n",
            "---------------------------------------------------------------------------\n",
            "---------------------------------------------------------------------------\n",
            "For rank= 1 and l= 0.1 and epsilon= 0.001 417 iterations made\n",
            "---------------------------------- X ----------------------------------\n",
            "[[0.18765425 0.1679271  0.32601351 ... 0.53879014 0.52659466 0.65917599]\n",
            " [0.27581471 0.11637603 0.75602255 ... 0.70060198 0.0572841  0.64903725]\n",
            " [0.29920321 0.71168337 0.93587113 ... 0.75914369 0.90888289 0.87383146]\n",
            " ...\n",
            " [0.55318771 0.87638193 0.29894431 ... 0.39717961 0.97648978 0.72961434]\n",
            " [0.16246698 0.95246423 0.90550678 ... 0.99219818 0.05359102 0.12938735]\n",
            " [0.23485113 0.93293591 0.59291806 ... 0.01102449 0.6267375  0.30056236]]\n",
            "--------------------------- W.dot(C) ---------------------------\n",
            "[[0.54650373 0.54138419 0.58114262 ... 0.54437294 0.54833734 0.58252655]\n",
            " [0.54912853 0.5439844  0.58393379 ... 0.54698751 0.55097095 0.58532437]\n",
            " [0.55576656 0.55056025 0.59099255 ... 0.55359966 0.55763125 0.59239995]\n",
            " ...\n",
            " [0.5388467  0.53379889 0.57300027 ... 0.53674577 0.54065462 0.57436481]\n",
            " [0.56199274 0.5567281  0.59761337 ... 0.55980156 0.56387832 0.59903653]\n",
            " [0.55543597 0.55023275 0.59064101 ... 0.55327035 0.55729955 0.59204756]]\n",
            "------------------------- (X - np.dot(W,C)) -------------------------\n",
            "0.2520122741454551\n",
            "-------------------------- frobenius_norm --------------------------\n",
            "206.65579653353322\n",
            "---------------------------------------------------------------------------\n",
            "---------------------------------------------------------------------------\n",
            "For rank= 10 and l= 0.1 and epsilon= 0.001 3552 iterations made\n",
            "---------------------------------- X ----------------------------------\n",
            "[[0.18765425 0.1679271  0.32601351 ... 0.53879014 0.52659466 0.65917599]\n",
            " [0.27581471 0.11637603 0.75602255 ... 0.70060198 0.0572841  0.64903725]\n",
            " [0.29920321 0.71168337 0.93587113 ... 0.75914369 0.90888289 0.87383146]\n",
            " ...\n",
            " [0.55318771 0.87638193 0.29894431 ... 0.39717961 0.97648978 0.72961434]\n",
            " [0.16246698 0.95246423 0.90550678 ... 0.99219818 0.05359102 0.12938735]\n",
            " [0.23485113 0.93293591 0.59291806 ... 0.01102449 0.6267375  0.30056236]]\n",
            "--------------------------- W.dot(C) ---------------------------\n",
            "[[0.51070927 0.46803242 0.70264504 ... 0.53046125 0.47732789 0.53506031]\n",
            " [0.42688858 0.60526329 0.62849809 ... 0.56516203 0.60614926 0.53010235]\n",
            " [0.56635153 0.59997943 0.61219283 ... 0.5678116  0.72043555 0.62640196]\n",
            " ...\n",
            " [0.57296577 0.55716934 0.44792032 ... 0.6288488  0.62265033 0.54044118]\n",
            " [0.58506392 0.59048769 0.51711549 ... 0.50259235 0.5921985  0.67093519]\n",
            " [0.46761879 0.59373065 0.40319426 ... 0.48060706 0.45778245 0.5839558 ]]\n",
            "------------------------- (X - np.dot(W,C)) -------------------------\n",
            "0.24383135644312887\n",
            "-------------------------- frobenius_norm --------------------------\n",
            "201.74158864219422\n",
            "---------------------------------------------------------------------------\n",
            "---------------------------------------------------------------------------\n",
            "For rank= 100 and l= 0.1 and epsilon= 0.001 1626 iterations made\n",
            "---------------------------------- X ----------------------------------\n",
            "[[0.18765425 0.1679271  0.32601351 ... 0.53879014 0.52659466 0.65917599]\n",
            " [0.27581471 0.11637603 0.75602255 ... 0.70060198 0.0572841  0.64903725]\n",
            " [0.29920321 0.71168337 0.93587113 ... 0.75914369 0.90888289 0.87383146]\n",
            " ...\n",
            " [0.55318771 0.87638193 0.29894431 ... 0.39717961 0.97648978 0.72961434]\n",
            " [0.16246698 0.95246423 0.90550678 ... 0.99219818 0.05359102 0.12938735]\n",
            " [0.23485113 0.93293591 0.59291806 ... 0.01102449 0.6267375  0.30056236]]\n",
            "--------------------------- W.dot(C) ---------------------------\n",
            "[[0.38540423 0.34775485 0.54347071 ... 0.47359446 0.56958824 0.60182828]\n",
            " [0.43621239 0.36423593 0.59716447 ... 0.65664197 0.51133807 0.74428708]\n",
            " [0.43416542 0.61440206 0.64520382 ... 0.75525276 0.7537881  0.72686747]\n",
            " ...\n",
            " [0.44266771 0.73235645 0.4076168  ... 0.77077816 0.64153545 0.80954227]\n",
            " [0.51458606 0.79385609 0.70576181 ... 0.51159093 0.41406535 0.57510734]\n",
            " [0.20607978 0.81496542 0.81569044 ... 0.4786242  0.62375318 0.52786977]]\n",
            "------------------------- (X - np.dot(W,C)) -------------------------\n",
            "0.20284536442241297\n",
            "-------------------------- frobenius_norm --------------------------\n",
            "172.9243547794459\n",
            "---------------------------------------------------------------------------\n",
            "---------------------------------------------------------------------------\n",
            "For rank= 1 and l= 0.01 and epsilon= 0.001 6989 iterations made\n",
            "---------------------------------- X ----------------------------------\n",
            "[[0.18765425 0.1679271  0.32601351 ... 0.53879014 0.52659466 0.65917599]\n",
            " [0.27581471 0.11637603 0.75602255 ... 0.70060198 0.0572841  0.64903725]\n",
            " [0.29920321 0.71168337 0.93587113 ... 0.75914369 0.90888289 0.87383146]\n",
            " ...\n",
            " [0.55318771 0.87638193 0.29894431 ... 0.39717961 0.97648978 0.72961434]\n",
            " [0.16246698 0.95246423 0.90550678 ... 0.99219818 0.05359102 0.12938735]\n",
            " [0.23485113 0.93293591 0.59291806 ... 0.01102449 0.6267375  0.30056236]]\n",
            "--------------------------- W.dot(C) ---------------------------\n",
            "[[0.54548485 0.54037486 0.58005916 ... 0.54335803 0.54731504 0.58144052]\n",
            " [0.54810476 0.54297022 0.58284513 ... 0.54596773 0.54994374 0.58423312]\n",
            " [0.55473041 0.54953381 0.58989074 ... 0.55256755 0.55659163 0.59129551]\n",
            " ...\n",
            " [0.5378421  0.5328037  0.57193199 ... 0.53574508 0.53964665 0.573294  ]\n",
            " [0.56094499 0.55569016 0.5964992  ... 0.55875789 0.56282705 0.59791971]\n",
            " [0.55440044 0.54920693 0.58953985 ... 0.55223886 0.55626054 0.59094378]]\n",
            "------------------------- (X - np.dot(W,C)) -------------------------\n",
            "0.2519184596530365\n",
            "-------------------------- frobenius_norm --------------------------\n",
            "206.54140739027486\n",
            "---------------------------------------------------------------------------\n",
            "---------------------------------------------------------------------------\n",
            "For rank= 10 and l= 0.01 and epsilon= 0.001 35760 iterations made\n",
            "---------------------------------- X ----------------------------------\n",
            "[[0.18765425 0.1679271  0.32601351 ... 0.53879014 0.52659466 0.65917599]\n",
            " [0.27581471 0.11637603 0.75602255 ... 0.70060198 0.0572841  0.64903725]\n",
            " [0.29920321 0.71168337 0.93587113 ... 0.75914369 0.90888289 0.87383146]\n",
            " ...\n",
            " [0.55318771 0.87638193 0.29894431 ... 0.39717961 0.97648978 0.72961434]\n",
            " [0.16246698 0.95246423 0.90550678 ... 0.99219818 0.05359102 0.12938735]\n",
            " [0.23485113 0.93293591 0.59291806 ... 0.01102449 0.6267375  0.30056236]]\n",
            "--------------------------- W.dot(C) ---------------------------\n",
            "[[0.52074234 0.4270504  0.64391475 ... 0.56914949 0.46184961 0.49727545]\n",
            " [0.44146366 0.54213426 0.63748437 ... 0.44797125 0.49351728 0.62887659]\n",
            " [0.60470703 0.5794081  0.55263824 ... 0.50591081 0.62422408 0.66379003]\n",
            " ...\n",
            " [0.58742153 0.5764536  0.51662454 ... 0.54628846 0.64358253 0.56714812]\n",
            " [0.58133964 0.56740336 0.59206689 ... 0.4996754  0.62692071 0.64261736]\n",
            " [0.41505325 0.62116878 0.46258181 ... 0.46473581 0.53901947 0.55179875]]\n",
            "------------------------- (X - np.dot(W,C)) -------------------------\n",
            "0.2435866078055365\n",
            "-------------------------- frobenius_norm --------------------------\n",
            "201.54367094585268\n",
            "---------------------------------------------------------------------------\n",
            "---------------------------------------------------------------------------\n",
            "For rank= 100 and l= 0.01 and epsilon= 0.001 15602 iterations made\n",
            "---------------------------------- X ----------------------------------\n",
            "[[0.18765425 0.1679271  0.32601351 ... 0.53879014 0.52659466 0.65917599]\n",
            " [0.27581471 0.11637603 0.75602255 ... 0.70060198 0.0572841  0.64903725]\n",
            " [0.29920321 0.71168337 0.93587113 ... 0.75914369 0.90888289 0.87383146]\n",
            " ...\n",
            " [0.55318771 0.87638193 0.29894431 ... 0.39717961 0.97648978 0.72961434]\n",
            " [0.16246698 0.95246423 0.90550678 ... 0.99219818 0.05359102 0.12938735]\n",
            " [0.23485113 0.93293591 0.59291806 ... 0.01102449 0.6267375  0.30056236]]\n",
            "--------------------------- W.dot(C) ---------------------------\n",
            "[[0.17765111 0.44908677 0.54873341 ... 0.70779529 0.44141423 0.5236796 ]\n",
            " [0.47481208 0.34332735 0.60348694 ... 0.85711464 0.5821953  0.49107539]\n",
            " [0.4449338  0.59136829 0.37665609 ... 0.60098191 0.53949293 0.71068167]\n",
            " ...\n",
            " [0.46173977 0.61970718 0.39409802 ... 0.56716839 0.58427015 0.51626535]\n",
            " [0.4061264  0.62674456 0.57623556 ... 0.63446543 0.50532349 0.53465355]\n",
            " [0.39540705 0.7226542  0.46297139 ... 0.45729128 0.73040954 0.40824647]]\n",
            "------------------------- (X - np.dot(W,C)) -------------------------\n",
            "0.20070191700964166\n",
            "-------------------------- frobenius_norm --------------------------\n",
            "171.27818031069575\n",
            "---------------------------------------------------------------------------\n"
          ],
          "name": "stdout"
        }
      ]
    },
    {
      "cell_type": "markdown",
      "metadata": {
        "id": "K1SCu7QUCORy"
      },
      "source": [
        "We observe that we have the optimal result for $ k $ = 100 and $ λ $ = 0.01. However, this execution requires significantly more time and performs many more iterations (15686) than the immediately worse result ($ k $ = 100, $ λ $ = 0.1 with 1634 iterations)"
      ]
    },
    {
      "cell_type": "markdown",
      "metadata": {
        "id": "xoKPQVkvYk6b"
      },
      "source": [
        "$λ=1.0$, $λ=0.1$ for $ε=0.01$"
      ]
    },
    {
      "cell_type": "code",
      "metadata": {
        "id": "OAeYF5r7YpgS",
        "colab": {
          "base_uri": "https://localhost:8080/",
          "height": 1000
        },
        "outputId": "cdeefee2-89ba-4afd-b9f6-6aea4d0af9a1"
      },
      "source": [
        "RunReg(X, 1, 1.0, 0.01)\n",
        "RunReg(X, 10, 1.0, 0.01)\n",
        "RunReg(X, 100, 1.0, 0.01)\n",
        "\n",
        "RunReg(X, 1, 0.1, 0.01)\n",
        "RunReg(X, 10, 0.1, 0.01)\n",
        "RunReg(X, 100, 0.1, 0.01)"
      ],
      "execution_count": null,
      "outputs": [
        {
          "output_type": "stream",
          "text": [
            "---------------------------------------------------------------------------\n",
            "For rank= 1 and l= 1.0 and epsilon= 0.01 2 iterations made\n",
            "---------------------------------- X ----------------------------------\n",
            "[[0.18765425 0.1679271  0.32601351 ... 0.53879014 0.52659466 0.65917599]\n",
            " [0.27581471 0.11637603 0.75602255 ... 0.70060198 0.0572841  0.64903725]\n",
            " [0.29920321 0.71168337 0.93587113 ... 0.75914369 0.90888289 0.87383146]\n",
            " ...\n",
            " [0.55318771 0.87638193 0.29894431 ... 0.39717961 0.97648978 0.72961434]\n",
            " [0.16246698 0.95246423 0.90550678 ... 0.99219818 0.05359102 0.12938735]\n",
            " [0.23485113 0.93293591 0.59291806 ... 0.01102449 0.6267375  0.30056236]]\n",
            "--------------------------- W.dot(C) ---------------------------\n",
            "[[0.45019642 0.44574706 0.47832236 ... 0.44808761 0.45139663 0.47964296]\n",
            " [0.45286058 0.44838488 0.48115296 ... 0.45073928 0.45406789 0.48248137]\n",
            " [0.45839531 0.45386492 0.48703348 ... 0.45624809 0.45961738 0.48837813]\n",
            " ...\n",
            " [0.44453064 0.44013727 0.47230261 ... 0.44244836 0.44571574 0.47360659]\n",
            " [0.46344124 0.45886097 0.49239465 ... 0.46127038 0.46467676 0.4937541 ]\n",
            " [0.45781285 0.45328821 0.48641462 ... 0.45566836 0.45903336 0.48775756]]\n",
            "------------------------- (X - np.dot(W,C)) -------------------------\n",
            "0.2522774609244784\n",
            "-------------------------- frobenius_norm --------------------------\n",
            "206.93926522910633\n",
            "---------------------------------------------------------------------------\n",
            "---------------------------------------------------------------------------\n",
            "For rank= 10 and l= 1.0 and epsilon= 0.01 264 iterations made\n",
            "---------------------------------- X ----------------------------------\n",
            "[[0.18765425 0.1679271  0.32601351 ... 0.53879014 0.52659466 0.65917599]\n",
            " [0.27581471 0.11637603 0.75602255 ... 0.70060198 0.0572841  0.64903725]\n",
            " [0.29920321 0.71168337 0.93587113 ... 0.75914369 0.90888289 0.87383146]\n",
            " ...\n",
            " [0.55318771 0.87638193 0.29894431 ... 0.39717961 0.97648978 0.72961434]\n",
            " [0.16246698 0.95246423 0.90550678 ... 0.99219818 0.05359102 0.12938735]\n",
            " [0.23485113 0.93293591 0.59291806 ... 0.01102449 0.6267375  0.30056236]]\n",
            "--------------------------- W.dot(C) ---------------------------\n",
            "[[0.51889018 0.61357652 0.64887534 ... 0.64704566 0.67903674 0.53124806]\n",
            " [0.53780319 0.61541356 0.52798735 ... 0.81993275 0.69277984 0.67837426]\n",
            " [0.60255734 0.69766515 0.61935932 ... 0.67341509 0.712825   0.70855224]\n",
            " ...\n",
            " [0.61209364 0.70035666 0.5396527  ... 0.72104332 0.61871122 0.78484988]\n",
            " [0.65327495 0.65840128 0.64789304 ... 0.67286273 0.7280743  0.59351243]\n",
            " [0.55768487 0.72347919 0.54054377 ... 0.65834477 0.55566556 0.77963336]]\n",
            "------------------------- (X - np.dot(W,C)) -------------------------\n",
            "0.2554265286046566\n",
            "-------------------------- frobenius_norm --------------------------\n",
            "214.7045700799219\n",
            "---------------------------------------------------------------------------\n",
            "---------------------------------------------------------------------------\n",
            "For rank= 100 and l= 1.0 and epsilon= 0.01 184 iterations made\n",
            "---------------------------------- X ----------------------------------\n",
            "[[0.18765425 0.1679271  0.32601351 ... 0.53879014 0.52659466 0.65917599]\n",
            " [0.27581471 0.11637603 0.75602255 ... 0.70060198 0.0572841  0.64903725]\n",
            " [0.29920321 0.71168337 0.93587113 ... 0.75914369 0.90888289 0.87383146]\n",
            " ...\n",
            " [0.55318771 0.87638193 0.29894431 ... 0.39717961 0.97648978 0.72961434]\n",
            " [0.16246698 0.95246423 0.90550678 ... 0.99219818 0.05359102 0.12938735]\n",
            " [0.23485113 0.93293591 0.59291806 ... 0.01102449 0.6267375  0.30056236]]\n",
            "--------------------------- W.dot(C) ---------------------------\n",
            "[[0.55440667 0.35321235 0.50362863 ... 0.92886743 0.61681168 0.65526867]\n",
            " [0.53943568 0.47351246 0.62444321 ... 0.70129506 0.67468066 0.81221346]\n",
            " [0.53031058 0.44551622 0.75174184 ... 0.82813647 0.72667479 0.63307194]\n",
            " ...\n",
            " [0.41545213 0.80605484 0.55331    ... 0.68778913 0.72056227 0.8713241 ]\n",
            " [0.53641641 0.63491754 0.70046998 ... 0.78322719 0.5409575  0.72412317]\n",
            " [0.46422394 0.74740436 0.64275173 ... 0.52448502 0.64729399 0.62417145]]\n",
            "------------------------- (X - np.dot(W,C)) -------------------------\n",
            "0.22642618022648558\n",
            "-------------------------- frobenius_norm --------------------------\n",
            "194.50000173809696\n",
            "---------------------------------------------------------------------------\n",
            "---------------------------------------------------------------------------\n",
            "For rank= 1 and l= 0.1 and epsilon= 0.01 2 iterations made\n",
            "---------------------------------- X ----------------------------------\n",
            "[[0.18765425 0.1679271  0.32601351 ... 0.53879014 0.52659466 0.65917599]\n",
            " [0.27581471 0.11637603 0.75602255 ... 0.70060198 0.0572841  0.64903725]\n",
            " [0.29920321 0.71168337 0.93587113 ... 0.75914369 0.90888289 0.87383146]\n",
            " ...\n",
            " [0.55318771 0.87638193 0.29894431 ... 0.39717961 0.97648978 0.72961434]\n",
            " [0.16246698 0.95246423 0.90550678 ... 0.99219818 0.05359102 0.12938735]\n",
            " [0.23485113 0.93293591 0.59291806 ... 0.01102449 0.6267375  0.30056236]]\n",
            "--------------------------- W.dot(C) ---------------------------\n",
            "[[0.4256338  0.4215622  0.45262015 ... 0.42358494 0.42683423 0.45353784]\n",
            " [0.427448   0.42335904 0.45454937 ... 0.42539041 0.42865355 0.45547097]\n",
            " [0.43304355 0.42890107 0.46049969 ... 0.43095902 0.43426487 0.46143336]\n",
            " ...\n",
            " [0.41999483 0.41597718 0.44662366 ... 0.41797312 0.42117936 0.44752918]\n",
            " [0.43777247 0.43358476 0.46552845 ... 0.43566519 0.43900714 0.46647231]\n",
            " [0.43276057 0.4286208  0.46019878 ... 0.43067741 0.4339811  0.46113183]]\n",
            "------------------------- (X - np.dot(W,C)) -------------------------\n",
            "0.25535508826754905\n",
            "-------------------------- frobenius_norm --------------------------\n",
            "210.62372215963816\n",
            "---------------------------------------------------------------------------\n",
            "---------------------------------------------------------------------------\n",
            "For rank= 10 and l= 0.1 and epsilon= 0.01 2592 iterations made\n",
            "---------------------------------- X ----------------------------------\n",
            "[[0.18765425 0.1679271  0.32601351 ... 0.53879014 0.52659466 0.65917599]\n",
            " [0.27581471 0.11637603 0.75602255 ... 0.70060198 0.0572841  0.64903725]\n",
            " [0.29920321 0.71168337 0.93587113 ... 0.75914369 0.90888289 0.87383146]\n",
            " ...\n",
            " [0.55318771 0.87638193 0.29894431 ... 0.39717961 0.97648978 0.72961434]\n",
            " [0.16246698 0.95246423 0.90550678 ... 0.99219818 0.05359102 0.12938735]\n",
            " [0.23485113 0.93293591 0.59291806 ... 0.01102449 0.6267375  0.30056236]]\n",
            "--------------------------- W.dot(C) ---------------------------\n",
            "[[0.60108942 0.5010021  0.71997452 ... 0.60637402 0.48799658 0.60055253]\n",
            " [0.45477405 0.67011267 0.69048573 ... 0.58992801 0.671444   0.62676272]\n",
            " [0.6869752  0.59338706 0.58963823 ... 0.59373612 0.69987642 0.74114774]\n",
            " ...\n",
            " [0.66735609 0.63230096 0.5535626  ... 0.69343695 0.70142224 0.67238073]\n",
            " [0.58937602 0.73632906 0.66187857 ... 0.48466849 0.73299854 0.62426283]\n",
            " [0.48457418 0.73185157 0.57080107 ... 0.57563402 0.66427678 0.56754721]]\n",
            "------------------------- (X - np.dot(W,C)) -------------------------\n",
            "0.2528092073842227\n",
            "-------------------------- frobenius_norm --------------------------\n",
            "212.48828945156419\n",
            "---------------------------------------------------------------------------\n",
            "---------------------------------------------------------------------------\n",
            "For rank= 100 and l= 0.1 and epsilon= 0.01 1280 iterations made\n",
            "---------------------------------- X ----------------------------------\n",
            "[[0.18765425 0.1679271  0.32601351 ... 0.53879014 0.52659466 0.65917599]\n",
            " [0.27581471 0.11637603 0.75602255 ... 0.70060198 0.0572841  0.64903725]\n",
            " [0.29920321 0.71168337 0.93587113 ... 0.75914369 0.90888289 0.87383146]\n",
            " ...\n",
            " [0.55318771 0.87638193 0.29894431 ... 0.39717961 0.97648978 0.72961434]\n",
            " [0.16246698 0.95246423 0.90550678 ... 0.99219818 0.05359102 0.12938735]\n",
            " [0.23485113 0.93293591 0.59291806 ... 0.01102449 0.6267375  0.30056236]]\n",
            "--------------------------- W.dot(C) ---------------------------\n",
            "[[0.37679032 0.4056543  0.62487654 ... 0.77346    0.72166373 0.72719856]\n",
            " [0.38584714 0.46601031 0.40337951 ... 0.73462625 0.74713932 0.76862823]\n",
            " [0.4921835  0.39537346 0.61816023 ... 0.65479765 0.67991743 0.66228668]\n",
            " ...\n",
            " [0.48830267 0.83776197 0.70835323 ... 0.74345926 0.87108937 0.66748823]\n",
            " [0.45404695 0.90484535 0.60343765 ... 0.40829038 0.55127944 0.77419571]\n",
            " [0.40152494 0.91256304 0.6601068  ... 0.38102185 0.67684319 0.71016004]]\n",
            "------------------------- (X - np.dot(W,C)) -------------------------\n",
            "0.21406990585870928\n",
            "-------------------------- frobenius_norm --------------------------\n",
            "184.53994205366737\n",
            "---------------------------------------------------------------------------\n"
          ],
          "name": "stdout"
        }
      ]
    },
    {
      "cell_type": "markdown",
      "metadata": {
        "id": "ho-LIEKyDRrc"
      },
      "source": [
        "We observe that we have the optimal result for $ k $ = 100 and $ λ $ = 0.1. However, this execution takes more time and performs more iterations (1280) than the immediately worse result ($ k $ = 100, $ λ $ = 1.0 with 186 iterations)"
      ]
    },
    {
      "cell_type": "markdown",
      "metadata": {
        "id": "loz-8AXdY5TT"
      },
      "source": [
        "$λ=2.0$, $λ=5.0$ for $ε=0.001$"
      ]
    },
    {
      "cell_type": "code",
      "metadata": {
        "id": "LZ6xnF_UZCZD",
        "colab": {
          "base_uri": "https://localhost:8080/",
          "height": 1000
        },
        "outputId": "bb082514-0830-417f-86f5-fb638ae2144b"
      },
      "source": [
        "RunReg(X, 1, 2.0, 0.001)\n",
        "RunReg(X, 10, 2.0, 0.001)\n",
        "RunReg(X, 100, 2.0, 0.001)\n",
        "\n",
        "RunReg(X, 1, 5.0, 0.001)\n",
        "RunReg(X, 10, 5.0, 0.001)\n",
        "RunReg(X, 100, 5.0, 0.001)"
      ],
      "execution_count": null,
      "outputs": [
        {
          "output_type": "stream",
          "text": [
            "---------------------------------------------------------------------------\n",
            "For rank= 1 and l= 2.0 and epsilon= 0.001 2 iterations made\n",
            "---------------------------------- X ----------------------------------\n",
            "[[0.18765425 0.1679271  0.32601351 ... 0.53879014 0.52659466 0.65917599]\n",
            " [0.27581471 0.11637603 0.75602255 ... 0.70060198 0.0572841  0.64903725]\n",
            " [0.29920321 0.71168337 0.93587113 ... 0.75914369 0.90888289 0.87383146]\n",
            " ...\n",
            " [0.55318771 0.87638193 0.29894431 ... 0.39717961 0.97648978 0.72961434]\n",
            " [0.16246698 0.95246423 0.90550678 ... 0.99219818 0.05359102 0.12938735]\n",
            " [0.23485113 0.93293591 0.59291806 ... 0.01102449 0.6267375  0.30056236]]\n",
            "--------------------------- W.dot(C) ---------------------------\n",
            "[[0.45365816 0.4494501  0.48232194 ... 0.45204858 0.4553028  0.48394039]\n",
            " [0.45605681 0.4518265  0.48487214 ... 0.45443872 0.45771015 0.48649915]\n",
            " [0.46122767 0.45694939 0.49036972 ... 0.45959123 0.46289975 0.49201517]\n",
            " ...\n",
            " [0.44710442 0.44295714 0.4753541  ... 0.44551809 0.4487253  0.47694917]\n",
            " [0.46610464 0.46178112 0.49555483 ... 0.46445089 0.4677944  0.49721768]\n",
            " [0.46047399 0.45620271 0.48956842 ... 0.45884023 0.46214334 0.49121118]]\n",
            "------------------------- (X - np.dot(W,C)) -------------------------\n",
            "0.25197368309337614\n",
            "-------------------------- frobenius_norm --------------------------\n",
            "206.5721246600849\n",
            "---------------------------------------------------------------------------\n",
            "---------------------------------------------------------------------------\n",
            "For rank= 10 and l= 2.0 and epsilon= 0.001 164 iterations made\n",
            "---------------------------------- X ----------------------------------\n",
            "[[0.18765425 0.1679271  0.32601351 ... 0.53879014 0.52659466 0.65917599]\n",
            " [0.27581471 0.11637603 0.75602255 ... 0.70060198 0.0572841  0.64903725]\n",
            " [0.29920321 0.71168337 0.93587113 ... 0.75914369 0.90888289 0.87383146]\n",
            " ...\n",
            " [0.55318771 0.87638193 0.29894431 ... 0.39717961 0.97648978 0.72961434]\n",
            " [0.16246698 0.95246423 0.90550678 ... 0.99219818 0.05359102 0.12938735]\n",
            " [0.23485113 0.93293591 0.59291806 ... 0.01102449 0.6267375  0.30056236]]\n",
            "--------------------------- W.dot(C) ---------------------------\n",
            "[[0.59679353 0.42208921 0.58514457 ... 0.63525151 0.65511074 0.72206247]\n",
            " [0.6277672  0.52003822 0.64835821 ... 0.65178662 0.61943872 0.60600681]\n",
            " [0.56841209 0.6262897  0.6393526  ... 0.59160833 0.57241022 0.60571433]\n",
            " ...\n",
            " [0.57415454 0.5623797  0.55309811 ... 0.53866157 0.60281619 0.68096605]\n",
            " [0.62330534 0.56307771 0.70251302 ... 0.64275557 0.5593945  0.56521102]\n",
            " [0.52217027 0.73185828 0.52999105 ... 0.47458854 0.56399651 0.65003916]]\n",
            "------------------------- (X - np.dot(W,C)) -------------------------\n",
            "0.2490858176348751\n",
            "-------------------------- frobenius_norm --------------------------\n",
            "206.54642681422322\n",
            "---------------------------------------------------------------------------\n",
            "---------------------------------------------------------------------------\n",
            "For rank= 100 and l= 2.0 and epsilon= 0.001 126 iterations made\n",
            "---------------------------------- X ----------------------------------\n",
            "[[0.18765425 0.1679271  0.32601351 ... 0.53879014 0.52659466 0.65917599]\n",
            " [0.27581471 0.11637603 0.75602255 ... 0.70060198 0.0572841  0.64903725]\n",
            " [0.29920321 0.71168337 0.93587113 ... 0.75914369 0.90888289 0.87383146]\n",
            " ...\n",
            " [0.55318771 0.87638193 0.29894431 ... 0.39717961 0.97648978 0.72961434]\n",
            " [0.16246698 0.95246423 0.90550678 ... 0.99219818 0.05359102 0.12938735]\n",
            " [0.23485113 0.93293591 0.59291806 ... 0.01102449 0.6267375  0.30056236]]\n",
            "--------------------------- W.dot(C) ---------------------------\n",
            "[[0.46695469 0.55025378 0.67599727 ... 0.7882716  0.70115168 0.68113402]\n",
            " [0.51866695 0.51615513 0.66721754 ... 0.76740584 0.5974089  0.61432924]\n",
            " [0.47528795 0.61098558 0.67866631 ... 0.7157522  0.71118495 0.73801762]\n",
            " ...\n",
            " [0.6016157  0.63759315 0.60830783 ... 0.61550942 0.6759141  0.66045227]\n",
            " [0.61155436 0.64784939 0.77042637 ... 0.56614707 0.62554051 0.59326026]\n",
            " [0.43524201 0.7789378  0.55750706 ... 0.52569431 0.61034823 0.65075188]]\n",
            "------------------------- (X - np.dot(W,C)) -------------------------\n",
            "0.2288491864215711\n",
            "-------------------------- frobenius_norm --------------------------\n",
            "194.29875610683857\n",
            "---------------------------------------------------------------------------\n",
            "---------------------------------------------------------------------------\n",
            "For rank= 1 and l= 5.0 and epsilon= 0.001 38 iterations made\n",
            "---------------------------------- X ----------------------------------\n",
            "[[0.18765425 0.1679271  0.32601351 ... 0.53879014 0.52659466 0.65917599]\n",
            " [0.27581471 0.11637603 0.75602255 ... 0.70060198 0.0572841  0.64903725]\n",
            " [0.29920321 0.71168337 0.93587113 ... 0.75914369 0.90888289 0.87383146]\n",
            " ...\n",
            " [0.55318771 0.87638193 0.29894431 ... 0.39717961 0.97648978 0.72961434]\n",
            " [0.16246698 0.95246423 0.90550678 ... 0.99219818 0.05359102 0.12938735]\n",
            " [0.23485113 0.93293591 0.59291806 ... 0.01102449 0.6267375  0.30056236]]\n",
            "--------------------------- W.dot(C) ---------------------------\n",
            "[[0.48080545 0.47630136 0.5112802  ... 0.47893081 0.48241863 0.51249777]\n",
            " [0.48311471 0.47858899 0.51373583 ... 0.48123107 0.48473564 0.51495925]\n",
            " [0.48895474 0.48437431 0.51994603 ... 0.48704834 0.49059527 0.52118423]\n",
            " ...\n",
            " [0.47406892 0.46962793 0.50411669 ... 0.47222055 0.4756595  0.5053172 ]\n",
            " [0.49443244 0.48980069 0.52577091 ... 0.49250467 0.49609134 0.52702298]\n",
            " [0.48866389 0.48408619 0.51963674 ... 0.48675862 0.49030344 0.52087421]]\n",
            "------------------------- (X - np.dot(W,C)) -------------------------\n",
            "0.250200843522743\n",
            "-------------------------- frobenius_norm --------------------------\n",
            "204.41102237087486\n",
            "---------------------------------------------------------------------------\n",
            "---------------------------------------------------------------------------\n",
            "For rank= 10 and l= 5.0 and epsilon= 0.001 58 iterations made\n",
            "---------------------------------- X ----------------------------------\n",
            "[[0.18765425 0.1679271  0.32601351 ... 0.53879014 0.52659466 0.65917599]\n",
            " [0.27581471 0.11637603 0.75602255 ... 0.70060198 0.0572841  0.64903725]\n",
            " [0.29920321 0.71168337 0.93587113 ... 0.75914369 0.90888289 0.87383146]\n",
            " ...\n",
            " [0.55318771 0.87638193 0.29894431 ... 0.39717961 0.97648978 0.72961434]\n",
            " [0.16246698 0.95246423 0.90550678 ... 0.99219818 0.05359102 0.12938735]\n",
            " [0.23485113 0.93293591 0.59291806 ... 0.01102449 0.6267375  0.30056236]]\n",
            "--------------------------- W.dot(C) ---------------------------\n",
            "[[0.58468548 0.57177837 0.62252255 ... 0.65969509 0.65948561 0.61803856]\n",
            " [0.58508433 0.61777356 0.66627977 ... 0.63025028 0.58822412 0.62411767]\n",
            " [0.55513269 0.62322017 0.73946718 ... 0.65046546 0.65804522 0.61617136]\n",
            " ...\n",
            " [0.59743053 0.60105781 0.56595424 ... 0.5838925  0.52643843 0.63513882]\n",
            " [0.63549387 0.59958631 0.69673329 ... 0.58675084 0.59281383 0.67499967]\n",
            " [0.6044596  0.59619936 0.66024519 ... 0.63773175 0.58951295 0.62620348]]\n",
            "------------------------- (X - np.dot(W,C)) -------------------------\n",
            "0.25777376655934314\n",
            "-------------------------- frobenius_norm --------------------------\n",
            "214.78140860651826\n",
            "---------------------------------------------------------------------------\n",
            "---------------------------------------------------------------------------\n",
            "For rank= 100 and l= 5.0 and epsilon= 0.001 68 iterations made\n",
            "---------------------------------- X ----------------------------------\n",
            "[[0.18765425 0.1679271  0.32601351 ... 0.53879014 0.52659466 0.65917599]\n",
            " [0.27581471 0.11637603 0.75602255 ... 0.70060198 0.0572841  0.64903725]\n",
            " [0.29920321 0.71168337 0.93587113 ... 0.75914369 0.90888289 0.87383146]\n",
            " ...\n",
            " [0.55318771 0.87638193 0.29894431 ... 0.39717961 0.97648978 0.72961434]\n",
            " [0.16246698 0.95246423 0.90550678 ... 0.99219818 0.05359102 0.12938735]\n",
            " [0.23485113 0.93293591 0.59291806 ... 0.01102449 0.6267375  0.30056236]]\n",
            "--------------------------- W.dot(C) ---------------------------\n",
            "[[0.582544   0.58567829 0.65892049 ... 0.60469785 0.60043946 0.63562494]\n",
            " [0.56845083 0.61864594 0.66082456 ... 0.62016114 0.60185449 0.64546516]\n",
            " [0.56736576 0.61607176 0.68632378 ... 0.61282851 0.61901852 0.66140471]\n",
            " ...\n",
            " [0.59105113 0.62002119 0.62848531 ... 0.61984533 0.62313974 0.64177828]\n",
            " [0.60789028 0.63721588 0.66639754 ... 0.61506838 0.61198546 0.67936115]\n",
            " [0.57567321 0.68462041 0.64380344 ... 0.61412592 0.61131064 0.66210673]]\n",
            "------------------------- (X - np.dot(W,C)) -------------------------\n",
            "0.2542452361756349\n",
            "-------------------------- frobenius_norm --------------------------\n",
            "211.84097240130606\n",
            "---------------------------------------------------------------------------\n"
          ],
          "name": "stdout"
        }
      ]
    },
    {
      "cell_type": "markdown",
      "metadata": {
        "id": "uR2Y7Zt9s1St"
      },
      "source": [
        "We observe that we have the optimal result for $ k $ = 100 and $ λ $ = 2.0 with 128 iterations"
      ]
    },
    {
      "cell_type": "markdown",
      "metadata": {
        "id": "mbnnIa-qZsh6"
      },
      "source": [
        "$λ=2.0$, $λ=5.0$ for $ε=0.01$"
      ]
    },
    {
      "cell_type": "code",
      "metadata": {
        "id": "sK3QTeOeZ31y",
        "colab": {
          "base_uri": "https://localhost:8080/",
          "height": 1000
        },
        "outputId": "b682f975-4f29-4314-ddb5-8a3bdc7fae82"
      },
      "source": [
        "RunReg(X, 1, 2.0, 0.01)\n",
        "RunReg(X, 10, 2.0, 0.01)\n",
        "RunReg(X, 100, 2.0, 0.01)\n",
        "\n",
        "RunReg(X, 1, 5.0, 0.01)\n",
        "RunReg(X, 10, 5.0, 0.01)\n",
        "RunReg(X, 100, 5.0, 0.01)"
      ],
      "execution_count": null,
      "outputs": [
        {
          "output_type": "stream",
          "text": [
            "---------------------------------------------------------------------------\n",
            "For rank= 1 and l= 2.0 and epsilon= 0.01 2 iterations made\n",
            "---------------------------------- X ----------------------------------\n",
            "[[0.18765425 0.1679271  0.32601351 ... 0.53879014 0.52659466 0.65917599]\n",
            " [0.27581471 0.11637603 0.75602255 ... 0.70060198 0.0572841  0.64903725]\n",
            " [0.29920321 0.71168337 0.93587113 ... 0.75914369 0.90888289 0.87383146]\n",
            " ...\n",
            " [0.55318771 0.87638193 0.29894431 ... 0.39717961 0.97648978 0.72961434]\n",
            " [0.16246698 0.95246423 0.90550678 ... 0.99219818 0.05359102 0.12938735]\n",
            " [0.23485113 0.93293591 0.59291806 ... 0.01102449 0.6267375  0.30056236]]\n",
            "--------------------------- W.dot(C) ---------------------------\n",
            "[[0.46106644 0.45644374 0.49033893 ... 0.45905206 0.46242108 0.49126948]\n",
            " [0.46332499 0.45867964 0.49274086 ... 0.46130074 0.46468626 0.49367597]\n",
            " [0.4691347  0.4644311  0.49891942 ... 0.46708507 0.47051304 0.49986626]\n",
            " ...\n",
            " [0.45497471 0.45041308 0.48386044 ... 0.45298694 0.45631145 0.4847787 ]\n",
            " [0.47429517 0.46953983 0.50440753 ... 0.47222299 0.47568867 0.50536478]\n",
            " [0.46852644 0.46382893 0.49827255 ... 0.46647946 0.46990299 0.49921815]]\n",
            "------------------------- (X - np.dot(W,C)) -------------------------\n",
            "0.25131840435959907\n",
            "-------------------------- frobenius_norm --------------------------\n",
            "205.7754537732711\n",
            "---------------------------------------------------------------------------\n",
            "---------------------------------------------------------------------------\n",
            "For rank= 10 and l= 2.0 and epsilon= 0.01 134 iterations made\n",
            "---------------------------------- X ----------------------------------\n",
            "[[0.18765425 0.1679271  0.32601351 ... 0.53879014 0.52659466 0.65917599]\n",
            " [0.27581471 0.11637603 0.75602255 ... 0.70060198 0.0572841  0.64903725]\n",
            " [0.29920321 0.71168337 0.93587113 ... 0.75914369 0.90888289 0.87383146]\n",
            " ...\n",
            " [0.55318771 0.87638193 0.29894431 ... 0.39717961 0.97648978 0.72961434]\n",
            " [0.16246698 0.95246423 0.90550678 ... 0.99219818 0.05359102 0.12938735]\n",
            " [0.23485113 0.93293591 0.59291806 ... 0.01102449 0.6267375  0.30056236]]\n",
            "--------------------------- W.dot(C) ---------------------------\n",
            "[[0.61474163 0.76289798 0.7937404  ... 0.53831192 0.66832859 0.57848531]\n",
            " [0.63692129 0.70552105 0.65927801 ... 0.59238006 0.69677708 0.68480766]\n",
            " [0.64212206 0.60952328 0.66568465 ... 0.59922163 0.61227938 0.60488421]\n",
            " ...\n",
            " [0.68434497 0.63020213 0.66095642 ... 0.62487096 0.73591496 0.59017484]\n",
            " [0.65924149 0.60251289 0.62953982 ... 0.6589244  0.64076415 0.71881443]\n",
            " [0.61885375 0.6287027  0.76139618 ... 0.60112955 0.59938971 0.53638769]]\n",
            "------------------------- (X - np.dot(W,C)) -------------------------\n",
            "0.25829818483216493\n",
            "-------------------------- frobenius_norm --------------------------\n",
            "217.01482368951653\n",
            "---------------------------------------------------------------------------\n",
            "---------------------------------------------------------------------------\n",
            "For rank= 100 and l= 2.0 and epsilon= 0.01 118 iterations made\n",
            "---------------------------------- X ----------------------------------\n",
            "[[0.18765425 0.1679271  0.32601351 ... 0.53879014 0.52659466 0.65917599]\n",
            " [0.27581471 0.11637603 0.75602255 ... 0.70060198 0.0572841  0.64903725]\n",
            " [0.29920321 0.71168337 0.93587113 ... 0.75914369 0.90888289 0.87383146]\n",
            " ...\n",
            " [0.55318771 0.87638193 0.29894431 ... 0.39717961 0.97648978 0.72961434]\n",
            " [0.16246698 0.95246423 0.90550678 ... 0.99219818 0.05359102 0.12938735]\n",
            " [0.23485113 0.93293591 0.59291806 ... 0.01102449 0.6267375  0.30056236]]\n",
            "--------------------------- W.dot(C) ---------------------------\n",
            "[[0.53548859 0.54955793 0.74767866 ... 0.96184118 0.66643359 0.62710715]\n",
            " [0.53444331 0.69378312 1.01867941 ... 0.8809372  0.68487027 0.64639571]\n",
            " [0.61143258 0.57386491 0.80911801 ... 0.6267008  0.72980095 0.62974421]\n",
            " ...\n",
            " [0.5829085  0.68581361 0.75843733 ... 0.76133478 0.74543533 0.63208867]\n",
            " [0.6198952  0.67841255 0.76631671 ... 0.68294118 0.59663509 0.67869066]\n",
            " [0.51082884 0.82845053 0.66220256 ... 0.47820478 0.63039785 0.63032693]]\n",
            "------------------------- (X - np.dot(W,C)) -------------------------\n",
            "0.23852940003095144\n",
            "-------------------------- frobenius_norm --------------------------\n",
            "204.08692324757448\n",
            "---------------------------------------------------------------------------\n",
            "---------------------------------------------------------------------------\n",
            "For rank= 1 and l= 5.0 and epsilon= 0.01 2 iterations made\n",
            "---------------------------------- X ----------------------------------\n",
            "[[0.18765425 0.1679271  0.32601351 ... 0.53879014 0.52659466 0.65917599]\n",
            " [0.27581471 0.11637603 0.75602255 ... 0.70060198 0.0572841  0.64903725]\n",
            " [0.29920321 0.71168337 0.93587113 ... 0.75914369 0.90888289 0.87383146]\n",
            " ...\n",
            " [0.55318771 0.87638193 0.29894431 ... 0.39717961 0.97648978 0.72961434]\n",
            " [0.16246698 0.95246423 0.90550678 ... 0.99219818 0.05359102 0.12938735]\n",
            " [0.23485113 0.93293591 0.59291806 ... 0.01102449 0.6267375  0.30056236]]\n",
            "--------------------------- W.dot(C) ---------------------------\n",
            "[[0.46086143 0.4567178  0.49014155 ... 0.45939819 0.46247966 0.49123949]\n",
            " [0.46313136 0.45896733 0.4925557  ... 0.46166092 0.46475757 0.49365905]\n",
            " [0.46885908 0.46464355 0.49864732 ... 0.46737045 0.4705054  0.49976432]\n",
            " ...\n",
            " [0.45462406 0.45053651 0.4835079  ... 0.45318063 0.45622039 0.48459098]\n",
            " [0.47402678 0.46976478 0.50414334 ... 0.47252174 0.47569124 0.50527265]\n",
            " [0.46825273 0.46404264 0.49800245 ... 0.46676602 0.46989691 0.499118  ]]\n",
            "------------------------- (X - np.dot(W,C)) -------------------------\n",
            "0.2513379436130089\n",
            "-------------------------- frobenius_norm --------------------------\n",
            "205.79967886445112\n",
            "---------------------------------------------------------------------------\n",
            "---------------------------------------------------------------------------\n",
            "For rank= 10 and l= 5.0 and epsilon= 0.01 52 iterations made\n",
            "---------------------------------- X ----------------------------------\n",
            "[[0.18765425 0.1679271  0.32601351 ... 0.53879014 0.52659466 0.65917599]\n",
            " [0.27581471 0.11637603 0.75602255 ... 0.70060198 0.0572841  0.64903725]\n",
            " [0.29920321 0.71168337 0.93587113 ... 0.75914369 0.90888289 0.87383146]\n",
            " ...\n",
            " [0.55318771 0.87638193 0.29894431 ... 0.39717961 0.97648978 0.72961434]\n",
            " [0.16246698 0.95246423 0.90550678 ... 0.99219818 0.05359102 0.12938735]\n",
            " [0.23485113 0.93293591 0.59291806 ... 0.01102449 0.6267375  0.30056236]]\n",
            "--------------------------- W.dot(C) ---------------------------\n",
            "[[0.62580935 0.63109986 0.68932891 ... 0.61395959 0.62385275 0.66886822]\n",
            " [0.6033492  0.63741675 0.71489965 ... 0.62473122 0.59823921 0.67567954]\n",
            " [0.67205451 0.63256345 0.67961556 ... 0.64947753 0.66939485 0.66971497]\n",
            " ...\n",
            " [0.61004885 0.62873382 0.65763471 ... 0.60972548 0.62312831 0.63797391]\n",
            " [0.6710136  0.63975954 0.68041697 ... 0.66228382 0.69451479 0.68198278]\n",
            " [0.64126436 0.64955699 0.70452504 ... 0.63111151 0.63994111 0.67167127]]\n",
            "------------------------- (X - np.dot(W,C)) -------------------------\n",
            "0.2644616077209533\n",
            "-------------------------- frobenius_norm --------------------------\n",
            "222.2927604713121\n",
            "---------------------------------------------------------------------------\n",
            "---------------------------------------------------------------------------\n",
            "For rank= 100 and l= 5.0 and epsilon= 0.01 62 iterations made\n",
            "---------------------------------- X ----------------------------------\n",
            "[[0.18765425 0.1679271  0.32601351 ... 0.53879014 0.52659466 0.65917599]\n",
            " [0.27581471 0.11637603 0.75602255 ... 0.70060198 0.0572841  0.64903725]\n",
            " [0.29920321 0.71168337 0.93587113 ... 0.75914369 0.90888289 0.87383146]\n",
            " ...\n",
            " [0.55318771 0.87638193 0.29894431 ... 0.39717961 0.97648978 0.72961434]\n",
            " [0.16246698 0.95246423 0.90550678 ... 0.99219818 0.05359102 0.12938735]\n",
            " [0.23485113 0.93293591 0.59291806 ... 0.01102449 0.6267375  0.30056236]]\n",
            "--------------------------- W.dot(C) ---------------------------\n",
            "[[0.65253129 0.6186464  0.67267235 ... 0.63839698 0.6551279  0.6540704 ]\n",
            " [0.62882455 0.61387648 0.67732269 ... 0.64391915 0.62307562 0.69074449]\n",
            " [0.64327515 0.64008718 0.69302295 ... 0.63851331 0.65512092 0.69900992]\n",
            " ...\n",
            " [0.60956003 0.62322267 0.65364147 ... 0.62449995 0.64904186 0.6651607 ]\n",
            " [0.64704083 0.6583586  0.68553612 ... 0.67401378 0.64861103 0.70614509]\n",
            " [0.62953462 0.66861334 0.69297233 ... 0.6373486  0.61403479 0.69659316]]\n",
            "------------------------- (X - np.dot(W,C)) -------------------------\n",
            "0.26192507583363034\n",
            "-------------------------- frobenius_norm --------------------------\n",
            "220.25426130196553\n",
            "---------------------------------------------------------------------------\n"
          ],
          "name": "stdout"
        }
      ]
    },
    {
      "cell_type": "markdown",
      "metadata": {
        "id": "LXS1kQWytgtS"
      },
      "source": [
        "We observe that we have the optimal result for $ k $ = 100 and $ λ $ = 2.0 with 118 iterations"
      ]
    },
    {
      "cell_type": "markdown",
      "metadata": {
        "id": "Q0J5CwwvaHUZ"
      },
      "source": [
        "$λ=2.0$, $λ=5.0$ for $ε=0.1$"
      ]
    },
    {
      "cell_type": "code",
      "metadata": {
        "id": "W0iT64psaJDJ",
        "colab": {
          "base_uri": "https://localhost:8080/",
          "height": 1000
        },
        "outputId": "aa64a724-5f64-4d4f-cd97-8d8e27c1c517"
      },
      "source": [
        "RunReg(X, 1, 2.0, 0.1)\n",
        "RunReg(X, 10, 2.0, 0.1)\n",
        "RunReg(X, 100, 2.0, 0.1)\n",
        "\n",
        "RunReg(X, 1, 5.0, 0.1)\n",
        "RunReg(X, 10, 5.0, 0.1)\n",
        "RunReg(X, 100, 5.0, 0.1)"
      ],
      "execution_count": null,
      "outputs": [
        {
          "output_type": "stream",
          "text": [
            "---------------------------------------------------------------------------\n",
            "For rank= 1 and l= 2.0 and epsilon= 0.1 2 iterations made\n",
            "---------------------------------- X ----------------------------------\n",
            "[[0.18765425 0.1679271  0.32601351 ... 0.53879014 0.52659466 0.65917599]\n",
            " [0.27581471 0.11637603 0.75602255 ... 0.70060198 0.0572841  0.64903725]\n",
            " [0.29920321 0.71168337 0.93587113 ... 0.75914369 0.90888289 0.87383146]\n",
            " ...\n",
            " [0.55318771 0.87638193 0.29894431 ... 0.39717961 0.97648978 0.72961434]\n",
            " [0.16246698 0.95246423 0.90550678 ... 0.99219818 0.05359102 0.12938735]\n",
            " [0.23485113 0.93293591 0.59291806 ... 0.01102449 0.6267375  0.30056236]]\n",
            "--------------------------- W.dot(C) ---------------------------\n",
            "[[0.44743209 0.44282046 0.4754551  ... 0.44548945 0.44860037 0.47653843]\n",
            " [0.44972839 0.44509309 0.47789523 ... 0.44777578 0.45090267 0.47898411]\n",
            " [0.45528506 0.45059249 0.48379992 ... 0.45330833 0.45647385 0.48490225]\n",
            " ...\n",
            " [0.44144518 0.43689526 0.46909323 ... 0.43952854 0.44259783 0.47016206]\n",
            " [0.45980033 0.45506122 0.48859798 ... 0.45780399 0.4610009  0.48971125]\n",
            " [0.45464804 0.44996203 0.483123   ... 0.45267407 0.45583516 0.48422379]]\n",
            "------------------------- (X - np.dot(W,C)) -------------------------\n",
            "0.2525917129597568\n",
            "-------------------------- frobenius_norm --------------------------\n",
            "207.31901566353704\n",
            "---------------------------------------------------------------------------\n",
            "---------------------------------------------------------------------------\n",
            "For rank= 10 and l= 2.0 and epsilon= 0.1 86 iterations made\n",
            "---------------------------------- X ----------------------------------\n",
            "[[0.18765425 0.1679271  0.32601351 ... 0.53879014 0.52659466 0.65917599]\n",
            " [0.27581471 0.11637603 0.75602255 ... 0.70060198 0.0572841  0.64903725]\n",
            " [0.29920321 0.71168337 0.93587113 ... 0.75914369 0.90888289 0.87383146]\n",
            " ...\n",
            " [0.55318771 0.87638193 0.29894431 ... 0.39717961 0.97648978 0.72961434]\n",
            " [0.16246698 0.95246423 0.90550678 ... 0.99219818 0.05359102 0.12938735]\n",
            " [0.23485113 0.93293591 0.59291806 ... 0.01102449 0.6267375  0.30056236]]\n",
            "--------------------------- W.dot(C) ---------------------------\n",
            "[[0.71311197 0.76299181 0.80572418 ... 0.81232558 0.79195959 0.73891948]\n",
            " [0.92462935 0.77204062 0.76923802 ... 0.66929854 0.78670212 0.92114861]\n",
            " [0.90372986 0.75030235 0.85633051 ... 0.83476854 0.86733947 0.89462825]\n",
            " ...\n",
            " [0.74958891 0.76495053 0.69848638 ... 0.76472093 0.84897224 0.79994771]\n",
            " [0.75068466 0.78972359 0.75140418 ... 0.80161466 0.72018753 0.83730599]\n",
            " [0.7622758  0.84359844 0.61487779 ... 0.69345486 0.76879498 0.89952667]]\n",
            "------------------------- (X - np.dot(W,C)) -------------------------\n",
            "0.31968962634451936\n",
            "-------------------------- frobenius_norm --------------------------\n",
            "276.8002784342873\n",
            "---------------------------------------------------------------------------\n",
            "---------------------------------------------------------------------------\n",
            "For rank= 100 and l= 2.0 and epsilon= 0.1 94 iterations made\n",
            "---------------------------------- X ----------------------------------\n",
            "[[0.18765425 0.1679271  0.32601351 ... 0.53879014 0.52659466 0.65917599]\n",
            " [0.27581471 0.11637603 0.75602255 ... 0.70060198 0.0572841  0.64903725]\n",
            " [0.29920321 0.71168337 0.93587113 ... 0.75914369 0.90888289 0.87383146]\n",
            " ...\n",
            " [0.55318771 0.87638193 0.29894431 ... 0.39717961 0.97648978 0.72961434]\n",
            " [0.16246698 0.95246423 0.90550678 ... 0.99219818 0.05359102 0.12938735]\n",
            " [0.23485113 0.93293591 0.59291806 ... 0.01102449 0.6267375  0.30056236]]\n",
            "--------------------------- W.dot(C) ---------------------------\n",
            "[[0.74032537 0.59825407 0.78654717 ... 0.74395403 0.75401781 0.78551554]\n",
            " [0.63990347 0.70049102 0.7179492  ... 0.95682961 0.86456673 0.79315407]\n",
            " [0.65652043 0.81365346 0.8536467  ... 0.94237463 0.80194833 0.88407894]\n",
            " ...\n",
            " [0.71777266 0.8089548  0.81996906 ... 0.72737243 0.86443695 0.76918927]\n",
            " [0.75150164 0.98073437 0.83203686 ... 0.91148683 0.70064472 0.87215475]\n",
            " [0.78423103 0.85979002 0.7537389  ... 0.67949073 0.73131158 0.91368086]]\n",
            "------------------------- (X - np.dot(W,C)) -------------------------\n",
            "0.3152786498681642\n",
            "-------------------------- frobenius_norm --------------------------\n",
            "271.0895084057391\n",
            "---------------------------------------------------------------------------\n",
            "---------------------------------------------------------------------------\n",
            "For rank= 1 and l= 5.0 and epsilon= 0.1 2 iterations made\n",
            "---------------------------------- X ----------------------------------\n",
            "[[0.18765425 0.1679271  0.32601351 ... 0.53879014 0.52659466 0.65917599]\n",
            " [0.27581471 0.11637603 0.75602255 ... 0.70060198 0.0572841  0.64903725]\n",
            " [0.29920321 0.71168337 0.93587113 ... 0.75914369 0.90888289 0.87383146]\n",
            " ...\n",
            " [0.55318771 0.87638193 0.29894431 ... 0.39717961 0.97648978 0.72961434]\n",
            " [0.16246698 0.95246423 0.90550678 ... 0.99219818 0.05359102 0.12938735]\n",
            " [0.23485113 0.93293591 0.59291806 ... 0.01102449 0.6267375  0.30056236]]\n",
            "--------------------------- W.dot(C) ---------------------------\n",
            "[[0.44070146 0.43660603 0.46866794 ... 0.43900599 0.44206618 0.46983198]\n",
            " [0.44335401 0.43923392 0.47148882 ... 0.44164833 0.44472694 0.47265986]\n",
            " [0.4485211  0.44435299 0.4769838  ... 0.44679554 0.44991003 0.47816849]\n",
            " ...\n",
            " [0.43512561 0.43108199 0.46273826 ... 0.43345159 0.43647306 0.46388756]\n",
            " [0.45318315 0.44897172 0.48194171 ... 0.45143966 0.45458652 0.48313871]\n",
            " [0.44836576 0.4441991  0.47681861 ... 0.4466408  0.44975421 0.47800289]]\n",
            "------------------------- (X - np.dot(W,C)) -------------------------\n",
            "0.25329511432744733\n",
            "-------------------------- frobenius_norm --------------------------\n",
            "208.16473007096852\n",
            "---------------------------------------------------------------------------\n",
            "---------------------------------------------------------------------------\n",
            "For rank= 10 and l= 5.0 and epsilon= 0.1 34 iterations made\n",
            "---------------------------------- X ----------------------------------\n",
            "[[0.18765425 0.1679271  0.32601351 ... 0.53879014 0.52659466 0.65917599]\n",
            " [0.27581471 0.11637603 0.75602255 ... 0.70060198 0.0572841  0.64903725]\n",
            " [0.29920321 0.71168337 0.93587113 ... 0.75914369 0.90888289 0.87383146]\n",
            " ...\n",
            " [0.55318771 0.87638193 0.29894431 ... 0.39717961 0.97648978 0.72961434]\n",
            " [0.16246698 0.95246423 0.90550678 ... 0.99219818 0.05359102 0.12938735]\n",
            " [0.23485113 0.93293591 0.59291806 ... 0.01102449 0.6267375  0.30056236]]\n",
            "--------------------------- W.dot(C) ---------------------------\n",
            "[[0.75498728 0.75781277 0.84688079 ... 0.74686834 0.72457634 0.83258716]\n",
            " [0.74287717 0.77034828 0.84409724 ... 0.77849139 0.75517416 0.82676803]\n",
            " [0.78217703 0.75656875 0.76623525 ... 0.78492954 0.78817561 0.83026437]\n",
            " ...\n",
            " [0.75185578 0.76011402 0.80946491 ... 0.78246623 0.85290937 0.79758573]\n",
            " [0.75048485 0.79408442 0.83015017 ... 0.74323088 0.75485288 0.86435185]\n",
            " [0.72443155 0.80588525 0.84710946 ... 0.75169551 0.83966108 0.80573196]]\n",
            "------------------------- (X - np.dot(W,C)) -------------------------\n",
            "0.3206798985675682\n",
            "-------------------------- frobenius_norm --------------------------\n",
            "277.63379787782384\n",
            "---------------------------------------------------------------------------\n",
            "---------------------------------------------------------------------------\n",
            "For rank= 100 and l= 5.0 and epsilon= 0.1 44 iterations made\n",
            "---------------------------------- X ----------------------------------\n",
            "[[0.18765425 0.1679271  0.32601351 ... 0.53879014 0.52659466 0.65917599]\n",
            " [0.27581471 0.11637603 0.75602255 ... 0.70060198 0.0572841  0.64903725]\n",
            " [0.29920321 0.71168337 0.93587113 ... 0.75914369 0.90888289 0.87383146]\n",
            " ...\n",
            " [0.55318771 0.87638193 0.29894431 ... 0.39717961 0.97648978 0.72961434]\n",
            " [0.16246698 0.95246423 0.90550678 ... 0.99219818 0.05359102 0.12938735]\n",
            " [0.23485113 0.93293591 0.59291806 ... 0.01102449 0.6267375  0.30056236]]\n",
            "--------------------------- W.dot(C) ---------------------------\n",
            "[[0.76896162 0.7724861  0.82020274 ... 0.76691089 0.77731938 0.83213528]\n",
            " [0.77266552 0.75080969 0.83971685 ... 0.77541025 0.78660927 0.84351169]\n",
            " [0.7947474  0.78126722 0.84665232 ... 0.79666241 0.81784674 0.85931076]\n",
            " ...\n",
            " [0.77329209 0.74607473 0.83469696 ... 0.79242407 0.77567203 0.83580355]\n",
            " [0.80164965 0.79924667 0.8481159  ... 0.80008403 0.78580569 0.85575391]\n",
            " [0.77619554 0.78800901 0.82785568 ... 0.76883832 0.78426983 0.83859782]]\n",
            "------------------------- (X - np.dot(W,C)) -------------------------\n",
            "0.32400490087460737\n",
            "-------------------------- frobenius_norm --------------------------\n",
            "280.5870681344308\n",
            "---------------------------------------------------------------------------\n"
          ],
          "name": "stdout"
        }
      ]
    },
    {
      "cell_type": "markdown",
      "metadata": {
        "id": "3LwveLiauoda"
      },
      "source": [
        "We observe that we have the optimal result for $ k $ = 1 and $ λ $ = 5.0 with 2 repetitions. However for these parameters the results are worse than before."
      ]
    },
    {
      "cell_type": "markdown",
      "metadata": {
        "id": "yjg1Y0EDaUk4"
      },
      "source": [
        "$λ=10.0$, $λ=15.0$ for $ε=0.001$"
      ]
    },
    {
      "cell_type": "code",
      "metadata": {
        "id": "dGmJHdRWaaPQ",
        "colab": {
          "base_uri": "https://localhost:8080/",
          "height": 1000
        },
        "outputId": "f80f5c43-40ae-4033-f03c-806e9267ec7d"
      },
      "source": [
        "RunReg(X, 1, 10.0, 0.001)\n",
        "RunReg(X, 10, 10.0, 0.001)\n",
        "RunReg(X, 100, 10.0, 0.001)\n",
        "\n",
        "RunReg(X, 1, 15.0, 0.001)\n",
        "RunReg(X, 10, 15.0, 0.001)\n",
        "RunReg(X, 100, 15.0, 0.001)"
      ],
      "execution_count": null,
      "outputs": [
        {
          "output_type": "stream",
          "text": [
            "---------------------------------------------------------------------------\n",
            "For rank= 1 and l= 10.0 and epsilon= 0.001 32 iterations made\n",
            "---------------------------------- X ----------------------------------\n",
            "[[0.18765425 0.1679271  0.32601351 ... 0.53879014 0.52659466 0.65917599]\n",
            " [0.27581471 0.11637603 0.75602255 ... 0.70060198 0.0572841  0.64903725]\n",
            " [0.29920321 0.71168337 0.93587113 ... 0.75914369 0.90888289 0.87383146]\n",
            " ...\n",
            " [0.55318771 0.87638193 0.29894431 ... 0.39717961 0.97648978 0.72961434]\n",
            " [0.16246698 0.95246423 0.90550678 ... 0.99219818 0.05359102 0.12938735]\n",
            " [0.23485113 0.93293591 0.59291806 ... 0.01102449 0.6267375  0.30056236]]\n",
            "--------------------------- W.dot(C) ---------------------------\n",
            "[[0.47973504 0.47524098 0.51014196 ... 0.47786458 0.48134464 0.51135681]\n",
            " [0.48203917 0.47752352 0.51259212 ... 0.48015972 0.48365649 0.51381281]\n",
            " [0.4878662  0.48329597 0.51878848 ... 0.48596403 0.48950307 0.52002393]\n",
            " ...\n",
            " [0.47301351 0.46858241 0.50299439 ... 0.47116926 0.47460055 0.50419223]\n",
            " [0.4933317  0.48871027 0.5246004  ... 0.49140822 0.49498691 0.52584969]\n",
            " [0.487576   0.48300848 0.51847989 ... 0.48567496 0.4892119  0.5197146 ]]\n",
            "------------------------- (X - np.dot(W,C)) -------------------------\n",
            "0.2502421569877762\n",
            "-------------------------- frobenius_norm --------------------------\n",
            "204.4616632780705\n",
            "---------------------------------------------------------------------------\n",
            "---------------------------------------------------------------------------\n",
            "For rank= 10 and l= 10.0 and epsilon= 0.001 75 iterations made\n",
            "---------------------------------- X ----------------------------------\n",
            "[[0.18765425 0.1679271  0.32601351 ... 0.53879014 0.52659466 0.65917599]\n",
            " [0.27581471 0.11637603 0.75602255 ... 0.70060198 0.0572841  0.64903725]\n",
            " [0.29920321 0.71168337 0.93587113 ... 0.75914369 0.90888289 0.87383146]\n",
            " ...\n",
            " [0.55318771 0.87638193 0.29894431 ... 0.39717961 0.97648978 0.72961434]\n",
            " [0.16246698 0.95246423 0.90550678 ... 0.99219818 0.05359102 0.12938735]\n",
            " [0.23485113 0.93293591 0.59291806 ... 0.01102449 0.6267375  0.30056236]]\n",
            "--------------------------- W.dot(C) ---------------------------\n",
            "[[0.47725608 0.47814983 0.50717362 ... 0.48835637 0.4809261  0.51362057]\n",
            " [0.48675767 0.50002128 0.52746917 ... 0.47389816 0.4901784  0.48603027]\n",
            " [0.4948897  0.47230394 0.52260346 ... 0.48614791 0.51261287 0.53484547]\n",
            " ...\n",
            " [0.4728013  0.47088295 0.50632376 ... 0.47453166 0.47988931 0.50371495]\n",
            " [0.48826178 0.49473732 0.52643033 ... 0.49498085 0.48681937 0.52684058]\n",
            " [0.48510047 0.50674143 0.52439035 ... 0.48566827 0.50818687 0.50992161]]\n",
            "------------------------- (X - np.dot(W,C)) -------------------------\n",
            "0.2488830837154521\n",
            "-------------------------- frobenius_norm --------------------------\n",
            "203.39956381832357\n",
            "---------------------------------------------------------------------------\n",
            "---------------------------------------------------------------------------\n",
            "For rank= 100 and l= 10.0 and epsilon= 0.001 33 iterations made\n",
            "---------------------------------- X ----------------------------------\n",
            "[[0.18765425 0.1679271  0.32601351 ... 0.53879014 0.52659466 0.65917599]\n",
            " [0.27581471 0.11637603 0.75602255 ... 0.70060198 0.0572841  0.64903725]\n",
            " [0.29920321 0.71168337 0.93587113 ... 0.75914369 0.90888289 0.87383146]\n",
            " ...\n",
            " [0.55318771 0.87638193 0.29894431 ... 0.39717961 0.97648978 0.72961434]\n",
            " [0.16246698 0.95246423 0.90550678 ... 0.99219818 0.05359102 0.12938735]\n",
            " [0.23485113 0.93293591 0.59291806 ... 0.01102449 0.6267375  0.30056236]]\n",
            "--------------------------- W.dot(C) ---------------------------\n",
            "[[0.38917615 0.38873176 0.41626577 ... 0.3937995  0.39664967 0.41838184]\n",
            " [0.38752119 0.38800287 0.41934998 ... 0.39425462 0.39412703 0.42069221]\n",
            " [0.39364004 0.39912232 0.42779283 ... 0.39702249 0.40220635 0.42409442]\n",
            " ...\n",
            " [0.38564968 0.38512724 0.40635079 ... 0.38280442 0.39174157 0.41374677]\n",
            " [0.40394091 0.40022269 0.43157685 ... 0.40505157 0.40364219 0.42829808]\n",
            " [0.39179505 0.39792653 0.42741662 ... 0.39564006 0.3998417  0.42020476]]\n",
            "------------------------- (X - np.dot(W,C)) -------------------------\n",
            "0.2607499773505187\n",
            "-------------------------- frobenius_norm --------------------------\n",
            "217.20681890661572\n",
            "---------------------------------------------------------------------------\n",
            "---------------------------------------------------------------------------\n",
            "For rank= 1 and l= 15.0 and epsilon= 0.001 24 iterations made\n",
            "---------------------------------- X ----------------------------------\n",
            "[[0.18765425 0.1679271  0.32601351 ... 0.53879014 0.52659466 0.65917599]\n",
            " [0.27581471 0.11637603 0.75602255 ... 0.70060198 0.0572841  0.64903725]\n",
            " [0.29920321 0.71168337 0.93587113 ... 0.75914369 0.90888289 0.87383146]\n",
            " ...\n",
            " [0.55318771 0.87638193 0.29894431 ... 0.39717961 0.97648978 0.72961434]\n",
            " [0.16246698 0.95246423 0.90550678 ... 0.99219818 0.05359102 0.12938735]\n",
            " [0.23485113 0.93293591 0.59291806 ... 0.01102449 0.6267375  0.30056236]]\n",
            "--------------------------- W.dot(C) ---------------------------\n",
            "[[0.47465326 0.47020681 0.50473808 ... 0.47280262 0.4762458  0.50594006]\n",
            " [0.47693298 0.47246516 0.50716229 ... 0.47507344 0.47853317 0.50837004]\n",
            " [0.48269829 0.47817646 0.51329301 ... 0.48081627 0.48431782 0.51451537]\n",
            " ...\n",
            " [0.46800293 0.46361877 0.49766623 ... 0.46617821 0.46957316 0.49885137]\n",
            " [0.48810589 0.48353341 0.51904337 ... 0.48620279 0.48974357 0.52027942]\n",
            " [0.48241116 0.47789203 0.51298769 ... 0.48053026 0.48402973 0.51420932]]\n",
            "------------------------- (X - np.dot(W,C)) -------------------------\n",
            "0.2504696293808218\n",
            "-------------------------- frobenius_norm --------------------------\n",
            "204.74009639328767\n",
            "---------------------------------------------------------------------------\n",
            "---------------------------------------------------------------------------\n",
            "For rank= 10 and l= 15.0 and epsilon= 0.001 54 iterations made\n",
            "---------------------------------- X ----------------------------------\n",
            "[[0.18765425 0.1679271  0.32601351 ... 0.53879014 0.52659466 0.65917599]\n",
            " [0.27581471 0.11637603 0.75602255 ... 0.70060198 0.0572841  0.64903725]\n",
            " [0.29920321 0.71168337 0.93587113 ... 0.75914369 0.90888289 0.87383146]\n",
            " ...\n",
            " [0.55318771 0.87638193 0.29894431 ... 0.39717961 0.97648978 0.72961434]\n",
            " [0.16246698 0.95246423 0.90550678 ... 0.99219818 0.05359102 0.12938735]\n",
            " [0.23485113 0.93293591 0.59291806 ... 0.01102449 0.6267375  0.30056236]]\n",
            "--------------------------- W.dot(C) ---------------------------\n",
            "[[0.46845161 0.47460583 0.50883132 ... 0.48277493 0.46604257 0.51642816]\n",
            " [0.49330404 0.4805024  0.51641595 ... 0.48159329 0.48740456 0.51259085]\n",
            " [0.49270297 0.48084706 0.52067026 ... 0.49020237 0.50121195 0.52081451]\n",
            " ...\n",
            " [0.46881779 0.46982227 0.50157369 ... 0.47377831 0.45920571 0.51467057]\n",
            " [0.48425869 0.49106502 0.52517931 ... 0.49731789 0.48232369 0.53034577]\n",
            " [0.49881851 0.48642061 0.52060703 ... 0.48882803 0.49889975 0.52230605]]\n",
            "------------------------- (X - np.dot(W,C)) -------------------------\n",
            "0.24957776636381906\n",
            "-------------------------- frobenius_norm --------------------------\n",
            "203.90194428663355\n",
            "---------------------------------------------------------------------------\n",
            "---------------------------------------------------------------------------\n",
            "For rank= 100 and l= 15.0 and epsilon= 0.001 57 iterations made\n",
            "---------------------------------- X ----------------------------------\n",
            "[[0.18765425 0.1679271  0.32601351 ... 0.53879014 0.52659466 0.65917599]\n",
            " [0.27581471 0.11637603 0.75602255 ... 0.70060198 0.0572841  0.64903725]\n",
            " [0.29920321 0.71168337 0.93587113 ... 0.75914369 0.90888289 0.87383146]\n",
            " ...\n",
            " [0.55318771 0.87638193 0.29894431 ... 0.39717961 0.97648978 0.72961434]\n",
            " [0.16246698 0.95246423 0.90550678 ... 0.99219818 0.05359102 0.12938735]\n",
            " [0.23485113 0.93293591 0.59291806 ... 0.01102449 0.6267375  0.30056236]]\n",
            "--------------------------- W.dot(C) ---------------------------\n",
            "[[0.47499598 0.46856097 0.5032319  ... 0.47288268 0.47541967 0.50450482]\n",
            " [0.47658659 0.47486071 0.50729774 ... 0.47637641 0.47887238 0.50901018]\n",
            " [0.4835417  0.47984418 0.51446657 ... 0.48154909 0.48292138 0.51437422]\n",
            " ...\n",
            " [0.46879002 0.46587034 0.49605004 ... 0.46712505 0.47048177 0.49946872]\n",
            " [0.48805756 0.48649932 0.52083675 ... 0.48743926 0.48740595 0.5175005 ]\n",
            " [0.48207306 0.47670721 0.51069993 ... 0.47930449 0.48326639 0.51403043]]\n",
            "------------------------- (X - np.dot(W,C)) -------------------------\n",
            "0.24997850184400858\n",
            "-------------------------- frobenius_norm --------------------------\n",
            "204.341932351496\n",
            "---------------------------------------------------------------------------\n"
          ],
          "name": "stdout"
        }
      ]
    },
    {
      "cell_type": "markdown",
      "metadata": {
        "id": "2_4CIXK6vuTg"
      },
      "source": [
        "We observe that we have the optimal result for $ k $ = 10 and $ λ $ = 10.0 with 77 iterations"
      ]
    },
    {
      "cell_type": "markdown",
      "metadata": {
        "id": "JVSrQrowak3g"
      },
      "source": [
        "$λ=30.0$, $λ=60.0$ for $ε=0.001$"
      ]
    },
    {
      "cell_type": "code",
      "metadata": {
        "id": "ZDiZCUVwauDh",
        "colab": {
          "base_uri": "https://localhost:8080/",
          "height": 1000
        },
        "outputId": "8373e8f5-c1a8-4969-fa19-ad7e3aeb7462"
      },
      "source": [
        "RunReg(X, 1, 30.0, 0.001)\n",
        "RunReg(X, 10, 30.0, 0.001)\n",
        "RunReg(X, 100, 30.0, 0.001)\n",
        "\n",
        "RunReg(X, 1, 60.0, 0.001)\n",
        "RunReg(X, 10, 60.0, 0.001)\n",
        "RunReg(X, 100, 60.0, 0.001)"
      ],
      "execution_count": null,
      "outputs": [
        {
          "output_type": "stream",
          "text": [
            "---------------------------------------------------------------------------\n",
            "For rank= 1 and l= 30.0 and epsilon= 0.001 13 iterations made\n",
            "---------------------------------- X ----------------------------------\n",
            "[[0.18765425 0.1679271  0.32601351 ... 0.53879014 0.52659466 0.65917599]\n",
            " [0.27581471 0.11637603 0.75602255 ... 0.70060198 0.0572841  0.64903725]\n",
            " [0.29920321 0.71168337 0.93587113 ... 0.75914369 0.90888289 0.87383146]\n",
            " ...\n",
            " [0.55318771 0.87638193 0.29894431 ... 0.39717961 0.97648978 0.72961434]\n",
            " [0.16246698 0.95246423 0.90550678 ... 0.99219818 0.05359102 0.12938735]\n",
            " [0.23485113 0.93293591 0.59291806 ... 0.01102449 0.6267375  0.30056236]]\n",
            "--------------------------- W.dot(C) ---------------------------\n",
            "[[0.45543761 0.45117116 0.48430449 ... 0.45366189 0.45696568 0.48545781]\n",
            " [0.45762504 0.4533381  0.48663055 ... 0.45584078 0.45916044 0.48778942]\n",
            " [0.46315694 0.45881818 0.49251309 ... 0.46135112 0.46471091 0.49368596]\n",
            " ...\n",
            " [0.44905651 0.44484984 0.47751893 ... 0.44730566 0.45056317 0.4786561 ]\n",
            " [0.46834563 0.46395826 0.49803065 ... 0.46651958 0.46991701 0.49921666]\n",
            " [0.46288144 0.45854526 0.49222012 ... 0.46107669 0.46443448 0.4933923 ]]\n",
            "------------------------- (X - np.dot(W,C)) -------------------------\n",
            "0.25179565831319717\n",
            "-------------------------- frobenius_norm --------------------------\n",
            "206.35602141638782\n",
            "---------------------------------------------------------------------------\n",
            "---------------------------------------------------------------------------\n",
            "For rank= 10 and l= 30.0 and epsilon= 0.001 30 iterations made\n",
            "---------------------------------- X ----------------------------------\n",
            "[[0.18765425 0.1679271  0.32601351 ... 0.53879014 0.52659466 0.65917599]\n",
            " [0.27581471 0.11637603 0.75602255 ... 0.70060198 0.0572841  0.64903725]\n",
            " [0.29920321 0.71168337 0.93587113 ... 0.75914369 0.90888289 0.87383146]\n",
            " ...\n",
            " [0.55318771 0.87638193 0.29894431 ... 0.39717961 0.97648978 0.72961434]\n",
            " [0.16246698 0.95246423 0.90550678 ... 0.99219818 0.05359102 0.12938735]\n",
            " [0.23485113 0.93293591 0.59291806 ... 0.01102449 0.6267375  0.30056236]]\n",
            "--------------------------- W.dot(C) ---------------------------\n",
            "[[0.45860845 0.45415689 0.48599601 ... 0.4564785  0.46038695 0.49802916]\n",
            " [0.46086659 0.45648334 0.49014477 ... 0.45987142 0.46228821 0.49035228]\n",
            " [0.46716688 0.46232483 0.49556763 ... 0.46648974 0.46782561 0.49682526]\n",
            " ...\n",
            " [0.45237574 0.44823446 0.4810158  ... 0.45056835 0.45409256 0.48452751]\n",
            " [0.46949313 0.46760694 0.500703   ... 0.46900515 0.47271019 0.49923885]\n",
            " [0.46499866 0.46082305 0.49607616 ... 0.464269   0.46740756 0.49793601]]\n",
            "------------------------- (X - np.dot(W,C)) -------------------------\n",
            "0.25139873378483285\n",
            "-------------------------- frobenius_norm --------------------------\n",
            "205.94261353423306\n",
            "---------------------------------------------------------------------------\n",
            "---------------------------------------------------------------------------\n",
            "For rank= 100 and l= 30.0 and epsilon= 0.001 28 iterations made\n",
            "---------------------------------- X ----------------------------------\n",
            "[[0.18765425 0.1679271  0.32601351 ... 0.53879014 0.52659466 0.65917599]\n",
            " [0.27581471 0.11637603 0.75602255 ... 0.70060198 0.0572841  0.64903725]\n",
            " [0.29920321 0.71168337 0.93587113 ... 0.75914369 0.90888289 0.87383146]\n",
            " ...\n",
            " [0.55318771 0.87638193 0.29894431 ... 0.39717961 0.97648978 0.72961434]\n",
            " [0.16246698 0.95246423 0.90550678 ... 0.99219818 0.05359102 0.12938735]\n",
            " [0.23485113 0.93293591 0.59291806 ... 0.01102449 0.6267375  0.30056236]]\n",
            "--------------------------- W.dot(C) ---------------------------\n",
            "[[0.45768464 0.45371628 0.48600852 ... 0.45535774 0.45918661 0.4886709 ]\n",
            " [0.45988473 0.45551108 0.48905356 ... 0.45853753 0.46080125 0.49037278]\n",
            " [0.46639369 0.46223769 0.49542408 ... 0.46542917 0.46782891 0.49746251]\n",
            " ...\n",
            " [0.45183549 0.44838898 0.48007689 ... 0.45048558 0.4543001  0.48117855]\n",
            " [0.47101057 0.46741521 0.5024486  ... 0.46953653 0.4731818  0.50177739]\n",
            " [0.46590475 0.46213448 0.49486335 ... 0.46400401 0.46746892 0.49615364]]\n",
            "------------------------- (X - np.dot(W,C)) -------------------------\n",
            "0.25144661228867704\n",
            "-------------------------- frobenius_norm --------------------------\n",
            "205.97210421059816\n",
            "---------------------------------------------------------------------------\n",
            "---------------------------------------------------------------------------\n",
            "For rank= 1 and l= 60.0 and epsilon= 0.001 12 iterations made\n",
            "---------------------------------- X ----------------------------------\n",
            "[[0.18765425 0.1679271  0.32601351 ... 0.53879014 0.52659466 0.65917599]\n",
            " [0.27581471 0.11637603 0.75602255 ... 0.70060198 0.0572841  0.64903725]\n",
            " [0.29920321 0.71168337 0.93587113 ... 0.75914369 0.90888289 0.87383146]\n",
            " ...\n",
            " [0.55318771 0.87638193 0.29894431 ... 0.39717961 0.97648978 0.72961434]\n",
            " [0.16246698 0.95246423 0.90550678 ... 0.99219818 0.05359102 0.12938735]\n",
            " [0.23485113 0.93293591 0.59291806 ... 0.01102449 0.6267375  0.30056236]]\n",
            "--------------------------- W.dot(C) ---------------------------\n",
            "[[0.41536969 0.41147859 0.44169695 ... 0.41375018 0.41676332 0.44274881]\n",
            " [0.41736467 0.41345488 0.44381837 ... 0.41573739 0.418765   0.44487529]\n",
            " [0.4224099  0.41845284 0.44918338 ... 0.42076294 0.42382715 0.45025307]\n",
            " ...\n",
            " [0.40954997 0.40571339 0.43550836 ... 0.40795316 0.41092408 0.43654548]\n",
            " [0.4271421  0.42314072 0.45421553 ... 0.42547669 0.42857523 0.4552972 ]\n",
            " [0.42215863 0.41820393 0.44891619 ... 0.42051266 0.42357504 0.44998524]]\n",
            "------------------------- (X - np.dot(W,C)) -------------------------\n",
            "0.2569419760908375\n",
            "-------------------------- frobenius_norm --------------------------\n",
            "212.49904257040998\n",
            "---------------------------------------------------------------------------\n",
            "---------------------------------------------------------------------------\n",
            "For rank= 10 and l= 60.0 and epsilon= 0.001 15 iterations made\n",
            "---------------------------------- X ----------------------------------\n",
            "[[0.18765425 0.1679271  0.32601351 ... 0.53879014 0.52659466 0.65917599]\n",
            " [0.27581471 0.11637603 0.75602255 ... 0.70060198 0.0572841  0.64903725]\n",
            " [0.29920321 0.71168337 0.93587113 ... 0.75914369 0.90888289 0.87383146]\n",
            " ...\n",
            " [0.55318771 0.87638193 0.29894431 ... 0.39717961 0.97648978 0.72961434]\n",
            " [0.16246698 0.95246423 0.90550678 ... 0.99219818 0.05359102 0.12938735]\n",
            " [0.23485113 0.93293591 0.59291806 ... 0.01102449 0.6267375  0.30056236]]\n",
            "--------------------------- W.dot(C) ---------------------------\n",
            "[[0.41452397 0.41120735 0.43919554 ... 0.41025876 0.41551941 0.4419152 ]\n",
            " [0.41736729 0.4097332  0.45125592 ... 0.4088835  0.41305003 0.44034814]\n",
            " [0.42188335 0.41796943 0.44757459 ... 0.41668251 0.42267672 0.44990488]\n",
            " ...\n",
            " [0.40864168 0.40504861 0.43257772 ... 0.40420012 0.41100734 0.43556768]\n",
            " [0.42625748 0.42264648 0.45144254 ... 0.42033597 0.42722574 0.45476378]\n",
            " [0.42130223 0.41753822 0.44623807 ... 0.41442692 0.4229155  0.44962845]]\n",
            "------------------------- (X - np.dot(W,C)) -------------------------\n",
            "0.2572457766388026\n",
            "-------------------------- frobenius_norm --------------------------\n",
            "212.87937096063936\n",
            "---------------------------------------------------------------------------\n",
            "---------------------------------------------------------------------------\n",
            "For rank= 100 and l= 60.0 and epsilon= 0.001 16 iterations made\n",
            "---------------------------------- X ----------------------------------\n",
            "[[0.18765425 0.1679271  0.32601351 ... 0.53879014 0.52659466 0.65917599]\n",
            " [0.27581471 0.11637603 0.75602255 ... 0.70060198 0.0572841  0.64903725]\n",
            " [0.29920321 0.71168337 0.93587113 ... 0.75914369 0.90888289 0.87383146]\n",
            " ...\n",
            " [0.55318771 0.87638193 0.29894431 ... 0.39717961 0.97648978 0.72961434]\n",
            " [0.16246698 0.95246423 0.90550678 ... 0.99219818 0.05359102 0.12938735]\n",
            " [0.23485113 0.93293591 0.59291806 ... 0.01102449 0.6267375  0.30056236]]\n",
            "--------------------------- W.dot(C) ---------------------------\n",
            "[[0.41417926 0.41050528 0.44066602 ... 0.41197729 0.4153127  0.44094427]\n",
            " [0.41614059 0.41248465 0.44270358 ... 0.41388526 0.41727399 0.44312701]\n",
            " [0.42110487 0.41730123 0.44806622 ... 0.41884711 0.42220126 0.44830723]\n",
            " ...\n",
            " [0.40827505 0.40468611 0.43430548 ... 0.40608306 0.40946697 0.43475213]\n",
            " [0.42578962 0.42202711 0.45299742 ... 0.42356096 0.42681472 0.45322688]\n",
            " [0.42093988 0.41721328 0.44781807 ... 0.41866845 0.42227863 0.4482045 ]]\n",
            "------------------------- (X - np.dot(W,C)) -------------------------\n",
            "0.2571628159292406\n",
            "-------------------------- frobenius_norm --------------------------\n",
            "212.76446245958667\n",
            "---------------------------------------------------------------------------\n"
          ],
          "name": "stdout"
        }
      ]
    },
    {
      "cell_type": "markdown",
      "metadata": {
        "id": "AQ6efrvEwe25"
      },
      "source": [
        "We observe that we have the optimal result for $ k $ = 10 and $ λ $ = 30.0 with 30 iterations"
      ]
    },
    {
      "cell_type": "markdown",
      "metadata": {
        "id": "C0PUpqbsaqHI"
      },
      "source": [
        "$λ=100.0$ for $ε=0.001$"
      ]
    },
    {
      "cell_type": "code",
      "metadata": {
        "id": "LIzsLNQwa09r",
        "colab": {
          "base_uri": "https://localhost:8080/",
          "height": 1000
        },
        "outputId": "b903d0a6-b484-4327-a873-17c5af9f76a5"
      },
      "source": [
        "RunReg(X, 1, 100.0, 0.001)\n",
        "RunReg(X, 10, 100.0, 0.001)\n",
        "RunReg(X, 100, 100.0, 0.001)"
      ],
      "execution_count": null,
      "outputs": [
        {
          "output_type": "stream",
          "text": [
            "---------------------------------------------------------------------------\n",
            "For rank= 1 and l= 100.0 and epsilon= 0.001 8 iterations made\n",
            "---------------------------------- X ----------------------------------\n",
            "[[0.18765425 0.1679271  0.32601351 ... 0.53879014 0.52659466 0.65917599]\n",
            " [0.27581471 0.11637603 0.75602255 ... 0.70060198 0.0572841  0.64903725]\n",
            " [0.29920321 0.71168337 0.93587113 ... 0.75914369 0.90888289 0.87383146]\n",
            " ...\n",
            " [0.55318771 0.87638193 0.29894431 ... 0.39717961 0.97648978 0.72961434]\n",
            " [0.16246698 0.95246423 0.90550678 ... 0.99219818 0.05359102 0.12938735]\n",
            " [0.23485113 0.93293591 0.59291806 ... 0.01102449 0.6267375  0.30056236]]\n",
            "--------------------------- W.dot(C) ---------------------------\n",
            "[[0.35845814 0.35510018 0.3811782  ... 0.35706054 0.35966083 0.38208594]\n",
            " [0.36017978 0.35680569 0.38300896 ... 0.35877546 0.36138825 0.38392106]\n",
            " [0.36453375 0.36111887 0.38763888 ... 0.36311245 0.36575682 0.38856201]\n",
            " ...\n",
            " [0.35343581 0.3501249  0.37583753 ... 0.35205779 0.35462165 0.37673256]\n",
            " [0.36861757 0.36516443 0.39198155 ... 0.36718035 0.36985434 0.39291502]\n",
            " [0.36431691 0.36090406 0.3874083  ... 0.36289645 0.36553925 0.38833088]]\n",
            "------------------------- (X - np.dot(W,C)) -------------------------\n",
            "0.2697611414017252\n",
            "-------------------------- frobenius_norm --------------------------\n",
            "227.0914864328073\n",
            "---------------------------------------------------------------------------\n",
            "---------------------------------------------------------------------------\n",
            "For rank= 10 and l= 100.0 and epsilon= 0.001 6 iterations made\n",
            "---------------------------------- X ----------------------------------\n",
            "[[0.18765425 0.1679271  0.32601351 ... 0.53879014 0.52659466 0.65917599]\n",
            " [0.27581471 0.11637603 0.75602255 ... 0.70060198 0.0572841  0.64903725]\n",
            " [0.29920321 0.71168337 0.93587113 ... 0.75914369 0.90888289 0.87383146]\n",
            " ...\n",
            " [0.55318771 0.87638193 0.29894431 ... 0.39717961 0.97648978 0.72961434]\n",
            " [0.16246698 0.95246423 0.90550678 ... 0.99219818 0.05359102 0.12938735]\n",
            " [0.23485113 0.93293591 0.59291806 ... 0.01102449 0.6267375  0.30056236]]\n",
            "--------------------------- W.dot(C) ---------------------------\n",
            "[[0.34529858 0.34787465 0.36854857 ... 0.34946416 0.35258372 0.37271164]\n",
            " [0.34743257 0.33620109 0.36849413 ... 0.33836193 0.34749664 0.37905184]\n",
            " [0.36532658 0.36096186 0.38824345 ... 0.36226109 0.3664194  0.3881347 ]\n",
            " ...\n",
            " [0.35380366 0.34666093 0.37070756 ... 0.34577627 0.35056569 0.37032611]\n",
            " [0.35865804 0.36323157 0.38580556 ... 0.35708487 0.3624252  0.38560325]\n",
            " [0.36212022 0.36017542 0.38588785 ... 0.36414854 0.36522556 0.3854209 ]]\n",
            "------------------------- (X - np.dot(W,C)) -------------------------\n",
            "0.2709199575162512\n",
            "-------------------------- frobenius_norm --------------------------\n",
            "228.39044250124402\n",
            "---------------------------------------------------------------------------\n",
            "---------------------------------------------------------------------------\n",
            "For rank= 100 and l= 100.0 and epsilon= 0.001 9 iterations made\n",
            "---------------------------------- X ----------------------------------\n",
            "[[0.18765425 0.1679271  0.32601351 ... 0.53879014 0.52659466 0.65917599]\n",
            " [0.27581471 0.11637603 0.75602255 ... 0.70060198 0.0572841  0.64903725]\n",
            " [0.29920321 0.71168337 0.93587113 ... 0.75914369 0.90888289 0.87383146]\n",
            " ...\n",
            " [0.55318771 0.87638193 0.29894431 ... 0.39717961 0.97648978 0.72961434]\n",
            " [0.16246698 0.95246423 0.90550678 ... 0.99219818 0.05359102 0.12938735]\n",
            " [0.23485113 0.93293591 0.59291806 ... 0.01102449 0.6267375  0.30056236]]\n",
            "--------------------------- W.dot(C) ---------------------------\n",
            "[[0.35853798 0.35516667 0.38099464 ... 0.35711929 0.35908438 0.38184016]\n",
            " [0.35928556 0.3558646  0.38178016 ... 0.35791541 0.35974876 0.38266554]\n",
            " [0.36467833 0.36125429 0.3875622  ... 0.36326886 0.36528062 0.38839606]\n",
            " ...\n",
            " [0.35361147 0.3502929  0.37578172 ... 0.35223221 0.35415722 0.37661923]\n",
            " [0.36846494 0.36502036 0.39156965 ... 0.36703199 0.36899937 0.39239254]\n",
            " [0.36446699 0.36104605 0.38733226 ... 0.36303808 0.36501582 0.38816755]]\n",
            "------------------------- (X - np.dot(W,C)) -------------------------\n",
            "0.2698025444463475\n",
            "-------------------------- frobenius_norm --------------------------\n",
            "227.1384687408027\n",
            "---------------------------------------------------------------------------\n"
          ],
          "name": "stdout"
        }
      ]
    },
    {
      "cell_type": "markdown",
      "metadata": {
        "id": "ZkF3Jwohw-cV"
      },
      "source": [
        "We observe that we have the optimal result for $ k $ = 1 and $ λ $ = 100.0 with 8 iterations"
      ]
    },
    {
      "cell_type": "markdown",
      "metadata": {
        "id": "NYX9b6QdVjEz"
      },
      "source": [
        "Of all the executions, we had the best result for $ k = 100 $, $ λ = 0.01 $ and $ ε = 0.001 $, however in this case the most iterations were performed (15686). We got the immediately worse result for $ k = 100 $, $ λ = 0.1 $ and $ ε = 0.001 $ with 1634 iterations. For $ λ <= 2.0 $ the results are the most satisfactory, however the number of iterations and therefore the execution time is noticeably longer. For example, an execution that produces quite satisfactory results and does not make so many iterations is for $ k = $ 10, $ λ = $ 10.0 and $ ε = $ 0.001 with 76 iterations.\n",
        "\n",
        "<br> In most cases, the higher the $ λ $, the higher the number of iterations performed, but the more accurate the results we get. We conclude that the choice of $ λ $ depends on how good results we want to achieve but also on how much time we are willing to provide for the execution. Choosing a $ λ \\ in [3.0, 5.0] $ seems to be quite satisfactory considering both the results and the runtime.\n",
        "\n",
        "<br> As $ k $ increases keeping the other parameters constant, the number of iterations increases. The same happens as the $ e $ decreases keeping the other parameters constant"
      ]
    },
    {
      "cell_type": "markdown",
      "metadata": {
        "id": "U3EDFJ7PMIS_"
      },
      "source": [
        "##A second way which, however, produces satisfactory results for specific parameters only and its use is not recommended:\n",
        "<br>according to the presentation https://angms.science/doc/NMF/nmf_2.pdf as follows:\n",
        "\n",
        "W and C are initialized with non-negative values and the values are calculated at each step\n",
        "<br><br>$C_{[t+1]} =C_{[t]}*\\frac{W_{[t]}X - λ\\nabla{C_{[t]}}}{W_{[t]}^TW_{[t]}C_{[t]}}=C_{[t]}*\\frac{W_{[t]}X - λ(W_{[t]}^TW_{[t]}C_{[t]}-W_{[t]}^TΧ)}{W_{[t]}^TW_{[t]}C_{[t]}} $ \n",
        "\n",
        "<br>and<br>\n",
        "$W_{[t+1]} =W_{[t]}*\\frac{XC_{[t]}^T - λ\\nabla{W_{[t]}}}{W_{[t]}C_{[t]}C_{[t]}^T} = W_{[t]}*\\frac{XC_{[t]}^T - λ(C_{[t]}^TC_{[t]}W_{[t]}-C_{[t]}^TΧ)}{W_{[t]}C_{[t]}C_{[t]}^T} $ <br><br>\n",
        "\n",
        "where * denotes the Hadamard product (ie item by item product) <br>\n",
        "A number of maximum iterations for the calculation of tables W and C is selected, at least 1000"
      ]
    },
    {
      "cell_type": "code",
      "metadata": {
        "id": "l0yN2wXykJc3"
      },
      "source": [
        "def update_C(X, W, C, l):\n",
        "  numerator = np.dot(W.T, X) - l*( ((W.T).dot(W)).dot(C) - (W.T).dot(X) )\n",
        "  denominator = np.dot(W.T.dot(W), C )\n",
        "  C *= numerator\n",
        "  C /= denominator\n",
        "  return C\n",
        "\n",
        "def update_W(X, W, C, l):\n",
        "  numerator = X.dot(C.T) - l*( W.dot(np.dot(C, C.T)) - (X).dot(C.T))  \n",
        "  denominator = W.dot(C.dot(C.T)) \n",
        "  W *= numerator\n",
        "  W /= denominator\n",
        "  return W\n",
        "\n",
        "def RegNMF(X, k, lambdaL, epsilon, reps):\n",
        "  X_dim, samples = X.shape\n",
        "  W = np.random.random((X_dim, k))\n",
        "  C = np.random.random((k, samples))\n",
        "\n",
        "  mis = 0\n",
        "\n",
        "  while mis<reps:\n",
        "\n",
        "    wNew=update_W(X, W, C, lambdaL)\n",
        "    cNew=update_C(X, W, C, lambdaL)\n",
        "\n",
        "    W = wNew\n",
        "    C = cNew\n",
        "\n",
        "    mis+=1\n",
        "\n",
        "  return (wNew, cNew)\n",
        "\n",
        "def runReg(X, rank, l, epsilon, reps):\n",
        "  W, C = RegNMF(X, rank, l, epsilon, reps)\n",
        "  print(75*\"-\")\n",
        "  print(\"For rank=\", rank, \"l=\", l, \"and epsilon=\", epsilon)\n",
        "  print (34*\"-\", \"X\", 34*\"-\")\n",
        "  print (X)\n",
        "\n",
        "  # print (34*\"-\", \"W\", 34*\"-\")\n",
        "  # print (W)\n",
        "  # print (34*\"-\", \"C\", 34*\"-\")\n",
        "  # print (C)\n",
        "  \n",
        "  print (27*\"-\", \"W.dot(C)\", 27*\"-\")\n",
        "  print (W.dot(C))\n",
        "  print (25*\"-\", \"(X - np.dot(W,C))\", 25*\"-\")\n",
        "  print(np.ndarray.sum(abs(X - np.dot(W,C)))/500000)\n",
        "  print(75*\"-\")\n",
        "\n",
        "X = np.random.random((500,1000))"
      ],
      "execution_count": null,
      "outputs": []
    },
    {
      "cell_type": "markdown",
      "metadata": {
        "id": "3QVQ9jcxb7H2"
      },
      "source": [
        "$λ=0.01$, $λ=0.1$ for 1000 iterations  max"
      ]
    },
    {
      "cell_type": "code",
      "metadata": {
        "id": "Fi-X7eftcZUr",
        "colab": {
          "base_uri": "https://localhost:8080/",
          "height": 1000
        },
        "outputId": "15140fd1-6c26-4859-c673-c0795272f75f"
      },
      "source": [
        "runReg(X, 1, 0.01, 0.1, 1000)\n",
        "runReg(X, 10, 0.01, 0.1, 1000)\n",
        "runReg(X, 100, 0.01, 0.1, 1000)\n",
        "\n",
        "runReg(X, 1, 0.1, 0.1, 1000)\n",
        "runReg(X, 10, 0.1, 0.1, 1000)\n",
        "runReg(X, 100, 0.1, 0.1, 1000)"
      ],
      "execution_count": null,
      "outputs": [
        {
          "output_type": "stream",
          "text": [
            "---------------------------------------------------------------------------\n",
            "For rank= 1 l= 0.01 and epsilon= 0.1\n",
            "---------------------------------- X ----------------------------------\n",
            "[[0.5659102  0.36524122 0.50645799 ... 0.21679158 0.98041479 0.93887927]\n",
            " [0.33151846 0.49760015 0.06500305 ... 0.55371335 0.0108494  0.94444661]\n",
            " [0.34501705 0.69653384 0.92021542 ... 0.15914972 0.34696624 0.10709115]\n",
            " ...\n",
            " [0.19909544 0.82708956 0.46491748 ... 0.38028636 0.59254779 0.20379176]\n",
            " [0.8333463  0.78668208 0.80986505 ... 0.14784309 0.96364691 0.98563658]\n",
            " [0.80622937 0.61689361 0.583033   ... 0.59651    0.79411172 0.60419705]]\n",
            "--------------------------- W.dot(C) ---------------------------\n",
            "[[0.51341096 0.50857321 0.51234298 ... 0.50254428 0.50172801 0.4711407 ]\n",
            " [0.52132754 0.51641519 0.52024308 ... 0.51029329 0.50946444 0.47840549]\n",
            " [0.50116759 0.4964452  0.50012507 ... 0.49056005 0.48976325 0.45990536]\n",
            " ...\n",
            " [0.50632948 0.50155845 0.50527622 ... 0.49561268 0.49480767 0.46464225]\n",
            " [0.53289167 0.52787036 0.53178316 ... 0.52161267 0.52076543 0.48901752]\n",
            " [0.51406782 0.50922387 0.51299846 ... 0.50318723 0.50236992 0.47174348]]\n",
            "------------------------- (X - np.dot(W,C)) -------------------------\n",
            "0.24938104251228668\n",
            "---------------------------------------------------------------------------\n",
            "---------------------------------------------------------------------------\n",
            "For rank= 10 l= 0.01 and epsilon= 0.1\n",
            "---------------------------------- X ----------------------------------\n",
            "[[0.5659102  0.36524122 0.50645799 ... 0.21679158 0.98041479 0.93887927]\n",
            " [0.33151846 0.49760015 0.06500305 ... 0.55371335 0.0108494  0.94444661]\n",
            " [0.34501705 0.69653384 0.92021542 ... 0.15914972 0.34696624 0.10709115]\n",
            " ...\n",
            " [0.19909544 0.82708956 0.46491748 ... 0.38028636 0.59254779 0.20379176]\n",
            " [0.8333463  0.78668208 0.80986505 ... 0.14784309 0.96364691 0.98563658]\n",
            " [0.80622937 0.61689361 0.583033   ... 0.59651    0.79411172 0.60419705]]\n",
            "--------------------------- W.dot(C) ---------------------------\n",
            "[[0.50575317 0.43066203 0.51668487 ... 0.45811891 0.5127305  0.39501912]\n",
            " [0.55160519 0.60034828 0.47725165 ... 0.47502238 0.45283172 0.50034931]\n",
            " [0.52824757 0.50003553 0.40419785 ... 0.42381479 0.44372948 0.47882276]\n",
            " ...\n",
            " [0.53279222 0.45586966 0.47387751 ... 0.43497891 0.50153865 0.46294829]\n",
            " [0.46427735 0.57080948 0.5704456  ... 0.44954768 0.4479751  0.48703381]\n",
            " [0.4717202  0.43331066 0.50745208 ... 0.49390655 0.58862441 0.52572952]]\n",
            "------------------------- (X - np.dot(W,C)) -------------------------\n",
            "0.24151654614301987\n",
            "---------------------------------------------------------------------------\n",
            "---------------------------------------------------------------------------\n",
            "For rank= 100 l= 0.01 and epsilon= 0.1\n",
            "---------------------------------- X ----------------------------------\n",
            "[[0.5659102  0.36524122 0.50645799 ... 0.21679158 0.98041479 0.93887927]\n",
            " [0.33151846 0.49760015 0.06500305 ... 0.55371335 0.0108494  0.94444661]\n",
            " [0.34501705 0.69653384 0.92021542 ... 0.15914972 0.34696624 0.10709115]\n",
            " ...\n",
            " [0.19909544 0.82708956 0.46491748 ... 0.38028636 0.59254779 0.20379176]\n",
            " [0.8333463  0.78668208 0.80986505 ... 0.14784309 0.96364691 0.98563658]\n",
            " [0.80622937 0.61689361 0.583033   ... 0.59651    0.79411172 0.60419705]]\n",
            "--------------------------- W.dot(C) ---------------------------\n",
            "[[0.43940315 0.48575798 0.49556471 ... 0.65188964 0.68007619 0.36947993]\n",
            " [0.3732996  0.59145003 0.50460115 ... 0.54358201 0.29989992 0.76829554]\n",
            " [0.34634544 0.67429163 0.60514083 ... 0.23783752 0.35432115 0.48749204]\n",
            " ...\n",
            " [0.519794   0.60598898 0.56918977 ... 0.35957228 0.40296784 0.36794359]\n",
            " [0.52781906 0.54245297 0.71704027 ... 0.26790213 0.45679013 0.52117782]\n",
            " [0.62971879 0.38183891 0.3521481  ... 0.60093594 0.43156019 0.58729393]]\n",
            "------------------------- (X - np.dot(W,C)) -------------------------\n",
            "0.20085550831739774\n",
            "---------------------------------------------------------------------------\n",
            "---------------------------------------------------------------------------\n",
            "For rank= 1 l= 0.1 and epsilon= 0.1\n",
            "---------------------------------- X ----------------------------------\n",
            "[[0.5659102  0.36524122 0.50645799 ... 0.21679158 0.98041479 0.93887927]\n",
            " [0.33151846 0.49760015 0.06500305 ... 0.55371335 0.0108494  0.94444661]\n",
            " [0.34501705 0.69653384 0.92021542 ... 0.15914972 0.34696624 0.10709115]\n",
            " ...\n",
            " [0.19909544 0.82708956 0.46491748 ... 0.38028636 0.59254779 0.20379176]\n",
            " [0.8333463  0.78668208 0.80986505 ... 0.14784309 0.96364691 0.98563658]\n",
            " [0.80622937 0.61689361 0.583033   ... 0.59651    0.79411172 0.60419705]]\n",
            "--------------------------- W.dot(C) ---------------------------\n",
            "[[0.51341096 0.50857321 0.51234298 ... 0.50254428 0.50172801 0.4711407 ]\n",
            " [0.52132754 0.51641519 0.52024308 ... 0.51029329 0.50946444 0.47840549]\n",
            " [0.50116759 0.4964452  0.50012507 ... 0.49056005 0.48976325 0.45990536]\n",
            " ...\n",
            " [0.50632948 0.50155845 0.50527622 ... 0.49561268 0.49480767 0.46464225]\n",
            " [0.53289167 0.52787036 0.53178316 ... 0.52161267 0.52076543 0.48901752]\n",
            " [0.51406782 0.50922387 0.51299846 ... 0.50318723 0.50236992 0.47174348]]\n",
            "------------------------- (X - np.dot(W,C)) -------------------------\n",
            "0.24938104251228668\n",
            "---------------------------------------------------------------------------\n",
            "---------------------------------------------------------------------------\n",
            "For rank= 10 l= 0.1 and epsilon= 0.1\n",
            "---------------------------------- X ----------------------------------\n",
            "[[0.5659102  0.36524122 0.50645799 ... 0.21679158 0.98041479 0.93887927]\n",
            " [0.33151846 0.49760015 0.06500305 ... 0.55371335 0.0108494  0.94444661]\n",
            " [0.34501705 0.69653384 0.92021542 ... 0.15914972 0.34696624 0.10709115]\n",
            " ...\n",
            " [0.19909544 0.82708956 0.46491748 ... 0.38028636 0.59254779 0.20379176]\n",
            " [0.8333463  0.78668208 0.80986505 ... 0.14784309 0.96364691 0.98563658]\n",
            " [0.80622937 0.61689361 0.583033   ... 0.59651    0.79411172 0.60419705]]\n",
            "--------------------------- W.dot(C) ---------------------------\n",
            "[[0.56490189 0.43092405 0.48122935 ... 0.48362365 0.54033257 0.4388476 ]\n",
            " [0.53297102 0.55816971 0.5424458  ... 0.55340242 0.50475603 0.48780479]\n",
            " [0.40424844 0.4092201  0.47202377 ... 0.40398187 0.52613702 0.47576753]\n",
            " ...\n",
            " [0.62363648 0.43116119 0.45073317 ... 0.45199871 0.44586091 0.44315284]\n",
            " [0.56159624 0.56473102 0.55044189 ... 0.53507668 0.50332897 0.5205781 ]\n",
            " [0.51274021 0.52220042 0.47522961 ... 0.43586506 0.51449503 0.50024044]]\n",
            "------------------------- (X - np.dot(W,C)) -------------------------\n",
            "0.24151368471911322\n",
            "---------------------------------------------------------------------------\n",
            "---------------------------------------------------------------------------\n",
            "For rank= 100 l= 0.1 and epsilon= 0.1\n",
            "---------------------------------- X ----------------------------------\n",
            "[[0.5659102  0.36524122 0.50645799 ... 0.21679158 0.98041479 0.93887927]\n",
            " [0.33151846 0.49760015 0.06500305 ... 0.55371335 0.0108494  0.94444661]\n",
            " [0.34501705 0.69653384 0.92021542 ... 0.15914972 0.34696624 0.10709115]\n",
            " ...\n",
            " [0.19909544 0.82708956 0.46491748 ... 0.38028636 0.59254779 0.20379176]\n",
            " [0.8333463  0.78668208 0.80986505 ... 0.14784309 0.96364691 0.98563658]\n",
            " [0.80622937 0.61689361 0.583033   ... 0.59651    0.79411172 0.60419705]]\n",
            "--------------------------- W.dot(C) ---------------------------\n",
            "[[0.32877055 0.34254461 0.50034062 ... 0.34661979 0.79318997 0.40198266]\n",
            " [0.74749725 0.3914265  0.43359442 ... 0.5058989  0.4769433  0.7013582 ]\n",
            " [0.52604375 0.47197334 0.51532749 ... 0.44064908 0.51552706 0.31109362]\n",
            " ...\n",
            " [0.51081714 0.57316943 0.43896777 ... 0.61979765 0.57602762 0.58891369]\n",
            " [0.41830041 0.68833638 0.76138967 ... 0.27186467 0.50445905 0.51529469]\n",
            " [0.54832856 0.43700489 0.46866511 ... 0.57769138 0.59187536 0.52248169]]\n",
            "------------------------- (X - np.dot(W,C)) -------------------------\n",
            "0.20081460025573597\n",
            "---------------------------------------------------------------------------\n"
          ],
          "name": "stdout"
        }
      ]
    },
    {
      "cell_type": "markdown",
      "metadata": {
        "id": "iAFgA7n-cmcJ"
      },
      "source": [
        "$λ=1.0$ for 1000 iterations max"
      ]
    },
    {
      "cell_type": "code",
      "metadata": {
        "id": "ZutvUZD2csiq",
        "colab": {
          "base_uri": "https://localhost:8080/",
          "height": 1000
        },
        "outputId": "84aa69f1-7d2c-438e-c413-d04d3bd8fe38"
      },
      "source": [
        "runReg(X, 1, 1.0, 0.1, 1000)\n",
        "runReg(X, 10, 1.0, 0.1, 1000)\n",
        "runReg(X, 100, 1.0, 0.1, 1000)"
      ],
      "execution_count": null,
      "outputs": [
        {
          "output_type": "stream",
          "text": [
            "---------------------------------------------------------------------------\n",
            "For rank= 1 l= 1.0 and epsilon= 0.1\n",
            "---------------------------------- X ----------------------------------\n",
            "[[0.5659102  0.36524122 0.50645799 ... 0.21679158 0.98041479 0.93887927]\n",
            " [0.33151846 0.49760015 0.06500305 ... 0.55371335 0.0108494  0.94444661]\n",
            " [0.34501705 0.69653384 0.92021542 ... 0.15914972 0.34696624 0.10709115]\n",
            " ...\n",
            " [0.19909544 0.82708956 0.46491748 ... 0.38028636 0.59254779 0.20379176]\n",
            " [0.8333463  0.78668208 0.80986505 ... 0.14784309 0.96364691 0.98563658]\n",
            " [0.80622937 0.61689361 0.583033   ... 0.59651    0.79411172 0.60419705]]\n",
            "--------------------------- W.dot(C) ---------------------------\n",
            "[[0.29377602 0.18420728 0.39163873 ... 0.08214612 0.10826178 0.06237455]\n",
            " [0.16869335 0.10577631 0.2248885  ... 0.0471703  0.06216655 0.03581699]\n",
            " [0.06449772 0.0404422  0.08598321 ... 0.01803496 0.02376858 0.01369416]\n",
            " ...\n",
            " [0.17449074 0.10941147 0.23261712 ... 0.04879138 0.06430299 0.03704789]\n",
            " [0.45290108 0.28398395 0.60377156 ... 0.12664093 0.16690224 0.09616   ]\n",
            " [0.23877275 0.14971841 0.31831277 ... 0.06676602 0.08799208 0.05069625]]\n",
            "------------------------- (X - np.dot(W,C)) -------------------------\n",
            "0.36416776461550204\n",
            "---------------------------------------------------------------------------\n",
            "---------------------------------------------------------------------------\n",
            "For rank= 10 l= 1.0 and epsilon= 0.1\n",
            "---------------------------------- X ----------------------------------\n",
            "[[0.5659102  0.36524122 0.50645799 ... 0.21679158 0.98041479 0.93887927]\n",
            " [0.33151846 0.49760015 0.06500305 ... 0.55371335 0.0108494  0.94444661]\n",
            " [0.34501705 0.69653384 0.92021542 ... 0.15914972 0.34696624 0.10709115]\n",
            " ...\n",
            " [0.19909544 0.82708956 0.46491748 ... 0.38028636 0.59254779 0.20379176]\n",
            " [0.8333463  0.78668208 0.80986505 ... 0.14784309 0.96364691 0.98563658]\n",
            " [0.80622937 0.61689361 0.583033   ... 0.59651    0.79411172 0.60419705]]\n",
            "--------------------------- W.dot(C) ---------------------------\n",
            "[[-6.96121794e+02 -4.03248284e+01 -3.32910481e+01 ... -3.71672531e+01\n",
            "  -1.08940211e+03  3.98561394e+02]\n",
            " [ 8.09209005e+02 -5.34735412e-02 -1.72786571e-01 ...  6.18806532e-03\n",
            "   8.81369563e+02 -8.04495364e+01]\n",
            " [ 3.42470479e+02 -3.51648396e-02 -3.05504438e-02 ... -2.74658897e-01\n",
            "  -4.27171866e+02  9.64619022e+01]\n",
            " ...\n",
            " [ 1.65204463e+02 -1.49758767e+00 -1.70996210e+00 ... -1.34579770e+00\n",
            "   2.66512163e+02 -1.18406282e+00]\n",
            " [ 3.49046893e+02 -1.03589371e-02  1.25121659e+00 ... -9.85823436e-03\n",
            "   4.68619799e+02  3.21053092e+02]\n",
            " [ 1.13758321e+02  5.56282393e-03  3.98278166e+00 ...  1.49406241e-02\n",
            "  -4.04318892e+01  6.97684367e+01]]\n",
            "------------------------- (X - np.dot(W,C)) -------------------------\n",
            "584.7218774186388\n",
            "---------------------------------------------------------------------------\n",
            "---------------------------------------------------------------------------\n",
            "For rank= 100 l= 1.0 and epsilon= 0.1\n",
            "---------------------------------- X ----------------------------------\n",
            "[[0.5659102  0.36524122 0.50645799 ... 0.21679158 0.98041479 0.93887927]\n",
            " [0.33151846 0.49760015 0.06500305 ... 0.55371335 0.0108494  0.94444661]\n",
            " [0.34501705 0.69653384 0.92021542 ... 0.15914972 0.34696624 0.10709115]\n",
            " ...\n",
            " [0.19909544 0.82708956 0.46491748 ... 0.38028636 0.59254779 0.20379176]\n",
            " [0.8333463  0.78668208 0.80986505 ... 0.14784309 0.96364691 0.98563658]\n",
            " [0.80622937 0.61689361 0.583033   ... 0.59651    0.79411172 0.60419705]]\n",
            "--------------------------- W.dot(C) ---------------------------\n",
            "[[  171.31713534   154.7799659     36.44706373 ...     4.79971933\n",
            "    125.13897868   217.94545943]\n",
            " [  281.16074975   284.69339976   254.2256417  ...    17.45947249\n",
            "    149.22044417  -619.53009916]\n",
            " [  217.00883179   177.87063378   -23.57063942 ...  1009.88365909\n",
            "   -721.94352846   245.92176864]\n",
            " ...\n",
            " [  -41.98860414   106.50187179    96.13489311 ... -2441.00762093\n",
            "    112.29280308   381.24850149]\n",
            " [  -72.66950584  -105.82134561   103.39221332 ... -4123.14984471\n",
            "    114.64466386   418.86140993]\n",
            " [  123.5298806    245.85681208   -48.22368912 ...  -156.88778967\n",
            "    172.95057856   988.83103532]]\n",
            "------------------------- (X - np.dot(W,C)) -------------------------\n",
            "7454.757477555336\n",
            "---------------------------------------------------------------------------\n"
          ],
          "name": "stdout"
        }
      ]
    },
    {
      "cell_type": "markdown",
      "metadata": {
        "id": "Y0oGWRWgdEXx"
      },
      "source": [
        "$λ=1.0$, $λ=5.0$ for 10000 iterations max"
      ]
    },
    {
      "cell_type": "code",
      "metadata": {
        "id": "YSV267WwdHOF",
        "colab": {
          "base_uri": "https://localhost:8080/",
          "height": 1000
        },
        "outputId": "4d1649ac-8843-4e21-d26e-66d13405f964"
      },
      "source": [
        "runReg(X, 1, 1.0, 0.1, 10000)\n",
        "runReg(X, 10, 1.0, 0.1, 10000)\n",
        "runReg(X, 100, 1.0, 0.1, 10000)"
      ],
      "execution_count": null,
      "outputs": [
        {
          "output_type": "stream",
          "text": [
            "---------------------------------------------------------------------------\n",
            "For rank= 1 l= 1.0 and epsilon= 0.1\n",
            "---------------------------------- X ----------------------------------\n",
            "[[0.5659102  0.36524122 0.50645799 ... 0.21679158 0.98041479 0.93887927]\n",
            " [0.33151846 0.49760015 0.06500305 ... 0.55371335 0.0108494  0.94444661]\n",
            " [0.34501705 0.69653384 0.92021542 ... 0.15914972 0.34696624 0.10709115]\n",
            " ...\n",
            " [0.19909544 0.82708956 0.46491748 ... 0.38028636 0.59254779 0.20379176]\n",
            " [0.8333463  0.78668208 0.80986505 ... 0.14784309 0.96364691 0.98563658]\n",
            " [0.80622937 0.61689361 0.583033   ... 0.59651    0.79411172 0.60419705]]\n",
            "--------------------------- W.dot(C) ---------------------------\n",
            "[[0.51758049 0.33172166 0.69535638 ... 0.2349369  0.89571416 0.82462865]\n",
            " [0.49263699 0.31573516 0.66184541 ... 0.2236147  0.85254744 0.78488772]\n",
            " [0.89680503 0.57476984 1.20483502 ... 0.40707213 1.55199235 1.42882341]\n",
            " ...\n",
            " [0.62772914 0.40231685 0.84333832 ... 0.28493488 1.08633513 1.0001216 ]\n",
            " [0.87891279 0.56330255 1.18079724 ... 0.3989506  1.5210284  1.40031682]\n",
            " [0.7028021  0.45043174 0.94419696 ... 0.31901153 1.21625486 1.11973066]]\n",
            "------------------------- (X - np.dot(W,C)) -------------------------\n",
            "0.35533665226124433\n",
            "---------------------------------------------------------------------------\n",
            "---------------------------------------------------------------------------\n",
            "For rank= 10 l= 1.0 and epsilon= 0.1\n",
            "---------------------------------- X ----------------------------------\n",
            "[[0.5659102  0.36524122 0.50645799 ... 0.21679158 0.98041479 0.93887927]\n",
            " [0.33151846 0.49760015 0.06500305 ... 0.55371335 0.0108494  0.94444661]\n",
            " [0.34501705 0.69653384 0.92021542 ... 0.15914972 0.34696624 0.10709115]\n",
            " ...\n",
            " [0.19909544 0.82708956 0.46491748 ... 0.38028636 0.59254779 0.20379176]\n",
            " [0.8333463  0.78668208 0.80986505 ... 0.14784309 0.96364691 0.98563658]\n",
            " [0.80622937 0.61689361 0.583033   ... 0.59651    0.79411172 0.60419705]]\n",
            "--------------------------- W.dot(C) ---------------------------\n",
            "[[ 1.87775973e+02  1.69137685e+03  5.20154755e+02 ...  4.12587993e+02\n",
            "   1.42786509e+03  4.62208246e+02]\n",
            " [-1.47524434e+03 -4.33620949e+03 -6.62782209e+05 ... -1.60398087e+04\n",
            "   2.71477209e+03  6.32658097e+03]\n",
            " [ 2.67268374e+03  1.40388419e+03  1.81873925e+04 ... -5.82389810e+04\n",
            "  -3.27808986e+02  2.00797593e+03]\n",
            " ...\n",
            " [ 1.96075521e+02 -2.10723886e+02  9.60061908e+01 ...  9.17195884e+02\n",
            "  -3.68299622e+02  1.50850576e+02]\n",
            " [ 5.18748293e+02 -1.86364991e+02  2.35197139e+04 ...  3.16059419e+02\n",
            "  -1.01741967e+03  7.62976891e+02]\n",
            " [-3.45745179e+03 -4.58450104e+04 -1.44611722e+04 ... -2.07932611e+04\n",
            "   1.95157973e+04  2.69693253e+04]]\n",
            "------------------------- (X - np.dot(W,C)) -------------------------\n",
            "4339.359115048452\n",
            "---------------------------------------------------------------------------\n",
            "---------------------------------------------------------------------------\n",
            "For rank= 100 l= 1.0 and epsilon= 0.1\n",
            "---------------------------------- X ----------------------------------\n",
            "[[0.5659102  0.36524122 0.50645799 ... 0.21679158 0.98041479 0.93887927]\n",
            " [0.33151846 0.49760015 0.06500305 ... 0.55371335 0.0108494  0.94444661]\n",
            " [0.34501705 0.69653384 0.92021542 ... 0.15914972 0.34696624 0.10709115]\n",
            " ...\n",
            " [0.19909544 0.82708956 0.46491748 ... 0.38028636 0.59254779 0.20379176]\n",
            " [0.8333463  0.78668208 0.80986505 ... 0.14784309 0.96364691 0.98563658]\n",
            " [0.80622937 0.61689361 0.583033   ... 0.59651    0.79411172 0.60419705]]\n",
            "--------------------------- W.dot(C) ---------------------------\n",
            "[[  1660.99409728  14451.25906813   4219.3344514  ...    637.10355878\n",
            "    5349.79118708    456.78686129]\n",
            " [ -4682.6168098    2106.59469855  -4248.62729299 ...  10370.93896369\n",
            "    2546.86867662    949.46010289]\n",
            " [  -254.31742856   2469.73133501  -5908.38543889 ...   1605.64605889\n",
            "    1915.27164666   2946.65965956]\n",
            " ...\n",
            " [  3263.09206417   8403.17546365  11288.99181209 ...   4467.42029176\n",
            "    6627.9766994   -5690.46945124]\n",
            " [ -2016.08170766   2349.18573028   3747.69173741 ...   9797.85383759\n",
            "     939.76171121  -3852.23215758]\n",
            " [  1767.00864578   3847.18504797  22046.62100328 ...   5884.88725866\n",
            "   15585.67584897 -18134.98766489]]\n",
            "------------------------- (X - np.dot(W,C)) -------------------------\n",
            "27557.12963379851\n",
            "---------------------------------------------------------------------------\n"
          ],
          "name": "stdout"
        }
      ]
    },
    {
      "cell_type": "markdown",
      "metadata": {
        "id": "IGC9_fQ7A7Dk"
      },
      "source": [
        "Satisfactory results are produced only for $ λ = 0.01 $, $ λ = 0.1 $, so this is a bad solution for solving the problem"
      ]
    }
  ]
}