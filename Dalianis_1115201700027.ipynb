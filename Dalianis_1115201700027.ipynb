{
  "nbformat": 4,
  "nbformat_minor": 0,
  "metadata": {
    "colab": {
      "name": "Dalianis_1115201700027.ipynb",
      "provenance": [],
      "collapsed_sections": []
    },
    "kernelspec": {
      "name": "python3",
      "display_name": "Python 3"
    }
  },
  "cells": [
    {
      "cell_type": "markdown",
      "metadata": {
        "id": "2RmWnKbOYSWe",
        "colab_type": "text"
      },
      "source": [
        "# Γιάννης Δαλιάνης 1115201700027"
      ]
    },
    {
      "cell_type": "markdown",
      "metadata": {
        "id": "hZe7fWqzwTHe",
        "colab_type": "text"
      },
      "source": [
        "# Ερώτημα 1"
      ]
    },
    {
      "cell_type": "markdown",
      "metadata": {
        "id": "UqPrNnxnwsTw",
        "colab_type": "text"
      },
      "source": [
        "## Ζητούμενο 1"
      ]
    },
    {
      "cell_type": "code",
      "metadata": {
        "id": "jPOWPY3mwwI0",
        "colab_type": "code",
        "colab": {
          "base_uri": "https://localhost:8080/",
          "height": 207
        },
        "outputId": "73172e8e-fed0-4f3f-a21e-c3241e2dcdb4"
      },
      "source": [
        "%matplotlib inline\n",
        "%pylab inline\n",
        "\n",
        "import os\n",
        "import re\n",
        "import numpy as np\n",
        "import numpy.linalg as LA\n",
        "from google.colab import drive\n",
        "from PIL import Image\n",
        "import seaborn as sns\n",
        "sns.set()\n",
        "\n",
        "from sklearn.decomposition import PCA\n",
        "from sklearn.preprocessing import StandardScaler\n",
        "from sklearn.neighbors import KNeighborsClassifier\n",
        "from sklearn.model_selection import train_test_split, cross_val_predict, cross_val_score, KFold\n",
        "from sklearn import metrics, svm\n",
        "from sklearn.svm import SVR\n",
        "from sklearn.metrics import classification_report, confusion_matrix\n",
        "\n",
        "import pandas.util.testing as tm\n",
        "import pandas as pd\n",
        "\n",
        "import matplotlib.pyplot as plt\n",
        "from matplotlib.image import BboxImage\n",
        "from matplotlib.transforms import Bbox, TransformedBbox\n",
        "\n",
        "!pip install python-resize-image\n",
        "from resizeimage import resizeimage"
      ],
      "execution_count": null,
      "outputs": [
        {
          "output_type": "stream",
          "text": [
            "Populating the interactive namespace from numpy and matplotlib\n"
          ],
          "name": "stdout"
        },
        {
          "output_type": "stream",
          "text": [
            "/usr/local/lib/python3.6/dist-packages/statsmodels/tools/_testing.py:19: FutureWarning: pandas.util.testing is deprecated. Use the functions in the public API at pandas.testing instead.\n",
            "  import pandas.util.testing as tm\n"
          ],
          "name": "stderr"
        },
        {
          "output_type": "stream",
          "text": [
            "Requirement already satisfied: python-resize-image in /usr/local/lib/python3.6/dist-packages (1.1.19)\n",
            "Requirement already satisfied: Pillow>=5.1.0 in /usr/local/lib/python3.6/dist-packages (from python-resize-image) (7.0.0)\n",
            "Requirement already satisfied: requests>=2.19.1 in /usr/local/lib/python3.6/dist-packages (from python-resize-image) (2.23.0)\n",
            "Requirement already satisfied: idna<3,>=2.5 in /usr/local/lib/python3.6/dist-packages (from requests>=2.19.1->python-resize-image) (2.10)\n",
            "Requirement already satisfied: certifi>=2017.4.17 in /usr/local/lib/python3.6/dist-packages (from requests>=2.19.1->python-resize-image) (2020.6.20)\n",
            "Requirement already satisfied: urllib3!=1.25.0,!=1.25.1,<1.26,>=1.21.1 in /usr/local/lib/python3.6/dist-packages (from requests>=2.19.1->python-resize-image) (1.24.3)\n",
            "Requirement already satisfied: chardet<4,>=3.0.2 in /usr/local/lib/python3.6/dist-packages (from requests>=2.19.1->python-resize-image) (3.0.4)\n"
          ],
          "name": "stdout"
        }
      ]
    },
    {
      "cell_type": "markdown",
      "metadata": {
        "id": "W2YHxJR6qoV9",
        "colab_type": "text"
      },
      "source": [
        "Οι εικόνες γίνονται imported από το google drive"
      ]
    },
    {
      "cell_type": "code",
      "metadata": {
        "id": "rZwA2WImyvW7",
        "colab_type": "code",
        "colab": {
          "base_uri": "https://localhost:8080/",
          "height": 34
        },
        "outputId": "ab80377f-5ddd-4db5-b2c4-ce54e925c6cd"
      },
      "source": [
        "drive.mount('/content/gdrive', force_remount=True)\n",
        "\n",
        "root_dir = \"/content/gdrive/My Drive/\"\n",
        "base_dir = root_dir + 'DI/images/'"
      ],
      "execution_count": null,
      "outputs": [
        {
          "output_type": "stream",
          "text": [
            "Mounted at /content/gdrive\n"
          ],
          "name": "stdout"
        }
      ]
    },
    {
      "cell_type": "code",
      "metadata": {
        "id": "7jWfHa5GN6J2",
        "colab_type": "code",
        "colab": {}
      },
      "source": [
        "def loadImages(path):\n",
        "\n",
        "  arr = list()\n",
        "  labels = list()\n",
        "\n",
        "  for filename in os.listdir(path):\n",
        "\n",
        "    if filename[0]==\"W\":\n",
        "      labels.append(0)\n",
        "    elif filename[0]==\"F\":\n",
        "      labels.append(1)\n",
        "    else:\n",
        "      labels.append(2)\n",
        "\n",
        "    with open(path + '/' + filename, 'r+b') as f:\n",
        "      with Image.open(f) as image:\n",
        "\n",
        "        cover = resizeimage.resize_cover(image, [100, 100])\n",
        "        cover.save(path + '/' + filename, image.format)\n",
        "\n",
        "        # convert image to numpy array\n",
        "        data = np.asarray(cover)\n",
        "\n",
        "        actual = data.reshape(30000, 1)\n",
        "\n",
        "        arr.append(actual)\n",
        "\n",
        "  return np.array(arr).T, labels"
      ],
      "execution_count": null,
      "outputs": []
    },
    {
      "cell_type": "markdown",
      "metadata": {
        "id": "JB_ZTXy_cDli",
        "colab_type": "text"
      },
      "source": [
        "Πίνακας Δεδομένων και labels. Τα labels είναι 0 για χειμώνα, 1 για φθινόπωρο και 2 για άνοιξη"
      ]
    },
    {
      "cell_type": "code",
      "metadata": {
        "id": "J41yv07v2_GD",
        "colab_type": "code",
        "colab": {
          "base_uri": "https://localhost:8080/",
          "height": 238
        },
        "outputId": "7f5e83d8-c9cf-4474-8d3a-02ca15947281"
      },
      "source": [
        "imAr, labels = loadImages(base_dir)\n",
        "\n",
        "imAr = imAr.reshape(30000, 30)\n",
        "print(\"Image labels are:\", labels)\n",
        "\n",
        "print(\"type(imAr)\", type(imAr))\n",
        "print(\"imAr.shape\", imAr.shape)\n",
        "\n",
        "print(imAr[:5])"
      ],
      "execution_count": null,
      "outputs": [
        {
          "output_type": "stream",
          "text": [
            "Image labels are: [2, 2, 2, 0, 0, 1, 1, 0, 1, 1, 0, 1, 2, 2, 0, 0, 2, 1, 0, 0, 2, 2, 0, 2, 2, 0, 1, 1, 1, 1]\n",
            "type(imAr) <class 'numpy.ndarray'>\n",
            "imAr.shape (30000, 30)\n",
            "[[ 80  57   0  68 139 132  49  50  58 174 134  27   2 171 152 156  66  76\n",
            "  245 188  56  18  46 137   0  67  85 145  61  58]\n",
            " [ 81  63   1  68 143  44  51  66  78 140 141  16   3 232 152 153  50  39\n",
            "  241 202  65   2  59 138   0  61  65 110  88  26]\n",
            " [ 83  35   0  78 144   0  64  82 115 157 149  32   7 255 164 146  34  20\n",
            "  230 211  60  12  78  78   9  63   2  88 105  11]\n",
            " [ 76  64   2  76 166 195  83  94  83 151 116  28   2 183 121 184  65  61\n",
            "  239 200  58  20  59  96   9  86  99 134  69  64]\n",
            " [ 79  70   4  76 170 115  87 110 105 121 123  15   3 233 121 181  50  25\n",
            "  235 215  68   2  72  99  12  80  79 100  95  33]]\n"
          ],
          "name": "stdout"
        }
      ]
    },
    {
      "cell_type": "markdown",
      "metadata": {
        "id": "bFZOKt94JMQh",
        "colab_type": "text"
      },
      "source": [
        "Έλεγχος ότι οι διαστάσεις όλων των εικόνων έχουν αλλάξει σε 100 επί 100 pixels"
      ]
    },
    {
      "cell_type": "code",
      "metadata": {
        "id": "9QZ0jedklzxy",
        "colab_type": "code",
        "colab": {
          "base_uri": "https://localhost:8080/",
          "height": 527
        },
        "outputId": "ecd681e6-cbf5-4b89-e0aa-acfb8d72c8a5"
      },
      "source": [
        "for filename in os.listdir(base_dir):\n",
        "  image = Image.open(base_dir + '/' + filename)\n",
        "  print(filename,\"has size\", image.size)  # size in pixels as a 2-tuple (width, height)"
      ],
      "execution_count": null,
      "outputs": [
        {
          "output_type": "stream",
          "text": [
            "S10.jpg has size (100, 100)\n",
            "S9.jpg has size (100, 100)\n",
            "S3.jpg has size (100, 100)\n",
            "W9.jpg has size (100, 100)\n",
            "W2.jpg has size (100, 100)\n",
            "F9.jpg has size (100, 100)\n",
            "F4.jpg has size (100, 100)\n",
            "W4.jpg has size (100, 100)\n",
            "F8.jpg has size (100, 100)\n",
            "F10.jpg has size (100, 100)\n",
            "W6.jpg has size (100, 100)\n",
            "F3.jpg has size (100, 100)\n",
            "S7.jpg has size (100, 100)\n",
            "S4.jpg has size (100, 100)\n",
            "W1.jpg has size (100, 100)\n",
            "W3.jpg has size (100, 100)\n",
            "S2.jpg has size (100, 100)\n",
            "F7.jpg has size (100, 100)\n",
            "W7.jpg has size (100, 100)\n",
            "W5.jpg has size (100, 100)\n",
            "S8.jpg has size (100, 100)\n",
            "S5.jpg has size (100, 100)\n",
            "W8.jpg has size (100, 100)\n",
            "S6.jpg has size (100, 100)\n",
            "S1.jpg has size (100, 100)\n",
            "W10.jpg has size (100, 100)\n",
            "F1.jpg has size (100, 100)\n",
            "F5.jpg has size (100, 100)\n",
            "F6.jpg has size (100, 100)\n",
            "F2.jpg has size (100, 100)\n"
          ],
          "name": "stdout"
        }
      ]
    },
    {
      "cell_type": "markdown",
      "metadata": {
        "id": "j1_zrbFrZjY9",
        "colab_type": "text"
      },
      "source": [
        "## Ζητούμενο 2"
      ]
    },
    {
      "cell_type": "code",
      "metadata": {
        "id": "URhxZuryUCQ4",
        "colab_type": "code",
        "colab": {}
      },
      "source": [
        "def plotImage(x, y, ax, rIm):\n",
        "  bb = Bbox.from_bounds(x,y,30,30)  \n",
        "  bb2 = TransformedBbox(bb,ax.transData)\n",
        "  bbox_image = BboxImage(bb2,\n",
        "                      norm = None,\n",
        "                      origin=None,\n",
        "                      clip_on=False)\n",
        "\n",
        "  bbox_image.set_data(rIm)\n",
        "  ax.add_artist(bbox_image)\n",
        "\n",
        "\n",
        "def PCADF(df, comps):  # takes a dataframe and return another with the pca values\n",
        "  scaled_features = StandardScaler().fit_transform(df.values)\n",
        "  df = pd.DataFrame(scaled_features, index=df.index, columns=df.columns)\n",
        "\n",
        "  # make list of col names\n",
        "  nAms = list()\n",
        "  for i in range(comps):\n",
        "    nAms.append(\"PC\"+str(i+1))\n",
        "\n",
        "  pca = PCA(n_components=comps)\n",
        "  principalComponents = pca.fit_transform(df.values)\n",
        "  principalDf = pd.DataFrame(data = principalComponents, columns = nAms)\n",
        "  \n",
        "  return principalDf\n",
        "\n",
        "\n",
        "def PCA_ImageSpaceVisualization(X): # X is the data array\n",
        "\n",
        "  df = pd.DataFrame(data=X)         # convert to dataframe\n",
        "  df = df.T\n",
        "\n",
        "  principalDf = PCADF(df, 2)\n",
        "\n",
        "  fig = plt.figure(figsize = (15,15))\n",
        "  ax = fig.add_subplot(111)\n",
        "  ax.set_xlabel('Principal Component 1', fontsize = 15)\n",
        "  ax.set_ylabel('Principal Component 2', fontsize = 15)\n",
        "  ax.set_title('2 component PCA', fontsize = 20)\n",
        "\n",
        "  for x, y, im in zip(principalDf[\"PC1\"], principalDf[\"PC2\"], X.T):\n",
        "    img = Image.fromarray(im.reshape((100, 100, 3)), 'RGB')\n",
        "    plotImage(x, y, ax, img)\n",
        "\n",
        "  ax.set_ylim(-200,200)\n",
        "  ax.set_xlim(-200,250)\n",
        "  ax.grid()\n",
        "\n",
        "  return"
      ],
      "execution_count": null,
      "outputs": []
    },
    {
      "cell_type": "code",
      "metadata": {
        "id": "gwjdPtPMcpne",
        "colab_type": "code",
        "colab": {
          "base_uri": "https://localhost:8080/",
          "height": 906
        },
        "outputId": "11368225-cae9-4a89-f6ee-e0c641ddeb22"
      },
      "source": [
        "PCA_ImageSpaceVisualization(imAr)"
      ],
      "execution_count": null,
      "outputs": [
        {
          "output_type": "display_data",
          "data": {
            "image/png": "[encoded data removed]",
            "text/plain": [
              "<Figure size 1080x1080 with 1 Axes>"
            ]
          },
          "metadata": {
            "tags": [],
            "needs_background": "light"
          }
        }
      ]
    },
    {
      "cell_type": "markdown",
      "metadata": {
        "id": "A9E2fYO4iZPf",
        "colab_type": "text"
      },
      "source": [
        "##### 2.1\n",
        "\n",
        "Η PCA είναι μια dimensionality-reduction μέθοδος που χρησιμοποιεί μόνο τα σημαντικότερα χαρακτηριστικά από τα δεδομένα για να τα συγκρίνει πιο εύκολα και γρήγορα και για να είναι ευκολότερη η οπτικοποίησή τους. Όσο πιο κοντά βρίσκονται δύο εικόνες μεταξύ τους στο plot, τόσο πιο πανομοιότυπες είναι με βάση τις δύο πρώτες κύριες συνιστώσες, ενώ όσο πιο μακριά βρίσκονται τόσο λιγότερο πανομοιότυπες είναι.\n",
        "Τα συμπεράσματα αυτά γενικεύονται και για τον μεγάλης διάστασης αρχικό χώρο χαρακτηριστικών των εικόνων. Εφαρμόζοντας PCA δεν αλλοιώνονται τα χαρακτηριστικά των δεδομένων, αλλά μόνο απλοποιούνται. Αν κάναμε μια αντίστοιχη σύγκριση χρησιμοποιώντας όλα τα αρχικά features θα είχαμε ίδια και ίσως σαφέστερα αποτελέσματα όσον αφορά τις εικόνες, μόνο που θα απαιτούνταν εκτενέστερη και πιο αργή επεξεργασία."
      ]
    },
    {
      "cell_type": "markdown",
      "metadata": {
        "id": "f6rUFRw8l6My",
        "colab_type": "text"
      },
      "source": [
        "##### 2.2\n",
        "Οι χειμωνιάτικες εικόνες ομαδοποιούνται πιο κοντά μεταξύ τους και είναι ευδιάκριτος ο διαχωρισμός τους από τις εικόνες των άλλων δύο εποχών οι οποίες σε κάποιο βαθμό είναι ανακατεμένες. Η ξεκάθαρη αυτή ομαδοποίηση των χειμωνιάτικων εικόνων συμβαίνει λόγω των χρωματικών τους αποχρώσεων που τις κάνουν να ξεχωρίζουν αρκετά απο τις ανοιξιάτικες και τις φθινοπωρινές. Έχουν πιο γκρι, λευκά και μουντά χρώματα που τις διαφοροποιούν από τις άλλες δύο κατηγορίες."
      ]
    },
    {
      "cell_type": "markdown",
      "metadata": {
        "id": "bxD7b8z7sTgd",
        "colab_type": "text"
      },
      "source": [
        "## Ζητούμενο 3"
      ]
    },
    {
      "cell_type": "code",
      "metadata": {
        "id": "tjA1EPydzcuH",
        "colab_type": "code",
        "colab": {}
      },
      "source": [
        "def splitData(data, labels, t_size):\n",
        "  # Split dataset into training set and test set\n",
        "  return train_test_split(data, labels, test_size=t_size, random_state=109)\n",
        "\n",
        "def crossValS(data, labels, best_svr):\n",
        "  print(\"5-fold cross validation\")\n",
        "\n",
        "  scores = []\n",
        "  labelAr = numpy.array(labels)\n",
        "  cv = KFold(n_splits=5, shuffle=False)\n",
        "  for train_index, test_index in cv.split(data):\n",
        "\n",
        "      X_train, X_test, y_train, y_test = data[train_index], data[test_index], labelAr[train_index], labelAr[test_index]\n",
        "      best_svr.fit(X_train, y_train)\n",
        "      scores.append(best_svr.score(X_test, y_test))\n",
        "\n",
        "  print(\"Mean Score:\", np.mean(scores))\n",
        "  print(\"cross_val_score\", cross_val_score(best_svr, data, labels, cv=5))\n",
        "\n",
        "def K1NN(data, labels, X_train, X_test, y_train, y_test):\n",
        "\n",
        "  knn = KNeighborsClassifier(n_neighbors=1, weights='distance')\n",
        "\n",
        "  #Train the model using the training sets\n",
        "  knn.fit(X_train, y_train)\n",
        "\n",
        "  #Predict the response for test dataset\n",
        "  y_pred = knn.predict(X_test)\n",
        "\n",
        "  # Model Accuracy, how often is the classifier correct?\n",
        "  print(\"Classification Accuracy:\",metrics.accuracy_score(y_test, y_pred))\n",
        "\n",
        "  crossValS(data, labels, knn)\n",
        "\n",
        "  return\n",
        "\n",
        "\n",
        "def SVMclas(data, labels, X_train, X_test, y_train, y_test):\n",
        "\n",
        "  clf = svm.SVC(kernel='linear', C=1.0) # Linear Kernel\n",
        "\n",
        "  clf.fit(X_train, y_train)\n",
        "\n",
        "  y_pred = clf.predict(X_test)\n",
        "\n",
        "  print(\"Accuracy:\",metrics.accuracy_score(y_test, y_pred))\n",
        "\n",
        "  crossValS(data, labels, clf)\n",
        "  return\n",
        "\n",
        "def PCADFWithComp(df):  # takes a dataframe and return another with the pca values\n",
        "  scaled_features = StandardScaler().fit_transform(df.values)\n",
        "  df = pd.DataFrame(scaled_features, index=df.index, columns=df.columns)\n",
        "\n",
        "  n_components = 30 ## how may componets to compute\n",
        "  pca = PCA(n_components=n_components, whiten=True).fit(df.values)\n",
        "  components = pca.transform(df.values)\n",
        "  \n",
        "  cumExplainedVar=np.cumsum(pca.explained_variance_ratio_)\n",
        "\n",
        "  plt.figure(figsize=(10, 10))\n",
        "  numOfComp=10\n",
        "  plt.subplot(2, 2, 1)\n",
        "  plt.bar(range(numOfComp),pca.explained_variance_ratio_[:numOfComp])\n",
        "  plt.xlabel(' components ')\n",
        "  plt.ylabel(' explained variance');\n",
        "\n",
        "  plt.subplot(2, 2, 2)\n",
        "  plt.plot(cumExplainedVar[:10])\n",
        "  plt.xlabel('number of components retained (10 first)')\n",
        "  plt.ylabel('cumulative explained variance');\n",
        "\n",
        "  plt.subplot(2, 2, 3)\n",
        "  plt.plot(cumExplainedVar[:20])\n",
        "  plt.xlabel('number of components retained (20 first)')\n",
        "  plt.ylabel('cumulative explained variance');\n",
        "\n",
        "  plt.subplot(2, 2, 4)\n",
        "  plt.plot(cumExplainedVar)\n",
        "  plt.xlabel('number of components retained (30)')\n",
        "  plt.ylabel('cumulative explained variance');\n",
        "\n",
        "  plt.show()\n",
        "\n",
        "  return"
      ],
      "execution_count": null,
      "outputs": []
    },
    {
      "cell_type": "markdown",
      "metadata": {
        "id": "xeDiSsOOhmTt",
        "colab_type": "text"
      },
      "source": [
        "Classification Accuracy:\n",
        "\n",
        "$Accuracy=\\frac{TP+TN}{TP+FP+TN+FN}$\n",
        "\n",
        "where:<br>\n",
        "TP = True Positive<br>\n",
        "TN = True Negative<br>\n",
        "FP = False Positive<br>\n",
        "FP = False Negative<br>\n",
        "\n",
        "Σε κάθε ένα από τα παρακάτω fields εκτελούνται οι μέθοδοι για τους διάφορους τύπους δεδομένων(1-ΝΝ και SVM για τις αρχικές\n",
        "μεγάλης διάστασης εικόνες σε μορφή διανύσματος και για τα χαρακτηριστικά χαμηλής διάστασης που εξάγονται μέσω της PCA). Υπολογίζεται το Classification Accuracy(3.1) και πραγματοποιείται 5-fold cross validation(3.2)"
      ]
    },
    {
      "cell_type": "markdown",
      "metadata": {
        "id": "5gsSSBSharqa",
        "colab_type": "text"
      },
      "source": [
        "(3.3)<br>\n",
        "Για την ορθή χρήση της PCA είναι πολύ σημαντική η ικανότητα εκτίμησης της διάστασης των χαρακτηριστικών που εξάγουμε. Αυτό μπορεί να προσδιοριστεί εξετάζοντας το σωρευτικό λόγο της εξηγούμενης διακύμανσης σε σχέση με τον αριθμό των κυρίων συνιστωσών"
      ]
    },
    {
      "cell_type": "code",
      "metadata": {
        "id": "Op-RLVX0bJtX",
        "colab_type": "code",
        "colab": {
          "base_uri": "https://localhost:8080/",
          "height": 611
        },
        "outputId": "7f7429ad-4172-4a0f-ddc9-70d3c59ee04b"
      },
      "source": [
        "df = pd.DataFrame(data=imAr)\n",
        "df = df.T\n",
        "\n",
        "PCADFWithComp(df)"
      ],
      "execution_count": null,
      "outputs": [
        {
          "output_type": "display_data",
          "data": {
            "image/png": "[encoded data removed]",
            "text/plain": [
              "<Figure size 720x720 with 4 Axes>"
            ]
          },
          "metadata": {
            "tags": [],
            "needs_background": "light"
          }
        }
      ]
    },
    {
      "cell_type": "markdown",
      "metadata": {
        "id": "KYd-GVLFgPLx",
        "colab_type": "text"
      },
      "source": [
        "Παρατηρούμε ότι οι δύο πρώτες συνιστώσες εξηγούν περίπου το 58% της διακύμανσης των δεδομένων μας ενώ για το 90% χρειάζονται περίπου 16 συνιστώσες. Παρακάτω αναλύουμε τα δεδομένα στις 10 πρώτες συνιστώσες, ένας αριθμός που είναι αρκετά μεγάλος για να έχουμε καλή περιγραφή των δεδομένων και αρκετά μικρός για να μην είναι πολύ χρονοβόροι οι υπολογισμοί."
      ]
    },
    {
      "cell_type": "markdown",
      "metadata": {
        "id": "34Yt5pUizB9e",
        "colab_type": "text"
      },
      "source": [
        "1-ΝΝ σε μεγάλης διάστασης εικόνες σε μορφή διανύσματος."
      ]
    },
    {
      "cell_type": "code",
      "metadata": {
        "id": "GOEmtLI_axl2",
        "colab_type": "code",
        "colab": {
          "base_uri": "https://localhost:8080/",
          "height": 85
        },
        "outputId": "a5f68761-05c2-4a44-9939-5d14b74d1588"
      },
      "source": [
        "tmp = imAr.T\n",
        "\n",
        "X_train, X_test, y_train, y_test = splitData(tmp, labels, 0.3)\n",
        "\n",
        "K1NN(tmp, labels, X_train, X_test, y_train, y_test)"
      ],
      "execution_count": null,
      "outputs": [
        {
          "output_type": "stream",
          "text": [
            "Classification Accuracy: 0.8888888888888888\n",
            "5-fold cross validation\n",
            "Mean Score: 0.7\n",
            "cross_val_score [0.66666667 0.66666667 0.66666667 0.83333333 1.        ]\n"
          ],
          "name": "stdout"
        }
      ]
    },
    {
      "cell_type": "markdown",
      "metadata": {
        "id": "-lSVGP5JzMGk",
        "colab_type": "text"
      },
      "source": [
        "1-ΝΝ σε χαρακτηριστικά χαμηλής διάστασης μέσω της PCA"
      ]
    },
    {
      "cell_type": "code",
      "metadata": {
        "id": "c3AGZbVWWMeE",
        "colab_type": "code",
        "colab": {
          "base_uri": "https://localhost:8080/",
          "height": 85
        },
        "outputId": "f51e252e-c2cb-46ab-ccc4-62fde35de59a"
      },
      "source": [
        "principalDf = PCADF(df, 10)\n",
        "\n",
        "X_train, X_test, y_train, y_test = splitData(principalDf.to_numpy(), labels, 0.3)\n",
        "\n",
        "K1NN(principalDf.to_numpy(), labels, X_train, X_test, y_train, y_test)"
      ],
      "execution_count": null,
      "outputs": [
        {
          "output_type": "stream",
          "text": [
            "Classification Accuracy: 0.8888888888888888\n",
            "5-fold cross validation\n",
            "Mean Score: 0.6\n",
            "cross_val_score [0.66666667 0.66666667 0.66666667 0.83333333 0.66666667]\n"
          ],
          "name": "stdout"
        }
      ]
    },
    {
      "cell_type": "markdown",
      "metadata": {
        "id": "gW06aecAzVkM",
        "colab_type": "text"
      },
      "source": [
        "SVM σε μεγάλης διάστασης εικόνες σε μορφή διανύσματος."
      ]
    },
    {
      "cell_type": "code",
      "metadata": {
        "id": "6b75Ykgna5PE",
        "colab_type": "code",
        "colab": {
          "base_uri": "https://localhost:8080/",
          "height": 85
        },
        "outputId": "6cf0598f-31b3-4cb2-c500-16b02103c9c9"
      },
      "source": [
        "X_train, X_test, y_train, y_test = splitData(tmp, labels, 0.3)\n",
        "\n",
        "SVMclas(tmp, labels, X_train, X_test, y_train, y_test)"
      ],
      "execution_count": null,
      "outputs": [
        {
          "output_type": "stream",
          "text": [
            "Accuracy: 0.8888888888888888\n",
            "5-fold cross validation\n",
            "Mean Score: 0.7666666666666667\n",
            "cross_val_score [0.66666667 0.83333333 0.5        0.83333333 1.        ]\n"
          ],
          "name": "stdout"
        }
      ]
    },
    {
      "cell_type": "markdown",
      "metadata": {
        "id": "J2ijhbnBzcyE",
        "colab_type": "text"
      },
      "source": [
        "SVM σε χαρακτηριστικά χαμηλής διάστασης μέσω της PCA"
      ]
    },
    {
      "cell_type": "code",
      "metadata": {
        "id": "aARVN60LyhF4",
        "colab_type": "code",
        "colab": {
          "base_uri": "https://localhost:8080/",
          "height": 85
        },
        "outputId": "55b1eca6-110a-4933-de37-076d56b512c6"
      },
      "source": [
        "X_train, X_test, y_train, y_test = splitData(principalDf.to_numpy(), labels, 0.3)\n",
        "\n",
        "SVMclas(principalDf.to_numpy(), labels, X_train, X_test, y_train, y_test)"
      ],
      "execution_count": null,
      "outputs": [
        {
          "output_type": "stream",
          "text": [
            "Accuracy: 0.7777777777777778\n",
            "5-fold cross validation\n",
            "Mean Score: 0.7666666666666666\n",
            "cross_val_score [0.83333333 0.5        0.83333333 0.83333333 0.66666667]\n"
          ],
          "name": "stdout"
        }
      ]
    },
    {
      "cell_type": "markdown",
      "metadata": {
        "id": "guDi-212ePRt",
        "colab_type": "text"
      },
      "source": [
        "Καλύτερη επίδοση έχει ο ταξινομητής SVM όπως βλέπουμε από τα mean scores του cross validation. Αυτό ήταν αναμενόμενο, εφόσον ο SVM υπολογίζει τις ακραίες τιμές(outliers) καλύτερα από ότι ο KNN, ενώ ο KNN είναι καλύτερος από τον SVM μόνο στην περίπτωση που το πλήθος των δεδομένων εκπαίδευσης είναι κατά πολύ μεγαλύτερο από το πλήθος των χαρακτηριστικών.\n",
        "<br>Πηγή:\n",
        "<br>https://towardsdatascience.com/comparative-study-on-classic-machine-learning-algorithms-24f9ff6ab222#:~:text=SVM%20take%20cares%20of%20outliers,features%20and%20lesser%20training%20data."
      ]
    },
    {
      "cell_type": "markdown",
      "metadata": {
        "id": "9jlEBGVJCn0e",
        "colab_type": "text"
      },
      "source": [
        "# Ερώτημα 2"
      ]
    },
    {
      "cell_type": "markdown",
      "metadata": {
        "id": "9Tf2RqqGNdtp",
        "colab_type": "text"
      },
      "source": [
        "Μελετούμε το πρόβλημα βελτιστοποίησης \n",
        "<br><br>\n",
        "$$\\min_{W, C}∥X − WC∥^2_F + λ∥W∥^2_F + λ∥C∥^2_F s.t.W ≥ 0, C ≥ 0$$ <br>"
      ]
    },
    {
      "cell_type": "markdown",
      "metadata": {
        "id": "6SFCukiRQDzi",
        "colab_type": "text"
      },
      "source": [
        "Μελετήθηκαν δύο τρόποι για την επίλυση του προβλήματος.\n",
        "<br>\n",
        "###Πρώτος τρόπος, ο οποίος είναι και ο κατά πολύ πιο αποδοτικός:\n",
        "<br>Δεδομένου ότι για το πρόβλημα ελαχίστων τετραγώνων που συζητήθηκε στο μάθημα<br><br>\n",
        "$$\\min_{W,C} l(W,C) = ∥ X − WC ∥ _F^2 s.t.W ≥ 0, C ≥ 0 $$\n",
        "\n",
        "καταλήγουμε στους εξής τύπους ενημέρωσης των παραμέτρων:<br><br>\n",
        "$ C_{[t+1]} = C_{[t]} − n_t*∇_{C_{[t]}} l (W,C_{[t]}) $  \n",
        "<br>\n",
        "$ W_{[t+1]} = W_{[t]} − n_t*∇_{W_{[t]}} l (W_{[t]},C) $  \n",
        "<br>\n",
        "t = t + 1\n",
        "<br>\n",
        "ή ισοδύναμα<br>\n",
        "$C_{[t+1]} =C_{[t]}*\\frac{W_{[t]}^TX}{W_{[t]}^TW_{[t]}C_{[t]}} $  \n",
        "<br>\n",
        "$W_{[t+1]} =W_{[t]}*\\frac{XC_{[t]}^T}{W_{[t]}C_{[t]}C_{[t]}^T} $\n",
        "<br>t = t + 1  \n",
        "\n",
        "τότε, αντίστοιχα για το ζητούμενο πρόβλημα καταλήγουμε στους εξής τύπους με βάση την πηγή https://stats.stackexchange.com/questions/351359/deriving-multiplicative-update-rules-for-nmf:<br><br>\n",
        "$ C_{[t+1]} = C_{[t]} * \\frac{W^TX} {W^TWC_{[t]} + λC_{[t]}} $  \n",
        "<br>\n",
        "$ W_{[t+1]} = W_{[t]} * \\frac{XC^T} {W_{[t]}CC^T + λW_{[t]}} $\n",
        "<br>\n",
        "t = t + 1  \n",
        "<br>\n",
        "## Aιτιολόγηση:  \n",
        "\n",
        "$$\\min_{W,C} l(W,C) = ∥ X − WC ∥ _F^2 s.t.W ≥ 0, C ≥ 0 $$\n",
        "από $ ∥ X ∥ _F^2 = Tr(X^TX) $ παίρνουμε ισοδύναμα<br><br>\n",
        "$Tr((X-WC)^T(X-WC)) + λTr(W^TW) + λTr(C^TC) =$<br>  \n",
        "$Tr(X^TX - X^TWC -C^TW^TX + C^TW^TWC) + λTr(W^TW) + λTr(C^TC)=$<br>\n",
        "$Tr(X^T) - Tr(X^TWC) - Tr(C^TW^TX) + Tr(C^TW^TWC) + λTr(W^TW) + λTr(C^TC)$\n",
        "\n",
        "<br>Με παραγώγιση ως προς W έχουμε:<br><br>\n",
        "$ ∇_W Tr(X^T) - ∇_W Tr(X^TWC) - ∇_W Tr(C^TW^TX) + ∇_W Tr(C^TW^TWC) + ∇_W\n",
        "λTr(W^TW) + ∇_W λTr(C^TC)$<br><br>\n",
        "\n",
        "Με βάση τις ιδιότητες:<br>\n",
        "$ ∇_X Tr(AX) = A^T $<br>\n",
        "$ ∇_X Tr(X^TA) = A $<br>\n",
        "$ ∇_X Tr(XAA^TX^T) = X(A + A^T)$<br><br>\n",
        "\n",
        "Yπολογίζουμε τις παραγώγους:<br>\n",
        "$ ∇_W Tr(X^TX) = 0$<br><br>\n",
        "$ ∇_W Tr(X^TWC) = ∇_W Tr(CX^TW) = (CX^T)^T = XC^T$<br><br>\n",
        "$ ∇_W Tr(C^TW^TX) = ∇_W Tr(XC^TW^T) = XC^T $<br><br>\n",
        "$ ∇_W Tr(C^TW^TWC) = ∇_W Tr(WCC^TW^T) = W(CC^T + (CC^T)^T) = 2WCC^T$<br><br>\n",
        "$ ∇_W λTr(W^TW) = ∇_W λTr(WIW^T) = λW(I + I^T) = 2λW$<br><br>\n",
        "$ ∇_W λTr(C^TC) = 0 $<br><br>\n",
        "\n",
        "\n",
        "Έτσι καταλήγουμε ότι<br><br>\n",
        "$ ∇_W f(W,C) = 2WCC^T + 2λW - 2XC^T$<br><br>\n",
        "Έπομένως<br><br>\n",
        "$ W_{[t+1]} = W_{[t]} - n_t*∇_{W_{[t]}} l (W_{[t]},C)=$<br><br>\n",
        "$W_{[t]} - n_t * (2W_{[t]}CC^T + 2λW_{[t]} - 2XC^T)$<br><br>\n",
        "Η σταθερά 2 μπορεί να προσαρμοστεί στο learning rate $(n_t)$ και έτσι μπορεί να αγνοηθεί σε αυτό το σημείο:<br><br>\n",
        "$ W_{[t+1]} = W_{[t]} - n_t * (W_{[t+1]}CC^T - XC^T + λW_{[t+1]})$<br>\n",
        "ή ισοδύναμα<br><br>\n",
        "$ W_{[t+1]} = W_{[t]} * \\frac{XC^T} {W_{[t]}CC^T + λW_{[t]}}$<br><br>\n",
        "\n",
        "Αντίστοιχα με παραγώγιση ως προς C καταλήγουμε ότι<br>\n",
        "$ C_{[t+1]} = C_{[t]} * \\frac{W^TX} {W^TWC_{[t]} + λC_{[t]}} $\n",
        "\n",
        "Για να διαπιστώσουμε εάν συγκλίνει στη βέλτιστη λύση ο επαναληπτικός αλγόριθμος παρακολουθούμε το σφάλμα ανακατασκευής\n",
        "<br><br>$\\frac{∥X − W_{[t]}C_{[t]}∥^2_F}{∥X∥^2_F}$ <br><br>\n",
        "\n",
        "σε κάθε επανάληψη και εάν η μεταβολή του ανάμεσα σε δύο διαδοχικές επαναλήψεις είναι μικρότερη από ένα κατώφλι $ε$\n",
        "<br><br>$\\frac{∥X − W_{[t]}C_{[t]}∥^2_F - ∥X − W_{[t-1]}C_{[t-1]}∥^2_F}{∥X∥^2_F} < ε$ <br><br>\n",
        "με $ε$ = 0.01 ή 0.001 ή 0.0001 τερματίζουμε τον αλγόριθμο. Το $t$ στις παραπάνω σχέσεις συμβολίζει το δείκτη επανάληψης."
      ]
    },
    {
      "cell_type": "code",
      "metadata": {
        "id": "VwttnhRI74xt",
        "colab_type": "code",
        "colab": {}
      },
      "source": [
        "# W : matrix of basis vectors\n",
        "# C : matrix of coefficients\n",
        "# frob_error : frobenius norm\n",
        "def frobenius_norm(X,W,C):\n",
        "\t\t#error between X and W*H\n",
        "\t\terror = LA.norm(X - np.dot(W, C))\n",
        "\t\treturn error\n",
        "\n",
        "def C_update(X, W, C, l):\n",
        "  numerator = np.dot(W.T, X)\n",
        "  denominator = np.dot(W.T, W.dot(C)) + l*C\n",
        "  C = np.multiply(C, numerator) / denominator\n",
        "  return C\n",
        "\n",
        "def W_update(X, W, C, l):\n",
        "  numerator = X.dot(C.T)\n",
        "  denominator = W.dot(C.dot(C.T)) + l*W\n",
        "  W = np.multiply(W, numerator) / denominator\n",
        "  return W\n",
        "\n",
        "def RegUNMF(X, k, lambdaL, epsilon):\n",
        "  X_dim, samples = X.shape\n",
        "  W = np.random.random((X_dim, k))\n",
        "  C = np.random.random((k, samples))\n",
        "\n",
        "  diff = epsilon + 1\n",
        "  iters=0\n",
        "  while diff>=epsilon:\n",
        "    iters+=1\n",
        "    wNew=W_update(X, W, C, lambdaL)\n",
        "    cNew=C_update(X, W, C, lambdaL)\n",
        "\n",
        "    diff = abs(frobenius_norm(X, wNew, cNew) - frobenius_norm(X, W, C)) / LA.norm(X)\n",
        "\n",
        "    W = wNew\n",
        "    C = cNew\n",
        "\n",
        "  return (wNew, cNew, iters)\n",
        "\n",
        "def RunReg(X, rank, l, epsilon):\n",
        "  W, C, iters = RegUNMF(X, rank, l, epsilon)\n",
        "\n",
        "  print(75*\"-\")\n",
        "  print(\"For rank=\", rank, \"and l=\", l, \"and epsilon=\", epsilon, iters, \"iterations made\")\n",
        "  print (34*\"-\", \"X\", 34*\"-\")\n",
        "  print (X)\n",
        "  # print (34*\"-\", \"W\", 34*\"-\")\n",
        "  # print (W)\n",
        "  # print (34*\"-\", \"C\", 34*\"-\")\n",
        "  # print (H)\n",
        "  print (27*\"-\", \"W.dot(C)\", 27*\"-\")\n",
        "  print (W.dot(C))\n",
        "  print (25*\"-\", \"(X - np.dot(W,C))\", 25*\"-\")\n",
        "  print(np.ndarray.sum(abs(X - np.dot(W,C)))/500000)\n",
        "  print(75*\"-\")\n",
        "\n",
        "X = np.random.random((500,1000))"
      ],
      "execution_count": null,
      "outputs": []
    },
    {
      "cell_type": "markdown",
      "metadata": {
        "id": "WPMv-4IcXLHL",
        "colab_type": "text"
      },
      "source": [
        "$λ=1.0$, $λ=0.1$, $λ=0.01$ για $ε=0.001$"
      ]
    },
    {
      "cell_type": "code",
      "metadata": {
        "id": "qnMBXj4S_ZM7",
        "colab_type": "code",
        "colab": {
          "base_uri": "https://localhost:8080/",
          "height": 1000
        },
        "outputId": "46c7a1a3-1adf-46bf-e54b-373eb055f0e5"
      },
      "source": [
        "RunReg(X, 1, 1.0, 0.001)\n",
        "RunReg(X, 10, 1.0, 0.001)\n",
        "RunReg(X, 100, 1.0, 0.001)\n",
        "\n",
        "RunReg(X, 1, 0.1, 0.001)\n",
        "RunReg(X, 10, 0.1, 0.001)\n",
        "RunReg(X, 100, 0.1, 0.001)\n",
        "\n",
        "RunReg(X, 1, 0.01, 0.001)\n",
        "RunReg(X, 10, 0.01, 0.001)\n",
        "RunReg(X, 100, 0.01, 0.001)"
      ],
      "execution_count": null,
      "outputs": [
        {
          "output_type": "stream",
          "text": [
            "---------------------------------------------------------------------------\n",
            "For rank= 1 and l= 1.0 and epsilon= 0.001 3 iterations made\n",
            "---------------------------------- X ----------------------------------\n",
            "[[0.23822119 0.4930114  0.68486361 ... 0.80213922 0.8072357  0.9214643 ]\n",
            " [0.42689615 0.60339514 0.28750078 ... 0.6844     0.45335385 0.89747591]\n",
            " [0.70973596 0.32058296 0.20685521 ... 0.94556922 0.49266178 0.71151136]\n",
            " ...\n",
            " [0.88008743 0.8956948  0.29438501 ... 0.78900497 0.76778195 0.28779883]\n",
            " [0.98602243 0.42126338 0.69599549 ... 0.53189644 0.09980979 0.6051803 ]\n",
            " [0.83745054 0.02688242 0.51617992 ... 0.4720958  0.15294877 0.63423626]]\n",
            "--------------------------- W.dot(C) ---------------------------\n",
            "[[0.59175249 0.58077614 0.5572616  ... 0.58240261 0.55704468 0.55824285]\n",
            " [0.57398744 0.56334061 0.540532   ... 0.56491825 0.54032159 0.54148379]\n",
            " [0.58632898 0.57545323 0.55215421 ... 0.57706479 0.55193927 0.55312646]\n",
            " ...\n",
            " [0.58335029 0.57252979 0.54934913 ... 0.57413316 0.54913529 0.55031645]\n",
            " [0.58583971 0.57497304 0.55169345 ... 0.57658325 0.5514787  0.5526649 ]\n",
            " [0.5845165  0.57367437 0.55044737 ... 0.57528095 0.5502331  0.55141662]]\n",
            "------------------------- (X - np.dot(W,C)) -------------------------\n",
            "0.25275680177838705\n",
            "---------------------------------------------------------------------------\n",
            "---------------------------------------------------------------------------\n",
            "For rank= 10 and l= 1.0 and epsilon= 0.001 342 iterations made\n",
            "---------------------------------- X ----------------------------------\n",
            "[[0.23822119 0.4930114  0.68486361 ... 0.80213922 0.8072357  0.9214643 ]\n",
            " [0.42689615 0.60339514 0.28750078 ... 0.6844     0.45335385 0.89747591]\n",
            " [0.70973596 0.32058296 0.20685521 ... 0.94556922 0.49266178 0.71151136]\n",
            " ...\n",
            " [0.88008743 0.8956948  0.29438501 ... 0.78900497 0.76778195 0.28779883]\n",
            " [0.98602243 0.42126338 0.69599549 ... 0.53189644 0.09980979 0.6051803 ]\n",
            " [0.83745054 0.02688242 0.51617992 ... 0.4720958  0.15294877 0.63423626]]\n",
            "--------------------------- W.dot(C) ---------------------------\n",
            "[[0.47036146 0.60871047 0.5823168  ... 0.62842295 0.58375152 0.55992404]\n",
            " [0.5872008  0.50587814 0.64165179 ... 0.57319342 0.6087596  0.51493716]\n",
            " [0.55691026 0.56845198 0.5258935  ... 0.60672521 0.57973539 0.55690586]\n",
            " ...\n",
            " [0.61490311 0.60501265 0.57164194 ... 0.52114875 0.54344936 0.51648144]\n",
            " [0.68909814 0.6553385  0.57424283 ... 0.51730457 0.46501928 0.56772521]\n",
            " [0.63782528 0.49851523 0.61973768 ... 0.58954969 0.64182167 0.64333085]]\n",
            "------------------------- (X - np.dot(W,C)) -------------------------\n",
            "0.24606493428793763\n",
            "---------------------------------------------------------------------------\n",
            "---------------------------------------------------------------------------\n",
            "For rank= 100 and l= 1.0 and epsilon= 0.001 206 iterations made\n",
            "---------------------------------- X ----------------------------------\n",
            "[[0.23822119 0.4930114  0.68486361 ... 0.80213922 0.8072357  0.9214643 ]\n",
            " [0.42689615 0.60339514 0.28750078 ... 0.6844     0.45335385 0.89747591]\n",
            " [0.70973596 0.32058296 0.20685521 ... 0.94556922 0.49266178 0.71151136]\n",
            " ...\n",
            " [0.88008743 0.8956948  0.29438501 ... 0.78900497 0.76778195 0.28779883]\n",
            " [0.98602243 0.42126338 0.69599549 ... 0.53189644 0.09980979 0.6051803 ]\n",
            " [0.83745054 0.02688242 0.51617992 ... 0.4720958  0.15294877 0.63423626]]\n",
            "--------------------------- W.dot(C) ---------------------------\n",
            "[[0.31734487 0.67852439 0.6236351  ... 0.66195083 0.57589047 0.81132033]\n",
            " [0.48521188 0.57190852 0.49627893 ... 0.71560597 0.51652984 0.61790349]\n",
            " [0.54901621 0.52664572 0.67045732 ... 0.81703013 0.50786776 0.56066273]\n",
            " ...\n",
            " [0.99851007 0.67647187 0.54944206 ... 0.68606997 0.65866211 0.54076571]\n",
            " [0.63038693 0.56583328 0.53754339 ... 0.61234105 0.41362999 0.44972233]\n",
            " [0.82930005 0.43603772 0.72569963 ... 0.50702449 0.56309757 0.53450307]]\n",
            "------------------------- (X - np.dot(W,C)) -------------------------\n",
            "0.2151114264757227\n",
            "---------------------------------------------------------------------------\n",
            "---------------------------------------------------------------------------\n",
            "For rank= 1 and l= 0.1 and epsilon= 0.001 529 iterations made\n",
            "---------------------------------- X ----------------------------------\n",
            "[[0.23822119 0.4930114  0.68486361 ... 0.80213922 0.8072357  0.9214643 ]\n",
            " [0.42689615 0.60339514 0.28750078 ... 0.6844     0.45335385 0.89747591]\n",
            " [0.70973596 0.32058296 0.20685521 ... 0.94556922 0.49266178 0.71151136]\n",
            " ...\n",
            " [0.88008743 0.8956948  0.29438501 ... 0.78900497 0.76778195 0.28779883]\n",
            " [0.98602243 0.42126338 0.69599549 ... 0.53189644 0.09980979 0.6051803 ]\n",
            " [0.83745054 0.02688242 0.51617992 ... 0.4720958  0.15294877 0.63423626]]\n",
            "--------------------------- W.dot(C) ---------------------------\n",
            "[[0.58114277 0.57038667 0.54728039 ... 0.5719807  0.54704717 0.54825097]\n",
            " [0.56369385 0.55326071 0.5308482  ... 0.55480687 0.53062198 0.53178964]\n",
            " [0.5758217  0.56516409 0.54226938 ... 0.56674352 0.54203829 0.54323107]\n",
            " ...\n",
            " [0.57289479 0.56229136 0.53951302 ... 0.56386276 0.5392831  0.54046982]\n",
            " [0.57533399 0.5646854  0.54181008 ... 0.5662635  0.54157919 0.54277096]\n",
            " [0.57403326 0.56340875 0.54058515 ... 0.56498328 0.54035478 0.54154385]]\n",
            "------------------------- (X - np.dot(W,C)) -------------------------\n",
            "0.25171756842886284\n",
            "---------------------------------------------------------------------------\n",
            "---------------------------------------------------------------------------\n",
            "For rank= 10 and l= 0.1 and epsilon= 0.001 3570 iterations made\n",
            "---------------------------------- X ----------------------------------\n",
            "[[0.23822119 0.4930114  0.68486361 ... 0.80213922 0.8072357  0.9214643 ]\n",
            " [0.42689615 0.60339514 0.28750078 ... 0.6844     0.45335385 0.89747591]\n",
            " [0.70973596 0.32058296 0.20685521 ... 0.94556922 0.49266178 0.71151136]\n",
            " ...\n",
            " [0.88008743 0.8956948  0.29438501 ... 0.78900497 0.76778195 0.28779883]\n",
            " [0.98602243 0.42126338 0.69599549 ... 0.53189644 0.09980979 0.6051803 ]\n",
            " [0.83745054 0.02688242 0.51617992 ... 0.4720958  0.15294877 0.63423626]]\n",
            "--------------------------- W.dot(C) ---------------------------\n",
            "[[0.50609976 0.63171154 0.52810386 ... 0.61374489 0.4456913  0.53039526]\n",
            " [0.44405735 0.48484666 0.62615434 ... 0.67343718 0.47222239 0.52205395]\n",
            " [0.50046954 0.54590935 0.58378389 ... 0.649282   0.49979255 0.55164035]\n",
            " ...\n",
            " [0.59919375 0.61746629 0.55445172 ... 0.50121332 0.60103279 0.5735264 ]\n",
            " [0.56615608 0.59422063 0.46671847 ... 0.59836706 0.39732058 0.53050732]\n",
            " [0.64215032 0.54737147 0.61831801 ... 0.57139977 0.67460828 0.60029143]]\n",
            "------------------------- (X - np.dot(W,C)) -------------------------\n",
            "0.2435229982190117\n",
            "---------------------------------------------------------------------------\n",
            "---------------------------------------------------------------------------\n",
            "For rank= 100 and l= 0.1 and epsilon= 0.001 1634 iterations made\n",
            "---------------------------------- X ----------------------------------\n",
            "[[0.23822119 0.4930114  0.68486361 ... 0.80213922 0.8072357  0.9214643 ]\n",
            " [0.42689615 0.60339514 0.28750078 ... 0.6844     0.45335385 0.89747591]\n",
            " [0.70973596 0.32058296 0.20685521 ... 0.94556922 0.49266178 0.71151136]\n",
            " ...\n",
            " [0.88008743 0.8956948  0.29438501 ... 0.78900497 0.76778195 0.28779883]\n",
            " [0.98602243 0.42126338 0.69599549 ... 0.53189644 0.09980979 0.6051803 ]\n",
            " [0.83745054 0.02688242 0.51617992 ... 0.4720958  0.15294877 0.63423626]]\n",
            "--------------------------- W.dot(C) ---------------------------\n",
            "[[0.29658527 0.36696715 0.6068982  ... 0.55515463 0.72629946 0.76711026]\n",
            " [0.48157114 0.64120036 0.59856425 ... 0.5238172  0.54481175 0.47032494]\n",
            " [0.55134851 0.56296505 0.40013233 ... 0.78487489 0.39088361 0.43144475]\n",
            " ...\n",
            " [0.84418954 0.52572458 0.50779511 ... 0.61552773 0.51739745 0.53122026]\n",
            " [0.87265427 0.49879649 0.46082862 ... 0.56771077 0.27916119 0.57140034]\n",
            " [0.8273622  0.36469056 0.62319718 ... 0.51370459 0.61488582 0.52062659]]\n",
            "------------------------- (X - np.dot(W,C)) -------------------------\n",
            "0.20267183060833455\n",
            "---------------------------------------------------------------------------\n",
            "---------------------------------------------------------------------------\n",
            "For rank= 1 and l= 0.01 and epsilon= 0.001 5179 iterations made\n",
            "---------------------------------- X ----------------------------------\n",
            "[[0.23822119 0.4930114  0.68486361 ... 0.80213922 0.8072357  0.9214643 ]\n",
            " [0.42689615 0.60339514 0.28750078 ... 0.6844     0.45335385 0.89747591]\n",
            " [0.70973596 0.32058296 0.20685521 ... 0.94556922 0.49266178 0.71151136]\n",
            " ...\n",
            " [0.88008743 0.8956948  0.29438501 ... 0.78900497 0.76778195 0.28779883]\n",
            " [0.98602243 0.42126338 0.69599549 ... 0.53189644 0.09980979 0.6051803 ]\n",
            " [0.83745054 0.02688242 0.51617992 ... 0.4720958  0.15294877 0.63423626]]\n",
            "--------------------------- W.dot(C) ---------------------------\n",
            "[[0.58003917 0.5693035  0.5462411  ... 0.5708945  0.54600832 0.54720984]\n",
            " [0.56262338 0.55221005 0.52984011 ... 0.55375328 0.52961432 0.53077976]\n",
            " [0.5747282  0.56409083 0.5412396  ... 0.56566726 0.54100895 0.54219946]\n",
            " ...\n",
            " [0.57180686 0.56122356 0.53848848 ... 0.56279198 0.538259   0.53944346]\n",
            " [0.57424142 0.56361306 0.54078118 ... 0.56518815 0.54055072 0.54174023]\n",
            " [0.57294316 0.56233883 0.53955857 ... 0.56391036 0.53932863 0.54051545]]\n",
            "------------------------- (X - np.dot(W,C)) -------------------------\n",
            "0.2516206710695447\n",
            "---------------------------------------------------------------------------\n",
            "---------------------------------------------------------------------------\n",
            "For rank= 10 and l= 0.01 and epsilon= 0.001 35918 iterations made\n",
            "---------------------------------- X ----------------------------------\n",
            "[[0.23822119 0.4930114  0.68486361 ... 0.80213922 0.8072357  0.9214643 ]\n",
            " [0.42689615 0.60339514 0.28750078 ... 0.6844     0.45335385 0.89747591]\n",
            " [0.70973596 0.32058296 0.20685521 ... 0.94556922 0.49266178 0.71151136]\n",
            " ...\n",
            " [0.88008743 0.8956948  0.29438501 ... 0.78900497 0.76778195 0.28779883]\n",
            " [0.98602243 0.42126338 0.69599549 ... 0.53189644 0.09980979 0.6051803 ]\n",
            " [0.83745054 0.02688242 0.51617992 ... 0.4720958  0.15294877 0.63423626]]\n",
            "--------------------------- W.dot(C) ---------------------------\n",
            "[[0.50774232 0.62422748 0.58217435 ... 0.56587399 0.43563536 0.5344822 ]\n",
            " [0.42915969 0.45458612 0.6139134  ... 0.67009791 0.46494243 0.50950559]\n",
            " [0.5287542  0.56626397 0.57134518 ... 0.6062596  0.54205376 0.58058219]\n",
            " ...\n",
            " [0.62606116 0.61466868 0.48709586 ... 0.56797947 0.56126387 0.57945652]\n",
            " [0.50982428 0.63738859 0.45920796 ... 0.5774591  0.40987017 0.50555641]\n",
            " [0.64774626 0.58049334 0.58535437 ... 0.5212082  0.69570788 0.59901576]]\n",
            "------------------------- (X - np.dot(W,C)) -------------------------\n",
            "0.24333105301121108\n",
            "---------------------------------------------------------------------------\n",
            "---------------------------------------------------------------------------\n",
            "For rank= 100 and l= 0.01 and epsilon= 0.001 15690 iterations made\n",
            "---------------------------------- X ----------------------------------\n",
            "[[0.23822119 0.4930114  0.68486361 ... 0.80213922 0.8072357  0.9214643 ]\n",
            " [0.42689615 0.60339514 0.28750078 ... 0.6844     0.45335385 0.89747591]\n",
            " [0.70973596 0.32058296 0.20685521 ... 0.94556922 0.49266178 0.71151136]\n",
            " ...\n",
            " [0.88008743 0.8956948  0.29438501 ... 0.78900497 0.76778195 0.28779883]\n",
            " [0.98602243 0.42126338 0.69599549 ... 0.53189644 0.09980979 0.6051803 ]\n",
            " [0.83745054 0.02688242 0.51617992 ... 0.4720958  0.15294877 0.63423626]]\n",
            "--------------------------- W.dot(C) ---------------------------\n",
            "[[0.40043408 0.59517946 0.37474278 ... 0.69869389 0.6792735  0.7443899 ]\n",
            " [0.47393113 0.57315677 0.31390298 ... 0.6138972  0.4174797  0.62424129]\n",
            " [0.43883216 0.52608098 0.44822604 ... 0.60727135 0.4861623  0.46841841]\n",
            " ...\n",
            " [0.67036975 0.8166823  0.35383953 ... 0.60208196 0.62781476 0.46962558]\n",
            " [0.7086215  0.73297023 0.46521954 ... 0.60484018 0.28518225 0.60504946]\n",
            " [0.83305225 0.54833083 0.60600575 ... 0.44494793 0.66887004 0.54418809]]\n",
            "------------------------- (X - np.dot(W,C)) -------------------------\n",
            "0.2006386454124035\n",
            "---------------------------------------------------------------------------\n"
          ],
          "name": "stdout"
        }
      ]
    },
    {
      "cell_type": "markdown",
      "metadata": {
        "id": "K1SCu7QUCORy",
        "colab_type": "text"
      },
      "source": [
        "Παρατηρούμε ότι το βέλτιστο αποτέλεσμα το έχουμε για $k$= 100 και $λ$= 0.01. Ωστόσο η συγκεκριμένη εκτέλεση απαιτεί αισθητά περισσότερο χρόνο και εκτελεί πολλές περισσότερες επαναλήψεις(15690) έναντι του αμέσως χειρότερου αποτελέσματος($k$= 100, $λ$= 0.1 με 1634 επαναλήψεις)"
      ]
    },
    {
      "cell_type": "markdown",
      "metadata": {
        "id": "xoKPQVkvYk6b",
        "colab_type": "text"
      },
      "source": [
        "$λ=1.0$, $λ=0.1$ για $ε=0.01$"
      ]
    },
    {
      "cell_type": "code",
      "metadata": {
        "id": "OAeYF5r7YpgS",
        "colab_type": "code",
        "colab": {
          "base_uri": "https://localhost:8080/",
          "height": 1000
        },
        "outputId": "b461d2b1-9a44-4828-b75f-1a6481cc8d52"
      },
      "source": [
        "RunReg(X, 1, 1.0, 0.01)\n",
        "RunReg(X, 10, 1.0, 0.01)\n",
        "RunReg(X, 100, 1.0, 0.01)\n",
        "\n",
        "RunReg(X, 1, 0.1, 0.01)\n",
        "RunReg(X, 10, 0.1, 0.01)\n",
        "RunReg(X, 100, 0.1, 0.01)"
      ],
      "execution_count": null,
      "outputs": [
        {
          "output_type": "stream",
          "text": [
            "---------------------------------------------------------------------------\n",
            "For rank= 1 and l= 1.0 and epsilon= 0.01 2 iterations made\n",
            "---------------------------------- X ----------------------------------\n",
            "[[0.23822119 0.4930114  0.68486361 ... 0.80213922 0.8072357  0.9214643 ]\n",
            " [0.42689615 0.60339514 0.28750078 ... 0.6844     0.45335385 0.89747591]\n",
            " [0.70973596 0.32058296 0.20685521 ... 0.94556922 0.49266178 0.71151136]\n",
            " ...\n",
            " [0.88008743 0.8956948  0.29438501 ... 0.78900497 0.76778195 0.28779883]\n",
            " [0.98602243 0.42126338 0.69599549 ... 0.53189644 0.09980979 0.6051803 ]\n",
            " [0.83745054 0.02688242 0.51617992 ... 0.4720958  0.15294877 0.63423626]]\n",
            "--------------------------- W.dot(C) ---------------------------\n",
            "[[0.48179716 0.47278619 0.45383475 ... 0.47427815 0.45354167 0.45456608]\n",
            " [0.4675472  0.45880274 0.44041182 ... 0.46025057 0.44012741 0.44112152]\n",
            " [0.47757261 0.46864065 0.44985539 ... 0.47011953 0.44956488 0.4505803 ]\n",
            " ...\n",
            " [0.47513321 0.46624687 0.44755756 ... 0.4677182  0.44726854 0.44827878]\n",
            " [0.4768119  0.46789416 0.44913882 ... 0.46937069 0.44884878 0.44986259]\n",
            " [0.47567558 0.4667791  0.44806845 ... 0.4682521  0.4477791  0.44879049]]\n",
            "------------------------- (X - np.dot(W,C)) -------------------------\n",
            "0.2517037156015577\n",
            "---------------------------------------------------------------------------\n",
            "---------------------------------------------------------------------------\n",
            "For rank= 10 and l= 1.0 and epsilon= 0.01 266 iterations made\n",
            "---------------------------------- X ----------------------------------\n",
            "[[0.23822119 0.4930114  0.68486361 ... 0.80213922 0.8072357  0.9214643 ]\n",
            " [0.42689615 0.60339514 0.28750078 ... 0.6844     0.45335385 0.89747591]\n",
            " [0.70973596 0.32058296 0.20685521 ... 0.94556922 0.49266178 0.71151136]\n",
            " ...\n",
            " [0.88008743 0.8956948  0.29438501 ... 0.78900497 0.76778195 0.28779883]\n",
            " [0.98602243 0.42126338 0.69599549 ... 0.53189644 0.09980979 0.6051803 ]\n",
            " [0.83745054 0.02688242 0.51617992 ... 0.4720958  0.15294877 0.63423626]]\n",
            "--------------------------- W.dot(C) ---------------------------\n",
            "[[0.68321723 0.68657335 0.57945436 ... 0.64116831 0.59404475 0.67929378]\n",
            " [0.61127342 0.4929617  0.64529521 ... 0.73291102 0.59147527 0.65815631]\n",
            " [0.64081014 0.5738029  0.63365427 ... 0.73860835 0.56937754 0.71318367]\n",
            " ...\n",
            " [0.67709818 0.59147029 0.62180909 ... 0.63870472 0.5529744  0.58556167]\n",
            " [0.70425183 0.64661111 0.59631347 ... 0.64440567 0.50867681 0.68245386]\n",
            " [0.58616703 0.58405657 0.67654349 ... 0.5570857  0.74111959 0.55686219]]\n",
            "------------------------- (X - np.dot(W,C)) -------------------------\n",
            "0.25519942440516175\n",
            "---------------------------------------------------------------------------\n",
            "---------------------------------------------------------------------------\n",
            "For rank= 100 and l= 1.0 and epsilon= 0.01 184 iterations made\n",
            "---------------------------------- X ----------------------------------\n",
            "[[0.23822119 0.4930114  0.68486361 ... 0.80213922 0.8072357  0.9214643 ]\n",
            " [0.42689615 0.60339514 0.28750078 ... 0.6844     0.45335385 0.89747591]\n",
            " [0.70973596 0.32058296 0.20685521 ... 0.94556922 0.49266178 0.71151136]\n",
            " ...\n",
            " [0.88008743 0.8956948  0.29438501 ... 0.78900497 0.76778195 0.28779883]\n",
            " [0.98602243 0.42126338 0.69599549 ... 0.53189644 0.09980979 0.6051803 ]\n",
            " [0.83745054 0.02688242 0.51617992 ... 0.4720958  0.15294877 0.63423626]]\n",
            "--------------------------- W.dot(C) ---------------------------\n",
            "[[0.54221735 0.58618106 0.69690942 ... 0.72095333 0.68830972 0.71565199]\n",
            " [0.55271758 0.5169831  0.40932522 ... 0.64302429 0.50159553 0.69772011]\n",
            " [0.50636467 0.68241351 0.57035409 ... 0.92520462 0.80575762 0.73496125]\n",
            " ...\n",
            " [0.81848603 0.61235417 0.52943819 ... 0.77157724 0.61265349 0.65826679]\n",
            " [0.5930046  0.76761433 0.51343939 ... 0.63641763 0.44451215 0.40439051]\n",
            " [0.83860828 0.57048637 0.66969484 ... 0.48185483 0.52731629 0.70098023]]\n",
            "------------------------- (X - np.dot(W,C)) -------------------------\n",
            "0.22645792748588478\n",
            "---------------------------------------------------------------------------\n",
            "---------------------------------------------------------------------------\n",
            "For rank= 1 and l= 0.1 and epsilon= 0.01 2 iterations made\n",
            "---------------------------------- X ----------------------------------\n",
            "[[0.23822119 0.4930114  0.68486361 ... 0.80213922 0.8072357  0.9214643 ]\n",
            " [0.42689615 0.60339514 0.28750078 ... 0.6844     0.45335385 0.89747591]\n",
            " [0.70973596 0.32058296 0.20685521 ... 0.94556922 0.49266178 0.71151136]\n",
            " ...\n",
            " [0.88008743 0.8956948  0.29438501 ... 0.78900497 0.76778195 0.28779883]\n",
            " [0.98602243 0.42126338 0.69599549 ... 0.53189644 0.09980979 0.6051803 ]\n",
            " [0.83745054 0.02688242 0.51617992 ... 0.4720958  0.15294877 0.63423626]]\n",
            "--------------------------- W.dot(C) ---------------------------\n",
            "[[0.47077189 0.46161883 0.4432045  ... 0.46338983 0.44283632 0.44419086]\n",
            " [0.45656569 0.44768884 0.42983018 ... 0.44940639 0.42947311 0.43078678]\n",
            " [0.46662413 0.45755171 0.43929962 ... 0.4593071  0.43893468 0.44027729]\n",
            " ...\n",
            " [0.46425425 0.45522791 0.43706852 ... 0.45697439 0.43670544 0.43804123]\n",
            " [0.46606435 0.45700282 0.43877262 ... 0.4587561  0.43840812 0.43974912]\n",
            " [0.46461985 0.45558641 0.43741271 ... 0.45733426 0.43704934 0.43838618]]\n",
            "------------------------- (X - np.dot(W,C)) -------------------------\n",
            "0.25278018913302963\n",
            "---------------------------------------------------------------------------\n",
            "---------------------------------------------------------------------------\n",
            "For rank= 10 and l= 0.1 and epsilon= 0.01 2608 iterations made\n",
            "---------------------------------- X ----------------------------------\n",
            "[[0.23822119 0.4930114  0.68486361 ... 0.80213922 0.8072357  0.9214643 ]\n",
            " [0.42689615 0.60339514 0.28750078 ... 0.6844     0.45335385 0.89747591]\n",
            " [0.70973596 0.32058296 0.20685521 ... 0.94556922 0.49266178 0.71151136]\n",
            " ...\n",
            " [0.88008743 0.8956948  0.29438501 ... 0.78900497 0.76778195 0.28779883]\n",
            " [0.98602243 0.42126338 0.69599549 ... 0.53189644 0.09980979 0.6051803 ]\n",
            " [0.83745054 0.02688242 0.51617992 ... 0.4720958  0.15294877 0.63423626]]\n",
            "--------------------------- W.dot(C) ---------------------------\n",
            "[[0.65303939 0.70173617 0.56189837 ... 0.59631755 0.56688789 0.61325643]\n",
            " [0.52321282 0.59455982 0.6541036  ... 0.73838289 0.55596456 0.62279004]\n",
            " [0.5565631  0.76641375 0.49984059 ... 0.68305445 0.55490813 0.61931852]\n",
            " ...\n",
            " [0.7302377  0.64859674 0.58773494 ... 0.602444   0.6301431  0.68541526]\n",
            " [0.61399806 0.65816583 0.52850662 ... 0.62296151 0.52597188 0.62168542]\n",
            " [0.65569518 0.65682993 0.64344089 ... 0.61675073 0.72144962 0.6114214 ]]\n",
            "------------------------- (X - np.dot(W,C)) -------------------------\n",
            "0.2526622163824305\n",
            "---------------------------------------------------------------------------\n",
            "---------------------------------------------------------------------------\n",
            "For rank= 100 and l= 0.1 and epsilon= 0.01 1282 iterations made\n",
            "---------------------------------- X ----------------------------------\n",
            "[[0.23822119 0.4930114  0.68486361 ... 0.80213922 0.8072357  0.9214643 ]\n",
            " [0.42689615 0.60339514 0.28750078 ... 0.6844     0.45335385 0.89747591]\n",
            " [0.70973596 0.32058296 0.20685521 ... 0.94556922 0.49266178 0.71151136]\n",
            " ...\n",
            " [0.88008743 0.8956948  0.29438501 ... 0.78900497 0.76778195 0.28779883]\n",
            " [0.98602243 0.42126338 0.69599549 ... 0.53189644 0.09980979 0.6051803 ]\n",
            " [0.83745054 0.02688242 0.51617992 ... 0.4720958  0.15294877 0.63423626]]\n",
            "--------------------------- W.dot(C) ---------------------------\n",
            "[[0.31615083 0.74457069 0.75175267 ... 0.73348744 0.61789648 0.76426161]\n",
            " [0.30805793 0.58655323 0.35178266 ... 0.75311228 0.3965872  0.60600157]\n",
            " [0.62766029 0.86956468 0.66578922 ... 0.80143406 0.61065899 0.62978697]\n",
            " ...\n",
            " [0.88190282 0.63784864 0.40868249 ... 0.58976664 0.789303   0.54286912]\n",
            " [0.77758566 0.62995594 0.58604733 ... 0.62171424 0.43837804 0.883799  ]\n",
            " [0.62236596 0.72699046 0.74029778 ... 0.81880966 0.39073871 0.80149898]]\n",
            "------------------------- (X - np.dot(W,C)) -------------------------\n",
            "0.21411660802414276\n",
            "---------------------------------------------------------------------------\n"
          ],
          "name": "stdout"
        }
      ]
    },
    {
      "cell_type": "markdown",
      "metadata": {
        "id": "ho-LIEKyDRrc",
        "colab_type": "text"
      },
      "source": [
        "Παρατηρούμε ότι το βέλτιστο αποτέλεσμα το έχουμε για $k$= 100 και $λ$= 0.1. Ωστόσο η συγκεκριμένη εκτέλεση απαιτεί περισσότερο χρόνο και εκτελεί περισσότερες επαναλήψεις(1282) έναντι του αμέσως χειρότερου αποτελέσματος($k$= 100, $λ$= 1.0 με 184 επαναλήψεις)"
      ]
    },
    {
      "cell_type": "markdown",
      "metadata": {
        "id": "loz-8AXdY5TT",
        "colab_type": "text"
      },
      "source": [
        "$λ=2.0$, $λ=5.0$ για $ε=0.001$"
      ]
    },
    {
      "cell_type": "code",
      "metadata": {
        "id": "LZ6xnF_UZCZD",
        "colab_type": "code",
        "colab": {
          "base_uri": "https://localhost:8080/",
          "height": 1000
        },
        "outputId": "f8bc1aa5-dcab-4321-8fef-4cf9f28f4286"
      },
      "source": [
        "RunReg(X, 1, 2.0, 0.001)\n",
        "RunReg(X, 10, 2.0, 0.001)\n",
        "RunReg(X, 100, 2.0, 0.001)\n",
        "\n",
        "RunReg(X, 1, 5.0, 0.001)\n",
        "RunReg(X, 10, 5.0, 0.001)\n",
        "RunReg(X, 100, 5.0, 0.001)"
      ],
      "execution_count": null,
      "outputs": [
        {
          "output_type": "stream",
          "text": [
            "---------------------------------------------------------------------------\n",
            "For rank= 1 and l= 2.0 and epsilon= 0.001 3 iterations made\n",
            "---------------------------------- X ----------------------------------\n",
            "[[0.23822119 0.4930114  0.68486361 ... 0.80213922 0.8072357  0.9214643 ]\n",
            " [0.42689615 0.60339514 0.28750078 ... 0.6844     0.45335385 0.89747591]\n",
            " [0.70973596 0.32058296 0.20685521 ... 0.94556922 0.49266178 0.71151136]\n",
            " ...\n",
            " [0.88008743 0.8956948  0.29438501 ... 0.78900497 0.76778195 0.28779883]\n",
            " [0.98602243 0.42126338 0.69599549 ... 0.53189644 0.09980979 0.6051803 ]\n",
            " [0.83745054 0.02688242 0.51617992 ... 0.4720958  0.15294877 0.63423626]]\n",
            "--------------------------- W.dot(C) ---------------------------\n",
            "[[0.59676486 0.58572651 0.56199772 ... 0.58735672 0.56175015 0.56300129]\n",
            " [0.57885055 0.56814357 0.54512709 ... 0.56972484 0.54488696 0.54610053]\n",
            " [0.5912947  0.58035753 0.55684625 ... 0.5819728  0.55660095 0.55784062]\n",
            " ...\n",
            " [0.58830069 0.57741891 0.55402667 ... 0.579026   0.55378261 0.55501601]\n",
            " [0.59079873 0.57987074 0.55637918 ... 0.58148465 0.55613409 0.55737271]\n",
            " [0.58945962 0.5785564  0.55511808 ... 0.58016665 0.55487354 0.55610936]]\n",
            "------------------------- (X - np.dot(W,C)) -------------------------\n",
            "0.25332159599899057\n",
            "---------------------------------------------------------------------------\n",
            "---------------------------------------------------------------------------\n",
            "For rank= 10 and l= 2.0 and epsilon= 0.001 164 iterations made\n",
            "---------------------------------- X ----------------------------------\n",
            "[[0.23822119 0.4930114  0.68486361 ... 0.80213922 0.8072357  0.9214643 ]\n",
            " [0.42689615 0.60339514 0.28750078 ... 0.6844     0.45335385 0.89747591]\n",
            " [0.70973596 0.32058296 0.20685521 ... 0.94556922 0.49266178 0.71151136]\n",
            " ...\n",
            " [0.88008743 0.8956948  0.29438501 ... 0.78900497 0.76778195 0.28779883]\n",
            " [0.98602243 0.42126338 0.69599549 ... 0.53189644 0.09980979 0.6051803 ]\n",
            " [0.83745054 0.02688242 0.51617992 ... 0.4720958  0.15294877 0.63423626]]\n",
            "--------------------------- W.dot(C) ---------------------------\n",
            "[[0.72780297 0.5823059  0.52602545 ... 0.59143304 0.50831912 0.64870829]\n",
            " [0.5724343  0.63642433 0.59061986 ... 0.52291874 0.52756599 0.50593189]\n",
            " [0.58924534 0.64052262 0.4902503  ... 0.65544018 0.57808791 0.48236295]\n",
            " ...\n",
            " [0.54360157 0.61494326 0.49347807 ... 0.6456937  0.58102646 0.52679274]\n",
            " [0.64693714 0.61211126 0.59139437 ... 0.5732377  0.5370303  0.60542213]\n",
            " [0.60202134 0.44036137 0.66013388 ... 0.5962087  0.64152971 0.67076199]]\n",
            "------------------------- (X - np.dot(W,C)) -------------------------\n",
            "0.24900212684837444\n",
            "---------------------------------------------------------------------------\n",
            "---------------------------------------------------------------------------\n",
            "For rank= 100 and l= 2.0 and epsilon= 0.001 128 iterations made\n",
            "---------------------------------- X ----------------------------------\n",
            "[[0.23822119 0.4930114  0.68486361 ... 0.80213922 0.8072357  0.9214643 ]\n",
            " [0.42689615 0.60339514 0.28750078 ... 0.6844     0.45335385 0.89747591]\n",
            " [0.70973596 0.32058296 0.20685521 ... 0.94556922 0.49266178 0.71151136]\n",
            " ...\n",
            " [0.88008743 0.8956948  0.29438501 ... 0.78900497 0.76778195 0.28779883]\n",
            " [0.98602243 0.42126338 0.69599549 ... 0.53189644 0.09980979 0.6051803 ]\n",
            " [0.83745054 0.02688242 0.51617992 ... 0.4720958  0.15294877 0.63423626]]\n",
            "--------------------------- W.dot(C) ---------------------------\n",
            "[[0.47304918 0.7417421  0.69106668 ... 0.60661015 0.62918633 0.61557907]\n",
            " [0.54706513 0.55572371 0.45914064 ... 0.7832664  0.45032498 0.68426852]\n",
            " [0.54628413 0.63664591 0.54759079 ... 0.69926648 0.52625562 0.5644845 ]\n",
            " ...\n",
            " [0.6410083  0.70932127 0.58478846 ... 0.68916479 0.56061335 0.49638102]\n",
            " [0.76240839 0.593183   0.64519532 ... 0.68260232 0.58169448 0.5894835 ]\n",
            " [0.69029626 0.51052411 0.64183634 ... 0.59231596 0.68035587 0.66344468]]\n",
            "------------------------- (X - np.dot(W,C)) -------------------------\n",
            "0.22700314625141446\n",
            "---------------------------------------------------------------------------\n",
            "---------------------------------------------------------------------------\n",
            "For rank= 1 and l= 5.0 and epsilon= 0.001 42 iterations made\n",
            "---------------------------------- X ----------------------------------\n",
            "[[0.23822119 0.4930114  0.68486361 ... 0.80213922 0.8072357  0.9214643 ]\n",
            " [0.42689615 0.60339514 0.28750078 ... 0.6844     0.45335385 0.89747591]\n",
            " [0.70973596 0.32058296 0.20685521 ... 0.94556922 0.49266178 0.71151136]\n",
            " ...\n",
            " [0.88008743 0.8956948  0.29438501 ... 0.78900497 0.76778195 0.28779883]\n",
            " [0.98602243 0.42126338 0.69599549 ... 0.53189644 0.09980979 0.6051803 ]\n",
            " [0.83745054 0.02688242 0.51617992 ... 0.4720958  0.15294877 0.63423626]]\n",
            "--------------------------- W.dot(C) ---------------------------\n",
            "[[0.51125286 0.50179033 0.48146288 ... 0.50319265 0.4812577  0.48231673]\n",
            " [0.4959024  0.48672398 0.46700686 ... 0.4880842  0.46680785 0.46783508]\n",
            " [0.50657172 0.49719583 0.4770545  ... 0.49858531 0.4768512  0.47790054]\n",
            " ...\n",
            " [0.50399682 0.49466858 0.47462963 ... 0.496051   0.47442737 0.47547137]\n",
            " [0.50614266 0.49677471 0.47665044 ... 0.49816302 0.47644732 0.47749576]\n",
            " [0.50499837 0.49565159 0.47557282 ... 0.49703676 0.47537015 0.47641623]]\n",
            "------------------------- (X - np.dot(W,C)) -------------------------\n",
            "0.24986734256359502\n",
            "---------------------------------------------------------------------------\n",
            "---------------------------------------------------------------------------\n",
            "For rank= 10 and l= 5.0 and epsilon= 0.001 58 iterations made\n",
            "---------------------------------- X ----------------------------------\n",
            "[[0.23822119 0.4930114  0.68486361 ... 0.80213922 0.8072357  0.9214643 ]\n",
            " [0.42689615 0.60339514 0.28750078 ... 0.6844     0.45335385 0.89747591]\n",
            " [0.70973596 0.32058296 0.20685521 ... 0.94556922 0.49266178 0.71151136]\n",
            " ...\n",
            " [0.88008743 0.8956948  0.29438501 ... 0.78900497 0.76778195 0.28779883]\n",
            " [0.98602243 0.42126338 0.69599549 ... 0.53189644 0.09980979 0.6051803 ]\n",
            " [0.83745054 0.02688242 0.51617992 ... 0.4720958  0.15294877 0.63423626]]\n",
            "--------------------------- W.dot(C) ---------------------------\n",
            "[[0.59255933 0.6188447  0.63672316 ... 0.67098423 0.59494072 0.58745615]\n",
            " [0.55736212 0.58702912 0.58742483 ... 0.62927956 0.54731445 0.5691372 ]\n",
            " [0.60017483 0.60452456 0.57775114 ... 0.65641192 0.61207888 0.6366404 ]\n",
            " ...\n",
            " [0.68376276 0.65387858 0.61044186 ... 0.60006645 0.59905253 0.57069156]\n",
            " [0.63844725 0.60387347 0.58211186 ... 0.67887026 0.58636962 0.65484009]\n",
            " [0.65984052 0.65235371 0.58842255 ... 0.61338144 0.60182741 0.58863182]]\n",
            "------------------------- (X - np.dot(W,C)) -------------------------\n",
            "0.25788278702349543\n",
            "---------------------------------------------------------------------------\n",
            "---------------------------------------------------------------------------\n",
            "For rank= 100 and l= 5.0 and epsilon= 0.001 68 iterations made\n",
            "---------------------------------- X ----------------------------------\n",
            "[[0.23822119 0.4930114  0.68486361 ... 0.80213922 0.8072357  0.9214643 ]\n",
            " [0.42689615 0.60339514 0.28750078 ... 0.6844     0.45335385 0.89747591]\n",
            " [0.70973596 0.32058296 0.20685521 ... 0.94556922 0.49266178 0.71151136]\n",
            " ...\n",
            " [0.88008743 0.8956948  0.29438501 ... 0.78900497 0.76778195 0.28779883]\n",
            " [0.98602243 0.42126338 0.69599549 ... 0.53189644 0.09980979 0.6051803 ]\n",
            " [0.83745054 0.02688242 0.51617992 ... 0.4720958  0.15294877 0.63423626]]\n",
            "--------------------------- W.dot(C) ---------------------------\n",
            "[[0.64625095 0.62955072 0.59513972 ... 0.6375529  0.58988375 0.62264168]\n",
            " [0.62748648 0.59673007 0.58516237 ... 0.61540626 0.58453335 0.60657341]\n",
            " [0.63105093 0.63957852 0.58519556 ... 0.64386828 0.59452586 0.60925118]\n",
            " ...\n",
            " [0.64978651 0.64282084 0.61254397 ... 0.6284464  0.60344133 0.59608455]\n",
            " [0.64294513 0.61964716 0.61514788 ... 0.61926537 0.58619671 0.59506979]\n",
            " [0.64886484 0.61360067 0.61292532 ... 0.62295212 0.60303452 0.60589863]]\n",
            "------------------------- (X - np.dot(W,C)) -------------------------\n",
            "0.2542352950585258\n",
            "---------------------------------------------------------------------------\n"
          ],
          "name": "stdout"
        }
      ]
    },
    {
      "cell_type": "markdown",
      "metadata": {
        "id": "uR2Y7Zt9s1St",
        "colab_type": "text"
      },
      "source": [
        "Παρατηρούμε ότι το βέλτιστο αποτέλεσμα το έχουμε για $k$= 100 και $λ$= 2.0 με 128 επαναλήψεις"
      ]
    },
    {
      "cell_type": "markdown",
      "metadata": {
        "id": "mbnnIa-qZsh6",
        "colab_type": "text"
      },
      "source": [
        "$λ=2.0$, $λ=5.0$ για $ε=0.01$"
      ]
    },
    {
      "cell_type": "code",
      "metadata": {
        "id": "sK3QTeOeZ31y",
        "colab_type": "code",
        "colab": {
          "base_uri": "https://localhost:8080/",
          "height": 1000
        },
        "outputId": "1a1ba7fb-92ef-4f61-c3a2-57b4948e2e61"
      },
      "source": [
        "RunReg(X, 1, 2.0, 0.01)\n",
        "RunReg(X, 10, 2.0, 0.01)\n",
        "RunReg(X, 100, 2.0, 0.01)\n",
        "\n",
        "RunReg(X, 1, 5.0, 0.01)\n",
        "RunReg(X, 10, 5.0, 0.01)\n",
        "RunReg(X, 100, 5.0, 0.01)"
      ],
      "execution_count": null,
      "outputs": [
        {
          "output_type": "stream",
          "text": [
            "---------------------------------------------------------------------------\n",
            "For rank= 1 and l= 2.0 and epsilon= 0.01 2 iterations made\n",
            "---------------------------------- X ----------------------------------\n",
            "[[0.23822119 0.4930114  0.68486361 ... 0.80213922 0.8072357  0.9214643 ]\n",
            " [0.42689615 0.60339514 0.28750078 ... 0.6844     0.45335385 0.89747591]\n",
            " [0.70973596 0.32058296 0.20685521 ... 0.94556922 0.49266178 0.71151136]\n",
            " ...\n",
            " [0.88008743 0.8956948  0.29438501 ... 0.78900497 0.76778195 0.28779883]\n",
            " [0.98602243 0.42126338 0.69599549 ... 0.53189644 0.09980979 0.6051803 ]\n",
            " [0.83745054 0.02688242 0.51617992 ... 0.4720958  0.15294877 0.63423626]]\n",
            "--------------------------- W.dot(C) ---------------------------\n",
            "[[0.47223503 0.46391203 0.44456917 ... 0.46488072 0.44464741 0.44548124]\n",
            " [0.45870017 0.45061572 0.43182725 ... 0.45155665 0.43190325 0.43271318]\n",
            " [0.46844152 0.46018538 0.4409979  ... 0.46114629 0.44107551 0.44190265]\n",
            " ...\n",
            " [0.46551239 0.45730788 0.43824038 ... 0.45826278 0.4383175  0.43913947]\n",
            " [0.46787158 0.45962548 0.44046135 ... 0.46058522 0.44053886 0.441365  ]\n",
            " [0.46696772 0.45873755 0.43961044 ... 0.45969544 0.43968781 0.44051234]]\n",
            "------------------------- (X - np.dot(W,C)) -------------------------\n",
            "0.2525725938166096\n",
            "---------------------------------------------------------------------------\n",
            "---------------------------------------------------------------------------\n",
            "For rank= 10 and l= 2.0 and epsilon= 0.01 136 iterations made\n",
            "---------------------------------- X ----------------------------------\n",
            "[[0.23822119 0.4930114  0.68486361 ... 0.80213922 0.8072357  0.9214643 ]\n",
            " [0.42689615 0.60339514 0.28750078 ... 0.6844     0.45335385 0.89747591]\n",
            " [0.70973596 0.32058296 0.20685521 ... 0.94556922 0.49266178 0.71151136]\n",
            " ...\n",
            " [0.88008743 0.8956948  0.29438501 ... 0.78900497 0.76778195 0.28779883]\n",
            " [0.98602243 0.42126338 0.69599549 ... 0.53189644 0.09980979 0.6051803 ]\n",
            " [0.83745054 0.02688242 0.51617992 ... 0.4720958  0.15294877 0.63423626]]\n",
            "--------------------------- W.dot(C) ---------------------------\n",
            "[[0.6891493  0.6605819  0.59844669 ... 0.61692965 0.64647792 0.62979582]\n",
            " [0.61374117 0.67925075 0.59649007 ... 0.65078244 0.60208834 0.61508372]\n",
            " [0.61363958 0.62024441 0.63325673 ... 0.68067815 0.62895539 0.63969902]\n",
            " ...\n",
            " [0.65760109 0.68436138 0.52758155 ... 0.63285011 0.62757379 0.65591621]\n",
            " [0.63909827 0.60438084 0.567937   ... 0.65648495 0.58301841 0.63806484]\n",
            " [0.61291604 0.54972084 0.58275919 ... 0.64596115 0.53702628 0.5747328 ]]\n",
            "------------------------- (X - np.dot(W,C)) -------------------------\n",
            "0.2576169127063849\n",
            "---------------------------------------------------------------------------\n",
            "---------------------------------------------------------------------------\n",
            "For rank= 100 and l= 2.0 and epsilon= 0.01 118 iterations made\n",
            "---------------------------------- X ----------------------------------\n",
            "[[0.23822119 0.4930114  0.68486361 ... 0.80213922 0.8072357  0.9214643 ]\n",
            " [0.42689615 0.60339514 0.28750078 ... 0.6844     0.45335385 0.89747591]\n",
            " [0.70973596 0.32058296 0.20685521 ... 0.94556922 0.49266178 0.71151136]\n",
            " ...\n",
            " [0.88008743 0.8956948  0.29438501 ... 0.78900497 0.76778195 0.28779883]\n",
            " [0.98602243 0.42126338 0.69599549 ... 0.53189644 0.09980979 0.6051803 ]\n",
            " [0.83745054 0.02688242 0.51617992 ... 0.4720958  0.15294877 0.63423626]]\n",
            "--------------------------- W.dot(C) ---------------------------\n",
            "[[0.57451593 0.82670773 0.601384   ... 0.89520751 0.62021989 0.74017334]\n",
            " [0.69212038 0.62392522 0.61612103 ... 0.78064753 0.69700828 0.57164282]\n",
            " [0.65667433 0.68480543 0.63775847 ... 0.63706447 0.64334756 0.78387208]\n",
            " ...\n",
            " [0.73593695 0.72039421 0.43686625 ... 0.62147833 0.63518671 0.71090811]\n",
            " [0.7681376  0.59746313 0.71923884 ... 0.65981791 0.43796625 0.80267348]\n",
            " [0.61975147 0.62576592 0.56375886 ... 0.75170025 0.5268947  0.67753889]]\n",
            "------------------------- (X - np.dot(W,C)) -------------------------\n",
            "0.2387519067371823\n",
            "---------------------------------------------------------------------------\n",
            "---------------------------------------------------------------------------\n",
            "For rank= 1 and l= 5.0 and epsilon= 0.01 2 iterations made\n",
            "---------------------------------- X ----------------------------------\n",
            "[[0.23822119 0.4930114  0.68486361 ... 0.80213922 0.8072357  0.9214643 ]\n",
            " [0.42689615 0.60339514 0.28750078 ... 0.6844     0.45335385 0.89747591]\n",
            " [0.70973596 0.32058296 0.20685521 ... 0.94556922 0.49266178 0.71151136]\n",
            " ...\n",
            " [0.88008743 0.8956948  0.29438501 ... 0.78900497 0.76778195 0.28779883]\n",
            " [0.98602243 0.42126338 0.69599549 ... 0.53189644 0.09980979 0.6051803 ]\n",
            " [0.83745054 0.02688242 0.51617992 ... 0.4720958  0.15294877 0.63423626]]\n",
            "--------------------------- W.dot(C) ---------------------------\n",
            "[[0.48442806 0.47572726 0.45617226 ... 0.47695269 0.45609473 0.45709201]\n",
            " [0.46990984 0.46146981 0.44250086 ... 0.4626585  0.44242566 0.44339305]\n",
            " [0.47945001 0.47083862 0.45148457 ... 0.47205145 0.45140784 0.45239487]\n",
            " ...\n",
            " [0.47704354 0.46847538 0.44921847 ... 0.46968212 0.44914213 0.4501242 ]\n",
            " [0.47944469 0.4708334  0.45147957 ... 0.47204622 0.45140284 0.45238986]\n",
            " [0.47847244 0.46987861 0.45056402 ... 0.47108897 0.45048744 0.45147246]]\n",
            "------------------------- (X - np.dot(W,C)) -------------------------\n",
            "0.2514831796907796\n",
            "---------------------------------------------------------------------------\n",
            "---------------------------------------------------------------------------\n",
            "For rank= 10 and l= 5.0 and epsilon= 0.01 52 iterations made\n",
            "---------------------------------- X ----------------------------------\n",
            "[[0.23822119 0.4930114  0.68486361 ... 0.80213922 0.8072357  0.9214643 ]\n",
            " [0.42689615 0.60339514 0.28750078 ... 0.6844     0.45335385 0.89747591]\n",
            " [0.70973596 0.32058296 0.20685521 ... 0.94556922 0.49266178 0.71151136]\n",
            " ...\n",
            " [0.88008743 0.8956948  0.29438501 ... 0.78900497 0.76778195 0.28779883]\n",
            " [0.98602243 0.42126338 0.69599549 ... 0.53189644 0.09980979 0.6051803 ]\n",
            " [0.83745054 0.02688242 0.51617992 ... 0.4720958  0.15294877 0.63423626]]\n",
            "--------------------------- W.dot(C) ---------------------------\n",
            "[[0.61322522 0.69243712 0.62794511 ... 0.69667137 0.57888557 0.67940311]\n",
            " [0.59237087 0.68719214 0.59456765 ... 0.68144269 0.5987513  0.63918016]\n",
            " [0.60922577 0.65941002 0.58990738 ... 0.72471977 0.56580884 0.58179768]\n",
            " ...\n",
            " [0.68189216 0.62846463 0.59913668 ... 0.67456892 0.60853279 0.60302217]\n",
            " [0.72032809 0.63418219 0.63637122 ... 0.62231636 0.56505231 0.65058912]\n",
            " [0.74811712 0.61615039 0.61118793 ... 0.62675056 0.559023   0.61434576]]\n",
            "------------------------- (X - np.dot(W,C)) -------------------------\n",
            "0.26421168071791307\n",
            "---------------------------------------------------------------------------\n",
            "---------------------------------------------------------------------------\n",
            "For rank= 100 and l= 5.0 and epsilon= 0.01 62 iterations made\n",
            "---------------------------------- X ----------------------------------\n",
            "[[0.23822119 0.4930114  0.68486361 ... 0.80213922 0.8072357  0.9214643 ]\n",
            " [0.42689615 0.60339514 0.28750078 ... 0.6844     0.45335385 0.89747591]\n",
            " [0.70973596 0.32058296 0.20685521 ... 0.94556922 0.49266178 0.71151136]\n",
            " ...\n",
            " [0.88008743 0.8956948  0.29438501 ... 0.78900497 0.76778195 0.28779883]\n",
            " [0.98602243 0.42126338 0.69599549 ... 0.53189644 0.09980979 0.6051803 ]\n",
            " [0.83745054 0.02688242 0.51617992 ... 0.4720958  0.15294877 0.63423626]]\n",
            "--------------------------- W.dot(C) ---------------------------\n",
            "[[0.66880539 0.63776243 0.63626272 ... 0.6634172  0.62720839 0.64082516]\n",
            " [0.64909242 0.62978202 0.6272785  ... 0.63129258 0.60666053 0.61651503]\n",
            " [0.6713653  0.66713623 0.62172508 ... 0.67843488 0.64227136 0.63673158]\n",
            " ...\n",
            " [0.65684843 0.6510771  0.63138449 ... 0.67548815 0.62769322 0.61145967]\n",
            " [0.68121957 0.66596671 0.64145845 ... 0.657544   0.62067518 0.59395017]\n",
            " [0.65830171 0.64826299 0.63152879 ... 0.66795757 0.63955495 0.62798654]]\n",
            "------------------------- (X - np.dot(W,C)) -------------------------\n",
            "0.262187360135181\n",
            "---------------------------------------------------------------------------\n"
          ],
          "name": "stdout"
        }
      ]
    },
    {
      "cell_type": "markdown",
      "metadata": {
        "id": "LXS1kQWytgtS",
        "colab_type": "text"
      },
      "source": [
        "Παρατηρούμε ότι το βέλτιστο αποτέλεσμα το έχουμε για $k$= 100 και $λ$= 2.0 με 118 επαναλήψεις"
      ]
    },
    {
      "cell_type": "markdown",
      "metadata": {
        "id": "Q0J5CwwvaHUZ",
        "colab_type": "text"
      },
      "source": [
        "$λ=2.0$, $λ=5.0$ για $ε=0.1$"
      ]
    },
    {
      "cell_type": "code",
      "metadata": {
        "id": "W0iT64psaJDJ",
        "colab_type": "code",
        "colab": {
          "base_uri": "https://localhost:8080/",
          "height": 1000
        },
        "outputId": "1d0c86ad-f200-4252-de47-dca5d15a3420"
      },
      "source": [
        "RunReg(X, 1, 2.0, 0.1)\n",
        "RunReg(X, 10, 2.0, 0.1)\n",
        "RunReg(X, 100, 2.0, 0.1)\n",
        "\n",
        "RunReg(X, 1, 5.0, 0.1)\n",
        "RunReg(X, 10, 5.0, 0.1)\n",
        "RunReg(X, 100, 5.0, 0.1)"
      ],
      "execution_count": null,
      "outputs": [
        {
          "output_type": "stream",
          "text": [
            "---------------------------------------------------------------------------\n",
            "For rank= 1 and l= 2.0 and epsilon= 0.1 2 iterations made\n",
            "---------------------------------- X ----------------------------------\n",
            "[[0.23822119 0.4930114  0.68486361 ... 0.80213922 0.8072357  0.9214643 ]\n",
            " [0.42689615 0.60339514 0.28750078 ... 0.6844     0.45335385 0.89747591]\n",
            " [0.70973596 0.32058296 0.20685521 ... 0.94556922 0.49266178 0.71151136]\n",
            " ...\n",
            " [0.88008743 0.8956948  0.29438501 ... 0.78900497 0.76778195 0.28779883]\n",
            " [0.98602243 0.42126338 0.69599549 ... 0.53189644 0.09980979 0.6051803 ]\n",
            " [0.83745054 0.02688242 0.51617992 ... 0.4720958  0.15294877 0.63423626]]\n",
            "--------------------------- W.dot(C) ---------------------------\n",
            "[[0.46614488 0.45786781 0.43905421 ... 0.45895984 0.43881757 0.43960903]\n",
            " [0.45237572 0.44434314 0.42608526 ... 0.44540291 0.42585561 0.42662369]\n",
            " [0.46189269 0.45369113 0.43504914 ... 0.4547732  0.43481466 0.4355989 ]\n",
            " ...\n",
            " [0.45947557 0.45131693 0.4327725  ... 0.45239334 0.43253925 0.43331938]\n",
            " [0.46123928 0.45304932 0.4344337  ... 0.45412986 0.43419956 0.43498269]\n",
            " [0.46046103 0.45228488 0.43370068 ... 0.4533636  0.43346693 0.43424874]]\n",
            "------------------------- (X - np.dot(W,C)) -------------------------\n",
            "0.25327580587738535\n",
            "---------------------------------------------------------------------------\n",
            "---------------------------------------------------------------------------\n",
            "For rank= 10 and l= 2.0 and epsilon= 0.1 84 iterations made\n",
            "---------------------------------- X ----------------------------------\n",
            "[[0.23822119 0.4930114  0.68486361 ... 0.80213922 0.8072357  0.9214643 ]\n",
            " [0.42689615 0.60339514 0.28750078 ... 0.6844     0.45335385 0.89747591]\n",
            " [0.70973596 0.32058296 0.20685521 ... 0.94556922 0.49266178 0.71151136]\n",
            " ...\n",
            " [0.88008743 0.8956948  0.29438501 ... 0.78900497 0.76778195 0.28779883]\n",
            " [0.98602243 0.42126338 0.69599549 ... 0.53189644 0.09980979 0.6051803 ]\n",
            " [0.83745054 0.02688242 0.51617992 ... 0.4720958  0.15294877 0.63423626]]\n",
            "--------------------------- W.dot(C) ---------------------------\n",
            "[[0.66984786 0.80180759 0.5979826  ... 0.78402412 0.72312774 0.74656698]\n",
            " [0.76820271 0.92262158 0.78812035 ... 0.87215767 0.60662334 0.70563903]\n",
            " [0.84843566 0.95307699 0.8402015  ... 0.72477631 0.82538986 0.77422467]\n",
            " ...\n",
            " [0.81663479 0.7933181  0.73924271 ... 0.7625839  0.78603599 0.79418682]\n",
            " [0.81276783 0.83422322 0.71488922 ... 0.76920406 0.68219626 0.75749635]\n",
            " [0.9128371  0.82108097 0.86899093 ... 0.79408888 0.80714272 0.78493622]]\n",
            "------------------------- (X - np.dot(W,C)) -------------------------\n",
            "0.32356294691151644\n",
            "---------------------------------------------------------------------------\n",
            "---------------------------------------------------------------------------\n",
            "For rank= 100 and l= 2.0 and epsilon= 0.1 94 iterations made\n",
            "---------------------------------- X ----------------------------------\n",
            "[[0.23822119 0.4930114  0.68486361 ... 0.80213922 0.8072357  0.9214643 ]\n",
            " [0.42689615 0.60339514 0.28750078 ... 0.6844     0.45335385 0.89747591]\n",
            " [0.70973596 0.32058296 0.20685521 ... 0.94556922 0.49266178 0.71151136]\n",
            " ...\n",
            " [0.88008743 0.8956948  0.29438501 ... 0.78900497 0.76778195 0.28779883]\n",
            " [0.98602243 0.42126338 0.69599549 ... 0.53189644 0.09980979 0.6051803 ]\n",
            " [0.83745054 0.02688242 0.51617992 ... 0.4720958  0.15294877 0.63423626]]\n",
            "--------------------------- W.dot(C) ---------------------------\n",
            "[[0.61141853 0.81693418 0.79259449 ... 0.78895176 0.86417179 0.88636505]\n",
            " [0.69039887 0.80505972 0.64562716 ... 0.81645809 0.70061011 0.87969967]\n",
            " [0.78454122 0.81768647 0.7042126  ... 0.8784867  0.70711102 0.88595321]\n",
            " ...\n",
            " [0.99796322 0.95641054 0.67076473 ... 0.90512661 0.72695073 0.8960559 ]\n",
            " [0.88044345 0.77781502 0.87413418 ... 0.63180476 0.68118453 0.9701831 ]\n",
            " [0.80989875 0.77032603 0.87857772 ... 0.82791193 0.76573681 0.90769771]]\n",
            "------------------------- (X - np.dot(W,C)) -------------------------\n",
            "0.3164193639330608\n",
            "---------------------------------------------------------------------------\n",
            "---------------------------------------------------------------------------\n",
            "For rank= 1 and l= 5.0 and epsilon= 0.1 2 iterations made\n",
            "---------------------------------- X ----------------------------------\n",
            "[[0.23822119 0.4930114  0.68486361 ... 0.80213922 0.8072357  0.9214643 ]\n",
            " [0.42689615 0.60339514 0.28750078 ... 0.6844     0.45335385 0.89747591]\n",
            " [0.70973596 0.32058296 0.20685521 ... 0.94556922 0.49266178 0.71151136]\n",
            " ...\n",
            " [0.88008743 0.8956948  0.29438501 ... 0.78900497 0.76778195 0.28779883]\n",
            " [0.98602243 0.42126338 0.69599549 ... 0.53189644 0.09980979 0.6051803 ]\n",
            " [0.83745054 0.02688242 0.51617992 ... 0.4720958  0.15294877 0.63423626]]\n",
            "--------------------------- W.dot(C) ---------------------------\n",
            "[[0.49481632 0.48562895 0.46605778 ... 0.48681729 0.46572332 0.4667286 ]\n",
            " [0.47960277 0.47069786 0.45172843 ... 0.47184967 0.45140425 0.45237863]\n",
            " [0.48992752 0.48083091 0.46145311 ... 0.48200752 0.46112196 0.46211731]\n",
            " ...\n",
            " [0.48734494 0.47829628 0.45902063 ... 0.47946669 0.45869122 0.45968132]\n",
            " [0.4895045  0.48041575 0.46105468 ... 0.48159134 0.46072381 0.4617183 ]\n",
            " [0.48874731 0.47967262 0.4603415  ... 0.48084639 0.46001114 0.46100409]]\n",
            "------------------------- (X - np.dot(W,C)) -------------------------\n",
            "0.2507206156548518\n",
            "---------------------------------------------------------------------------\n",
            "---------------------------------------------------------------------------\n",
            "For rank= 10 and l= 5.0 and epsilon= 0.1 34 iterations made\n",
            "---------------------------------- X ----------------------------------\n",
            "[[0.23822119 0.4930114  0.68486361 ... 0.80213922 0.8072357  0.9214643 ]\n",
            " [0.42689615 0.60339514 0.28750078 ... 0.6844     0.45335385 0.89747591]\n",
            " [0.70973596 0.32058296 0.20685521 ... 0.94556922 0.49266178 0.71151136]\n",
            " ...\n",
            " [0.88008743 0.8956948  0.29438501 ... 0.78900497 0.76778195 0.28779883]\n",
            " [0.98602243 0.42126338 0.69599549 ... 0.53189644 0.09980979 0.6051803 ]\n",
            " [0.83745054 0.02688242 0.51617992 ... 0.4720958  0.15294877 0.63423626]]\n",
            "--------------------------- W.dot(C) ---------------------------\n",
            "[[0.79900552 0.86912507 0.79318697 ... 0.78312354 0.77571947 0.81321993]\n",
            " [0.81123831 0.79699463 0.7296278  ... 0.7886329  0.69194049 0.78457549]\n",
            " [0.8715393  0.7891675  0.69688132 ... 0.8244388  0.79968917 0.7257714 ]\n",
            " ...\n",
            " [0.88905358 0.81280825 0.76659915 ... 0.75420916 0.73312275 0.74374581]\n",
            " [0.83923358 0.8032084  0.75340818 ... 0.78686651 0.77072345 0.77958321]\n",
            " [0.8032817  0.79982651 0.74040934 ... 0.80657803 0.80860306 0.76734864]]\n",
            "------------------------- (X - np.dot(W,C)) -------------------------\n",
            "0.321876900290336\n",
            "---------------------------------------------------------------------------\n",
            "---------------------------------------------------------------------------\n",
            "For rank= 100 and l= 5.0 and epsilon= 0.1 44 iterations made\n",
            "---------------------------------- X ----------------------------------\n",
            "[[0.23822119 0.4930114  0.68486361 ... 0.80213922 0.8072357  0.9214643 ]\n",
            " [0.42689615 0.60339514 0.28750078 ... 0.6844     0.45335385 0.89747591]\n",
            " [0.70973596 0.32058296 0.20685521 ... 0.94556922 0.49266178 0.71151136]\n",
            " ...\n",
            " [0.88008743 0.8956948  0.29438501 ... 0.78900497 0.76778195 0.28779883]\n",
            " [0.98602243 0.42126338 0.69599549 ... 0.53189644 0.09980979 0.6051803 ]\n",
            " [0.83745054 0.02688242 0.51617992 ... 0.4720958  0.15294877 0.63423626]]\n",
            "--------------------------- W.dot(C) ---------------------------\n",
            "[[0.82927495 0.81517306 0.79213363 ... 0.80432905 0.79252385 0.78103747]\n",
            " [0.79592792 0.79205079 0.76802723 ... 0.8113636  0.7553893  0.75848654]\n",
            " [0.80726042 0.80207445 0.76426067 ... 0.81266491 0.77348627 0.77338337]\n",
            " ...\n",
            " [0.83873439 0.80848293 0.77025674 ... 0.79876041 0.78291614 0.76144554]\n",
            " [0.82024062 0.80991105 0.76859116 ... 0.79405256 0.76772015 0.77112982]\n",
            " [0.82765243 0.79338347 0.76070346 ... 0.80749531 0.76639739 0.7629801 ]]\n",
            "------------------------- (X - np.dot(W,C)) -------------------------\n",
            "0.3247616701906024\n",
            "---------------------------------------------------------------------------\n"
          ],
          "name": "stdout"
        }
      ]
    },
    {
      "cell_type": "markdown",
      "metadata": {
        "id": "3LwveLiauoda",
        "colab_type": "text"
      },
      "source": [
        "Παρατηρούμε ότι το βέλτιστο αποτέλεσμα το έχουμε για $k$= 1 και $λ$= 5.0 με 2 επαναλήψεις. Ωστόσο για τις συγκεκριμένες παραμέτρους τα αποτελέσματα είναι χειρότερα σε σχέση με πριν."
      ]
    },
    {
      "cell_type": "markdown",
      "metadata": {
        "id": "yjg1Y0EDaUk4",
        "colab_type": "text"
      },
      "source": [
        "$λ=10.0$, $λ=15.0$ για $ε=0.001$"
      ]
    },
    {
      "cell_type": "code",
      "metadata": {
        "id": "dGmJHdRWaaPQ",
        "colab_type": "code",
        "colab": {
          "base_uri": "https://localhost:8080/",
          "height": 1000
        },
        "outputId": "50a4161b-0bd5-48bf-a38a-9a1d40e3bcf0"
      },
      "source": [
        "RunReg(X, 1, 10.0, 0.001)\n",
        "RunReg(X, 10, 10.0, 0.001)\n",
        "RunReg(X, 100, 10.0, 0.001)\n",
        "\n",
        "RunReg(X, 1, 15.0, 0.001)\n",
        "RunReg(X, 10, 15.0, 0.001)\n",
        "RunReg(X, 100, 15.0, 0.001)"
      ],
      "execution_count": null,
      "outputs": [
        {
          "output_type": "stream",
          "text": [
            "---------------------------------------------------------------------------\n",
            "For rank= 1 and l= 10.0 and epsilon= 0.001 35 iterations made\n",
            "---------------------------------- X ----------------------------------\n",
            "[[0.23822119 0.4930114  0.68486361 ... 0.80213922 0.8072357  0.9214643 ]\n",
            " [0.42689615 0.60339514 0.28750078 ... 0.6844     0.45335385 0.89747591]\n",
            " [0.70973596 0.32058296 0.20685521 ... 0.94556922 0.49266178 0.71151136]\n",
            " ...\n",
            " [0.88008743 0.8956948  0.29438501 ... 0.78900497 0.76778195 0.28779883]\n",
            " [0.98602243 0.42126338 0.69599549 ... 0.53189644 0.09980979 0.6051803 ]\n",
            " [0.83745054 0.02688242 0.51617992 ... 0.4720958  0.15294877 0.63423626]]\n",
            "--------------------------- W.dot(C) ---------------------------\n",
            "[[0.5222871  0.51262034 0.49185417 ... 0.51405293 0.49164456 0.49272645]\n",
            " [0.50660533 0.49722882 0.47708615 ... 0.49861839 0.47688284 0.47793225]\n",
            " [0.51750493 0.50792668 0.48735064 ... 0.50934615 0.48714296 0.48821494]\n",
            " ...\n",
            " [0.51487445 0.50534488 0.48487344 ... 0.50675714 0.48466681 0.48573334]\n",
            " [0.51706661 0.50749647 0.48693787 ... 0.50891474 0.48673036 0.48780143]\n",
            " [0.51589762 0.50634911 0.48583699 ... 0.50776418 0.48562995 0.4866986 ]]\n",
            "------------------------- (X - np.dot(W,C)) -------------------------\n",
            "0.24958241673746062\n",
            "---------------------------------------------------------------------------\n",
            "---------------------------------------------------------------------------\n",
            "For rank= 10 and l= 10.0 and epsilon= 0.001 76 iterations made\n",
            "---------------------------------- X ----------------------------------\n",
            "[[0.23822119 0.4930114  0.68486361 ... 0.80213922 0.8072357  0.9214643 ]\n",
            " [0.42689615 0.60339514 0.28750078 ... 0.6844     0.45335385 0.89747591]\n",
            " [0.70973596 0.32058296 0.20685521 ... 0.94556922 0.49266178 0.71151136]\n",
            " ...\n",
            " [0.88008743 0.8956948  0.29438501 ... 0.78900497 0.76778195 0.28779883]\n",
            " [0.98602243 0.42126338 0.69599549 ... 0.53189644 0.09980979 0.6051803 ]\n",
            " [0.83745054 0.02688242 0.51617992 ... 0.4720958  0.15294877 0.63423626]]\n",
            "--------------------------- W.dot(C) ---------------------------\n",
            "[[0.51949408 0.51774568 0.49002646 ... 0.5236349  0.49508688 0.4997528 ]\n",
            " [0.50994518 0.49353733 0.4791454  ... 0.49525429 0.47736911 0.47525285]\n",
            " [0.51520614 0.51339093 0.49012019 ... 0.51023885 0.49382358 0.49772625]\n",
            " ...\n",
            " [0.50687125 0.50342758 0.48351295 ... 0.49896132 0.49585064 0.45849197]\n",
            " [0.51614002 0.50936658 0.48549593 ... 0.49695626 0.48436723 0.48054231]\n",
            " [0.51499823 0.51101191 0.48444805 ... 0.50750728 0.49013442 0.48461382]]\n",
            "------------------------- (X - np.dot(W,C)) -------------------------\n",
            "0.24821263422933632\n",
            "---------------------------------------------------------------------------\n",
            "---------------------------------------------------------------------------\n",
            "For rank= 100 and l= 10.0 and epsilon= 0.001 33 iterations made\n",
            "---------------------------------- X ----------------------------------\n",
            "[[0.23822119 0.4930114  0.68486361 ... 0.80213922 0.8072357  0.9214643 ]\n",
            " [0.42689615 0.60339514 0.28750078 ... 0.6844     0.45335385 0.89747591]\n",
            " [0.70973596 0.32058296 0.20685521 ... 0.94556922 0.49266178 0.71151136]\n",
            " ...\n",
            " [0.88008743 0.8956948  0.29438501 ... 0.78900497 0.76778195 0.28779883]\n",
            " [0.98602243 0.42126338 0.69599549 ... 0.53189644 0.09980979 0.6051803 ]\n",
            " [0.83745054 0.02688242 0.51617992 ... 0.4720958  0.15294877 0.63423626]]\n",
            "--------------------------- W.dot(C) ---------------------------\n",
            "[[0.42163473 0.40230134 0.39396882 ... 0.41208585 0.39891372 0.39437174]\n",
            " [0.39974091 0.39527194 0.37833664 ... 0.39965202 0.38365727 0.38403907]\n",
            " [0.41606191 0.40330054 0.39071834 ... 0.40767255 0.387867   0.39084533]\n",
            " ...\n",
            " [0.41131012 0.40546749 0.38376852 ... 0.40459458 0.38358437 0.38186517]\n",
            " [0.41560042 0.39820673 0.39037639 ... 0.41057559 0.38907475 0.38801357]\n",
            " [0.41577607 0.40199786 0.38763406 ... 0.40123798 0.38212762 0.38969415]]\n",
            "------------------------- (X - np.dot(W,C)) -------------------------\n",
            "0.2605341953215779\n",
            "---------------------------------------------------------------------------\n",
            "---------------------------------------------------------------------------\n",
            "For rank= 1 and l= 15.0 and epsilon= 0.001 18 iterations made\n",
            "---------------------------------- X ----------------------------------\n",
            "[[0.23822119 0.4930114  0.68486361 ... 0.80213922 0.8072357  0.9214643 ]\n",
            " [0.42689615 0.60339514 0.28750078 ... 0.6844     0.45335385 0.89747591]\n",
            " [0.70973596 0.32058296 0.20685521 ... 0.94556922 0.49266178 0.71151136]\n",
            " ...\n",
            " [0.88008743 0.8956948  0.29438501 ... 0.78900497 0.76778195 0.28779883]\n",
            " [0.98602243 0.42126338 0.69599549 ... 0.53189644 0.09980979 0.6051803 ]\n",
            " [0.83745054 0.02688242 0.51617992 ... 0.4720958  0.15294877 0.63423626]]\n",
            "--------------------------- W.dot(C) ---------------------------\n",
            "[[0.50509639 0.4957478  0.47566513 ... 0.49713324 0.47546243 0.4765087 ]\n",
            " [0.48993078 0.48086288 0.4613832  ... 0.48220672 0.46118658 0.46220144]\n",
            " [0.50047162 0.49120863 0.47130984 ... 0.49258138 0.47110899 0.47214569]\n",
            " ...\n",
            " [0.49792772 0.48871181 0.46891417 ... 0.49007758 0.46871434 0.46974577]\n",
            " [0.50004773 0.49079258 0.47091065 ... 0.49216417 0.47070997 0.47174579]\n",
            " [0.49891721 0.48968299 0.469846   ... 0.49105147 0.46964578 0.47067925]]\n",
            "------------------------- (X - np.dot(W,C)) -------------------------\n",
            "0.25012148732916256\n",
            "---------------------------------------------------------------------------\n",
            "---------------------------------------------------------------------------\n",
            "For rank= 10 and l= 15.0 and epsilon= 0.001 55 iterations made\n",
            "---------------------------------- X ----------------------------------\n",
            "[[0.23822119 0.4930114  0.68486361 ... 0.80213922 0.8072357  0.9214643 ]\n",
            " [0.42689615 0.60339514 0.28750078 ... 0.6844     0.45335385 0.89747591]\n",
            " [0.70973596 0.32058296 0.20685521 ... 0.94556922 0.49266178 0.71151136]\n",
            " ...\n",
            " [0.88008743 0.8956948  0.29438501 ... 0.78900497 0.76778195 0.28779883]\n",
            " [0.98602243 0.42126338 0.69599549 ... 0.53189644 0.09980979 0.6051803 ]\n",
            " [0.83745054 0.02688242 0.51617992 ... 0.4720958  0.15294877 0.63423626]]\n",
            "--------------------------- W.dot(C) ---------------------------\n",
            "[[0.50692966 0.49657158 0.47828898 ... 0.49780633 0.47634281 0.47797631]\n",
            " [0.49319336 0.48020823 0.46254876 ... 0.48460299 0.45754748 0.46309819]\n",
            " [0.50395762 0.48951406 0.46895753 ... 0.49546162 0.46636267 0.46911249]\n",
            " ...\n",
            " [0.49590903 0.49527799 0.47015693 ... 0.4918018  0.46940698 0.46917616]\n",
            " [0.50648079 0.47892154 0.46709174 ... 0.49376204 0.45880206 0.46706387]\n",
            " [0.49451166 0.48737448 0.467468   ... 0.49011213 0.46599938 0.46822922]]\n",
            "------------------------- (X - np.dot(W,C)) -------------------------\n",
            "0.24955703095454848\n",
            "---------------------------------------------------------------------------\n",
            "---------------------------------------------------------------------------\n",
            "For rank= 100 and l= 15.0 and epsilon= 0.001 19 iterations made\n",
            "---------------------------------- X ----------------------------------\n",
            "[[0.23822119 0.4930114  0.68486361 ... 0.80213922 0.8072357  0.9214643 ]\n",
            " [0.42689615 0.60339514 0.28750078 ... 0.6844     0.45335385 0.89747591]\n",
            " [0.70973596 0.32058296 0.20685521 ... 0.94556922 0.49266178 0.71151136]\n",
            " ...\n",
            " [0.88008743 0.8956948  0.29438501 ... 0.78900497 0.76778195 0.28779883]\n",
            " [0.98602243 0.42126338 0.69599549 ... 0.53189644 0.09980979 0.6051803 ]\n",
            " [0.83745054 0.02688242 0.51617992 ... 0.4720958  0.15294877 0.63423626]]\n",
            "--------------------------- W.dot(C) ---------------------------\n",
            "[[0.39358332 0.39074877 0.37348651 ... 0.39302484 0.37211928 0.3756388 ]\n",
            " [0.3772682  0.37585116 0.35919061 ... 0.37591977 0.36036907 0.35956141]\n",
            " [0.38789981 0.38251306 0.36806379 ... 0.38623638 0.36912684 0.36937388]\n",
            " ...\n",
            " [0.38779769 0.38835866 0.36546924 ... 0.38068484 0.36806458 0.3683729 ]\n",
            " [0.38968693 0.38512221 0.3664607  ... 0.38734393 0.36612857 0.36924951]\n",
            " [0.38886319 0.38065439 0.36826395 ... 0.38381152 0.36466464 0.36591005]]\n",
            "------------------------- (X - np.dot(W,C)) -------------------------\n",
            "0.2656000599445614\n",
            "---------------------------------------------------------------------------\n"
          ],
          "name": "stdout"
        }
      ]
    },
    {
      "cell_type": "markdown",
      "metadata": {
        "id": "2_4CIXK6vuTg",
        "colab_type": "text"
      },
      "source": [
        "Παρατηρούμε ότι το βέλτιστο αποτέλεσμα το έχουμε για $k$= 10 και $λ$= 10.0 με 76 επαναλήψεις"
      ]
    },
    {
      "cell_type": "markdown",
      "metadata": {
        "id": "JVSrQrowak3g",
        "colab_type": "text"
      },
      "source": [
        "$λ=30.0$, $λ=60.0$ για $ε=0.001$"
      ]
    },
    {
      "cell_type": "code",
      "metadata": {
        "id": "ZDiZCUVwauDh",
        "colab_type": "code",
        "colab": {
          "base_uri": "https://localhost:8080/",
          "height": 1000
        },
        "outputId": "0f1a9c04-5ead-425a-8cac-83ba19a46803"
      },
      "source": [
        "RunReg(X, 1, 30.0, 0.001)\n",
        "RunReg(X, 10, 30.0, 0.001)\n",
        "RunReg(X, 100, 30.0, 0.001)\n",
        "\n",
        "RunReg(X, 1, 60.0, 0.001)\n",
        "RunReg(X, 10, 60.0, 0.001)\n",
        "RunReg(X, 100, 60.0, 0.001)"
      ],
      "execution_count": null,
      "outputs": [
        {
          "output_type": "stream",
          "text": [
            "---------------------------------------------------------------------------\n",
            "For rank= 1 and l= 30.0 and epsilon= 0.001 16 iterations made\n",
            "---------------------------------- X ----------------------------------\n",
            "[[0.23822119 0.4930114  0.68486361 ... 0.80213922 0.8072357  0.9214643 ]\n",
            " [0.42689615 0.60339514 0.28750078 ... 0.6844     0.45335385 0.89747591]\n",
            " [0.70973596 0.32058296 0.20685521 ... 0.94556922 0.49266178 0.71151136]\n",
            " ...\n",
            " [0.88008743 0.8956948  0.29438501 ... 0.78900497 0.76778195 0.28779883]\n",
            " [0.98602243 0.42126338 0.69599549 ... 0.53189644 0.09980979 0.6051803 ]\n",
            " [0.83745054 0.02688242 0.51617992 ... 0.4720958  0.15294877 0.63423626]]\n",
            "--------------------------- W.dot(C) ---------------------------\n",
            "[[0.48787813 0.47884822 0.45945015 ... 0.48018643 0.45925436 0.46026497]\n",
            " [0.4732295  0.46447072 0.44565508 ... 0.46576875 0.44546516 0.44644543]\n",
            " [0.48341101 0.47446378 0.45524333 ... 0.47578974 0.45504933 0.45605068]\n",
            " ...\n",
            " [0.48095383 0.47205208 0.45292932 ... 0.4733713  0.45273631 0.45373258]\n",
            " [0.48300157 0.47406192 0.45485775 ... 0.47538676 0.45466391 0.45566442]\n",
            " [0.48190959 0.47299015 0.45382939 ... 0.47431199 0.45363599 0.45463424]]\n",
            "------------------------- (X - np.dot(W,C)) -------------------------\n",
            "0.2511917931045593\n",
            "---------------------------------------------------------------------------\n",
            "---------------------------------------------------------------------------\n",
            "For rank= 10 and l= 30.0 and epsilon= 0.001 30 iterations made\n",
            "---------------------------------- X ----------------------------------\n",
            "[[0.23822119 0.4930114  0.68486361 ... 0.80213922 0.8072357  0.9214643 ]\n",
            " [0.42689615 0.60339514 0.28750078 ... 0.6844     0.45335385 0.89747591]\n",
            " [0.70973596 0.32058296 0.20685521 ... 0.94556922 0.49266178 0.71151136]\n",
            " ...\n",
            " [0.88008743 0.8956948  0.29438501 ... 0.78900497 0.76778195 0.28779883]\n",
            " [0.98602243 0.42126338 0.69599549 ... 0.53189644 0.09980979 0.6051803 ]\n",
            " [0.83745054 0.02688242 0.51617992 ... 0.4720958  0.15294877 0.63423626]]\n",
            "--------------------------- W.dot(C) ---------------------------\n",
            "[[0.48654016 0.47738683 0.45692181 ... 0.49015622 0.45920264 0.46154791]\n",
            " [0.47338841 0.46441087 0.44613182 ... 0.4658288  0.44591062 0.44660698]\n",
            " [0.48435039 0.47494805 0.45537968 ... 0.47383879 0.4542502  0.45584799]\n",
            " ...\n",
            " [0.48158869 0.47237384 0.45311971 ... 0.47269372 0.45409406 0.4537113 ]\n",
            " [0.48250531 0.47342203 0.45719939 ... 0.47340515 0.45820775 0.45541614]\n",
            " [0.48346259 0.47165447 0.4544493  ... 0.4755396  0.4547403  0.45432541]]\n",
            "------------------------- (X - np.dot(W,C)) -------------------------\n",
            "0.2510599527448087\n",
            "---------------------------------------------------------------------------\n",
            "---------------------------------------------------------------------------\n",
            "For rank= 100 and l= 30.0 and epsilon= 0.001 28 iterations made\n",
            "---------------------------------- X ----------------------------------\n",
            "[[0.23822119 0.4930114  0.68486361 ... 0.80213922 0.8072357  0.9214643 ]\n",
            " [0.42689615 0.60339514 0.28750078 ... 0.6844     0.45335385 0.89747591]\n",
            " [0.70973596 0.32058296 0.20685521 ... 0.94556922 0.49266178 0.71151136]\n",
            " ...\n",
            " [0.88008743 0.8956948  0.29438501 ... 0.78900497 0.76778195 0.28779883]\n",
            " [0.98602243 0.42126338 0.69599549 ... 0.53189644 0.09980979 0.6051803 ]\n",
            " [0.83745054 0.02688242 0.51617992 ... 0.4720958  0.15294877 0.63423626]]\n",
            "--------------------------- W.dot(C) ---------------------------\n",
            "[[0.48850927 0.47865245 0.4593229  ... 0.48029147 0.45908313 0.45992432]\n",
            " [0.47272811 0.46394096 0.44462027 ... 0.46565896 0.44543861 0.44626261]\n",
            " [0.48298467 0.47303388 0.45565437 ... 0.47604308 0.45489733 0.45594021]\n",
            " ...\n",
            " [0.48065553 0.47161532 0.45175056 ... 0.47359453 0.45280585 0.45397095]\n",
            " [0.48452486 0.47290034 0.45371701 ... 0.47512682 0.4537988  0.45476469]\n",
            " [0.48179321 0.47227333 0.45289772 ... 0.47428062 0.45330944 0.45453907]]\n",
            "------------------------- (X - np.dot(W,C)) -------------------------\n",
            "0.2511166946162721\n",
            "---------------------------------------------------------------------------\n",
            "---------------------------------------------------------------------------\n",
            "For rank= 1 and l= 60.0 and epsilon= 0.001 12 iterations made\n",
            "---------------------------------- X ----------------------------------\n",
            "[[0.23822119 0.4930114  0.68486361 ... 0.80213922 0.8072357  0.9214643 ]\n",
            " [0.42689615 0.60339514 0.28750078 ... 0.6844     0.45335385 0.89747591]\n",
            " [0.70973596 0.32058296 0.20685521 ... 0.94556922 0.49266178 0.71151136]\n",
            " ...\n",
            " [0.88008743 0.8956948  0.29438501 ... 0.78900497 0.76778195 0.28779883]\n",
            " [0.98602243 0.42126338 0.69599549 ... 0.53189644 0.09980979 0.6051803 ]\n",
            " [0.83745054 0.02688242 0.51617992 ... 0.4720958  0.15294877 0.63423626]]\n",
            "--------------------------- W.dot(C) ---------------------------\n",
            "[[0.44199319 0.43381255 0.41623887 ... 0.4350249  0.41606149 0.41697705]\n",
            " [0.42872226 0.42078725 0.40374122 ... 0.4219632  0.40356916 0.40445724]\n",
            " [0.43794621 0.42984047 0.41242769 ... 0.43104172 0.41225194 0.41315912]\n",
            " ...\n",
            " [0.43572012 0.42765559 0.41033132 ... 0.42885073 0.41015646 0.41105903]\n",
            " [0.43757527 0.4294764  0.41207838 ... 0.43067663 0.41190277 0.41280918]\n",
            " [0.43658599 0.42850543 0.41114674 ... 0.42970295 0.41097153 0.41187589]]\n",
            "------------------------- (X - np.dot(W,C)) -------------------------\n",
            "0.2566053451273986\n",
            "---------------------------------------------------------------------------\n",
            "---------------------------------------------------------------------------\n",
            "For rank= 10 and l= 60.0 and epsilon= 0.001 15 iterations made\n",
            "---------------------------------- X ----------------------------------\n",
            "[[0.23822119 0.4930114  0.68486361 ... 0.80213922 0.8072357  0.9214643 ]\n",
            " [0.42689615 0.60339514 0.28750078 ... 0.6844     0.45335385 0.89747591]\n",
            " [0.70973596 0.32058296 0.20685521 ... 0.94556922 0.49266178 0.71151136]\n",
            " ...\n",
            " [0.88008743 0.8956948  0.29438501 ... 0.78900497 0.76778195 0.28779883]\n",
            " [0.98602243 0.42126338 0.69599549 ... 0.53189644 0.09980979 0.6051803 ]\n",
            " [0.83745054 0.02688242 0.51617992 ... 0.4720958  0.15294877 0.63423626]]\n",
            "--------------------------- W.dot(C) ---------------------------\n",
            "[[0.43735934 0.43310053 0.41571495 ... 0.43436801 0.41540749 0.41630925]\n",
            " [0.438777   0.41530479 0.39828826 ... 0.41912551 0.40075549 0.40185367]\n",
            " [0.43166423 0.42843165 0.40999417 ... 0.42955182 0.41036074 0.41086688]\n",
            " ...\n",
            " [0.42852161 0.42411118 0.40651173 ... 0.42529318 0.4061563  0.40617521]\n",
            " [0.43323131 0.42839603 0.41101954 ... 0.42988315 0.41112993 0.41180725]\n",
            " [0.43368101 0.42824996 0.40966896 ... 0.42834454 0.41024803 0.41114464]]\n",
            "------------------------- (X - np.dot(W,C)) -------------------------\n",
            "0.25693225102964246\n",
            "---------------------------------------------------------------------------\n",
            "---------------------------------------------------------------------------\n",
            "For rank= 100 and l= 60.0 and epsilon= 0.001 16 iterations made\n",
            "---------------------------------- X ----------------------------------\n",
            "[[0.23822119 0.4930114  0.68486361 ... 0.80213922 0.8072357  0.9214643 ]\n",
            " [0.42689615 0.60339514 0.28750078 ... 0.6844     0.45335385 0.89747591]\n",
            " [0.70973596 0.32058296 0.20685521 ... 0.94556922 0.49266178 0.71151136]\n",
            " ...\n",
            " [0.88008743 0.8956948  0.29438501 ... 0.78900497 0.76778195 0.28779883]\n",
            " [0.98602243 0.42126338 0.69599549 ... 0.53189644 0.09980979 0.6051803 ]\n",
            " [0.83745054 0.02688242 0.51617992 ... 0.4720958  0.15294877 0.63423626]]\n",
            "--------------------------- W.dot(C) ---------------------------\n",
            "[[0.43995037 0.43206487 0.41430151 ... 0.43279102 0.41414992 0.41515771]\n",
            " [0.42740572 0.41953375 0.40234864 ... 0.42023435 0.4022909  0.40309292]\n",
            " [0.43669082 0.42842206 0.41084014 ... 0.42927306 0.41081893 0.41162283]\n",
            " ...\n",
            " [0.43435324 0.42646271 0.40898128 ... 0.42732775 0.40899001 0.40970794]\n",
            " [0.43622334 0.42826722 0.4106703  ... 0.42908828 0.41061449 0.41142844]\n",
            " [0.43529414 0.42731161 0.40990366 ... 0.42813248 0.40971367 0.41052793]]\n",
            "------------------------- (X - np.dot(W,C)) -------------------------\n",
            "0.25684219243497014\n",
            "---------------------------------------------------------------------------\n"
          ],
          "name": "stdout"
        }
      ]
    },
    {
      "cell_type": "markdown",
      "metadata": {
        "id": "AQ6efrvEwe25",
        "colab_type": "text"
      },
      "source": [
        "Παρατηρούμε ότι το βέλτιστο αποτέλεσμα το έχουμε για $k$= 10 και $λ$= 30.0 με 30 επαναλήψεις"
      ]
    },
    {
      "cell_type": "markdown",
      "metadata": {
        "id": "C0PUpqbsaqHI",
        "colab_type": "text"
      },
      "source": [
        "$λ=100.0$ για $ε=0.001$"
      ]
    },
    {
      "cell_type": "code",
      "metadata": {
        "id": "LIzsLNQwa09r",
        "colab_type": "code",
        "colab": {
          "base_uri": "https://localhost:8080/",
          "height": 1000
        },
        "outputId": "613a1f46-9dbb-4070-9119-9dd0fa0f1761"
      },
      "source": [
        "RunReg(X, 1, 100.0, 0.001)\n",
        "RunReg(X, 10, 100.0, 0.001)\n",
        "RunReg(X, 100, 100.0, 0.001)"
      ],
      "execution_count": null,
      "outputs": [
        {
          "output_type": "stream",
          "text": [
            "---------------------------------------------------------------------------\n",
            "For rank= 1 and l= 100.0 and epsilon= 0.001 8 iterations made\n",
            "---------------------------------- X ----------------------------------\n",
            "[[0.23822119 0.4930114  0.68486361 ... 0.80213922 0.8072357  0.9214643 ]\n",
            " [0.42689615 0.60339514 0.28750078 ... 0.6844     0.45335385 0.89747591]\n",
            " [0.70973596 0.32058296 0.20685521 ... 0.94556922 0.49266178 0.71151136]\n",
            " ...\n",
            " [0.88008743 0.8956948  0.29438501 ... 0.78900497 0.76778195 0.28779883]\n",
            " [0.98602243 0.42126338 0.69599549 ... 0.53189644 0.09980979 0.6051803 ]\n",
            " [0.83745054 0.02688242 0.51617992 ... 0.4720958  0.15294877 0.63423626]]\n",
            "--------------------------- W.dot(C) ---------------------------\n",
            "[[0.38147508 0.37441453 0.35924706 ... 0.37546089 0.35909396 0.35988417]\n",
            " [0.37002122 0.36317267 0.3484606  ... 0.36418761 0.3483121  0.34907858]\n",
            " [0.37798221 0.37098631 0.35595771 ... 0.37202309 0.35580602 0.35658899]\n",
            " ...\n",
            " [0.37606092 0.36910059 0.35414838 ... 0.37013209 0.35399746 0.35477645]\n",
            " [0.37766206 0.3706721  0.35565623 ... 0.37170799 0.35550466 0.35628697]\n",
            " [0.37680824 0.36983407 0.35485215 ... 0.37086763 0.35470093 0.35548147]]\n",
            "------------------------- (X - np.dot(W,C)) -------------------------\n",
            "0.26949819142940873\n",
            "---------------------------------------------------------------------------\n",
            "---------------------------------------------------------------------------\n",
            "For rank= 10 and l= 100.0 and epsilon= 0.001 4 iterations made\n",
            "---------------------------------- X ----------------------------------\n",
            "[[0.23822119 0.4930114  0.68486361 ... 0.80213922 0.8072357  0.9214643 ]\n",
            " [0.42689615 0.60339514 0.28750078 ... 0.6844     0.45335385 0.89747591]\n",
            " [0.70973596 0.32058296 0.20685521 ... 0.94556922 0.49266178 0.71151136]\n",
            " ...\n",
            " [0.88008743 0.8956948  0.29438501 ... 0.78900497 0.76778195 0.28779883]\n",
            " [0.98602243 0.42126338 0.69599549 ... 0.53189644 0.09980979 0.6051803 ]\n",
            " [0.83745054 0.02688242 0.51617992 ... 0.4720958  0.15294877 0.63423626]]\n",
            "--------------------------- W.dot(C) ---------------------------\n",
            "[[0.3783057  0.37432618 0.35560801 ... 0.36338706 0.35326239 0.34935215]\n",
            " [0.36463055 0.35793443 0.34529762 ... 0.35685401 0.34221596 0.34936705]\n",
            " [0.37424035 0.36667397 0.35223909 ... 0.36928098 0.35552017 0.34177578]\n",
            " ...\n",
            " [0.36914422 0.36468923 0.35309593 ... 0.35937651 0.35136712 0.34311216]\n",
            " [0.36457008 0.35600399 0.34454338 ... 0.36003517 0.35502094 0.33161564]\n",
            " [0.37139315 0.36397044 0.35077773 ... 0.35606752 0.35009918 0.3357976 ]]\n",
            "------------------------- (X - np.dot(W,C)) -------------------------\n",
            "0.2719679582267434\n",
            "---------------------------------------------------------------------------\n",
            "---------------------------------------------------------------------------\n",
            "For rank= 100 and l= 100.0 and epsilon= 0.001 9 iterations made\n",
            "---------------------------------- X ----------------------------------\n",
            "[[0.23822119 0.4930114  0.68486361 ... 0.80213922 0.8072357  0.9214643 ]\n",
            " [0.42689615 0.60339514 0.28750078 ... 0.6844     0.45335385 0.89747591]\n",
            " [0.70973596 0.32058296 0.20685521 ... 0.94556922 0.49266178 0.71151136]\n",
            " ...\n",
            " [0.88008743 0.8956948  0.29438501 ... 0.78900497 0.76778195 0.28779883]\n",
            " [0.98602243 0.42126338 0.69599549 ... 0.53189644 0.09980979 0.6051803 ]\n",
            " [0.83745054 0.02688242 0.51617992 ... 0.4720958  0.15294877 0.63423626]]\n",
            "--------------------------- W.dot(C) ---------------------------\n",
            "[[0.38153974 0.37445555 0.35921493 ... 0.37553868 0.35918835 0.35985759]\n",
            " [0.37010734 0.36323889 0.34830916 ... 0.364261   0.34838056 0.34907956]\n",
            " [0.37802228 0.37105692 0.3560662  ... 0.37207789 0.35588166 0.35657814]\n",
            " ...\n",
            " [0.37589429 0.36889357 0.3537327  ... 0.36999801 0.35381427 0.35447165]\n",
            " [0.37781042 0.37079935 0.35559088 ... 0.37186122 0.35564538 0.35632827]\n",
            " [0.37692679 0.36991748 0.35476487 ... 0.37098195 0.35481232 0.35550199]]\n",
            "------------------------- (X - np.dot(W,C)) -------------------------\n",
            "0.2695387013756651\n",
            "---------------------------------------------------------------------------\n"
          ],
          "name": "stdout"
        }
      ]
    },
    {
      "cell_type": "markdown",
      "metadata": {
        "id": "ZkF3Jwohw-cV",
        "colab_type": "text"
      },
      "source": [
        "Παρατηρούμε ότι το βέλτιστο αποτέλεσμα το έχουμε για $k$= 1 και $λ$= 100.0 με 8 επαναλήψεις"
      ]
    },
    {
      "cell_type": "markdown",
      "metadata": {
        "id": "NYX9b6QdVjEz",
        "colab_type": "text"
      },
      "source": [
        "Από όλες τις εκτελέσεις το καλύτερο αποτέλεσμα το είχαμε για $k=100$, $λ=0.01$ και $ε=0.001$, ωστόσο σε αυτή την περίπτωση πραγματοποιήθηκαν οι πιο πολλές επαναλήψεις(15690). Το αμέσως χειρότερο αποτέλεσμα το πήραμε για $k=100$, $λ=0.1$ και $ε=0.001$ με 1634 επαναλήψεις. Για $λ<=2.0$ τα αποτελέσματα είναι τα πιο ικανοποιητικά, ωστόσο ο αριθμός επαναλήψεων και συνεπώς ο χρόνος εκτέλεσης είναι αισθητά πιο πολύς. Μια εκτέλεση που παράγει αρκετά ικανοποιητικά αποτελέσματα και δε κάνει τόσο μεγάλο αριθμό επαναλήψεων είναι για $k=10$, $λ=10.0$ και $ε=0.001$ με 76 επαναλήψεις.\n",
        "\n",
        "<br>Στην πλειοψηφία των περιπτώσεων, όσο αυξάνεται το $λ$, αυξάνεται και ο αριθμός των επαναλήψεων που πραγματοποιούνται, αλλά τόσο πιο ακριβή είναι τα αποτελέσματα που λαμβάνουμε. Συμπεραίνουμε πως η επιλογή του $λ$ εξαρτάται και από το πόσο καλά αποτελέσματα θέλουμε να πετύχουμε αλλά και από το πόσο χρόνο είμαστε διατεθειμένοι να δώσουμε στην εκτέλεση. Η επιλογή ενός $λ\\in[3.0, 4.0]$ φαίνεται ότι είναι αρκετά ικανοποιητική έχοντας υπόψη τόσο τα αποτελέσματα όσο και το χρόνο εκτέλεσης"
      ]
    },
    {
      "cell_type": "markdown",
      "metadata": {
        "id": "U3EDFJ7PMIS_",
        "colab_type": "text"
      },
      "source": [
        "##Δεύτερος τρόπος ο οποίος όμως παράγει ικανοποιητικά αποτελέσματα για συγκεκριμένες μόνο παραμέτρους και η χρησιμοποίησή του δε προτείνεται:\n",
        "<br>με βάση την παρουσίαση https://angms.science/doc/NMF/nmf_2.pdf ως εξής:\n",
        "\n",
        "Οι W και C αρχικοποιούνται με μη αρνητικές τιμές και σε κάθε βήμα υπολογίζονται οι τιμές \n",
        "<br><br>$C_{[t+1]} =C_{[t]}*\\frac{W_{[t]}X - λ\\nabla{C_{[t]}}}{W_{[t]}^TW_{[t]}C_{[t]}}=C_{[t]}*\\frac{W_{[t]}X - λ(W_{[t]}^TW_{[t]}C_{[t]}-W_{[t]}^TΧ)}{W_{[t]}^TW_{[t]}C_{[t]}} $ \n",
        "\n",
        "<br>και<br>\n",
        "$W_{[t+1]} =W_{[t]}*\\frac{XC_{[t]}^T - λ\\nabla{W_{[t]}}}{W_{[t]}C_{[t]}C_{[t]}^T} = W_{[t]}*\\frac{XC_{[t]}^T - λ(C_{[t]}^TC_{[t]}W_{[t]}-C_{[t]}^TΧ)}{W_{[t]}C_{[t]}C_{[t]}^T} $ <br><br>\n",
        "\n",
        "όπου τo * συμβολίζει το γινόμενο Hadamard (δηλ. γινόμενο στοιχείο προς στοιχείο του πίνακα)<br>\n",
        "Επιλέγεται ένας αριθμός μέγιστων επαναλήψεων υπολογισμού των πινάκων W και C, έστω 1000"
      ]
    },
    {
      "cell_type": "code",
      "metadata": {
        "id": "l0yN2wXykJc3",
        "colab_type": "code",
        "colab": {}
      },
      "source": [
        "def update_C(X, W, C, l):\n",
        "  numerator = np.dot(W.T, X) - l*( ((W.T).dot(W)).dot(C) - (W.T).dot(X) )\n",
        "  denominator = np.dot(W.T.dot(W), C )\n",
        "  C *= numerator\n",
        "  C /= denominator\n",
        "  return C\n",
        "\n",
        "def update_W(X, W, C, l):\n",
        "  numerator = X.dot(C.T) - l*( W.dot(np.dot(C, C.T)) - (X).dot(C.T))  \n",
        "  denominator = W.dot(C.dot(C.T)) \n",
        "  W *= numerator\n",
        "  W /= denominator\n",
        "  return W\n",
        "\n",
        "def RegNMF(X, k, lambdaL, epsilon, reps):\n",
        "  X_dim, samples = X.shape\n",
        "  W = np.random.random((X_dim, k))\n",
        "  C = np.random.random((k, samples))\n",
        "\n",
        "  mis = 0\n",
        "\n",
        "  while mis<reps:\n",
        "\n",
        "    wNew=update_W(X, W, C, lambdaL)\n",
        "    cNew=update_C(X, W, C, lambdaL)\n",
        "\n",
        "    W = wNew\n",
        "    C = cNew\n",
        "\n",
        "    mis+=1\n",
        "\n",
        "  return (wNew, cNew)\n",
        "\n",
        "def runReg(X, rank, l, epsilon, reps):\n",
        "  W, C = RegNMF(X, rank, l, epsilon, reps)\n",
        "  print(75*\"-\")\n",
        "  print(\"For rank=\", rank, \"l=\", l, \"and epsilon=\", epsilon)\n",
        "  print (34*\"-\", \"X\", 34*\"-\")\n",
        "  print (X)\n",
        "\n",
        "  # print (34*\"-\", \"W\", 34*\"-\")\n",
        "  # print (W)\n",
        "  # print (34*\"-\", \"C\", 34*\"-\")\n",
        "  # print (C)\n",
        "  \n",
        "  print (27*\"-\", \"W.dot(C)\", 27*\"-\")\n",
        "  print (W.dot(C))\n",
        "  print (25*\"-\", \"(X - np.dot(W,C))\", 25*\"-\")\n",
        "  print(np.ndarray.sum(abs(X - np.dot(W,C)))/500000)\n",
        "  print(75*\"-\")\n",
        "\n",
        "X = np.random.random((500,1000))"
      ],
      "execution_count": null,
      "outputs": []
    },
    {
      "cell_type": "markdown",
      "metadata": {
        "id": "3QVQ9jcxb7H2",
        "colab_type": "text"
      },
      "source": [
        "$λ=0.01$, $λ=0.1$ για 1000 επαναλήψεις μέγιστο"
      ]
    },
    {
      "cell_type": "code",
      "metadata": {
        "id": "Fi-X7eftcZUr",
        "colab_type": "code",
        "colab": {
          "base_uri": "https://localhost:8080/",
          "height": 1000
        },
        "outputId": "f510a191-61e2-480b-dfad-0c40456ce960"
      },
      "source": [
        "runReg(X, 1, 0.01, 0.1, 1000)\n",
        "runReg(X, 10, 0.01, 0.1, 1000)\n",
        "runReg(X, 100, 0.01, 0.1, 1000)\n",
        "\n",
        "runReg(X, 1, 0.1, 0.1, 1000)\n",
        "runReg(X, 10, 0.1, 0.1, 1000)\n",
        "runReg(X, 100, 0.1, 0.1, 1000)"
      ],
      "execution_count": null,
      "outputs": [
        {
          "output_type": "stream",
          "text": [
            "---------------------------------------------------------------------------\n",
            "For rank= 1 l= 0.01 and epsilon= 0.1\n",
            "---------------------------------- X ----------------------------------\n",
            "[[0.18143456 0.70873608 0.20994519 ... 0.87272267 0.99270683 0.38059745]\n",
            " [0.07148611 0.84147779 0.73323437 ... 0.39894402 0.75229092 0.43665376]\n",
            " [0.22512481 0.07414895 0.12637636 ... 0.56740933 0.30011429 0.90744002]\n",
            " ...\n",
            " [0.29835237 0.3070155  0.26974527 ... 0.99081041 0.06187115 0.01968811]\n",
            " [0.5629503  0.24687801 0.86309979 ... 0.84761721 0.89727331 0.78650794]\n",
            " [0.7993458  0.37879573 0.26009546 ... 0.51549171 0.8864383  0.55131582]]\n",
            "--------------------------- W.dot(C) ---------------------------\n",
            "[[0.50360184 0.51105633 0.5306087  ... 0.53105485 0.52257064 0.53347334]\n",
            " [0.49872823 0.50611058 0.52547374 ... 0.52591557 0.51751346 0.52831065]\n",
            " [0.48925535 0.49649747 0.51549285 ... 0.51592629 0.50768377 0.51827587]\n",
            " ...\n",
            " [0.4943647  0.50168246 0.5208762  ... 0.52131417 0.51298557 0.52368829]\n",
            " [0.49603737 0.50337989 0.52263857 ... 0.52307802 0.51472124 0.52546018]\n",
            " [0.47619541 0.48324422 0.50173254 ... 0.50215441 0.49413191 0.50444128]]\n",
            "------------------------- (X - np.dot(W,C)) -------------------------\n",
            "0.249278563942384\n",
            "---------------------------------------------------------------------------\n",
            "---------------------------------------------------------------------------\n",
            "For rank= 10 l= 0.01 and epsilon= 0.1\n",
            "---------------------------------- X ----------------------------------\n",
            "[[0.18143456 0.70873608 0.20994519 ... 0.87272267 0.99270683 0.38059745]\n",
            " [0.07148611 0.84147779 0.73323437 ... 0.39894402 0.75229092 0.43665376]\n",
            " [0.22512481 0.07414895 0.12637636 ... 0.56740933 0.30011429 0.90744002]\n",
            " ...\n",
            " [0.29835237 0.3070155  0.26974527 ... 0.99081041 0.06187115 0.01968811]\n",
            " [0.5629503  0.24687801 0.86309979 ... 0.84761721 0.89727331 0.78650794]\n",
            " [0.7993458  0.37879573 0.26009546 ... 0.51549171 0.8864383  0.55131582]]\n",
            "--------------------------- W.dot(C) ---------------------------\n",
            "[[0.48054715 0.56132505 0.47806136 ... 0.50047143 0.52706072 0.54430594]\n",
            " [0.46835182 0.5073256  0.47604389 ... 0.61614594 0.58177292 0.51356131]\n",
            " [0.50294855 0.52376709 0.57070958 ... 0.46819756 0.41928903 0.4671766 ]\n",
            " ...\n",
            " [0.53510801 0.54301455 0.53038353 ... 0.66682386 0.43311356 0.38270088]\n",
            " [0.49776763 0.512854   0.44293919 ... 0.54021688 0.52898868 0.52200871]\n",
            " [0.44531873 0.3818996  0.47422239 ... 0.54374946 0.4971513  0.56407006]]\n",
            "------------------------- (X - np.dot(W,C)) -------------------------\n",
            "0.24145213320644918\n",
            "---------------------------------------------------------------------------\n",
            "---------------------------------------------------------------------------\n",
            "For rank= 100 l= 0.01 and epsilon= 0.1\n",
            "---------------------------------- X ----------------------------------\n",
            "[[0.18143456 0.70873608 0.20994519 ... 0.87272267 0.99270683 0.38059745]\n",
            " [0.07148611 0.84147779 0.73323437 ... 0.39894402 0.75229092 0.43665376]\n",
            " [0.22512481 0.07414895 0.12637636 ... 0.56740933 0.30011429 0.90744002]\n",
            " ...\n",
            " [0.29835237 0.3070155  0.26974527 ... 0.99081041 0.06187115 0.01968811]\n",
            " [0.5629503  0.24687801 0.86309979 ... 0.84761721 0.89727331 0.78650794]\n",
            " [0.7993458  0.37879573 0.26009546 ... 0.51549171 0.8864383  0.55131582]]\n",
            "--------------------------- W.dot(C) ---------------------------\n",
            "[[0.62012334 0.62153388 0.51162182 ... 0.84385954 0.7004985  0.54811205]\n",
            " [0.4601922  0.39394676 0.55524479 ... 0.53193961 0.53512183 0.65935188]\n",
            " [0.24421159 0.23920545 0.33281202 ... 0.42042161 0.44450457 0.63055022]\n",
            " ...\n",
            " [0.65374801 0.60292884 0.43928074 ... 0.83761193 0.48190552 0.36752766]\n",
            " [0.63590064 0.71390438 0.46380562 ... 0.51685143 0.66038996 0.67928674]\n",
            " [0.45580769 0.56501299 0.3611127  ... 0.67357774 0.71719736 0.50376591]]\n",
            "------------------------- (X - np.dot(W,C)) -------------------------\n",
            "0.20077866422369708\n",
            "---------------------------------------------------------------------------\n",
            "---------------------------------------------------------------------------\n",
            "For rank= 1 l= 0.1 and epsilon= 0.1\n",
            "---------------------------------- X ----------------------------------\n",
            "[[0.18143456 0.70873608 0.20994519 ... 0.87272267 0.99270683 0.38059745]\n",
            " [0.07148611 0.84147779 0.73323437 ... 0.39894402 0.75229092 0.43665376]\n",
            " [0.22512481 0.07414895 0.12637636 ... 0.56740933 0.30011429 0.90744002]\n",
            " ...\n",
            " [0.29835237 0.3070155  0.26974527 ... 0.99081041 0.06187115 0.01968811]\n",
            " [0.5629503  0.24687801 0.86309979 ... 0.84761721 0.89727331 0.78650794]\n",
            " [0.7993458  0.37879573 0.26009546 ... 0.51549171 0.8864383  0.55131582]]\n",
            "--------------------------- W.dot(C) ---------------------------\n",
            "[[0.50360184 0.51105633 0.5306087  ... 0.53105485 0.52257064 0.53347334]\n",
            " [0.49872823 0.50611058 0.52547374 ... 0.52591557 0.51751346 0.52831065]\n",
            " [0.48925535 0.49649747 0.51549285 ... 0.51592629 0.50768377 0.51827587]\n",
            " ...\n",
            " [0.4943647  0.50168246 0.5208762  ... 0.52131417 0.51298557 0.52368829]\n",
            " [0.49603737 0.50337989 0.52263857 ... 0.52307802 0.51472124 0.52546018]\n",
            " [0.47619541 0.48324422 0.50173254 ... 0.50215441 0.49413191 0.50444128]]\n",
            "------------------------- (X - np.dot(W,C)) -------------------------\n",
            "0.249278563942384\n",
            "---------------------------------------------------------------------------\n",
            "---------------------------------------------------------------------------\n",
            "For rank= 10 l= 0.1 and epsilon= 0.1\n",
            "---------------------------------- X ----------------------------------\n",
            "[[0.18143456 0.70873608 0.20994519 ... 0.87272267 0.99270683 0.38059745]\n",
            " [0.07148611 0.84147779 0.73323437 ... 0.39894402 0.75229092 0.43665376]\n",
            " [0.22512481 0.07414895 0.12637636 ... 0.56740933 0.30011429 0.90744002]\n",
            " ...\n",
            " [0.29835237 0.3070155  0.26974527 ... 0.99081041 0.06187115 0.01968811]\n",
            " [0.5629503  0.24687801 0.86309979 ... 0.84761721 0.89727331 0.78650794]\n",
            " [0.7993458  0.37879573 0.26009546 ... 0.51549171 0.8864383  0.55131582]]\n",
            "--------------------------- W.dot(C) ---------------------------\n",
            "[[0.46308532 0.53270481 0.47281877 ... 0.47319959 0.58128538 0.48258136]\n",
            " [0.455153   0.44928145 0.52656143 ... 0.52922629 0.55873916 0.53274137]\n",
            " [0.47126348 0.49821972 0.55274005 ... 0.5063968  0.46891074 0.50148356]\n",
            " ...\n",
            " [0.53541995 0.44572343 0.56586902 ... 0.60901602 0.48160181 0.49823901]\n",
            " [0.52410542 0.62131351 0.53214015 ... 0.58188869 0.43893243 0.45393269]\n",
            " [0.43711381 0.46440593 0.49894763 ... 0.51355736 0.38877167 0.56508299]]\n",
            "------------------------- (X - np.dot(W,C)) -------------------------\n",
            "0.24138193360183666\n",
            "---------------------------------------------------------------------------\n",
            "---------------------------------------------------------------------------\n",
            "For rank= 100 l= 0.1 and epsilon= 0.1\n",
            "---------------------------------- X ----------------------------------\n",
            "[[0.18143456 0.70873608 0.20994519 ... 0.87272267 0.99270683 0.38059745]\n",
            " [0.07148611 0.84147779 0.73323437 ... 0.39894402 0.75229092 0.43665376]\n",
            " [0.22512481 0.07414895 0.12637636 ... 0.56740933 0.30011429 0.90744002]\n",
            " ...\n",
            " [0.29835237 0.3070155  0.26974527 ... 0.99081041 0.06187115 0.01968811]\n",
            " [0.5629503  0.24687801 0.86309979 ... 0.84761721 0.89727331 0.78650794]\n",
            " [0.7993458  0.37879573 0.26009546 ... 0.51549171 0.8864383  0.55131582]]\n",
            "--------------------------- W.dot(C) ---------------------------\n",
            "[[0.43789462 0.61910317 0.42876135 ... 0.69532304 0.71538476 0.53604578]\n",
            " [0.32488961 0.68047894 0.58174429 ... 0.37715954 0.51628533 0.50356802]\n",
            " [0.42514489 0.53966421 0.50119073 ... 0.55483763 0.5059685  0.66112747]\n",
            " ...\n",
            " [0.5749833  0.59511326 0.62294442 ... 0.58398314 0.27154606 0.45489606]\n",
            " [0.3368967  0.39698031 0.36452611 ... 0.55780852 0.7298134  0.86255352]\n",
            " [0.31183699 0.43751125 0.48762436 ... 0.5712327  0.49586017 0.50038053]]\n",
            "------------------------- (X - np.dot(W,C)) -------------------------\n",
            "0.20062154199972332\n",
            "---------------------------------------------------------------------------\n"
          ],
          "name": "stdout"
        }
      ]
    },
    {
      "cell_type": "markdown",
      "metadata": {
        "id": "iAFgA7n-cmcJ",
        "colab_type": "text"
      },
      "source": [
        "$λ=1.0$ για 1000 επαναλήψεις μέγιστο"
      ]
    },
    {
      "cell_type": "code",
      "metadata": {
        "id": "ZutvUZD2csiq",
        "colab_type": "code",
        "colab": {
          "base_uri": "https://localhost:8080/",
          "height": 1000
        },
        "outputId": "b7621126-9b1c-4ab4-d79b-eaf3c22b6a09"
      },
      "source": [
        "runReg(X, 1, 1.0, 0.1, 1000)\n",
        "runReg(X, 10, 1.0, 0.1, 1000)\n",
        "runReg(X, 100, 1.0, 0.1, 1000)"
      ],
      "execution_count": null,
      "outputs": [
        {
          "output_type": "stream",
          "text": [
            "---------------------------------------------------------------------------\n",
            "For rank= 1 l= 1.0 and epsilon= 0.1\n",
            "---------------------------------- X ----------------------------------\n",
            "[[0.18143456 0.70873608 0.20994519 ... 0.87272267 0.99270683 0.38059745]\n",
            " [0.07148611 0.84147779 0.73323437 ... 0.39894402 0.75229092 0.43665376]\n",
            " [0.22512481 0.07414895 0.12637636 ... 0.56740933 0.30011429 0.90744002]\n",
            " ...\n",
            " [0.29835237 0.3070155  0.26974527 ... 0.99081041 0.06187115 0.01968811]\n",
            " [0.5629503  0.24687801 0.86309979 ... 0.84761721 0.89727331 0.78650794]\n",
            " [0.7993458  0.37879573 0.26009546 ... 0.51549171 0.8864383  0.55131582]]\n",
            "--------------------------- W.dot(C) ---------------------------\n",
            "[[0.16423947 0.33991667 0.35512009 ... 0.60362125 0.38702741 0.7049114 ]\n",
            " [0.06730456 0.13929624 0.14552652 ... 0.24736112 0.15860199 0.28886934]\n",
            " [0.06815518 0.14105672 0.14736574 ... 0.25048736 0.16060646 0.29252018]\n",
            " ...\n",
            " [0.0794909  0.1645176  0.17187596 ... 0.29214901 0.18731891 0.34117283]\n",
            " [0.09009606 0.18646647 0.19480653 ... 0.33112562 0.21230978 0.38668988]\n",
            " [0.11231693 0.23245566 0.24285268 ... 0.41279286 0.26467284 0.48206122]]\n",
            "------------------------- (X - np.dot(W,C)) -------------------------\n",
            "0.3587114943176408\n",
            "---------------------------------------------------------------------------\n",
            "---------------------------------------------------------------------------\n",
            "For rank= 10 l= 1.0 and epsilon= 0.1\n",
            "---------------------------------- X ----------------------------------\n",
            "[[0.18143456 0.70873608 0.20994519 ... 0.87272267 0.99270683 0.38059745]\n",
            " [0.07148611 0.84147779 0.73323437 ... 0.39894402 0.75229092 0.43665376]\n",
            " [0.22512481 0.07414895 0.12637636 ... 0.56740933 0.30011429 0.90744002]\n",
            " ...\n",
            " [0.29835237 0.3070155  0.26974527 ... 0.99081041 0.06187115 0.01968811]\n",
            " [0.5629503  0.24687801 0.86309979 ... 0.84761721 0.89727331 0.78650794]\n",
            " [0.7993458  0.37879573 0.26009546 ... 0.51549171 0.8864383  0.55131582]]\n",
            "--------------------------- W.dot(C) ---------------------------\n",
            "[[ 4.35738940e+02  4.55915877e+02  4.05420046e+02 ...  3.98934667e+02\n",
            "   4.65284604e+02 -3.90705674e+01]\n",
            " [-1.06434963e+02 -9.85351230e+01 -1.20695784e+02 ... -9.68556480e+01\n",
            "  -1.15411574e+02 -3.13353956e+00]\n",
            " [-2.34460153e+02 -2.13707080e+02 -2.53374693e+02 ... -2.20331637e+02\n",
            "  -2.30861745e+02 -1.35498118e+01]\n",
            " ...\n",
            " [ 4.12056792e-01  1.82778149e+01 -2.31552416e+01 ... -4.95380300e+00\n",
            "   1.13447730e+00 -2.51340786e+01]\n",
            " [ 2.48810616e+01  3.27631366e-01 -1.74331262e+00 ...  2.19573136e+00\n",
            "  -8.60018879e+01  9.69143996e+01]\n",
            " [-2.07938897e+02 -3.43072800e+02 -1.66282391e+02 ... -3.32813255e+02\n",
            "  -2.92944784e+02  9.67063271e+01]]\n",
            "------------------------- (X - np.dot(W,C)) -------------------------\n",
            "403.8410647323423\n",
            "---------------------------------------------------------------------------\n",
            "---------------------------------------------------------------------------\n",
            "For rank= 100 l= 1.0 and epsilon= 0.1\n",
            "---------------------------------- X ----------------------------------\n",
            "[[0.18143456 0.70873608 0.20994519 ... 0.87272267 0.99270683 0.38059745]\n",
            " [0.07148611 0.84147779 0.73323437 ... 0.39894402 0.75229092 0.43665376]\n",
            " [0.22512481 0.07414895 0.12637636 ... 0.56740933 0.30011429 0.90744002]\n",
            " ...\n",
            " [0.29835237 0.3070155  0.26974527 ... 0.99081041 0.06187115 0.01968811]\n",
            " [0.5629503  0.24687801 0.86309979 ... 0.84761721 0.89727331 0.78650794]\n",
            " [0.7993458  0.37879573 0.26009546 ... 0.51549171 0.8864383  0.55131582]]\n",
            "--------------------------- W.dot(C) ---------------------------\n",
            "[[ 1.67094880e+02 -1.03701943e+02  8.92956608e+02 ... -1.11113934e+03\n",
            "   8.09832998e+02  3.34147368e+03]\n",
            " [ 6.55912588e+01  9.15222411e+02  4.63046505e+02 ... -1.27889173e+02\n",
            "   9.15481434e+02  1.16739535e+03]\n",
            " [ 1.43680926e+02  3.93704488e+01  3.97127466e+02 ... -6.54599358e+02\n",
            "   1.27798133e+03  7.07304596e+02]\n",
            " ...\n",
            " [ 7.46287228e+01  8.30650156e+01  8.76469132e+02 ... -6.69332683e+02\n",
            "  -1.60688643e+02  7.47521488e+02]\n",
            " [-9.36123681e-01  2.65170962e+02  4.49339783e+02 ... -4.53605468e+02\n",
            "   4.93762687e+02  1.78192433e+03]\n",
            " [ 1.08402058e+02  9.93953788e+01  8.30154646e+02 ... -1.14371839e+03\n",
            "   4.10635803e+02  1.57304456e+03]]\n",
            "------------------------- (X - np.dot(W,C)) -------------------------\n",
            "2516.1063294866785\n",
            "---------------------------------------------------------------------------\n"
          ],
          "name": "stdout"
        }
      ]
    },
    {
      "cell_type": "markdown",
      "metadata": {
        "id": "Y0oGWRWgdEXx",
        "colab_type": "text"
      },
      "source": [
        "$λ=1.0$, $λ=5.0$ για 10000 επαναλήψεις μέγιστο"
      ]
    },
    {
      "cell_type": "code",
      "metadata": {
        "id": "YSV267WwdHOF",
        "colab_type": "code",
        "colab": {
          "base_uri": "https://localhost:8080/",
          "height": 1000
        },
        "outputId": "c49b57d7-73e2-4853-b6c0-a3ed559e4d3a"
      },
      "source": [
        "runReg(X, 1, 1.0, 0.1, 10000)\n",
        "runReg(X, 10, 1.0, 0.1, 10000)\n",
        "runReg(X, 100, 1.0, 0.1, 10000)"
      ],
      "execution_count": null,
      "outputs": [
        {
          "output_type": "stream",
          "text": [
            "---------------------------------------------------------------------------\n",
            "For rank= 1 l= 1.0 and epsilon= 0.1\n",
            "---------------------------------- X ----------------------------------\n",
            "[[0.18143456 0.70873608 0.20994519 ... 0.87272267 0.99270683 0.38059745]\n",
            " [0.07148611 0.84147779 0.73323437 ... 0.39894402 0.75229092 0.43665376]\n",
            " [0.22512481 0.07414895 0.12637636 ... 0.56740933 0.30011429 0.90744002]\n",
            " ...\n",
            " [0.29835237 0.3070155  0.26974527 ... 0.99081041 0.06187115 0.01968811]\n",
            " [0.5629503  0.24687801 0.86309979 ... 0.84761721 0.89727331 0.78650794]\n",
            " [0.7993458  0.37879573 0.26009546 ... 0.51549171 0.8864383  0.55131582]]\n",
            "--------------------------- W.dot(C) ---------------------------\n",
            "[[-0.25633197  0.96255949  0.66664538 ...  0.63897176  0.23251614\n",
            "   0.36404683]\n",
            " [-0.17358397  0.65183009  0.45144173 ...  0.43270159  0.15745626\n",
            "   0.24652677]\n",
            " [-0.09075274  0.34078819  0.23602165 ...  0.22622397  0.08232089\n",
            "   0.12888851]\n",
            " ...\n",
            " [-0.18035746  0.67726544  0.46905764 ...  0.44958623  0.16360043\n",
            "   0.2561466 ]\n",
            " [-0.22602291  0.84874506  0.58782027 ...  0.56341882  0.2050231\n",
            "   0.32100141]\n",
            " [-0.08568476  0.32175728  0.2228413  ...  0.21359076  0.07772378\n",
            "   0.12169089]]\n",
            "------------------------- (X - np.dot(W,C)) -------------------------\n",
            "0.3503611941705557\n",
            "---------------------------------------------------------------------------\n",
            "---------------------------------------------------------------------------\n",
            "For rank= 10 l= 1.0 and epsilon= 0.1\n",
            "---------------------------------- X ----------------------------------\n",
            "[[0.18143456 0.70873608 0.20994519 ... 0.87272267 0.99270683 0.38059745]\n",
            " [0.07148611 0.84147779 0.73323437 ... 0.39894402 0.75229092 0.43665376]\n",
            " [0.22512481 0.07414895 0.12637636 ... 0.56740933 0.30011429 0.90744002]\n",
            " ...\n",
            " [0.29835237 0.3070155  0.26974527 ... 0.99081041 0.06187115 0.01968811]\n",
            " [0.5629503  0.24687801 0.86309979 ... 0.84761721 0.89727331 0.78650794]\n",
            " [0.7993458  0.37879573 0.26009546 ... 0.51549171 0.8864383  0.55131582]]\n",
            "--------------------------- W.dot(C) ---------------------------\n",
            "[[ 9.31814122e+02  9.39447430e+02 -6.46612343e+02 ... -4.74963630e+03\n",
            "   1.13198458e+03  7.23626795e+02]\n",
            " [ 1.84462765e+02 -5.27090784e+02  2.84194389e+03 ... -8.36438849e+02\n",
            "  -9.21536808e+01  1.39760808e+03]\n",
            " [ 6.67734118e+00 -3.04340485e+02 -9.99750487e+02 ... -1.79148858e+02\n",
            "  -7.58991802e+01  1.06458627e+03]\n",
            " ...\n",
            " [ 1.51366889e+02 -3.97117125e+01  3.95165006e+03 ...  6.42273714e+01\n",
            "  -1.79240443e+01 -2.70584879e+02]\n",
            " [-4.19775335e+02 -6.80418632e+01 -1.00986670e+04 ...  8.36526479e+02\n",
            "  -1.29816727e+02  1.80778910e+03]\n",
            " [-1.10479899e+02 -2.21511732e+02  4.22267016e+02 ... -5.97232208e+02\n",
            "   2.19697427e+02 -1.05528336e+03]]\n",
            "------------------------- (X - np.dot(W,C)) -------------------------\n",
            "1862.8475139020636\n",
            "---------------------------------------------------------------------------\n",
            "---------------------------------------------------------------------------\n",
            "For rank= 100 l= 1.0 and epsilon= 0.1\n",
            "---------------------------------- X ----------------------------------\n",
            "[[0.18143456 0.70873608 0.20994519 ... 0.87272267 0.99270683 0.38059745]\n",
            " [0.07148611 0.84147779 0.73323437 ... 0.39894402 0.75229092 0.43665376]\n",
            " [0.22512481 0.07414895 0.12637636 ... 0.56740933 0.30011429 0.90744002]\n",
            " ...\n",
            " [0.29835237 0.3070155  0.26974527 ... 0.99081041 0.06187115 0.01968811]\n",
            " [0.5629503  0.24687801 0.86309979 ... 0.84761721 0.89727331 0.78650794]\n",
            " [0.7993458  0.37879573 0.26009546 ... 0.51549171 0.8864383  0.55131582]]\n",
            "--------------------------- W.dot(C) ---------------------------\n",
            "[[  765.95254942  -159.21332744 10504.71324377 ...  -844.12316021\n",
            "  -6155.1312153  -3139.12602786]\n",
            " [ -506.11232385  -400.53354894  -216.97055573 ...  -783.06679415\n",
            "   2548.26879001 -1038.41430672]\n",
            " [-2599.87976627   177.52889157  1696.75194575 ... -1720.5394542\n",
            "   3455.76911006 -1076.35940484]\n",
            " ...\n",
            " [ 4296.20404688 -1414.92078227 -6503.20610373 ...   735.81653095\n",
            "  -3640.15073945  6242.54909873]\n",
            " [-3933.34038019  -862.33526599  5737.42708365 ...  4595.16028307\n",
            "  -4619.11785831 -3406.16658157]\n",
            " [-4107.83423207 -2298.70125696  -555.08836676 ... -6844.09299469\n",
            "    823.84181555 -1960.73410464]]\n",
            "------------------------- (X - np.dot(W,C)) -------------------------\n",
            "57622.09166273964\n",
            "---------------------------------------------------------------------------\n"
          ],
          "name": "stdout"
        }
      ]
    },
    {
      "cell_type": "markdown",
      "metadata": {
        "id": "IGC9_fQ7A7Dk",
        "colab_type": "text"
      },
      "source": [
        "Παράγονται ικανοποιητικά αποτελέσματα μόνο για $λ=0.01$, $λ=0.1$, συνεπώς πρόκειται για μία κακή επιλογή επίλυσης του προβήματος "
      ]
    }
  ]
}